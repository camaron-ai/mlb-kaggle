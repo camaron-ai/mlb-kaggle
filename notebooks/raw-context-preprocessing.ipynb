{
 "cells": [
  {
   "cell_type": "code",
   "execution_count": 2,
   "id": "11a1984e",
   "metadata": {},
   "outputs": [],
   "source": [
    "%load_ext autoreload\n",
    "%autoreload 2\n"
   ]
  },
  {
   "cell_type": "code",
   "execution_count": 3,
   "id": "200bd975",
   "metadata": {},
   "outputs": [],
   "source": [
    "import pandas as pd\n",
    "import numpy as np\n",
    "from matplotlib import pyplot as plt\n",
    "from pathlib import Path\n",
    "import seaborn as sns\n"
   ]
  },
  {
   "cell_type": "code",
   "execution_count": 4,
   "id": "98b21c10",
   "metadata": {},
   "outputs": [],
   "source": [
    "import os\n",
    "import sys"
   ]
  },
  {
   "cell_type": "code",
   "execution_count": 5,
   "id": "83088198",
   "metadata": {},
   "outputs": [],
   "source": [
    "# chaging directory"
   ]
  },
  {
   "cell_type": "code",
   "execution_count": 6,
   "id": "63a6bace",
   "metadata": {},
   "outputs": [],
   "source": [
    "root, *_ = !pwd"
   ]
  },
  {
   "cell_type": "code",
   "execution_count": 7,
   "id": "0401546d",
   "metadata": {},
   "outputs": [],
   "source": [
    "if root.endswith('notebooks'):\n",
    "    os.chdir('../')\n",
    "    root, *_ = !pwd\n",
    "    sys.path.append('src/')"
   ]
  },
  {
   "cell_type": "code",
   "execution_count": 8,
   "id": "c94d5f75",
   "metadata": {},
   "outputs": [
    {
     "data": {
      "text/plain": [
       "'/home/med/projects/competitions/mlb-kaggle'"
      ]
     },
     "execution_count": 8,
     "metadata": {},
     "output_type": "execute_result"
    }
   ],
   "source": [
    "os.getcwd()"
   ]
  },
  {
   "cell_type": "code",
   "execution_count": 9,
   "id": "bf93f65f",
   "metadata": {},
   "outputs": [
    {
     "data": {
      "text/plain": [
       "True"
      ]
     },
     "execution_count": 9,
     "metadata": {},
     "output_type": "execute_result"
    }
   ],
   "source": [
    "from dotenv import load_dotenv\n",
    "load_dotenv()"
   ]
  },
  {
   "cell_type": "code",
   "execution_count": 10,
   "id": "a0936da3",
   "metadata": {},
   "outputs": [],
   "source": [
    "RAW_PATH = Path(os.environ['RAW_PATH'])"
   ]
  },
  {
   "cell_type": "code",
   "execution_count": 11,
   "id": "9a1dfd08",
   "metadata": {},
   "outputs": [],
   "source": [
    "PROCESSED_PATH = Path(os.environ['ROOT_DIR']) / 'processed'"
   ]
  },
  {
   "cell_type": "code",
   "execution_count": 12,
   "id": "e0104b3d",
   "metadata": {},
   "outputs": [
    {
     "data": {
      "text/plain": [
       "['seasons.csv',\n",
       " 'teams.csv',\n",
       " 'example_sample_submission.csv',\n",
       " 'train_updated.csv',\n",
       " 'train.csv',\n",
       " 'mlb-player-digital-engagement-forecasting.zip',\n",
       " 'awards.csv',\n",
       " 'players.csv',\n",
       " 'example_test.csv',\n",
       " 'mlb',\n",
       " 'train_updated.csv.zip']"
      ]
     },
     "execution_count": 12,
     "metadata": {},
     "output_type": "execute_result"
    }
   ],
   "source": [
    "os.listdir(RAW_PATH)"
   ]
  },
  {
   "cell_type": "code",
   "execution_count": 13,
   "id": "89891462",
   "metadata": {},
   "outputs": [
    {
     "data": {
      "text/plain": [
       "['target.csv', 'context_raw_data.csv', 'raw_data.csv']"
      ]
     },
     "execution_count": 13,
     "metadata": {},
     "output_type": "execute_result"
    }
   ],
   "source": [
    "os.listdir(PROCESSED_PATH)"
   ]
  },
  {
   "cell_type": "code",
   "execution_count": 14,
   "id": "4658463d",
   "metadata": {},
   "outputs": [],
   "source": [
    "raw_df = pd.read_csv(RAW_PATH / 'train_updated.csv',\n",
    "                 parse_dates=['date'], nrows=150)"
   ]
  },
  {
   "cell_type": "code",
   "execution_count": 15,
   "id": "c9d66a3e",
   "metadata": {},
   "outputs": [],
   "source": [
    "raw_df.set_index('date', inplace=True)"
   ]
  },
  {
   "cell_type": "markdown",
   "id": "6d47ac22",
   "metadata": {},
   "source": [
    "### teams "
   ]
  },
  {
   "cell_type": "code",
   "execution_count": 45,
   "id": "e3ac9a99",
   "metadata": {},
   "outputs": [],
   "source": [
    "from data.ingest_data.core import unpack_dataframe, has_duplicates, normalize_with_max"
   ]
  },
  {
   "cell_type": "code",
   "execution_count": 18,
   "id": "9a0efb23",
   "metadata": {},
   "outputs": [],
   "source": [
    "fields = unpack_dataframe(raw_df, fields={'teamBoxScores': 'teams'})"
   ]
  },
  {
   "cell_type": "code",
   "execution_count": 46,
   "id": "ee8738ec",
   "metadata": {
    "scrolled": true
   },
   "outputs": [
    {
     "data": {
      "text/plain": [
       "{'teams':        home  teamId  gamePk    gameDate           gameTimeUTC  flyOuts  \\\n",
       " 0         1     109  529410  2018-03-29  2018-03-30T02:10:00Z        4   \n",
       " 1         0     114  529409  2018-03-29  2018-03-30T02:10:00Z        4   \n",
       " 2         1     121  529419  2018-03-29  2018-03-29T17:10:00Z        2   \n",
       " 3         1     139  529406  2018-03-29  2018-03-29T20:00:00Z        2   \n",
       " 4         1     140  529411  2018-03-29  2018-03-29T19:35:00Z        9   \n",
       " ...     ...     ...     ...         ...                   ...      ...   \n",
       " 14481     0     139  633265  2021-07-16  2021-07-16T23:20:00Z        6   \n",
       " 14482     1     144  633265  2021-07-16  2021-07-16T23:20:00Z        6   \n",
       " 14483     1     145  633309  2021-07-16  2021-07-17T00:10:00Z        1   \n",
       " 14484     1     113  633263  2021-07-16  2021-07-16T23:10:00Z        2   \n",
       " 14485     1     120  633305  2021-07-16  2021-07-16T23:05:00Z        3   \n",
       " \n",
       "        groundOuts  runsScored  doubles  triples  ...  balks  wildPitches  \\\n",
       " 0               9           8        2        1  ...      0            0   \n",
       " 1               9           1        1        0  ...      0            0   \n",
       " 2              10           9        2        0  ...      0            0   \n",
       " 3               6           6        1        1  ...      0            0   \n",
       " 4               4           1        1        0  ...      0            0   \n",
       " ...           ...         ...      ...      ...  ...    ...          ...   \n",
       " 14481           9           7        2        1  ...      0            0   \n",
       " 14482           9           6        0        0  ...      0            0   \n",
       " 14483          13           1        1        1  ...      0            0   \n",
       " 14484          10           6        3        0  ...      0            0   \n",
       " 14485          12           8        1        1  ...      0            0   \n",
       " \n",
       "        pickoffsPitching  rbiPitching  inheritedRunners  \\\n",
       " 0                     0            2                 0   \n",
       " 1                     0            2                 0   \n",
       " 2                     0            4                 0   \n",
       " 3                     0            4                 0   \n",
       " 4                     0            4                 0   \n",
       " ...                 ...          ...               ...   \n",
       " 14481                 0            6                 0   \n",
       " 14482                 0            7                 0   \n",
       " 14483                 0            7                 0   \n",
       " 14484                 0            8                 0   \n",
       " 14485                 0           23                 0   \n",
       " \n",
       "        inheritedRunnersScored  catchersInterferencePitching  sacBuntsPitching  \\\n",
       " 0                           0                             0                 1   \n",
       " 1                           0                             0                 0   \n",
       " 2                           0                             0                 0   \n",
       " 3                           0                             0                 0   \n",
       " 4                           0                             0                 0   \n",
       " ...                       ...                           ...               ...   \n",
       " 14481                       0                             0                 0   \n",
       " 14482                       0                             0                 0   \n",
       " 14483                       0                             0                 0   \n",
       " 14484                       0                             0                 0   \n",
       " 14485                       0                             0                 1   \n",
       " \n",
       "        sacFliesPitching  date  \n",
       " 0                     0    87  \n",
       " 1                     0    87  \n",
       " 2                     0    87  \n",
       " 3                     0    87  \n",
       " 4                     1    87  \n",
       " ...                 ...   ...  \n",
       " 14481                 0  1292  \n",
       " 14482                 1  1292  \n",
       " 14483                 0  1292  \n",
       " 14484                 0  1292  \n",
       " 14485                 0  1292  \n",
       " \n",
       " [14486 rows x 58 columns]}"
      ]
     },
     "execution_count": 46,
     "metadata": {},
     "output_type": "execute_result"
    }
   ],
   "source": [
    "fields"
   ]
  },
  {
   "cell_type": "code",
   "execution_count": 47,
   "id": "00755377",
   "metadata": {},
   "outputs": [],
   "source": [
    "teams = fields['teams'].copy(deep=True)"
   ]
  },
  {
   "cell_type": "code",
   "execution_count": 48,
   "id": "b6108338",
   "metadata": {},
   "outputs": [],
   "source": [
    "team_stats_features = ['runsScored', 'homeRuns', 'strikeOuts', 'hits', 'runsPitching',\n",
    "                       'homeRunsPitching', 'outsPitching','rbiPitching']\n",
    "\n",
    "rank_features = ['runsScored', 'homeRuns', 'outsPitching']\n",
    "\n",
    "def preprocess_teams(teams: pd.DataFrame):\n",
    "    to_keep = ['teamId', 'date']\n",
    "    # we drop teamId because this info is in roster]\n",
    "    agg_teams = (teams.groupby(['teamId', 'date'])[team_stats_features]\n",
    "                  .sum().reset_index())\n",
    "\n",
    "    teams = (teams.drop_duplicates(subset=['teamId', 'date'], keep='last')\n",
    "              .loc[:, to_keep])\n",
    "    \n",
    "    teams = teams.merge(agg_teams, on=['teamId', 'date'], how='left')\n",
    "    assert not has_duplicates(teams, on=['teamId', 'date']), 'team stats include duplicates'\n",
    "    return teams"
   ]
  },
  {
   "cell_type": "code",
   "execution_count": 63,
   "id": "f9bc9feb",
   "metadata": {},
   "outputs": [],
   "source": [
    "def ingest_team_stats(teams: pd.DataFrame):\n",
    "    teams = preprocess_teams(teams)\n",
    "    teams = normalize_with_max(teams, on=['date'],\n",
    "                                features=rank_features)\n",
    "    return teams\n",
    "\n",
    "def join_team_stats_to_pstats(pstats: pd.DataFrame,\n",
    "                              teams: pd.DataFrame):\n",
    "    features = teams.columns.drop(['date', 'teamId'])\n",
    "    print(features)\n",
    "    player_features = list('playerTeam' + features)\n",
    "    away_features = list('opponentTeam' + features)\n",
    "    \n",
    "    # for the player team\n",
    "    pstats = pstats.merge(teams, on=['teamId', 'date'], how='left')\n",
    "    pstats.rename(columns={old: new\n",
    "                           for old, new in zip(features, player_features)},\n",
    "                  inplace=True)\n",
    "    \n",
    "    # for the away team\n",
    "    teams.rename(columns={'teamId': 'opponentTeamId'}, inplace=True)\n",
    "    pstats = pstats.merge(teams, on=['opponentTeamId', 'date'], how='left')\n",
    "    pstats.rename(columns={old: new\n",
    "                           for old, new in zip(features, away_features)},\n",
    "                  inplace=True)\n",
    "    \n",
    "    return pstats"
   ]
  },
  {
   "cell_type": "code",
   "execution_count": 64,
   "id": "94b07982",
   "metadata": {},
   "outputs": [],
   "source": [
    "teams = ingest_team_stats(teams)"
   ]
  },
  {
   "cell_type": "code",
   "execution_count": 65,
   "id": "0c3278e2",
   "metadata": {},
   "outputs": [
    {
     "name": "stdout",
     "output_type": "stream",
     "text": [
      "Index(['runsScored', 'homeRuns', 'strikeOuts', 'hits', 'runsPitching',\n",
      "       'homeRunsPitching', 'outsPitching', 'rbiPitching',\n",
      "       'runsScored__date__maxNorm', 'homeRuns__date__maxNorm',\n",
      "       'outsPitching__date__maxNorm'],\n",
      "      dtype='object')\n",
      "['playerTeamrunsScored', 'playerTeamhomeRuns', 'playerTeamstrikeOuts', 'playerTeamhits', 'playerTeamrunsPitching', 'playerTeamhomeRunsPitching', 'playerTeamoutsPitching', 'playerTeamrbiPitching', 'playerTeamrunsScored__date__maxNorm', 'playerTeamhomeRuns__date__maxNorm', 'playerTeamoutsPitching__date__maxNorm'] ['opponentTeamrunsScored', 'opponentTeamhomeRuns', 'opponentTeamstrikeOuts', 'opponentTeamhits', 'opponentTeamrunsPitching', 'opponentTeamhomeRunsPitching', 'opponentTeamoutsPitching', 'opponentTeamrbiPitching', 'opponentTeamrunsScored__date__maxNorm', 'opponentTeamhomeRuns__date__maxNorm', 'opponentTeamoutsPitching__date__maxNorm']\n"
     ]
    }
   ],
   "source": [
    "join_team_stats_to_pstats(teams , teams)"
   ]
  },
  {
   "cell_type": "markdown",
   "id": "5603e39e",
   "metadata": {},
   "source": [
    "### transactions"
   ]
  },
  {
   "cell_type": "code",
   "execution_count": 15,
   "id": "93f78778",
   "metadata": {},
   "outputs": [
    {
     "data": {
      "text/plain": [
       "Index(['nextDayPlayerEngagement', 'games', 'rosters', 'playerBoxScores',\n",
       "       'teamBoxScores', 'transactions', 'standings', 'awards', 'events',\n",
       "       'playerTwitterFollowers', 'teamTwitterFollowers'],\n",
       "      dtype='object')"
      ]
     },
     "execution_count": 15,
     "metadata": {},
     "output_type": "execute_result"
    }
   ],
   "source": [
    "raw_df.columns"
   ]
  },
  {
   "cell_type": "code",
   "execution_count": null,
   "id": "0bcba3fd",
   "metadata": {},
   "outputs": [],
   "source": [
    "from data.ingest_data.core import unpack_dataframe, has_duplicates, normalize_with_max"
   ]
  },
  {
   "cell_type": "code",
   "execution_count": null,
   "id": "c0f3910d",
   "metadata": {},
   "outputs": [],
   "source": [
    "raw_df=raw_df.iloc[: 150]"
   ]
  },
  {
   "cell_type": "code",
   "execution_count": null,
   "id": "9e4dc791",
   "metadata": {},
   "outputs": [],
   "source": [
    "fields = unpack_dataframe(raw_df, fields={'transactions': 'transactions'})"
   ]
  },
  {
   "cell_type": "code",
   "execution_count": null,
   "id": "f2d4e31b",
   "metadata": {},
   "outputs": [],
   "source": [
    "def ingest_transactions(transactions: pd.DataFrame):\n",
    "    transactions = transactions.dropna(subset=['playerId'])\n",
    "    transactions.loc[:, 'playerId'] = transactions.loc[:, 'playerId'].astype(np.int64)\n",
    "    transactions = transactions.loc[:, ['playerId', 'toTeamId', 'typeDesc', 'date']]\n",
    "    transactions.rename(columns={'toTeamId': 'MoveToTeamId',\n",
    "                                 'typeDesc': 'transDesc'}, inplace=True)\n",
    "    transactions.drop_duplicates(subset=['date', 'playerId'], keep='last', inplace=True)\n",
    "    transactions.reset_index(drop=True, inplace=True)\n",
    "    assert not has_duplicates(transactions), 'transactions has duplicates'\n",
    "    return transactions"
   ]
  },
  {
   "cell_type": "code",
   "execution_count": null,
   "id": "1010cd13",
   "metadata": {},
   "outputs": [],
   "source": [
    "transactions = fields['transactions'].copy(deep=True)"
   ]
  },
  {
   "cell_type": "code",
   "execution_count": 29,
   "id": "1de3afa4",
   "metadata": {},
   "outputs": [
    {
     "name": "stderr",
     "output_type": "stream",
     "text": [
      "<ipython-input-29-52258c2bfdd5>:1: PerformanceWarning: indexing past lexsort depth may impact performance.\n",
      "  transactions.set_index(['playerId', 'date']).loc[645302, '2018-09-04']\n"
     ]
    },
    {
     "data": {
      "text/html": [
       "<div>\n",
       "<style scoped>\n",
       "    .dataframe tbody tr th:only-of-type {\n",
       "        vertical-align: middle;\n",
       "    }\n",
       "\n",
       "    .dataframe tbody tr th {\n",
       "        vertical-align: top;\n",
       "    }\n",
       "\n",
       "    .dataframe thead th {\n",
       "        text-align: right;\n",
       "    }\n",
       "</style>\n",
       "<table border=\"1\" class=\"dataframe\">\n",
       "  <thead>\n",
       "    <tr style=\"text-align: right;\">\n",
       "      <th></th>\n",
       "      <th></th>\n",
       "      <th>transactionId</th>\n",
       "      <th>playerName</th>\n",
       "      <th>fromTeamId</th>\n",
       "      <th>fromTeamName</th>\n",
       "      <th>toTeamId</th>\n",
       "      <th>toTeamName</th>\n",
       "      <th>effectiveDate</th>\n",
       "      <th>resolutionDate</th>\n",
       "      <th>typeCode</th>\n",
       "      <th>typeDesc</th>\n",
       "      <th>description</th>\n",
       "    </tr>\n",
       "    <tr>\n",
       "      <th>playerId</th>\n",
       "      <th>date</th>\n",
       "      <th></th>\n",
       "      <th></th>\n",
       "      <th></th>\n",
       "      <th></th>\n",
       "      <th></th>\n",
       "      <th></th>\n",
       "      <th></th>\n",
       "      <th></th>\n",
       "      <th></th>\n",
       "      <th></th>\n",
       "      <th></th>\n",
       "    </tr>\n",
       "  </thead>\n",
       "  <tbody>\n",
       "    <tr>\n",
       "      <th rowspan=\"5\" valign=\"top\">645302.0</th>\n",
       "      <th>2018-09-04</th>\n",
       "      <td>479110</td>\n",
       "      <td>Victor Robles</td>\n",
       "      <td>NaN</td>\n",
       "      <td>None</td>\n",
       "      <td>120</td>\n",
       "      <td>Washington Nationals</td>\n",
       "      <td>2018-09-04</td>\n",
       "      <td>2018-09-04</td>\n",
       "      <td>CU</td>\n",
       "      <td>Recalled</td>\n",
       "      <td>Washington Nationals recalled CF Victor Robles.</td>\n",
       "    </tr>\n",
       "    <tr>\n",
       "      <th>2018-09-04</th>\n",
       "      <td>479252</td>\n",
       "      <td>Victor Robles</td>\n",
       "      <td>NaN</td>\n",
       "      <td>None</td>\n",
       "      <td>120</td>\n",
       "      <td>Washington Nationals</td>\n",
       "      <td>2018-09-04</td>\n",
       "      <td>2018-09-04</td>\n",
       "      <td>CU</td>\n",
       "      <td>Recalled</td>\n",
       "      <td>Washington Nationals recalled CF Victor Robles.</td>\n",
       "    </tr>\n",
       "    <tr>\n",
       "      <th>2018-09-04</th>\n",
       "      <td>477011</td>\n",
       "      <td>Victor Robles</td>\n",
       "      <td>NaN</td>\n",
       "      <td>None</td>\n",
       "      <td>120</td>\n",
       "      <td>Washington Nationals</td>\n",
       "      <td>2018-09-04</td>\n",
       "      <td>2018-09-04</td>\n",
       "      <td>CU</td>\n",
       "      <td>Recalled</td>\n",
       "      <td>Washington Nationals recalled CF Victor Robles.</td>\n",
       "    </tr>\n",
       "    <tr>\n",
       "      <th>2018-09-04</th>\n",
       "      <td>477923</td>\n",
       "      <td>Victor Robles</td>\n",
       "      <td>NaN</td>\n",
       "      <td>None</td>\n",
       "      <td>120</td>\n",
       "      <td>Washington Nationals</td>\n",
       "      <td>2018-09-04</td>\n",
       "      <td>2018-09-04</td>\n",
       "      <td>CU</td>\n",
       "      <td>Recalled</td>\n",
       "      <td>Washington Nationals recalled CF Victor Robles.</td>\n",
       "    </tr>\n",
       "    <tr>\n",
       "      <th>2018-09-04</th>\n",
       "      <td>377804</td>\n",
       "      <td>Victor Robles</td>\n",
       "      <td>552.0</td>\n",
       "      <td>Syracuse Mets</td>\n",
       "      <td>120</td>\n",
       "      <td>Washington Nationals</td>\n",
       "      <td>2018-09-04</td>\n",
       "      <td>None</td>\n",
       "      <td>CU</td>\n",
       "      <td>Recalled</td>\n",
       "      <td>Washington Nationals recalled CF Victor Robles...</td>\n",
       "    </tr>\n",
       "  </tbody>\n",
       "</table>\n",
       "</div>"
      ],
      "text/plain": [
       "                     transactionId     playerName  fromTeamId   fromTeamName  \\\n",
       "playerId date                                                                  \n",
       "645302.0 2018-09-04         479110  Victor Robles         NaN           None   \n",
       "         2018-09-04         479252  Victor Robles         NaN           None   \n",
       "         2018-09-04         477011  Victor Robles         NaN           None   \n",
       "         2018-09-04         477923  Victor Robles         NaN           None   \n",
       "         2018-09-04         377804  Victor Robles       552.0  Syracuse Mets   \n",
       "\n",
       "                     toTeamId            toTeamName effectiveDate  \\\n",
       "playerId date                                                       \n",
       "645302.0 2018-09-04       120  Washington Nationals    2018-09-04   \n",
       "         2018-09-04       120  Washington Nationals    2018-09-04   \n",
       "         2018-09-04       120  Washington Nationals    2018-09-04   \n",
       "         2018-09-04       120  Washington Nationals    2018-09-04   \n",
       "         2018-09-04       120  Washington Nationals    2018-09-04   \n",
       "\n",
       "                    resolutionDate typeCode  typeDesc  \\\n",
       "playerId date                                           \n",
       "645302.0 2018-09-04     2018-09-04       CU  Recalled   \n",
       "         2018-09-04     2018-09-04       CU  Recalled   \n",
       "         2018-09-04     2018-09-04       CU  Recalled   \n",
       "         2018-09-04     2018-09-04       CU  Recalled   \n",
       "         2018-09-04           None       CU  Recalled   \n",
       "\n",
       "                                                           description  \n",
       "playerId date                                                           \n",
       "645302.0 2018-09-04    Washington Nationals recalled CF Victor Robles.  \n",
       "         2018-09-04    Washington Nationals recalled CF Victor Robles.  \n",
       "         2018-09-04    Washington Nationals recalled CF Victor Robles.  \n",
       "         2018-09-04    Washington Nationals recalled CF Victor Robles.  \n",
       "         2018-09-04  Washington Nationals recalled CF Victor Robles...  "
      ]
     },
     "execution_count": 29,
     "metadata": {},
     "output_type": "execute_result"
    }
   ],
   "source": [
    "transactions.set_index(['playerId', 'date']).loc[645302, '2018-09-04']"
   ]
  },
  {
   "cell_type": "code",
   "execution_count": 30,
   "id": "9c6fcc86",
   "metadata": {},
   "outputs": [
    {
     "name": "stderr",
     "output_type": "stream",
     "text": [
      "/home/med/anaconda3/envs/mlb/lib/python3.8/site-packages/pandas/core/indexing.py:1676: SettingWithCopyWarning: \n",
      "A value is trying to be set on a copy of a slice from a DataFrame.\n",
      "Try using .loc[row_indexer,col_indexer] = value instead\n",
      "\n",
      "See the caveats in the documentation: https://pandas.pydata.org/pandas-docs/stable/user_guide/indexing.html#returning-a-view-versus-a-copy\n",
      "  self._setitem_single_column(ilocs[0], value, pi)\n"
     ]
    }
   ],
   "source": [
    "transactions = ingest_transactions(transactions)"
   ]
  },
  {
   "cell_type": "markdown",
   "id": "7916d66b",
   "metadata": {},
   "source": [
    "### events "
   ]
  },
  {
   "cell_type": "code",
   "execution_count": 21,
   "id": "feb7a6be",
   "metadata": {},
   "outputs": [],
   "source": [
    "from data.ingest_data.core import unpack_dataframe, has_duplicates, normalize_with_max"
   ]
  },
  {
   "cell_type": "code",
   "execution_count": 22,
   "id": "3251c833",
   "metadata": {},
   "outputs": [],
   "source": [
    "fields = unpack_dataframe(raw_df, fields={'events': 'events'})"
   ]
  },
  {
   "cell_type": "code",
   "execution_count": 53,
   "id": "58780a94",
   "metadata": {},
   "outputs": [],
   "source": [
    "import gc\n",
    "\n",
    "def get_first_item(x):\n",
    "    assert len(x) == 1, 'the are multiple values'\n",
    "    return x.iloc[0]\n",
    "\n",
    "def ingest_events(events: pd.DataFrame):\n",
    "    def concat_text(x):\n",
    "        return ' EndEvent '.join(x)\n",
    "\n",
    "    to_keep = ['date', 'hitterId', 'pitcherId', 'description']\n",
    "    to_drop = [f for f in events.columns \n",
    "               if f not in to_keep]\n",
    "    events.drop(to_drop, inplace=True, axis=1)\n",
    "    gc.collect()\n",
    "    events = events.dropna(subset=['description'])\n",
    "    \n",
    "    hitter_events = events.groupby(['date', 'hitterId'])['description'].apply(concat_text)\n",
    "    pitcher_events = events.groupby(['date', 'pitcherId'])['description'].apply(concat_text)\n",
    "    \n",
    "    hitter_events = hitter_events.reset_index()\n",
    "    pitcher_events = pitcher_events.reset_index()\n",
    "    \n",
    "    hitter_events.rename(columns={'hitterId': 'playerId'}, inplace=True)\n",
    "    pitcher_events.rename(columns={'pitcherId': 'playerId'}, inplace=True)\n",
    "    \n",
    "    text_events = pd.concat([hitter_events, pitcher_events], ignore_index=True)\n",
    "    text_events = text_events.groupby(['date', 'playerId'])['description'].apply(concat_text)\n",
    "    \n",
    "    return text_events.reset_index()\n",
    "    "
   ]
  },
  {
   "cell_type": "code",
   "execution_count": 47,
   "id": "f08fd126",
   "metadata": {},
   "outputs": [],
   "source": [
    "pd.options.display.max_rows=100\n",
    "pd.options.display.max_columns=100"
   ]
  },
  {
   "cell_type": "code",
   "execution_count": 57,
   "id": "0917a401",
   "metadata": {},
   "outputs": [],
   "source": [
    "events = fields['events'].copy(deep=True)"
   ]
  },
  {
   "cell_type": "code",
   "execution_count": 58,
   "id": "50dca277",
   "metadata": {},
   "outputs": [],
   "source": [
    "text_events = ingest_events(events)"
   ]
  },
  {
   "cell_type": "code",
   "execution_count": 60,
   "id": "c1b9fc20",
   "metadata": {},
   "outputs": [
    {
     "data": {
      "text/html": [
       "<div>\n",
       "<style scoped>\n",
       "    .dataframe tbody tr th:only-of-type {\n",
       "        vertical-align: middle;\n",
       "    }\n",
       "\n",
       "    .dataframe tbody tr th {\n",
       "        vertical-align: top;\n",
       "    }\n",
       "\n",
       "    .dataframe thead th {\n",
       "        text-align: right;\n",
       "    }\n",
       "</style>\n",
       "<table border=\"1\" class=\"dataframe\">\n",
       "  <thead>\n",
       "    <tr style=\"text-align: right;\">\n",
       "      <th></th>\n",
       "      <th>date</th>\n",
       "      <th>playerId</th>\n",
       "      <th>description</th>\n",
       "    </tr>\n",
       "  </thead>\n",
       "  <tbody>\n",
       "    <tr>\n",
       "      <th>0</th>\n",
       "      <td>2018-03-29</td>\n",
       "      <td>134181</td>\n",
       "      <td>Adrian Beltre flies out to center fielder Jake...</td>\n",
       "    </tr>\n",
       "    <tr>\n",
       "      <th>1</th>\n",
       "      <td>2018-03-29</td>\n",
       "      <td>400085</td>\n",
       "      <td>Ichiro Suzuki grounds out to first baseman Yon...</td>\n",
       "    </tr>\n",
       "    <tr>\n",
       "      <th>2</th>\n",
       "      <td>2018-03-29</td>\n",
       "      <td>400284</td>\n",
       "      <td>Offensive Substitution: Pinch-hitter Chase Utl...</td>\n",
       "    </tr>\n",
       "    <tr>\n",
       "      <th>3</th>\n",
       "      <td>2018-03-29</td>\n",
       "      <td>405395</td>\n",
       "      <td>Albert Pujols homers (1) on a fly ball to left...</td>\n",
       "    </tr>\n",
       "    <tr>\n",
       "      <th>4</th>\n",
       "      <td>2018-03-29</td>\n",
       "      <td>407822</td>\n",
       "      <td>Mound Visit. EndEvent Pitching Change: Jorge D...</td>\n",
       "    </tr>\n",
       "    <tr>\n",
       "      <th>...</th>\n",
       "      <td>...</td>\n",
       "      <td>...</td>\n",
       "      <td>...</td>\n",
       "    </tr>\n",
       "    <tr>\n",
       "      <th>23193</th>\n",
       "      <td>2018-05-30</td>\n",
       "      <td>660271</td>\n",
       "      <td>With Jeimer Candelario batting, Leonys Martin ...</td>\n",
       "    </tr>\n",
       "    <tr>\n",
       "      <th>23194</th>\n",
       "      <td>2018-05-30</td>\n",
       "      <td>664056</td>\n",
       "      <td>Defensive Substitution: Orlando Arcia replaces...</td>\n",
       "    </tr>\n",
       "    <tr>\n",
       "      <th>23195</th>\n",
       "      <td>2018-05-30</td>\n",
       "      <td>664068</td>\n",
       "      <td>Pat Venditte is now pitching right-handed. End...</td>\n",
       "    </tr>\n",
       "    <tr>\n",
       "      <th>23196</th>\n",
       "      <td>2018-05-30</td>\n",
       "      <td>664701</td>\n",
       "      <td>Pitching Change: Ben Taylor replaces Evan Mars...</td>\n",
       "    </tr>\n",
       "    <tr>\n",
       "      <th>23197</th>\n",
       "      <td>2018-05-30</td>\n",
       "      <td>665742</td>\n",
       "      <td>Juan Soto grounds out, shortstop Manny Machado...</td>\n",
       "    </tr>\n",
       "  </tbody>\n",
       "</table>\n",
       "<p>23198 rows × 3 columns</p>\n",
       "</div>"
      ],
      "text/plain": [
       "            date  playerId                                        description\n",
       "0     2018-03-29    134181  Adrian Beltre flies out to center fielder Jake...\n",
       "1     2018-03-29    400085  Ichiro Suzuki grounds out to first baseman Yon...\n",
       "2     2018-03-29    400284  Offensive Substitution: Pinch-hitter Chase Utl...\n",
       "3     2018-03-29    405395  Albert Pujols homers (1) on a fly ball to left...\n",
       "4     2018-03-29    407822  Mound Visit. EndEvent Pitching Change: Jorge D...\n",
       "...          ...       ...                                                ...\n",
       "23193 2018-05-30    660271  With Jeimer Candelario batting, Leonys Martin ...\n",
       "23194 2018-05-30    664056  Defensive Substitution: Orlando Arcia replaces...\n",
       "23195 2018-05-30    664068  Pat Venditte is now pitching right-handed. End...\n",
       "23196 2018-05-30    664701  Pitching Change: Ben Taylor replaces Evan Mars...\n",
       "23197 2018-05-30    665742  Juan Soto grounds out, shortstop Manny Machado...\n",
       "\n",
       "[23198 rows x 3 columns]"
      ]
     },
     "execution_count": 60,
     "metadata": {},
     "output_type": "execute_result"
    }
   ],
   "source": [
    "text_events"
   ]
  },
  {
   "cell_type": "code",
   "execution_count": null,
   "id": "2b9456fa",
   "metadata": {},
   "outputs": [],
   "source": []
  }
 ],
 "metadata": {
  "kernelspec": {
   "display_name": "Python 3",
   "language": "python",
   "name": "python3"
  },
  "language_info": {
   "codemirror_mode": {
    "name": "ipython",
    "version": 3
   },
   "file_extension": ".py",
   "mimetype": "text/x-python",
   "name": "python",
   "nbconvert_exporter": "python",
   "pygments_lexer": "ipython3",
   "version": "3.8.8"
  }
 },
 "nbformat": 4,
 "nbformat_minor": 5
}
