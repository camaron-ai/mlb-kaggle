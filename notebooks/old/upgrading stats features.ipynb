{
 "cells": [
  {
   "cell_type": "code",
   "execution_count": 1,
   "id": "11a1984e",
   "metadata": {},
   "outputs": [],
   "source": [
    "%load_ext autoreload\n",
    "%autoreload 2\n"
   ]
  },
  {
   "cell_type": "code",
   "execution_count": 2,
   "id": "200bd975",
   "metadata": {},
   "outputs": [],
   "source": [
    "import pandas as pd\n",
    "import numpy as np\n",
    "from matplotlib import pyplot as plt\n",
    "from pathlib import Path\n",
    "import seaborn as sns"
   ]
  },
  {
   "cell_type": "code",
   "execution_count": 3,
   "id": "98b21c10",
   "metadata": {},
   "outputs": [],
   "source": [
    "import os\n",
    "import sys"
   ]
  },
  {
   "cell_type": "code",
   "execution_count": 4,
   "id": "83088198",
   "metadata": {},
   "outputs": [],
   "source": [
    "# chaging directory"
   ]
  },
  {
   "cell_type": "code",
   "execution_count": 5,
   "id": "63a6bace",
   "metadata": {},
   "outputs": [],
   "source": [
    "root, *_ = !pwd"
   ]
  },
  {
   "cell_type": "code",
   "execution_count": 6,
   "id": "0401546d",
   "metadata": {},
   "outputs": [],
   "source": [
    "if root.endswith('notebooks'):\n",
    "    os.chdir('../')\n",
    "    root, *_ = !pwd\n",
    "    sys.path.append('src/')"
   ]
  },
  {
   "cell_type": "code",
   "execution_count": 7,
   "id": "c94d5f75",
   "metadata": {},
   "outputs": [
    {
     "data": {
      "text/plain": [
       "'/home/med/projects/competitions/mlb-kaggle'"
      ]
     },
     "execution_count": 7,
     "metadata": {},
     "output_type": "execute_result"
    }
   ],
   "source": [
    "os.getcwd()"
   ]
  },
  {
   "cell_type": "code",
   "execution_count": 8,
   "id": "bf93f65f",
   "metadata": {},
   "outputs": [
    {
     "data": {
      "text/plain": [
       "True"
      ]
     },
     "execution_count": 8,
     "metadata": {},
     "output_type": "execute_result"
    }
   ],
   "source": [
    "from dotenv import load_dotenv\n",
    "load_dotenv()"
   ]
  },
  {
   "cell_type": "code",
   "execution_count": 9,
   "id": "a0936da3",
   "metadata": {},
   "outputs": [],
   "source": [
    "RAW_PATH = Path(os.environ['RAW_PATH'])"
   ]
  },
  {
   "cell_type": "code",
   "execution_count": 10,
   "id": "ba3ad4ff",
   "metadata": {},
   "outputs": [],
   "source": [
    "PROCESSED_PATH = Path(os.environ['ROOT_DIR']) / 'processed'"
   ]
  },
  {
   "cell_type": "code",
   "execution_count": 11,
   "id": "e0104b3d",
   "metadata": {},
   "outputs": [
    {
     "data": {
      "text/plain": [
       "['seasons.csv',\n",
       " 'teams.csv',\n",
       " 'example_sample_submission.csv',\n",
       " 'train.csv',\n",
       " 'mlb-player-digital-engagement-forecasting.zip',\n",
       " 'awards.csv',\n",
       " 'players.csv',\n",
       " 'example_test.csv',\n",
       " 'mlb']"
      ]
     },
     "execution_count": 11,
     "metadata": {},
     "output_type": "execute_result"
    }
   ],
   "source": [
    "os.listdir(RAW_PATH)"
   ]
  },
  {
   "cell_type": "code",
   "execution_count": 12,
   "id": "ee81e838",
   "metadata": {},
   "outputs": [
    {
     "data": {
      "text/plain": [
       "['target.csv', 'raw_data.csv']"
      ]
     },
     "execution_count": 12,
     "metadata": {},
     "output_type": "execute_result"
    }
   ],
   "source": [
    "os.listdir(PROCESSED_PATH)"
   ]
  },
  {
   "cell_type": "code",
   "execution_count": 13,
   "id": "dc5d2beb",
   "metadata": {},
   "outputs": [],
   "source": [
    "raw_train_data = pd.read_csv(RAW_PATH / 'train.csv', parse_dates=['date'])"
   ]
  },
  {
   "cell_type": "markdown",
   "id": "3ff122d8",
   "metadata": {},
   "source": [
    "### players stats"
   ]
  },
  {
   "cell_type": "code",
   "execution_count": 21,
   "id": "3e6d50b8",
   "metadata": {},
   "outputs": [],
   "source": [
    "from pipeline.core import make_unpack_tmf\n",
    "\n",
    "# pstats_col = 'playerBoxScores'  \n",
    "# # check if there is any information\n",
    "# # normalize dataframe\n",
    "# unpack_pstats = make_unpack_tmf(pstats_col)\n",
    "# pstats = unpack_pstats.fit_transform(raw_train_data)"
   ]
  },
  {
   "cell_type": "code",
   "execution_count": 140,
   "id": "59bd9ad1",
   "metadata": {},
   "outputs": [],
   "source": [
    "\n",
    "# def ingest_games_stats(pstats: pd.DataFrame, raw_df: pd.DataFrame):\n",
    "#     games_col = 'games'  \n",
    "#     # check if there is any information\n",
    "#     if raw_df.loc[:, games_col].isna().all():\n",
    "#         return None\n",
    "    \n",
    "#     unpack_games = make_unpack_tmf(games_col)\n",
    "#     games = unpack_games.fit_transform(raw_df)\n",
    "    \n",
    "#     teamFeatures = ['Id', 'Wins', 'Losses', 'WinPct', 'Winner', 'Score']\n",
    "\n",
    "#     add_suffix = lambda suffix: [suffix + f for f in teamFeatures] \n",
    "\n",
    "#     homeFeatures = add_suffix('home')\n",
    "#     awayFeatures = add_suffix('away')\n",
    "#     playerTeamFeatures = add_suffix('playerTeam')\n",
    "#     opTeamFeatures = add_suffix('opponentTeam')\n",
    "    \n",
    "#     to_drop = ['season', 'gameTimeUTC', 'resumeDate',\n",
    "#                 'resumedFrom', 'codedGameState', 'detailedGameState',\n",
    "#                 'gameNumber', 'doubleHeader', 'dayNight', 'scheduledInnings',\n",
    "#                 'seriesDescription', 'homeName',\n",
    "#                 'homeAbbrev','homeName',\n",
    "#                 'awayName', 'awayAbbrev', 'date']\n",
    "    \n",
    "#     # drop features\n",
    "#     games.drop(to_drop, axis=1, inplace=True)\n",
    "#     # merge with correct gameId\n",
    "#     pstats = pstats.merge(games, on=['gamePk', 'gameDate'], how='left')\n",
    "#     # home and aways stats to player and opponent stats\n",
    "#     pstats.loc[:, playerTeamFeatures] = np.where(pstats[['home']], pstats[homeFeatures], pstats[awayFeatures])\n",
    "#     pstats.loc[:, opTeamFeatures] = np.where(pstats[['home']], pstats[awayFeatures], pstats[homeFeatures])\n",
    "#     # drop features\n",
    "#     pstats.drop(homeFeatures + awayFeatures +\n",
    "#                 ['homeId', 'awayWinner',\n",
    "#                  'opponentTeamWinner'], axis=1, inplace=True)\n",
    "#     # compute the difference between the scores\n",
    "#     pstats['teamScoreDiff'] = pstats['playerTeamScore'] - pstats['opponentTeamScore'] \n",
    "#     return pstats\n",
    "\n",
    "\n",
    "        \n",
    "\n",
    "from data.ingest_data import ingest_player_stats"
   ]
  },
  {
   "cell_type": "code",
   "execution_count": 141,
   "id": "423d04d8",
   "metadata": {},
   "outputs": [],
   "source": [
    "pstats = ingest_player_stats(raw_train_data)"
   ]
  },
  {
   "cell_type": "code",
   "execution_count": 130,
   "id": "2ced85e6",
   "metadata": {},
   "outputs": [],
   "source": [
    "pstats = ingest_games_stats(pstats, raw_train_data)"
   ]
  },
  {
   "cell_type": "code",
   "execution_count": 142,
   "id": "07400567",
   "metadata": {},
   "outputs": [
    {
     "data": {
      "text/html": [
       "<div>\n",
       "<style scoped>\n",
       "    .dataframe tbody tr th:only-of-type {\n",
       "        vertical-align: middle;\n",
       "    }\n",
       "\n",
       "    .dataframe tbody tr th {\n",
       "        vertical-align: top;\n",
       "    }\n",
       "\n",
       "    .dataframe thead th {\n",
       "        text-align: right;\n",
       "    }\n",
       "</style>\n",
       "<table border=\"1\" class=\"dataframe\">\n",
       "  <thead>\n",
       "    <tr style=\"text-align: right;\">\n",
       "      <th></th>\n",
       "      <th>home</th>\n",
       "      <th>teamId</th>\n",
       "      <th>playerId</th>\n",
       "      <th>date</th>\n",
       "      <th>gameType</th>\n",
       "      <th>isTie</th>\n",
       "      <th>gamesInSeries</th>\n",
       "      <th>playerTeamId</th>\n",
       "      <th>playerTeamWins</th>\n",
       "      <th>playerTeamLosses</th>\n",
       "      <th>...</th>\n",
       "      <th>catchersInterferencePitching</th>\n",
       "      <th>sacBuntsPitching</th>\n",
       "      <th>sacFliesPitching</th>\n",
       "      <th>saves</th>\n",
       "      <th>holds</th>\n",
       "      <th>blownSaves</th>\n",
       "      <th>assists</th>\n",
       "      <th>putOuts</th>\n",
       "      <th>errors</th>\n",
       "      <th>chances</th>\n",
       "    </tr>\n",
       "  </thead>\n",
       "  <tbody>\n",
       "    <tr>\n",
       "      <th>0</th>\n",
       "      <td>1</td>\n",
       "      <td>119</td>\n",
       "      <td>605131</td>\n",
       "      <td>87</td>\n",
       "      <td>R</td>\n",
       "      <td>0.0</td>\n",
       "      <td>4.0</td>\n",
       "      <td>119</td>\n",
       "      <td>0.0</td>\n",
       "      <td>1.0</td>\n",
       "      <td>...</td>\n",
       "      <td>0.0</td>\n",
       "      <td>0.0</td>\n",
       "      <td>0.0</td>\n",
       "      <td>0.0</td>\n",
       "      <td>0.0</td>\n",
       "      <td>0.0</td>\n",
       "      <td>0.0</td>\n",
       "      <td>0.0</td>\n",
       "      <td>0.0</td>\n",
       "      <td>0.0</td>\n",
       "    </tr>\n",
       "    <tr>\n",
       "      <th>1</th>\n",
       "      <td>1</td>\n",
       "      <td>139</td>\n",
       "      <td>605480</td>\n",
       "      <td>87</td>\n",
       "      <td>R</td>\n",
       "      <td>0.0</td>\n",
       "      <td>4.0</td>\n",
       "      <td>139</td>\n",
       "      <td>1.0</td>\n",
       "      <td>0.0</td>\n",
       "      <td>...</td>\n",
       "      <td>0.0</td>\n",
       "      <td>0.0</td>\n",
       "      <td>0.0</td>\n",
       "      <td>0.0</td>\n",
       "      <td>0.0</td>\n",
       "      <td>0.0</td>\n",
       "      <td>0.0</td>\n",
       "      <td>0.0</td>\n",
       "      <td>0.0</td>\n",
       "      <td>0.0</td>\n",
       "    </tr>\n",
       "    <tr>\n",
       "      <th>2</th>\n",
       "      <td>0</td>\n",
       "      <td>143</td>\n",
       "      <td>546318</td>\n",
       "      <td>87</td>\n",
       "      <td>R</td>\n",
       "      <td>0.0</td>\n",
       "      <td>3.0</td>\n",
       "      <td>143</td>\n",
       "      <td>0.0</td>\n",
       "      <td>1.0</td>\n",
       "      <td>...</td>\n",
       "      <td>0.0</td>\n",
       "      <td>0.0</td>\n",
       "      <td>0.0</td>\n",
       "      <td>0.0</td>\n",
       "      <td>0.0</td>\n",
       "      <td>0.0</td>\n",
       "      <td>0.0</td>\n",
       "      <td>0.0</td>\n",
       "      <td>0.0</td>\n",
       "      <td>0.0</td>\n",
       "    </tr>\n",
       "    <tr>\n",
       "      <th>3</th>\n",
       "      <td>0</td>\n",
       "      <td>108</td>\n",
       "      <td>527043</td>\n",
       "      <td>87</td>\n",
       "      <td>R</td>\n",
       "      <td>0.0</td>\n",
       "      <td>4.0</td>\n",
       "      <td>108</td>\n",
       "      <td>0.0</td>\n",
       "      <td>1.0</td>\n",
       "      <td>...</td>\n",
       "      <td>0.0</td>\n",
       "      <td>0.0</td>\n",
       "      <td>0.0</td>\n",
       "      <td>0.0</td>\n",
       "      <td>0.0</td>\n",
       "      <td>0.0</td>\n",
       "      <td>0.0</td>\n",
       "      <td>1.0</td>\n",
       "      <td>0.0</td>\n",
       "      <td>1.0</td>\n",
       "    </tr>\n",
       "    <tr>\n",
       "      <th>4</th>\n",
       "      <td>1</td>\n",
       "      <td>118</td>\n",
       "      <td>449181</td>\n",
       "      <td>87</td>\n",
       "      <td>R</td>\n",
       "      <td>0.0</td>\n",
       "      <td>2.0</td>\n",
       "      <td>118</td>\n",
       "      <td>0.0</td>\n",
       "      <td>1.0</td>\n",
       "      <td>...</td>\n",
       "      <td>0.0</td>\n",
       "      <td>0.0</td>\n",
       "      <td>0.0</td>\n",
       "      <td>0.0</td>\n",
       "      <td>0.0</td>\n",
       "      <td>0.0</td>\n",
       "      <td>0.0</td>\n",
       "      <td>2.0</td>\n",
       "      <td>0.0</td>\n",
       "      <td>2.0</td>\n",
       "    </tr>\n",
       "  </tbody>\n",
       "</table>\n",
       "<p>5 rows × 93 columns</p>\n",
       "</div>"
      ],
      "text/plain": [
       "   home  teamId  playerId  date gameType  isTie  gamesInSeries  playerTeamId  \\\n",
       "0     1     119    605131    87        R    0.0            4.0           119   \n",
       "1     1     139    605480    87        R    0.0            4.0           139   \n",
       "2     0     143    546318    87        R    0.0            3.0           143   \n",
       "3     0     108    527043    87        R    0.0            4.0           108   \n",
       "4     1     118    449181    87        R    0.0            2.0           118   \n",
       "\n",
       "   playerTeamWins  playerTeamLosses  ...  catchersInterferencePitching  \\\n",
       "0             0.0               1.0  ...                           0.0   \n",
       "1             1.0               0.0  ...                           0.0   \n",
       "2             0.0               1.0  ...                           0.0   \n",
       "3             0.0               1.0  ...                           0.0   \n",
       "4             0.0               1.0  ...                           0.0   \n",
       "\n",
       "   sacBuntsPitching  sacFliesPitching  saves  holds  blownSaves  assists  \\\n",
       "0               0.0               0.0    0.0    0.0         0.0      0.0   \n",
       "1               0.0               0.0    0.0    0.0         0.0      0.0   \n",
       "2               0.0               0.0    0.0    0.0         0.0      0.0   \n",
       "3               0.0               0.0    0.0    0.0         0.0      0.0   \n",
       "4               0.0               0.0    0.0    0.0         0.0      0.0   \n",
       "\n",
       "   putOuts  errors  chances  \n",
       "0      0.0     0.0      0.0  \n",
       "1      0.0     0.0      0.0  \n",
       "2      0.0     0.0      0.0  \n",
       "3      1.0     0.0      1.0  \n",
       "4      2.0     0.0      2.0  \n",
       "\n",
       "[5 rows x 93 columns]"
      ]
     },
     "execution_count": 142,
     "metadata": {},
     "output_type": "execute_result"
    }
   ],
   "source": [
    "pstats.head()"
   ]
  },
  {
   "cell_type": "code",
   "execution_count": 135,
   "id": "7f409f5b",
   "metadata": {},
   "outputs": [],
   "source": [
    "to_drop = ['gamePk',\n",
    "           'gameTimeUTC',\n",
    "           'teamName',\n",
    "           'playerName',\n",
    "           'jerseyNum',\n",
    "           'positionCode',\n",
    "           'positionName',\n",
    "           'positionType']"
   ]
  },
  {
   "cell_type": "code",
   "execution_count": 2,
   "id": "a69df697",
   "metadata": {},
   "outputs": [
    {
     "ename": "NameError",
     "evalue": "name 'df' is not defined",
     "output_type": "error",
     "traceback": [
      "\u001b[0;31m---------------------------------------------------------------------------\u001b[0m",
      "\u001b[0;31mNameError\u001b[0m                                 Traceback (most recent call last)",
      "\u001b[0;32m<ipython-input-2-1961e0d2634b>\u001b[0m in \u001b[0;36m<module>\u001b[0;34m\u001b[0m\n\u001b[0;32m----> 1\u001b[0;31m \u001b[0mdf\u001b[0m\u001b[0;34m[\u001b[0m\u001b[0;34m'target1'\u001b[0m\u001b[0;34m]\u001b[0m\u001b[0;34m\u001b[0m\u001b[0;34m\u001b[0m\u001b[0m\n\u001b[0m",
      "\u001b[0;31mNameError\u001b[0m: name 'df' is not defined"
     ]
    }
   ],
   "source": [
    "pd.api.types.is_float_dtype"
   ]
  },
  {
   "cell_type": "code",
   "execution_count": 137,
   "id": "12fe3f0c",
   "metadata": {},
   "outputs": [
    {
     "data": {
      "text/plain": [
       "Index(['home', 'gameDate', 'teamId', 'playerId', 'date', 'battingOrder',\n",
       "       'gamesPlayedBatting', 'flyOuts', 'groundOuts', 'runsScored', 'doubles',\n",
       "       'triples', 'homeRuns', 'strikeOuts', 'baseOnBalls', 'intentionalWalks',\n",
       "       'hits', 'hitByPitch', 'atBats', 'caughtStealing', 'stolenBases',\n",
       "       'groundIntoDoublePlay', 'groundIntoTriplePlay', 'plateAppearances',\n",
       "       'totalBases', 'rbi', 'leftOnBase', 'sacBunts', 'sacFlies',\n",
       "       'catchersInterference', 'pickoffs', 'gamesPlayedPitching',\n",
       "       'gamesStartedPitching', 'completeGamesPitching', 'shutoutsPitching',\n",
       "       'winsPitching', 'lossesPitching', 'flyOutsPitching', 'airOutsPitching',\n",
       "       'groundOutsPitching', 'runsPitching', 'doublesPitching',\n",
       "       'triplesPitching', 'homeRunsPitching', 'strikeOutsPitching',\n",
       "       'baseOnBallsPitching', 'intentionalWalksPitching', 'hitsPitching',\n",
       "       'hitByPitchPitching', 'atBatsPitching', 'caughtStealingPitching',\n",
       "       'stolenBasesPitching', 'inningsPitched', 'saveOpportunities',\n",
       "       'earnedRuns', 'battersFaced', 'outsPitching', 'pitchesThrown', 'balls',\n",
       "       'strikes', 'hitBatsmen', 'balks', 'wildPitches', 'pickoffsPitching',\n",
       "       'rbiPitching', 'gamesFinishedPitching', 'inheritedRunners',\n",
       "       'inheritedRunnersScored', 'catchersInterferencePitching',\n",
       "       'sacBuntsPitching', 'sacFliesPitching', 'saves', 'holds', 'blownSaves',\n",
       "       'assists', 'putOuts', 'errors', 'chances', 'gameType', 'isTie',\n",
       "       'gamesInSeries', 'playerTeamId', 'playerTeamWins', 'playerTeamLosses',\n",
       "       'playerTeamWinPct', 'playerTeamWinner', 'playerTeamScore',\n",
       "       'opponentTeamId', 'opponentTeamWins', 'opponentTeamLosses',\n",
       "       'opponentTeamWinPct', 'opponentTeamScore', 'teamScoreDiff'],\n",
       "      dtype='object')"
      ]
     },
     "execution_count": 137,
     "metadata": {},
     "output_type": "execute_result"
    }
   ],
   "source": [
    "pstats.drop(to_drop, axis=1)"
   ]
  },
  {
   "cell_type": "code",
   "execution_count": null,
   "id": "eb7de8b0",
   "metadata": {},
   "outputs": [],
   "source": []
  }
 ],
 "metadata": {
  "kernelspec": {
   "display_name": "Python 3",
   "language": "python",
   "name": "python3"
  },
  "language_info": {
   "codemirror_mode": {
    "name": "ipython",
    "version": 3
   },
   "file_extension": ".py",
   "mimetype": "text/x-python",
   "name": "python",
   "nbconvert_exporter": "python",
   "pygments_lexer": "ipython3",
   "version": "3.8.8"
  }
 },
 "nbformat": 4,
 "nbformat_minor": 5
}
