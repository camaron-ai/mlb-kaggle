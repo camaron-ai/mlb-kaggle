{
 "cells": [
  {
   "cell_type": "code",
   "execution_count": 1,
   "id": "40bf77e5",
   "metadata": {},
   "outputs": [],
   "source": [
    "## reading data"
   ]
  },
  {
   "cell_type": "code",
   "execution_count": 2,
   "id": "4f74d2d5",
   "metadata": {},
   "outputs": [],
   "source": [
    "%load_ext autoreload\n",
    "%autoreload 2\n",
    "\n",
    "\n",
    "import pandas as pd\n",
    "import numpy as np\n",
    "from matplotlib import pyplot as plt\n",
    "from pathlib import Path\n",
    "import seaborn as sns\n",
    "\n",
    "import os\n",
    "import sys"
   ]
  },
  {
   "cell_type": "code",
   "execution_count": 3,
   "id": "a538055d",
   "metadata": {},
   "outputs": [],
   "source": [
    "# chaging directory"
   ]
  },
  {
   "cell_type": "code",
   "execution_count": 4,
   "id": "84d163ae",
   "metadata": {},
   "outputs": [],
   "source": [
    "root, *_ = !pwd"
   ]
  },
  {
   "cell_type": "code",
   "execution_count": 5,
   "id": "15abcaf8",
   "metadata": {},
   "outputs": [],
   "source": [
    "if root.endswith('notebooks'):\n",
    "    os.chdir('../')\n",
    "    root, *_ = !pwd\n",
    "    sys.path.append('src/')"
   ]
  },
  {
   "cell_type": "code",
   "execution_count": 6,
   "id": "bd813987",
   "metadata": {},
   "outputs": [
    {
     "data": {
      "text/plain": [
       "'/home/med/projects/competitions/mlb-kaggle'"
      ]
     },
     "execution_count": 6,
     "metadata": {},
     "output_type": "execute_result"
    }
   ],
   "source": [
    "os.getcwd()"
   ]
  },
  {
   "cell_type": "code",
   "execution_count": 7,
   "id": "e22f85f9",
   "metadata": {},
   "outputs": [
    {
     "data": {
      "text/plain": [
       "True"
      ]
     },
     "execution_count": 7,
     "metadata": {},
     "output_type": "execute_result"
    }
   ],
   "source": [
    "from dotenv import load_dotenv\n",
    "load_dotenv()"
   ]
  },
  {
   "cell_type": "code",
   "execution_count": 8,
   "id": "3fc00ab1",
   "metadata": {},
   "outputs": [],
   "source": [
    "PROCESSED_PATH = Path(os.environ['ROOT_DIR']) / 'processed'"
   ]
  },
  {
   "cell_type": "code",
   "execution_count": 9,
   "id": "f73dfa1b",
   "metadata": {},
   "outputs": [],
   "source": [
    "RAW_PATH = Path(os.environ['RAW_PATH'])"
   ]
  },
  {
   "cell_type": "code",
   "execution_count": 10,
   "id": "e6e94c7c",
   "metadata": {},
   "outputs": [
    {
     "data": {
      "text/plain": [
       "['target.csv', 'raw_data.csv']"
      ]
     },
     "execution_count": 10,
     "metadata": {},
     "output_type": "execute_result"
    }
   ],
   "source": [
    "os.listdir(PROCESSED_PATH)"
   ]
  },
  {
   "cell_type": "code",
   "execution_count": 11,
   "id": "d18206bd",
   "metadata": {},
   "outputs": [
    {
     "data": {
      "text/plain": [
       "['seasons.csv',\n",
       " 'teams.csv',\n",
       " 'example_sample_submission.csv',\n",
       " 'train.csv',\n",
       " 'mlb-player-digital-engagement-forecasting.zip',\n",
       " 'awards.csv',\n",
       " 'players.csv',\n",
       " 'example_test.csv',\n",
       " 'mlb']"
      ]
     },
     "execution_count": 11,
     "metadata": {},
     "output_type": "execute_result"
    }
   ],
   "source": [
    "os.listdir(RAW_PATH)"
   ]
  },
  {
   "cell_type": "code",
   "execution_count": 12,
   "id": "a3f8b0f4",
   "metadata": {},
   "outputs": [],
   "source": [
    "import pandas as pd\n",
    "import numpy as np\n",
    "from matplotlib import pyplot as plt\n",
    "from pathlib import Path\n",
    "import seaborn as sns"
   ]
  },
  {
   "cell_type": "code",
   "execution_count": 13,
   "id": "b7b4ac78",
   "metadata": {},
   "outputs": [
    {
     "name": "stderr",
     "output_type": "stream",
     "text": [
      "/home/med/anaconda3/envs/mlb/lib/python3.8/site-packages/IPython/core/interactiveshell.py:3165: DtypeWarning: Columns (99) have mixed types.Specify dtype option on import or set low_memory=False.\n",
      "  has_raised = await self.run_ast_nodes(code_ast.body, cell_name,\n"
     ]
    }
   ],
   "source": [
    "dates_cols = ['date', 'mlbDebutDate', 'DOB', 'rosterDate', 'pstatsDate']\n",
    "\n",
    "df = pd.read_csv(PROCESSED_PATH / 'raw_data.csv',\n",
    "                 parse_dates=dates_cols)"
   ]
  },
  {
   "cell_type": "code",
   "execution_count": 14,
   "id": "2f24c02f",
   "metadata": {},
   "outputs": [
    {
     "data": {
      "text/html": [
       "<div>\n",
       "<style scoped>\n",
       "    .dataframe tbody tr th:only-of-type {\n",
       "        vertical-align: middle;\n",
       "    }\n",
       "\n",
       "    .dataframe tbody tr th {\n",
       "        vertical-align: top;\n",
       "    }\n",
       "\n",
       "    .dataframe thead th {\n",
       "        text-align: right;\n",
       "    }\n",
       "</style>\n",
       "<table border=\"1\" class=\"dataframe\">\n",
       "  <thead>\n",
       "    <tr style=\"text-align: right;\">\n",
       "      <th></th>\n",
       "      <th>playerId</th>\n",
       "      <th>target1</th>\n",
       "      <th>target2</th>\n",
       "      <th>target3</th>\n",
       "      <th>target4</th>\n",
       "      <th>date</th>\n",
       "      <th>home</th>\n",
       "      <th>gameType</th>\n",
       "      <th>isTie</th>\n",
       "      <th>gamesInSeries</th>\n",
       "      <th>...</th>\n",
       "      <th>year</th>\n",
       "      <th>inSeason</th>\n",
       "      <th>seasonPart</th>\n",
       "      <th>DOB</th>\n",
       "      <th>mlbDebutDate</th>\n",
       "      <th>birthCountry</th>\n",
       "      <th>weight</th>\n",
       "      <th>primaryPositionName</th>\n",
       "      <th>height</th>\n",
       "      <th>playerBMI</th>\n",
       "    </tr>\n",
       "  </thead>\n",
       "  <tbody>\n",
       "    <tr>\n",
       "      <th>0</th>\n",
       "      <td>112526</td>\n",
       "      <td>0.055277</td>\n",
       "      <td>5.496109</td>\n",
       "      <td>0.025839</td>\n",
       "      <td>16.176471</td>\n",
       "      <td>2018-01-01</td>\n",
       "      <td>NaN</td>\n",
       "      <td>NaN</td>\n",
       "      <td>NaN</td>\n",
       "      <td>NaN</td>\n",
       "      <td>...</td>\n",
       "      <td>2018</td>\n",
       "      <td>False</td>\n",
       "      <td>Offseason</td>\n",
       "      <td>1973-05-24</td>\n",
       "      <td>1997-04-04</td>\n",
       "      <td>Dominican Republic</td>\n",
       "      <td>129.27372</td>\n",
       "      <td>Pitcher</td>\n",
       "      <td>1.8034</td>\n",
       "      <td>39.748992</td>\n",
       "    </tr>\n",
       "    <tr>\n",
       "      <th>1</th>\n",
       "      <td>112526</td>\n",
       "      <td>0.060625</td>\n",
       "      <td>3.252914</td>\n",
       "      <td>0.030486</td>\n",
       "      <td>8.541353</td>\n",
       "      <td>2018-01-02</td>\n",
       "      <td>NaN</td>\n",
       "      <td>NaN</td>\n",
       "      <td>NaN</td>\n",
       "      <td>NaN</td>\n",
       "      <td>...</td>\n",
       "      <td>2018</td>\n",
       "      <td>False</td>\n",
       "      <td>Offseason</td>\n",
       "      <td>1973-05-24</td>\n",
       "      <td>1997-04-04</td>\n",
       "      <td>Dominican Republic</td>\n",
       "      <td>129.27372</td>\n",
       "      <td>Pitcher</td>\n",
       "      <td>1.8034</td>\n",
       "      <td>39.748992</td>\n",
       "    </tr>\n",
       "    <tr>\n",
       "      <th>2</th>\n",
       "      <td>112526</td>\n",
       "      <td>0.029341</td>\n",
       "      <td>1.648352</td>\n",
       "      <td>0.032613</td>\n",
       "      <td>10.490112</td>\n",
       "      <td>2018-01-03</td>\n",
       "      <td>NaN</td>\n",
       "      <td>NaN</td>\n",
       "      <td>NaN</td>\n",
       "      <td>NaN</td>\n",
       "      <td>...</td>\n",
       "      <td>2018</td>\n",
       "      <td>False</td>\n",
       "      <td>Offseason</td>\n",
       "      <td>1973-05-24</td>\n",
       "      <td>1997-04-04</td>\n",
       "      <td>Dominican Republic</td>\n",
       "      <td>129.27372</td>\n",
       "      <td>Pitcher</td>\n",
       "      <td>1.8034</td>\n",
       "      <td>39.748992</td>\n",
       "    </tr>\n",
       "    <tr>\n",
       "      <th>3</th>\n",
       "      <td>112526</td>\n",
       "      <td>0.014799</td>\n",
       "      <td>2.665894</td>\n",
       "      <td>0.087422</td>\n",
       "      <td>19.091467</td>\n",
       "      <td>2018-01-04</td>\n",
       "      <td>NaN</td>\n",
       "      <td>NaN</td>\n",
       "      <td>NaN</td>\n",
       "      <td>NaN</td>\n",
       "      <td>...</td>\n",
       "      <td>2018</td>\n",
       "      <td>False</td>\n",
       "      <td>Offseason</td>\n",
       "      <td>1973-05-24</td>\n",
       "      <td>1997-04-04</td>\n",
       "      <td>Dominican Republic</td>\n",
       "      <td>129.27372</td>\n",
       "      <td>Pitcher</td>\n",
       "      <td>1.8034</td>\n",
       "      <td>39.748992</td>\n",
       "    </tr>\n",
       "    <tr>\n",
       "      <th>4</th>\n",
       "      <td>112526</td>\n",
       "      <td>0.083916</td>\n",
       "      <td>1.161002</td>\n",
       "      <td>0.024759</td>\n",
       "      <td>6.643880</td>\n",
       "      <td>2018-01-05</td>\n",
       "      <td>NaN</td>\n",
       "      <td>NaN</td>\n",
       "      <td>NaN</td>\n",
       "      <td>NaN</td>\n",
       "      <td>...</td>\n",
       "      <td>2018</td>\n",
       "      <td>False</td>\n",
       "      <td>Offseason</td>\n",
       "      <td>1973-05-24</td>\n",
       "      <td>1997-04-04</td>\n",
       "      <td>Dominican Republic</td>\n",
       "      <td>129.27372</td>\n",
       "      <td>Pitcher</td>\n",
       "      <td>1.8034</td>\n",
       "      <td>39.748992</td>\n",
       "    </tr>\n",
       "  </tbody>\n",
       "</table>\n",
       "<p>5 rows × 111 columns</p>\n",
       "</div>"
      ],
      "text/plain": [
       "   playerId   target1   target2   target3    target4       date  home  \\\n",
       "0    112526  0.055277  5.496109  0.025839  16.176471 2018-01-01   NaN   \n",
       "1    112526  0.060625  3.252914  0.030486   8.541353 2018-01-02   NaN   \n",
       "2    112526  0.029341  1.648352  0.032613  10.490112 2018-01-03   NaN   \n",
       "3    112526  0.014799  2.665894  0.087422  19.091467 2018-01-04   NaN   \n",
       "4    112526  0.083916  1.161002  0.024759   6.643880 2018-01-05   NaN   \n",
       "\n",
       "  gameType  isTie  gamesInSeries  ...  year  inSeason  seasonPart        DOB  \\\n",
       "0      NaN    NaN            NaN  ...  2018     False   Offseason 1973-05-24   \n",
       "1      NaN    NaN            NaN  ...  2018     False   Offseason 1973-05-24   \n",
       "2      NaN    NaN            NaN  ...  2018     False   Offseason 1973-05-24   \n",
       "3      NaN    NaN            NaN  ...  2018     False   Offseason 1973-05-24   \n",
       "4      NaN    NaN            NaN  ...  2018     False   Offseason 1973-05-24   \n",
       "\n",
       "   mlbDebutDate        birthCountry     weight  primaryPositionName  height  \\\n",
       "0    1997-04-04  Dominican Republic  129.27372              Pitcher  1.8034   \n",
       "1    1997-04-04  Dominican Republic  129.27372              Pitcher  1.8034   \n",
       "2    1997-04-04  Dominican Republic  129.27372              Pitcher  1.8034   \n",
       "3    1997-04-04  Dominican Republic  129.27372              Pitcher  1.8034   \n",
       "4    1997-04-04  Dominican Republic  129.27372              Pitcher  1.8034   \n",
       "\n",
       "   playerBMI  \n",
       "0  39.748992  \n",
       "1  39.748992  \n",
       "2  39.748992  \n",
       "3  39.748992  \n",
       "4  39.748992  \n",
       "\n",
       "[5 rows x 111 columns]"
      ]
     },
     "execution_count": 14,
     "metadata": {},
     "output_type": "execute_result"
    }
   ],
   "source": [
    "df.head()"
   ]
  },
  {
   "cell_type": "code",
   "execution_count": 15,
   "id": "db71b55d",
   "metadata": {},
   "outputs": [],
   "source": [
    "### time and player data \n",
    "\n",
    "_players = pd.read_csv(RAW_PATH / 'players.csv')\n",
    "\n",
    "_players['playerForTestSetAndFuturePreds'].fillna(False, inplace=True)\n",
    "\n",
    "player_in_test = _players.query('playerForTestSetAndFuturePreds')['playerId']"
   ]
  },
  {
   "cell_type": "code",
   "execution_count": 16,
   "id": "2b762ad1",
   "metadata": {},
   "outputs": [],
   "source": [
    "from data.util import filter_by_date, filter_by_id"
   ]
  },
  {
   "cell_type": "code",
   "execution_count": 17,
   "id": "c4a338d6",
   "metadata": {},
   "outputs": [],
   "source": [
    "# filter only test players\n",
    "df = filter_by_id(df, player_in_test)"
   ]
  },
  {
   "cell_type": "code",
   "execution_count": 18,
   "id": "760b158c",
   "metadata": {},
   "outputs": [],
   "source": [
    "# if you want to run on a sample,\n",
    "# change sample_size to the number of players in the sample\n",
    "sample_size = 10\n",
    "# sample_size = None\n",
    "\n",
    "if sample_size is not None and sample_size > 0:\n",
    "    df['target_avg'] = df[[f'target{i}' for i in range(1, 5)]].mean(axis=1)\n",
    "    playerList = df.groupby(['playerId'])['target_avg'].std().sort_values(ascending=False).reset_index()\n",
    "    df = filter_by_id(df, playerList['playerId'].head(sample_size))\n",
    "    df.drop('target_avg', axis=1, inplace=True)"
   ]
  },
  {
   "cell_type": "code",
   "execution_count": 19,
   "id": "bf1d0cbd",
   "metadata": {},
   "outputs": [
    {
     "data": {
      "text/plain": [
       "10"
      ]
     },
     "execution_count": 19,
     "metadata": {},
     "output_type": "execute_result"
    }
   ],
   "source": [
    "df.playerId.nunique()"
   ]
  },
  {
   "cell_type": "code",
   "execution_count": 20,
   "id": "543bdcd5",
   "metadata": {},
   "outputs": [],
   "source": [
    "# player stats"
   ]
  },
  {
   "cell_type": "code",
   "execution_count": 21,
   "id": "3b672b7e",
   "metadata": {},
   "outputs": [
    {
     "data": {
      "text/html": [
       "<div>\n",
       "<style scoped>\n",
       "    .dataframe tbody tr th:only-of-type {\n",
       "        vertical-align: middle;\n",
       "    }\n",
       "\n",
       "    .dataframe tbody tr th {\n",
       "        vertical-align: top;\n",
       "    }\n",
       "\n",
       "    .dataframe thead th {\n",
       "        text-align: right;\n",
       "    }\n",
       "</style>\n",
       "<table border=\"1\" class=\"dataframe\">\n",
       "  <thead>\n",
       "    <tr style=\"text-align: right;\">\n",
       "      <th></th>\n",
       "      <th>playerId</th>\n",
       "      <th>target1</th>\n",
       "      <th>target2</th>\n",
       "      <th>target3</th>\n",
       "      <th>target4</th>\n",
       "      <th>date</th>\n",
       "      <th>home</th>\n",
       "      <th>gameType</th>\n",
       "      <th>isTie</th>\n",
       "      <th>gamesInSeries</th>\n",
       "      <th>...</th>\n",
       "      <th>year</th>\n",
       "      <th>inSeason</th>\n",
       "      <th>seasonPart</th>\n",
       "      <th>DOB</th>\n",
       "      <th>mlbDebutDate</th>\n",
       "      <th>birthCountry</th>\n",
       "      <th>weight</th>\n",
       "      <th>primaryPositionName</th>\n",
       "      <th>height</th>\n",
       "      <th>playerBMI</th>\n",
       "    </tr>\n",
       "  </thead>\n",
       "  <tbody>\n",
       "    <tr>\n",
       "      <th>0</th>\n",
       "      <td>519317</td>\n",
       "      <td>0.974327</td>\n",
       "      <td>56.177043</td>\n",
       "      <td>13.693746</td>\n",
       "      <td>64.166667</td>\n",
       "      <td>2018-01-01</td>\n",
       "      <td>NaN</td>\n",
       "      <td>NaN</td>\n",
       "      <td>NaN</td>\n",
       "      <td>NaN</td>\n",
       "      <td>...</td>\n",
       "      <td>2018</td>\n",
       "      <td>False</td>\n",
       "      <td>Offseason</td>\n",
       "      <td>1989-11-08</td>\n",
       "      <td>2010-06-08</td>\n",
       "      <td>USA</td>\n",
       "      <td>111.13004</td>\n",
       "      <td>Designated Hitter</td>\n",
       "      <td>1.9812</td>\n",
       "      <td>28.312279</td>\n",
       "    </tr>\n",
       "    <tr>\n",
       "      <th>1</th>\n",
       "      <td>519317</td>\n",
       "      <td>0.743145</td>\n",
       "      <td>31.715912</td>\n",
       "      <td>11.397756</td>\n",
       "      <td>47.248120</td>\n",
       "      <td>2018-01-02</td>\n",
       "      <td>NaN</td>\n",
       "      <td>NaN</td>\n",
       "      <td>NaN</td>\n",
       "      <td>NaN</td>\n",
       "      <td>...</td>\n",
       "      <td>2018</td>\n",
       "      <td>False</td>\n",
       "      <td>Offseason</td>\n",
       "      <td>1989-11-08</td>\n",
       "      <td>2010-06-08</td>\n",
       "      <td>USA</td>\n",
       "      <td>111.13004</td>\n",
       "      <td>Designated Hitter</td>\n",
       "      <td>1.9812</td>\n",
       "      <td>28.312279</td>\n",
       "    </tr>\n",
       "    <tr>\n",
       "      <th>2</th>\n",
       "      <td>519317</td>\n",
       "      <td>0.741518</td>\n",
       "      <td>30.998168</td>\n",
       "      <td>25.975685</td>\n",
       "      <td>79.879622</td>\n",
       "      <td>2018-01-03</td>\n",
       "      <td>NaN</td>\n",
       "      <td>NaN</td>\n",
       "      <td>NaN</td>\n",
       "      <td>NaN</td>\n",
       "      <td>...</td>\n",
       "      <td>2018</td>\n",
       "      <td>False</td>\n",
       "      <td>Offseason</td>\n",
       "      <td>1989-11-08</td>\n",
       "      <td>2010-06-08</td>\n",
       "      <td>USA</td>\n",
       "      <td>111.13004</td>\n",
       "      <td>Designated Hitter</td>\n",
       "      <td>1.9812</td>\n",
       "      <td>28.312279</td>\n",
       "    </tr>\n",
       "    <tr>\n",
       "      <th>3</th>\n",
       "      <td>519317</td>\n",
       "      <td>0.434217</td>\n",
       "      <td>40.828745</td>\n",
       "      <td>6.552563</td>\n",
       "      <td>86.740331</td>\n",
       "      <td>2018-01-04</td>\n",
       "      <td>NaN</td>\n",
       "      <td>NaN</td>\n",
       "      <td>NaN</td>\n",
       "      <td>NaN</td>\n",
       "      <td>...</td>\n",
       "      <td>2018</td>\n",
       "      <td>False</td>\n",
       "      <td>Offseason</td>\n",
       "      <td>1989-11-08</td>\n",
       "      <td>2010-06-08</td>\n",
       "      <td>USA</td>\n",
       "      <td>111.13004</td>\n",
       "      <td>Designated Hitter</td>\n",
       "      <td>1.9812</td>\n",
       "      <td>28.312279</td>\n",
       "    </tr>\n",
       "    <tr>\n",
       "      <th>4</th>\n",
       "      <td>519317</td>\n",
       "      <td>1.700575</td>\n",
       "      <td>20.981956</td>\n",
       "      <td>26.427778</td>\n",
       "      <td>34.202094</td>\n",
       "      <td>2018-01-05</td>\n",
       "      <td>NaN</td>\n",
       "      <td>NaN</td>\n",
       "      <td>NaN</td>\n",
       "      <td>NaN</td>\n",
       "      <td>...</td>\n",
       "      <td>2018</td>\n",
       "      <td>False</td>\n",
       "      <td>Offseason</td>\n",
       "      <td>1989-11-08</td>\n",
       "      <td>2010-06-08</td>\n",
       "      <td>USA</td>\n",
       "      <td>111.13004</td>\n",
       "      <td>Designated Hitter</td>\n",
       "      <td>1.9812</td>\n",
       "      <td>28.312279</td>\n",
       "    </tr>\n",
       "  </tbody>\n",
       "</table>\n",
       "<p>5 rows × 111 columns</p>\n",
       "</div>"
      ],
      "text/plain": [
       "   playerId   target1    target2    target3    target4       date  home  \\\n",
       "0    519317  0.974327  56.177043  13.693746  64.166667 2018-01-01   NaN   \n",
       "1    519317  0.743145  31.715912  11.397756  47.248120 2018-01-02   NaN   \n",
       "2    519317  0.741518  30.998168  25.975685  79.879622 2018-01-03   NaN   \n",
       "3    519317  0.434217  40.828745   6.552563  86.740331 2018-01-04   NaN   \n",
       "4    519317  1.700575  20.981956  26.427778  34.202094 2018-01-05   NaN   \n",
       "\n",
       "  gameType  isTie  gamesInSeries  ...  year  inSeason  seasonPart        DOB  \\\n",
       "0      NaN    NaN            NaN  ...  2018     False   Offseason 1989-11-08   \n",
       "1      NaN    NaN            NaN  ...  2018     False   Offseason 1989-11-08   \n",
       "2      NaN    NaN            NaN  ...  2018     False   Offseason 1989-11-08   \n",
       "3      NaN    NaN            NaN  ...  2018     False   Offseason 1989-11-08   \n",
       "4      NaN    NaN            NaN  ...  2018     False   Offseason 1989-11-08   \n",
       "\n",
       "   mlbDebutDate  birthCountry     weight  primaryPositionName  height  \\\n",
       "0    2010-06-08           USA  111.13004    Designated Hitter  1.9812   \n",
       "1    2010-06-08           USA  111.13004    Designated Hitter  1.9812   \n",
       "2    2010-06-08           USA  111.13004    Designated Hitter  1.9812   \n",
       "3    2010-06-08           USA  111.13004    Designated Hitter  1.9812   \n",
       "4    2010-06-08           USA  111.13004    Designated Hitter  1.9812   \n",
       "\n",
       "   playerBMI  \n",
       "0  28.312279  \n",
       "1  28.312279  \n",
       "2  28.312279  \n",
       "3  28.312279  \n",
       "4  28.312279  \n",
       "\n",
       "[5 rows x 111 columns]"
      ]
     },
     "execution_count": 21,
     "metadata": {},
     "output_type": "execute_result"
    }
   ],
   "source": [
    "df.head()"
   ]
  },
  {
   "cell_type": "code",
   "execution_count": 22,
   "id": "270f65a5",
   "metadata": {},
   "outputs": [
    {
     "data": {
      "text/plain": [
       "['playerId',\n",
       " 'target1',\n",
       " 'target2',\n",
       " 'target3',\n",
       " 'target4',\n",
       " 'date',\n",
       " 'home',\n",
       " 'gameType',\n",
       " 'isTie',\n",
       " 'gamesInSeries',\n",
       " 'playerTeamWins',\n",
       " 'playerTeamLosses',\n",
       " 'playerTeamWinPct',\n",
       " 'playerTeamWinner',\n",
       " 'playerTeamScore',\n",
       " 'opponentTeamId',\n",
       " 'opponentTeamWins',\n",
       " 'opponentTeamLosses',\n",
       " 'opponentTeamWinPct',\n",
       " 'opponentTeamScore',\n",
       " 'teamScoreDiff',\n",
       " 'pstatsDate',\n",
       " 'battingOrder',\n",
       " 'gamesPlayedBatting',\n",
       " 'flyOuts',\n",
       " 'groundOuts',\n",
       " 'runsScored',\n",
       " 'doubles',\n",
       " 'triples',\n",
       " 'homeRuns',\n",
       " 'strikeOuts',\n",
       " 'baseOnBalls',\n",
       " 'intentionalWalks',\n",
       " 'hits',\n",
       " 'hitByPitch',\n",
       " 'atBats',\n",
       " 'caughtStealing',\n",
       " 'stolenBases',\n",
       " 'groundIntoDoublePlay',\n",
       " 'groundIntoTriplePlay',\n",
       " 'plateAppearances',\n",
       " 'totalBases',\n",
       " 'rbi',\n",
       " 'leftOnBase',\n",
       " 'sacBunts',\n",
       " 'sacFlies',\n",
       " 'catchersInterference',\n",
       " 'pickoffs',\n",
       " 'gamesPlayedPitching',\n",
       " 'gamesStartedPitching',\n",
       " 'completeGamesPitching',\n",
       " 'shutoutsPitching',\n",
       " 'winsPitching',\n",
       " 'lossesPitching',\n",
       " 'flyOutsPitching',\n",
       " 'airOutsPitching',\n",
       " 'groundOutsPitching',\n",
       " 'runsPitching',\n",
       " 'doublesPitching',\n",
       " 'triplesPitching',\n",
       " 'homeRunsPitching',\n",
       " 'strikeOutsPitching',\n",
       " 'baseOnBallsPitching',\n",
       " 'intentionalWalksPitching',\n",
       " 'hitsPitching',\n",
       " 'hitByPitchPitching',\n",
       " 'atBatsPitching',\n",
       " 'caughtStealingPitching',\n",
       " 'stolenBasesPitching',\n",
       " 'inningsPitched',\n",
       " 'saveOpportunities',\n",
       " 'earnedRuns',\n",
       " 'battersFaced',\n",
       " 'outsPitching',\n",
       " 'pitchesThrown',\n",
       " 'balls',\n",
       " 'strikes',\n",
       " 'hitBatsmen',\n",
       " 'balks',\n",
       " 'wildPitches',\n",
       " 'pickoffsPitching',\n",
       " 'rbiPitching',\n",
       " 'gamesFinishedPitching',\n",
       " 'inheritedRunners',\n",
       " 'inheritedRunnersScored',\n",
       " 'catchersInterferencePitching',\n",
       " 'sacBuntsPitching',\n",
       " 'sacFliesPitching',\n",
       " 'saves',\n",
       " 'holds',\n",
       " 'blownSaves',\n",
       " 'assists',\n",
       " 'putOuts',\n",
       " 'errors',\n",
       " 'chances',\n",
       " 'rosterDate',\n",
       " 'teamId',\n",
       " 'status',\n",
       " 'numberOfFollowers',\n",
       " 'awardId',\n",
       " 'teamFollowers',\n",
       " 'year',\n",
       " 'inSeason',\n",
       " 'seasonPart',\n",
       " 'DOB',\n",
       " 'mlbDebutDate',\n",
       " 'birthCountry',\n",
       " 'weight',\n",
       " 'primaryPositionName',\n",
       " 'height',\n",
       " 'playerBMI']"
      ]
     },
     "execution_count": 22,
     "metadata": {},
     "output_type": "execute_result"
    }
   ],
   "source": [
    "list(df.columns)"
   ]
  },
  {
   "cell_type": "code",
   "execution_count": 23,
   "id": "699f1159",
   "metadata": {},
   "outputs": [],
   "source": [
    "### preprocessing with pipelines\n",
    "\n",
    "from typing import List\n",
    "def forward_fill(df: pd.DataFrame, features: List[str],\n",
    "                 on='playerId',\n",
    "                 suffix: str = None,\n",
    "                 limit: int =None):\n",
    "    ffilled_df = df.groupby(on)[features].ffill(limit=limit)\n",
    "    output_features = (features if suffix is None else\n",
    "                       list(map(lambda f: suffix + f, features)))\n",
    "    outputX = df.copy()\n",
    "    outputX.loc[:, output_features] = ffilled_df.to_numpy()\n",
    "    return outputX\n",
    "\n",
    "def gen_hardcoded_features(df: pd.DataFrame):\n",
    "    # some feature eng for the dates\n",
    "    df['pstatsTime'] = (df['date'] - pd.to_datetime(df['pstatsDate'])).dt.total_seconds()\n",
    "    df['playerAge'] = (df['date'] - df['DOB']).dt.total_seconds()\n",
    "    df['playerTSinceDebut'] = (df['date'] - df['mlbDebutDate']).dt.total_seconds()\n",
    "    df['playerDebutAge'] = (df['mlbDebutDate'] - df['DOB']).dt.total_seconds()\n",
    "    df['rostersTime'] = (df['date'] - pd.to_datetime(df['rosterDate'])).dt.total_seconds()\n",
    "    df[['rostersTime', 'pstatsTime']] /= 60 * 60 * 24\n",
    "    # normalize\n",
    "    df[['playerAge', 'playerTSinceDebut', 'playerDebutAge']] /= 60 * 60 * 24 * 365\n",
    "    df['AwardWinner'] = df['awardId'].isna().astype(np.float64)\n",
    "    return df\n",
    "\n",
    "def fillna(df: pd.DataFrame, fill_value=-1):\n",
    "    return df.fillna(-1)"
   ]
  },
  {
   "cell_type": "code",
   "execution_count": 24,
   "id": "6a66f778",
   "metadata": {},
   "outputs": [],
   "source": [
    "from pipeline.core import FunctionTransformer, Pipeline, PdColumnTransformer, PdFeatureUnion\n",
    "from pipeline.continuous import PdScaleNorm, FilterContinuousFeatures, MedianFillNaN\n",
    "from pipeline.stats import StatisticGen, LagGen, FeaturesTable\n",
    "from pipeline.categories import Categorify\n",
    "from pipeline.season import join_season_info\n",
    "from pipeline.players import join_players_info"
   ]
  },
  {
   "cell_type": "code",
   "execution_count": 25,
   "id": "d8ea2a96",
   "metadata": {},
   "outputs": [],
   "source": [
    "last_ffill_features = ['gameType',\n",
    " 'isTie',\n",
    " 'gamesInSeries',\n",
    " 'playerTeamWins',\n",
    " 'playerTeamLosses',\n",
    " 'playerTeamWinPct',\n",
    " 'playerTeamWinner',\n",
    " 'playerTeamScore',\n",
    " 'opponentTeamWins',\n",
    " 'opponentTeamLosses',\n",
    " 'opponentTeamWinPct',\n",
    " 'opponentTeamScore',\n",
    " 'teamScoreDiff',\n",
    " 'opponentTeamId'] + ['battingOrder', 'gamesPlayedBatting', 'flyOuts', 'groundOuts',\n",
    "       'runsScored', 'doubles', 'triples', 'homeRuns', 'strikeOuts',\n",
    "       'baseOnBalls', 'intentionalWalks', 'hits', 'hitByPitch', 'atBats',\n",
    "       'caughtStealing', 'stolenBases', 'groundIntoDoublePlay',\n",
    "       'groundIntoTriplePlay', 'plateAppearances', 'totalBases', 'rbi',\n",
    "       'leftOnBase', 'sacBunts', 'sacFlies', 'catchersInterference',\n",
    "       'pickoffs', 'gamesPlayedPitching', 'gamesStartedPitching',\n",
    "       'completeGamesPitching', 'shutoutsPitching', 'winsPitching',\n",
    "       'lossesPitching', 'flyOutsPitching', 'airOutsPitching',\n",
    "       'groundOutsPitching', 'runsPitching', 'doublesPitching',\n",
    "       'triplesPitching', 'homeRunsPitching', 'strikeOutsPitching',\n",
    "       'baseOnBallsPitching', 'intentionalWalksPitching', 'hitsPitching',\n",
    "       'hitByPitchPitching', 'atBatsPitching', 'caughtStealingPitching',\n",
    "       'stolenBasesPitching', 'inningsPitched', 'saveOpportunities',\n",
    "       'earnedRuns', 'battersFaced', 'outsPitching', 'pitchesThrown', 'balls',\n",
    "       'strikes', 'hitBatsmen', 'balks', 'wildPitches', 'pickoffsPitching',\n",
    "       'rbiPitching', 'gamesFinishedPitching', 'inheritedRunners',\n",
    "       'inheritedRunnersScored', 'catchersInterferencePitching',\n",
    "       'sacBuntsPitching', 'sacFliesPitching', 'saves', 'holds', 'blownSaves',\n",
    "       'assists', 'putOuts', 'errors', 'chances']\n",
    "                          \n",
    "                          \n",
    "inplace_ffill_features = ['numberOfFollowers',\n",
    "                          'teamFollowers',\n",
    "                          'status',\n",
    "                          'teamId',\n",
    "                          'rosterDate',\n",
    "                          'pstatsDate']\n",
    "\n",
    "# transformer for filling nan values with past valid values\n",
    "# transformer for generating some hardcoded features\n",
    "inplace_fill_forward_tmf = FunctionTransformer(forward_fill,\n",
    "                                               kw_args={'features': inplace_ffill_features})\n",
    "last_fill_forward_tmf = FunctionTransformer(forward_fill,\n",
    "                                            kw_args={'features': last_ffill_features,\n",
    "                                                     'suffix': 'last_'})\n",
    "join_players_tmf = FunctionTransformer(join_players_info, kw_args={'path_to_players': RAW_PATH / 'players.csv'})\n",
    "harcoded_feat_tmf = FunctionTransformer(gen_hardcoded_features)\n",
    "\n",
    "# creating pipeline\n",
    "ffill_and_gen_harcoded_feat = Pipeline([('inplace_fill_forward', inplace_fill_forward_tmf),\n",
    "                                       ('last_fill_forward', last_fill_forward_tmf),\n",
    "                                       ('hardcoded_feat', harcoded_feat_tmf)])"
   ]
  },
  {
   "cell_type": "code",
   "execution_count": 26,
   "id": "e0f9d66a",
   "metadata": {},
   "outputs": [],
   "source": [
    "# features to use for target preprocessing\n",
    "target_cols = ['target1', 'target2', 'target3', 'target4']\n",
    "index_cols = ['date', 'playerId']\n",
    "pp_cols = target_cols + index_cols"
   ]
  },
  {
   "cell_type": "code",
   "execution_count": 27,
   "id": "46b71791",
   "metadata": {},
   "outputs": [],
   "source": [
    "# categories encoding\n",
    "categories = ['playerId', 'seasonPart', 'year', 'primaryPositionName',\n",
    "              'status', 'teamId', 'awardId', 'gameType',\n",
    "              'opponentTeamId', 'home', 'last_opponentTeamId', 'last_gameType']\n",
    "\n",
    "categories_tmf = PdColumnTransformer([(category, Categorify(add_nan=True), category)\n",
    "                                       for category in categories])"
   ]
  },
  {
   "cell_type": "code",
   "execution_count": 28,
   "id": "eaca86a2",
   "metadata": {},
   "outputs": [],
   "source": [
    "# for the statistics, we will compute them and then resuse them\n",
    "stats_gen_tmf = StatisticGen(stats=['mean', 'median', 'std'], windows=[90], drop_index=False)\n",
    "target_stats_tmf = PdColumnTransformer([('gen_stats', stats_gen_tmf, pp_cols)])\n",
    "target_stats_table = target_stats_tmf.fit_transform(df)"
   ]
  },
  {
   "cell_type": "code",
   "execution_count": 29,
   "id": "61084f67",
   "metadata": {},
   "outputs": [
    {
     "data": {
      "text/html": [
       "<div>\n",
       "<style scoped>\n",
       "    .dataframe tbody tr th:only-of-type {\n",
       "        vertical-align: middle;\n",
       "    }\n",
       "\n",
       "    .dataframe tbody tr th {\n",
       "        vertical-align: top;\n",
       "    }\n",
       "\n",
       "    .dataframe thead th {\n",
       "        text-align: right;\n",
       "    }\n",
       "</style>\n",
       "<table border=\"1\" class=\"dataframe\">\n",
       "  <thead>\n",
       "    <tr style=\"text-align: right;\">\n",
       "      <th></th>\n",
       "      <th>playerId</th>\n",
       "      <th>date</th>\n",
       "      <th>target1__mean__90d</th>\n",
       "      <th>target1__median__90d</th>\n",
       "      <th>target1__std__90d</th>\n",
       "      <th>target2__mean__90d</th>\n",
       "      <th>target2__median__90d</th>\n",
       "      <th>target2__std__90d</th>\n",
       "      <th>target3__mean__90d</th>\n",
       "      <th>target3__median__90d</th>\n",
       "      <th>target3__std__90d</th>\n",
       "      <th>target4__mean__90d</th>\n",
       "      <th>target4__median__90d</th>\n",
       "      <th>target4__std__90d</th>\n",
       "    </tr>\n",
       "  </thead>\n",
       "  <tbody>\n",
       "    <tr>\n",
       "      <th>0</th>\n",
       "      <td>519317</td>\n",
       "      <td>2018-01-01</td>\n",
       "      <td>0.974327</td>\n",
       "      <td>0.974327</td>\n",
       "      <td>NaN</td>\n",
       "      <td>56.177044</td>\n",
       "      <td>56.177044</td>\n",
       "      <td>NaN</td>\n",
       "      <td>13.693746</td>\n",
       "      <td>13.693746</td>\n",
       "      <td>NaN</td>\n",
       "      <td>64.166664</td>\n",
       "      <td>64.166664</td>\n",
       "      <td>NaN</td>\n",
       "    </tr>\n",
       "    <tr>\n",
       "      <th>1</th>\n",
       "      <td>519317</td>\n",
       "      <td>2018-01-02</td>\n",
       "      <td>0.858736</td>\n",
       "      <td>0.858736</td>\n",
       "      <td>0.163470</td>\n",
       "      <td>43.946476</td>\n",
       "      <td>43.946476</td>\n",
       "      <td>17.296631</td>\n",
       "      <td>12.545751</td>\n",
       "      <td>12.545751</td>\n",
       "      <td>1.623510</td>\n",
       "      <td>55.707394</td>\n",
       "      <td>55.707394</td>\n",
       "      <td>11.963219</td>\n",
       "    </tr>\n",
       "    <tr>\n",
       "      <th>2</th>\n",
       "      <td>519317</td>\n",
       "      <td>2018-01-03</td>\n",
       "      <td>0.819663</td>\n",
       "      <td>0.743145</td>\n",
       "      <td>0.133945</td>\n",
       "      <td>39.630375</td>\n",
       "      <td>31.715912</td>\n",
       "      <td>14.334328</td>\n",
       "      <td>17.022396</td>\n",
       "      <td>13.693746</td>\n",
       "      <td>7.838299</td>\n",
       "      <td>63.764801</td>\n",
       "      <td>64.166664</td>\n",
       "      <td>16.319462</td>\n",
       "    </tr>\n",
       "    <tr>\n",
       "      <th>3</th>\n",
       "      <td>519317</td>\n",
       "      <td>2018-01-04</td>\n",
       "      <td>0.723302</td>\n",
       "      <td>0.742332</td>\n",
       "      <td>0.221592</td>\n",
       "      <td>39.929966</td>\n",
       "      <td>36.272327</td>\n",
       "      <td>11.719257</td>\n",
       "      <td>14.404937</td>\n",
       "      <td>12.545751</td>\n",
       "      <td>8.268230</td>\n",
       "      <td>69.508682</td>\n",
       "      <td>72.023148</td>\n",
       "      <td>17.593142</td>\n",
       "    </tr>\n",
       "    <tr>\n",
       "      <th>4</th>\n",
       "      <td>519317</td>\n",
       "      <td>2018-01-05</td>\n",
       "      <td>0.918756</td>\n",
       "      <td>0.743145</td>\n",
       "      <td>0.477326</td>\n",
       "      <td>36.140366</td>\n",
       "      <td>31.715912</td>\n",
       "      <td>13.221618</td>\n",
       "      <td>16.809505</td>\n",
       "      <td>13.693746</td>\n",
       "      <td>8.954467</td>\n",
       "      <td>62.447369</td>\n",
       "      <td>64.166664</td>\n",
       "      <td>21.941971</td>\n",
       "    </tr>\n",
       "  </tbody>\n",
       "</table>\n",
       "</div>"
      ],
      "text/plain": [
       "   playerId       date  target1__mean__90d  target1__median__90d  \\\n",
       "0    519317 2018-01-01            0.974327              0.974327   \n",
       "1    519317 2018-01-02            0.858736              0.858736   \n",
       "2    519317 2018-01-03            0.819663              0.743145   \n",
       "3    519317 2018-01-04            0.723302              0.742332   \n",
       "4    519317 2018-01-05            0.918756              0.743145   \n",
       "\n",
       "   target1__std__90d  target2__mean__90d  target2__median__90d  \\\n",
       "0                NaN           56.177044             56.177044   \n",
       "1           0.163470           43.946476             43.946476   \n",
       "2           0.133945           39.630375             31.715912   \n",
       "3           0.221592           39.929966             36.272327   \n",
       "4           0.477326           36.140366             31.715912   \n",
       "\n",
       "   target2__std__90d  target3__mean__90d  target3__median__90d  \\\n",
       "0                NaN           13.693746             13.693746   \n",
       "1          17.296631           12.545751             12.545751   \n",
       "2          14.334328           17.022396             13.693746   \n",
       "3          11.719257           14.404937             12.545751   \n",
       "4          13.221618           16.809505             13.693746   \n",
       "\n",
       "   target3__std__90d  target4__mean__90d  target4__median__90d  \\\n",
       "0                NaN           64.166664             64.166664   \n",
       "1           1.623510           55.707394             55.707394   \n",
       "2           7.838299           63.764801             64.166664   \n",
       "3           8.268230           69.508682             72.023148   \n",
       "4           8.954467           62.447369             64.166664   \n",
       "\n",
       "   target4__std__90d  \n",
       "0                NaN  \n",
       "1          11.963219  \n",
       "2          16.319462  \n",
       "3          17.593142  \n",
       "4          21.941971  "
      ]
     },
     "execution_count": 29,
     "metadata": {},
     "output_type": "execute_result"
    }
   ],
   "source": [
    "target_stats_table.head()"
   ]
  },
  {
   "cell_type": "code",
   "execution_count": 30,
   "id": "14626638",
   "metadata": {},
   "outputs": [],
   "source": [
    "from sklearn.preprocessing import KBinsDiscretizer\n",
    "from sklearn.base import BaseEstimator, TransformerMixin\n",
    "\n",
    "class PdVectorDiscretizer(KBinsDiscretizer):\n",
    "    def __init__(self, n_bins: int, strategy: str = 'quantile'):\n",
    "        super().__init__(n_bins=n_bins, strategy=strategy, encode='ordinal')\n",
    "        \n",
    "    def to_matrix(self, X: pd.Series):\n",
    "        X = X.dropna().to_numpy()\n",
    "        X = X[:, None]\n",
    "        return X\n",
    "    \n",
    "    def fit(self, X: pd.Series, y=None):\n",
    "        X = self.to_matrix(X)\n",
    "        return super().fit(X, y)\n",
    "\n",
    "    def transform(self, X: pd.Series):\n",
    "        notnan = X.notna()\n",
    "        outputX = np.zeros((len(X), 1)).astype(np.int64)\n",
    "\n",
    "        if notnan.sum() > 0:\n",
    "            Xm = self.to_matrix(X)\n",
    "            discreteX = super().transform(Xm).astype(np.int64)\n",
    "            discreteX += 1\n",
    "            outputX[notnan] = discreteX\n",
    "        outputX = pd.DataFrame(outputX, columns=[X.name])\n",
    "        return outputX\n",
    "\n",
    "class PdDiscretizer(BaseEstimator, TransformerMixin):\n",
    "    def __init__(self, n_bins: int, strategy: str = 'quantile'):\n",
    "        self.n_bins=n_bins\n",
    "        self.strategy=strategy\n",
    "    \n",
    "    def fit(self, X: pd.DataFrame, y=None):\n",
    "        tmfs = {}\n",
    "        for feature in X:\n",
    "            tmf = PdVectorDiscretizer(self.n_bins, self.strategy)\n",
    "            tmfs[feature] = tmf.fit(X.loc[:, feature])\n",
    "        self.tmfs = tmfs\n",
    "        return self\n",
    "\n",
    "    def transform(self, X: pd.DataFrame):\n",
    "        return pd.concat([tmf.transform(X.loc[:, feature])\n",
    "                          for feature, tmf in self.tmfs.items()], axis=1)"
   ]
  },
  {
   "cell_type": "code",
   "execution_count": 31,
   "id": "6dfcfd01",
   "metadata": {},
   "outputs": [],
   "source": [
    "from itertools import combinations\n",
    "from typing import List, Union\n",
    "\n",
    "class SingleInteractionComputer:\n",
    "    def __init__(self, features: List[Union[int, str]],\n",
    "                 fill_nan: str = 'NaN'):\n",
    "        self.features = list(features)\n",
    "        self.fill_nan = fill_nan\n",
    "        self.interaction_name = 'X'.join(self.features)\n",
    "        \n",
    "    def compute_matrices(self, X: pd.DataFrame):\n",
    "        return X.loc[:, self.features].fillna(self.fill_nan)\n",
    "        \n",
    "    def fit(self, X: pd.DataFrame):\n",
    "        X = self.compute_matrices(X)\n",
    "        table = X.drop_duplicates()\n",
    "        table.loc[:, self.interaction_name] = np.arange(len(table))\n",
    "        self.table = table\n",
    "        \n",
    "    def transform(self, X: pd.DataFrame):\n",
    "        outputX = self.compute_matrices(X)\n",
    "        outputX = outputX.merge(self.table, on=self.features, how='left')\n",
    "        outputX.drop(self.features, axis=1, inplace=True)\n",
    "        assert len(outputX) == len(X)\n",
    "        assert len(outputX.columns) == 1\n",
    "        return outputX\n",
    "        \n",
    "\n",
    "class InteractionEncoder(BaseEstimator, TransformerMixin):\n",
    "    def __init__(self, iteraction_level: int = 2):\n",
    "        self.iteraction_level = iteraction_level\n",
    "        \n",
    "    def gen_interaction_indexes(self, features: List[Union[int, str]]):\n",
    "        interactions = []\n",
    "        for level in range(2, self.iteraction_level+1):\n",
    "            combination = list(combinations(features, level))\n",
    "            interactions += combination\n",
    "        return interactions\n",
    "    \n",
    "    def fit(self, X: pd.DataFrame, y = None):\n",
    "        features = list(X.columns)\n",
    "        total_interactions = self.gen_interaction_indexes(features)\n",
    "        self.tmfs = {}\n",
    "        for interaction in total_interactions:\n",
    "            tmf = SingleInteractionComputer(interaction)\n",
    "            tmf.fit(X)\n",
    "            self.tmfs[tmf.interaction_name] = tmf\n",
    "    \n",
    "    def transform(self, X: pd.DataFrame):\n",
    "        return pd.concat([tmf.transform(X) \n",
    "                          for tmf in self.tmfs.values()], axis=1)"
   ]
  },
  {
   "cell_type": "code",
   "execution_count": 32,
   "id": "eb0176ef",
   "metadata": {},
   "outputs": [],
   "source": [
    "target_N_BINS = 25"
   ]
  },
  {
   "cell_type": "code",
   "execution_count": 33,
   "id": "750753dc",
   "metadata": {},
   "outputs": [],
   "source": [
    "## merge computed statistics\n",
    "reuse_computed_stats = Pipeline([('merge_stats', FeaturesTable(target_stats_table, lags=[60], clip_max=True)),\n",
    "                                 ('discrete', PdDiscretizer(target_N_BINS)),\n",
    "                                ])\n",
    "\n",
    "# for continuous features, we will filter them and then fill nan values and normalize them"
   ]
  },
  {
   "cell_type": "code",
   "execution_count": 34,
   "id": "7c15fcf2",
   "metadata": {},
   "outputs": [],
   "source": [
    "median_fillnan_columns = ['numberOfFollowers', 'teamFollowers',\n",
    "                          'playerDebutAge', 'playerAge', 'playerTSinceDebut']\n",
    "fillnan_median_tmf = MedianFillNaN(median_fillnan_columns)\n",
    "\n",
    "# get the rest of the continuous features\n",
    "continuous_feat_tmf = Pipeline([('get_cont_feat', FilterContinuousFeatures(ignore_features=categories +\n",
    "                                                                           pp_cols +\n",
    "                                                                           ['target_avg'])),\n",
    "                                ('discrete', PdDiscretizer(5, 'uniform')),\n",
    "                                \n",
    "                               ])"
   ]
  },
  {
   "cell_type": "code",
   "execution_count": 35,
   "id": "1780e5e8",
   "metadata": {},
   "outputs": [],
   "source": [
    "# putting all features generation steps together\n",
    "all_features_tmf = PdFeatureUnion([('stats', reuse_computed_stats), \n",
    "                                   ('cont_feat', continuous_feat_tmf), \n",
    "                                   ('cats', categories_tmf),\n",
    "                                   ])\n",
    "all_features_pipeline = Pipeline([('gen_features', all_features_tmf),\n",
    "                                  ('interaction', InteractionEncoder())])"
   ]
  },
  {
   "cell_type": "code",
   "execution_count": 36,
   "id": "0e816b42",
   "metadata": {},
   "outputs": [
    {
     "data": {
      "text/plain": [
       "Pipeline(steps=[('core_features',\n",
       "                 Pipeline(steps=[('inplace_fill_forward',\n",
       "                                  FunctionTransformer(func=<function forward_fill at 0x7f2e3064f8b0>,\n",
       "                                                      kw_args={'features': ['numberOfFollowers',\n",
       "                                                                            'teamFollowers',\n",
       "                                                                            'status',\n",
       "                                                                            'teamId',\n",
       "                                                                            'rosterDate',\n",
       "                                                                            'pstatsDate']})),\n",
       "                                 ('last_fill_forward',\n",
       "                                  FunctionTransformer(func=<function forward_fill at 0x7f2e3064f8b0>,\n",
       "                                                      kw_args={'features': ['g...\n",
       "                                                                                                       Categorify(add_nan=True),\n",
       "                                                                                                       'awardId'),\n",
       "                                                                                                      ('gameType',\n",
       "                                                                                                       Categorify(add_nan=True),\n",
       "                                                                                                       'gameType'),\n",
       "                                                                                                      ('opponentTeamId',\n",
       "                                                                                                       Categorify(add_nan=True),\n",
       "                                                                                                       'opponentTeamId'),\n",
       "                                                                                                      ('home',\n",
       "                                                                                                       Categorify(add_nan=True),\n",
       "                                                                                                       'home'),\n",
       "                                                                                                      ('last_opponentTeamId',\n",
       "                                                                                                       Categorify(add_nan=True),\n",
       "                                                                                                       'last_opponentTeamId'),\n",
       "                                                                                                      ('last_gameType',\n",
       "                                                                                                       Categorify(add_nan=True),\n",
       "                                                                                                       'last_gameType')]))])),\n",
       "                                 ('interaction', InteractionEncoder())]))])"
      ]
     },
     "execution_count": 36,
     "metadata": {},
     "output_type": "execute_result"
    }
   ],
   "source": [
    "# main pipeline with all steps \n",
    "pipeline = Pipeline([('core_features', ffill_and_gen_harcoded_feat),\n",
    "                     ('features_generation', all_features_pipeline)])\n",
    "\n",
    "pipeline"
   ]
  },
  {
   "cell_type": "code",
   "execution_count": 37,
   "id": "7aa1fcec",
   "metadata": {},
   "outputs": [],
   "source": [
    "from data.split import SplitData\n",
    "\n",
    "# split the data on 2021-03-01 with a valid ds of 61 days\n",
    "sp = SplitData(\"2021-03-01\", test_days=61)"
   ]
  },
  {
   "cell_type": "code",
   "execution_count": 38,
   "id": "bf01bd13",
   "metadata": {},
   "outputs": [],
   "source": [
    "train_idx = sp.train_idx(df)\n",
    "valid_idx = sp.valid_idx(df)"
   ]
  },
  {
   "cell_type": "code",
   "execution_count": 39,
   "id": "03572b58",
   "metadata": {},
   "outputs": [
    {
     "name": "stderr",
     "output_type": "stream",
     "text": [
      "/home/med/anaconda3/envs/mlb/lib/python3.8/site-packages/sklearn/preprocessing/_discretization.py:187: UserWarning: Feature 0 is constant and will be replaced with 0.\n",
      "  warnings.warn(\"Feature %d is constant and will be \"\n",
      "/home/med/anaconda3/envs/mlb/lib/python3.8/site-packages/sklearn/preprocessing/_discretization.py:187: UserWarning: Feature 0 is constant and will be replaced with 0.\n",
      "  warnings.warn(\"Feature %d is constant and will be \"\n",
      "/home/med/anaconda3/envs/mlb/lib/python3.8/site-packages/sklearn/preprocessing/_discretization.py:187: UserWarning: Feature 0 is constant and will be replaced with 0.\n",
      "  warnings.warn(\"Feature %d is constant and will be \"\n",
      "/home/med/anaconda3/envs/mlb/lib/python3.8/site-packages/sklearn/preprocessing/_discretization.py:187: UserWarning: Feature 0 is constant and will be replaced with 0.\n",
      "  warnings.warn(\"Feature %d is constant and will be \"\n",
      "/home/med/anaconda3/envs/mlb/lib/python3.8/site-packages/sklearn/preprocessing/_discretization.py:187: UserWarning: Feature 0 is constant and will be replaced with 0.\n",
      "  warnings.warn(\"Feature %d is constant and will be \"\n",
      "/home/med/anaconda3/envs/mlb/lib/python3.8/site-packages/sklearn/preprocessing/_discretization.py:187: UserWarning: Feature 0 is constant and will be replaced with 0.\n",
      "  warnings.warn(\"Feature %d is constant and will be \"\n",
      "/home/med/anaconda3/envs/mlb/lib/python3.8/site-packages/sklearn/preprocessing/_discretization.py:187: UserWarning: Feature 0 is constant and will be replaced with 0.\n",
      "  warnings.warn(\"Feature %d is constant and will be \"\n",
      "/home/med/anaconda3/envs/mlb/lib/python3.8/site-packages/sklearn/preprocessing/_discretization.py:187: UserWarning: Feature 0 is constant and will be replaced with 0.\n",
      "  warnings.warn(\"Feature %d is constant and will be \"\n",
      "/home/med/anaconda3/envs/mlb/lib/python3.8/site-packages/sklearn/preprocessing/_discretization.py:187: UserWarning: Feature 0 is constant and will be replaced with 0.\n",
      "  warnings.warn(\"Feature %d is constant and will be \"\n",
      "/home/med/anaconda3/envs/mlb/lib/python3.8/site-packages/sklearn/preprocessing/_discretization.py:187: UserWarning: Feature 0 is constant and will be replaced with 0.\n",
      "  warnings.warn(\"Feature %d is constant and will be \"\n",
      "/home/med/anaconda3/envs/mlb/lib/python3.8/site-packages/sklearn/preprocessing/_discretization.py:187: UserWarning: Feature 0 is constant and will be replaced with 0.\n",
      "  warnings.warn(\"Feature %d is constant and will be \"\n",
      "/home/med/anaconda3/envs/mlb/lib/python3.8/site-packages/sklearn/preprocessing/_discretization.py:187: UserWarning: Feature 0 is constant and will be replaced with 0.\n",
      "  warnings.warn(\"Feature %d is constant and will be \"\n",
      "/home/med/anaconda3/envs/mlb/lib/python3.8/site-packages/sklearn/preprocessing/_discretization.py:187: UserWarning: Feature 0 is constant and will be replaced with 0.\n",
      "  warnings.warn(\"Feature %d is constant and will be \"\n",
      "/home/med/anaconda3/envs/mlb/lib/python3.8/site-packages/sklearn/preprocessing/_discretization.py:187: UserWarning: Feature 0 is constant and will be replaced with 0.\n",
      "  warnings.warn(\"Feature %d is constant and will be \"\n",
      "/home/med/anaconda3/envs/mlb/lib/python3.8/site-packages/sklearn/preprocessing/_discretization.py:187: UserWarning: Feature 0 is constant and will be replaced with 0.\n",
      "  warnings.warn(\"Feature %d is constant and will be \"\n",
      "/home/med/anaconda3/envs/mlb/lib/python3.8/site-packages/sklearn/preprocessing/_discretization.py:187: UserWarning: Feature 0 is constant and will be replaced with 0.\n",
      "  warnings.warn(\"Feature %d is constant and will be \"\n",
      "/home/med/anaconda3/envs/mlb/lib/python3.8/site-packages/sklearn/preprocessing/_discretization.py:187: UserWarning: Feature 0 is constant and will be replaced with 0.\n",
      "  warnings.warn(\"Feature %d is constant and will be \"\n",
      "/home/med/anaconda3/envs/mlb/lib/python3.8/site-packages/sklearn/preprocessing/_discretization.py:187: UserWarning: Feature 0 is constant and will be replaced with 0.\n",
      "  warnings.warn(\"Feature %d is constant and will be \"\n",
      "/home/med/anaconda3/envs/mlb/lib/python3.8/site-packages/sklearn/preprocessing/_discretization.py:187: UserWarning: Feature 0 is constant and will be replaced with 0.\n",
      "  warnings.warn(\"Feature %d is constant and will be \"\n",
      "/home/med/anaconda3/envs/mlb/lib/python3.8/site-packages/sklearn/preprocessing/_discretization.py:187: UserWarning: Feature 0 is constant and will be replaced with 0.\n",
      "  warnings.warn(\"Feature %d is constant and will be \"\n",
      "/home/med/anaconda3/envs/mlb/lib/python3.8/site-packages/sklearn/preprocessing/_discretization.py:187: UserWarning: Feature 0 is constant and will be replaced with 0.\n",
      "  warnings.warn(\"Feature %d is constant and will be \"\n",
      "/home/med/anaconda3/envs/mlb/lib/python3.8/site-packages/sklearn/preprocessing/_discretization.py:187: UserWarning: Feature 0 is constant and will be replaced with 0.\n",
      "  warnings.warn(\"Feature %d is constant and will be \"\n",
      "/home/med/anaconda3/envs/mlb/lib/python3.8/site-packages/pandas/core/indexing.py:1597: SettingWithCopyWarning: \n",
      "A value is trying to be set on a copy of a slice from a DataFrame.\n",
      "Try using .loc[row_indexer,col_indexer] = value instead\n",
      "\n",
      "See the caveats in the documentation: https://pandas.pydata.org/pandas-docs/stable/user_guide/indexing.html#returning-a-view-versus-a-copy\n",
      "  self.obj[key] = value\n",
      "/home/med/anaconda3/envs/mlb/lib/python3.8/site-packages/pandas/core/indexing.py:1676: SettingWithCopyWarning: \n",
      "A value is trying to be set on a copy of a slice from a DataFrame.\n",
      "Try using .loc[row_indexer,col_indexer] = value instead\n",
      "\n",
      "See the caveats in the documentation: https://pandas.pydata.org/pandas-docs/stable/user_guide/indexing.html#returning-a-view-versus-a-copy\n",
      "  self._setitem_single_column(ilocs[0], value, pi)\n"
     ]
    },
    {
     "name": "stdout",
     "output_type": "stream",
     "text": [
      "CPU times: user 1min 4s, sys: 104 ms, total: 1min 4s\n",
      "Wall time: 1min 4s\n"
     ]
    },
    {
     "data": {
      "text/plain": [
       "Pipeline(steps=[('core_features',\n",
       "                 Pipeline(steps=[('inplace_fill_forward',\n",
       "                                  FunctionTransformer(func=<function forward_fill at 0x7f2e3064f8b0>,\n",
       "                                                      kw_args={'features': ['numberOfFollowers',\n",
       "                                                                            'teamFollowers',\n",
       "                                                                            'status',\n",
       "                                                                            'teamId',\n",
       "                                                                            'rosterDate',\n",
       "                                                                            'pstatsDate']})),\n",
       "                                 ('last_fill_forward',\n",
       "                                  FunctionTransformer(func=<function forward_fill at 0x7f2e3064f8b0>,\n",
       "                                                      kw_args={'features': ['g...\n",
       "                                                                                                       Categorify(add_nan=True),\n",
       "                                                                                                       'awardId'),\n",
       "                                                                                                      ('gameType',\n",
       "                                                                                                       Categorify(add_nan=True),\n",
       "                                                                                                       'gameType'),\n",
       "                                                                                                      ('opponentTeamId',\n",
       "                                                                                                       Categorify(add_nan=True),\n",
       "                                                                                                       'opponentTeamId'),\n",
       "                                                                                                      ('home',\n",
       "                                                                                                       Categorify(add_nan=True),\n",
       "                                                                                                       'home'),\n",
       "                                                                                                      ('last_opponentTeamId',\n",
       "                                                                                                       Categorify(add_nan=True),\n",
       "                                                                                                       'last_opponentTeamId'),\n",
       "                                                                                                      ('last_gameType',\n",
       "                                                                                                       Categorify(add_nan=True),\n",
       "                                                                                                       'last_gameType')]))])),\n",
       "                                 ('interaction', InteractionEncoder())]))])"
      ]
     },
     "execution_count": 39,
     "metadata": {},
     "output_type": "execute_result"
    }
   ],
   "source": [
    "%%time\n",
    "# train the pipeline only with the train dataset\n",
    "pipeline.fit(sp.filter(df, train_idx))"
   ]
  },
  {
   "cell_type": "code",
   "execution_count": 40,
   "id": "e0710550",
   "metadata": {},
   "outputs": [
    {
     "name": "stdout",
     "output_type": "stream",
     "text": [
      "CPU times: user 1min 53s, sys: 2.49 s, total: 1min 56s\n",
      "Wall time: 1min 56s\n"
     ]
    }
   ],
   "source": [
    "%%time\n",
    "# transform all dataset\n",
    "features = pipeline.transform(df)"
   ]
  },
  {
   "cell_type": "code",
   "execution_count": 41,
   "id": "04de987f",
   "metadata": {},
   "outputs": [
    {
     "data": {
      "text/plain": [
       "(12160, 20503)"
      ]
     },
     "execution_count": 41,
     "metadata": {},
     "output_type": "execute_result"
    }
   ],
   "source": [
    "features.shape"
   ]
  },
  {
   "cell_type": "code",
   "execution_count": null,
   "id": "89ee2a0e",
   "metadata": {},
   "outputs": [],
   "source": [
    "pd.options.display.max_rows = max(150, len(features.columns))\n",
    "features.head(len(features.columns)).T"
   ]
  },
  {
   "cell_type": "code",
   "execution_count": null,
   "id": "4e4b8cff",
   "metadata": {},
   "outputs": [],
   "source": [
    "# change the dtypes of the target (pytorch likes float32 and not float64)\n",
    "df[target_cols] = df[target_cols].astype(np.float32)"
   ]
  },
  {
   "cell_type": "code",
   "execution_count": null,
   "id": "65ca820a",
   "metadata": {},
   "outputs": [],
   "source": [
    "train_idx.shape"
   ]
  },
  {
   "cell_type": "code",
   "execution_count": null,
   "id": "d5e69290",
   "metadata": {},
   "outputs": [],
   "source": [
    "train_idx.shape"
   ]
  },
  {
   "cell_type": "code",
   "execution_count": null,
   "id": "45238970",
   "metadata": {},
   "outputs": [],
   "source": [
    "train_data = sp.filter(features, train_idx)"
   ]
  },
  {
   "cell_type": "code",
   "execution_count": null,
   "id": "6d0ee100",
   "metadata": {},
   "outputs": [],
   "source": [
    "raw_train_df = sp.filter(df, train_idx)"
   ]
  },
  {
   "cell_type": "code",
   "execution_count": null,
   "id": "d55d5a53",
   "metadata": {},
   "outputs": [],
   "source": [
    "valid_data = sp.filter(features, valid_idx)\n",
    "raw_valid_df = sp.filter(df, valid_idx)"
   ]
  },
  {
   "cell_type": "code",
   "execution_count": null,
   "id": "40f6cf41",
   "metadata": {},
   "outputs": [],
   "source": [
    "train_data.shape, raw_train_df.shape"
   ]
  },
  {
   "cell_type": "code",
   "execution_count": null,
   "id": "f2bd5480",
   "metadata": {},
   "outputs": [],
   "source": [
    "valid_data.shape, raw_valid_df.shape"
   ]
  },
  {
   "cell_type": "code",
   "execution_count": null,
   "id": "0691eee4",
   "metadata": {},
   "outputs": [],
   "source": [
    "# add the target to features ds\n",
    "train_data[target_cols + ['date']] = raw_train_df[target_cols + ['date']]\n",
    "valid_data[target_cols + ['date']] = raw_valid_df[target_cols + ['date']]"
   ]
  },
  {
   "cell_type": "markdown",
   "id": "1cdf3639",
   "metadata": {},
   "source": [
    "### modeling "
   ]
  },
  {
   "cell_type": "code",
   "execution_count": null,
   "id": "7de07d2a",
   "metadata": {},
   "outputs": [],
   "source": [
    "# time_features = ['battingOrder', 'gamesPlayedBatting', 'flyOuts', 'groundOuts',\n",
    "#        'runsScored', 'doubles', 'triples', 'homeRuns', 'strikeOuts',\n",
    "#        'baseOnBalls', 'intentionalWalks', 'hits', 'hitByPitch', 'atBats',\n",
    "#        'caughtStealing', 'stolenBases', 'groundIntoDoublePlay',\n",
    "#        'groundIntoTriplePlay', 'plateAppearances', 'totalBases', 'rbi',\n",
    "#        'leftOnBase', 'sacBunts', 'sacFlies', 'catchersInterference',\n",
    "#        'pickoffs', 'gamesPlayedPitching', 'gamesStartedPitching',\n",
    "#        'completeGamesPitching', 'shutoutsPitching', 'winsPitching',\n",
    "#        'lossesPitching', 'flyOutsPitching', 'airOutsPitching',\n",
    "#        'groundOutsPitching', 'runsPitching', 'doublesPitching',\n",
    "#        'triplesPitching', 'homeRunsPitching', 'strikeOutsPitching',\n",
    "#        'baseOnBallsPitching', 'intentionalWalksPitching', 'hitsPitching',\n",
    "#        'hitByPitchPitching', 'atBatsPitching', 'caughtStealingPitching',\n",
    "#        'stolenBasesPitching', 'inningsPitched', 'saveOpportunities',\n",
    "#        'earnedRuns', 'battersFaced', 'outsPitching', 'pitchesThrown', 'balls',\n",
    "#        'strikes', 'hitBatsmen', 'balks', 'wildPitches', 'pickoffsPitching',\n",
    "#        'rbiPitching', 'gamesFinishedPitching', 'inheritedRunners',\n",
    "#        'inheritedRunnersScored', 'catchersInterferencePitching',\n",
    "#        'sacBuntsPitching', 'sacFliesPitching', 'saves', 'holds', 'blownSaves',\n",
    "#        'assists', 'putOuts', 'errors', 'chances', 'isTie',\n",
    "#        'gamesInSeries', 'playerTeamWins', 'playerTeamLosses',\n",
    "#        'playerTeamWinPct', 'playerTeamScore', 'opponentTeamWins',\n",
    "#        'opponentTeamLosses', 'opponentTeamWinPct', 'opponentTeamScore',\n",
    "#        'teamScoreDiff', 'AwardWinner']"
   ]
  },
  {
   "cell_type": "code",
   "execution_count": null,
   "id": "bdfbbab7",
   "metadata": {},
   "outputs": [],
   "source": [
    "cont_features = features.columns.drop(categories).to_list()"
   ]
  },
  {
   "cell_type": "code",
   "execution_count": null,
   "id": "f0dd5277",
   "metadata": {},
   "outputs": [],
   "source": [
    "cont_features"
   ]
  },
  {
   "cell_type": "code",
   "execution_count": 405,
   "id": "69ad98dc",
   "metadata": {},
   "outputs": [],
   "source": [
    "# from omegaconf import OmegaConf\n",
    "# hp = {'bptt': 14,\n",
    "#       'epochs': 10,\n",
    "#       'batch_size': 512,\n",
    "#       'max_emb_sz': 20,\n",
    "#       'hidden_dim': 16,\n",
    "#       'encoder_dim': 128,\n",
    "#       'emb_dropout': 0.2,\n",
    "#       'dropout': 0.2,\n",
    "#       'lr': 0.001,\n",
    "#       'wd': 3e-5}\n",
    "\n",
    "# real_data_config = {'hp': hp,\n",
    "#                     'seed': 2021,\n",
    "#          'static_features': static_features,\n",
    "#           'categories': categories,\n",
    "#           'time_features': time_features,\n",
    "#           'target_cols': target_cols}\n",
    "# real_data_config = OmegaConf.create(real_data_config) "
   ]
  },
  {
   "cell_type": "code",
   "execution_count": 417,
   "id": "7d3761f7",
   "metadata": {},
   "outputs": [],
   "source": [
    "batch_size=64"
   ]
  },
  {
   "cell_type": "code",
   "execution_count": 418,
   "id": "ac371d44",
   "metadata": {},
   "outputs": [],
   "source": [
    "train_ds = PlayerDataset.from_df(train_data,\n",
    "                                  features=[],\n",
    "                                  categories=categories + cont_features,\n",
    "                                  target=target_cols,\n",
    "                                  )"
   ]
  },
  {
   "cell_type": "code",
   "execution_count": 419,
   "id": "c117260d",
   "metadata": {},
   "outputs": [],
   "source": [
    "train_dl = DataLoader(train_ds, batch_size=batch_size, shuffle=True,\n",
    "                      num_workers=4)"
   ]
  },
  {
   "cell_type": "code",
   "execution_count": 420,
   "id": "318d9473",
   "metadata": {},
   "outputs": [],
   "source": [
    "valid_ds = PlayerDataset.from_df(valid_data, \n",
    "                                  features=[],\n",
    "                                  categories=categories + cont_features,\n",
    "                                  target=target_cols,\n",
    "                                  )\n",
    "valid_dl = DataLoader(valid_ds, batch_size=batch_size,\n",
    "                      shuffle=False, num_workers=4)"
   ]
  },
  {
   "cell_type": "code",
   "execution_count": 450,
   "id": "d51e9ce8",
   "metadata": {},
   "outputs": [],
   "source": [
    "cat_szs = list(train_data.loc[:, categories + cont_features].max())"
   ]
  },
  {
   "cell_type": "code",
   "execution_count": 451,
   "id": "3b71e491",
   "metadata": {},
   "outputs": [],
   "source": [
    "model = MLBTransformer(cont_features=len([]),\n",
    "                       categories=cat_szs,\n",
    "                       emb_features=16,\n",
    "                       encoder_dim=128,\n",
    "                       out_features=len(target_cols),\n",
    "                       lr=0.001,\n",
    "                       wd=3e-5,\n",
    "                       attn_dropout=0.2,\n",
    "                       ff_dropout=0.2,\n",
    "                       decoder_dropout=0.2,\n",
    "                       emb_dropout=0.2)"
   ]
  },
  {
   "cell_type": "code",
   "execution_count": 452,
   "id": "eac03e78",
   "metadata": {},
   "outputs": [],
   "source": [
    "batch = next(iter(train_dl))"
   ]
  },
  {
   "cell_type": "code",
   "execution_count": 453,
   "id": "7a8221f8",
   "metadata": {},
   "outputs": [],
   "source": [
    "from pytorch_lightning.callbacks import EarlyStopping\n",
    "early_stopping = EarlyStopping('valid_mae', patience=3)"
   ]
  },
  {
   "cell_type": "code",
   "execution_count": 454,
   "id": "4fe7e145",
   "metadata": {},
   "outputs": [
    {
     "name": "stderr",
     "output_type": "stream",
     "text": [
      "GPU available: False, used: False\n",
      "TPU available: False, using: 0 TPU cores\n",
      "\n",
      "  | Name         | Type       | Params\n",
      "--------------------------------------------\n",
      "0 | emb          | Sequential | 25.3 K\n",
      "1 | output_layer | Sequential | 416 K \n",
      "--------------------------------------------\n",
      "441 K     Trainable params\n",
      "0         Non-trainable params\n",
      "441 K     Total params\n",
      "1.768     Total estimated model params size (MB)\n"
     ]
    },
    {
     "data": {
      "application/vnd.jupyter.widget-view+json": {
       "model_id": "",
       "version_major": 2,
       "version_minor": 0
      },
      "text/plain": [
       "Validation sanity check: 0it [00:00, ?it/s]"
      ]
     },
     "metadata": {},
     "output_type": "display_data"
    },
    {
     "name": "stderr",
     "output_type": "stream",
     "text": [
      "/home/med/anaconda3/envs/mlb/lib/python3.8/site-packages/pytorch_lightning/core/step_result.py:115: UserWarning: To copy construct from a tensor, it is recommended to use sourceTensor.clone().detach() or sourceTensor.clone().detach().requires_grad_(True), rather than torch.tensor(sourceTensor).\n",
      "  value = torch.tensor(value, device=device, dtype=torch.float)\n"
     ]
    },
    {
     "data": {
      "application/vnd.jupyter.widget-view+json": {
       "model_id": "56730ea45fb24cb0849100b5d48c6067",
       "version_major": 2,
       "version_minor": 0
      },
      "text/plain": [
       "Training: 0it [00:00, ?it/s]"
      ]
     },
     "metadata": {},
     "output_type": "display_data"
    },
    {
     "data": {
      "application/vnd.jupyter.widget-view+json": {
       "model_id": "",
       "version_major": 2,
       "version_minor": 0
      },
      "text/plain": [
       "Validating: 0it [00:00, ?it/s]"
      ]
     },
     "metadata": {},
     "output_type": "display_data"
    },
    {
     "data": {
      "application/vnd.jupyter.widget-view+json": {
       "model_id": "",
       "version_major": 2,
       "version_minor": 0
      },
      "text/plain": [
       "Validating: 0it [00:00, ?it/s]"
      ]
     },
     "metadata": {},
     "output_type": "display_data"
    },
    {
     "data": {
      "application/vnd.jupyter.widget-view+json": {
       "model_id": "",
       "version_major": 2,
       "version_minor": 0
      },
      "text/plain": [
       "Validating: 0it [00:00, ?it/s]"
      ]
     },
     "metadata": {},
     "output_type": "display_data"
    },
    {
     "data": {
      "application/vnd.jupyter.widget-view+json": {
       "model_id": "",
       "version_major": 2,
       "version_minor": 0
      },
      "text/plain": [
       "Validating: 0it [00:00, ?it/s]"
      ]
     },
     "metadata": {},
     "output_type": "display_data"
    },
    {
     "data": {
      "application/vnd.jupyter.widget-view+json": {
       "model_id": "",
       "version_major": 2,
       "version_minor": 0
      },
      "text/plain": [
       "Validating: 0it [00:00, ?it/s]"
      ]
     },
     "metadata": {},
     "output_type": "display_data"
    },
    {
     "data": {
      "application/vnd.jupyter.widget-view+json": {
       "model_id": "",
       "version_major": 2,
       "version_minor": 0
      },
      "text/plain": [
       "Validating: 0it [00:00, ?it/s]"
      ]
     },
     "metadata": {},
     "output_type": "display_data"
    },
    {
     "data": {
      "application/vnd.jupyter.widget-view+json": {
       "model_id": "",
       "version_major": 2,
       "version_minor": 0
      },
      "text/plain": [
       "Validating: 0it [00:00, ?it/s]"
      ]
     },
     "metadata": {},
     "output_type": "display_data"
    },
    {
     "data": {
      "application/vnd.jupyter.widget-view+json": {
       "model_id": "",
       "version_major": 2,
       "version_minor": 0
      },
      "text/plain": [
       "Validating: 0it [00:00, ?it/s]"
      ]
     },
     "metadata": {},
     "output_type": "display_data"
    },
    {
     "data": {
      "application/vnd.jupyter.widget-view+json": {
       "model_id": "",
       "version_major": 2,
       "version_minor": 0
      },
      "text/plain": [
       "Validating: 0it [00:00, ?it/s]"
      ]
     },
     "metadata": {},
     "output_type": "display_data"
    },
    {
     "data": {
      "application/vnd.jupyter.widget-view+json": {
       "model_id": "",
       "version_major": 2,
       "version_minor": 0
      },
      "text/plain": [
       "Validating: 0it [00:00, ?it/s]"
      ]
     },
     "metadata": {},
     "output_type": "display_data"
    }
   ],
   "source": [
    "trainer = pl.Trainer(max_epochs=10)\n",
    "trainer.fit(model, train_dl, valid_dl)"
   ]
  },
  {
   "cell_type": "code",
   "execution_count": 455,
   "id": "497056a5",
   "metadata": {},
   "outputs": [],
   "source": [
    "# model.do_attn(False)"
   ]
  },
  {
   "cell_type": "code",
   "execution_count": 456,
   "id": "cf9b9ed0",
   "metadata": {
    "scrolled": false
   },
   "outputs": [],
   "source": [
    "# trainer.fit(model, train_dl, valid_dl)"
   ]
  },
  {
   "cell_type": "code",
   "execution_count": 457,
   "id": "04406bba",
   "metadata": {},
   "outputs": [],
   "source": [
    "# trainer = pl.Trainer(max_epochs=10, callbacks=[early_stopping])\n",
    "# model.do_attn(True)"
   ]
  },
  {
   "cell_type": "code",
   "execution_count": 458,
   "id": "7fad8338",
   "metadata": {},
   "outputs": [],
   "source": [
    "# trainer.fit(model, train_dl, valid_dl)"
   ]
  },
  {
   "cell_type": "code",
   "execution_count": 459,
   "id": "97dc54c1",
   "metadata": {},
   "outputs": [],
   "source": [
    "def predict_fn(test_features: pd.DataFrame):\n",
    "        test_ds = PlayerDataset.from_df(test_features,\n",
    "                                        features=cont_features,\n",
    "                                  categories=categories,\n",
    "                                  target=target_cols,\n",
    "                                  )\n",
    "        test_dl = DataLoader(test_ds, batch_size=batch_size, shuffle=False)\n",
    "        prediction = predict_dl(model, test_dl)\n",
    "        del test_dl, test_ds\n",
    "        return prediction"
   ]
  },
  {
   "cell_type": "code",
   "execution_count": 460,
   "id": "564a0dca",
   "metadata": {},
   "outputs": [],
   "source": [
    "from train.core import ModelOutput, Ensemble, predict_recursive"
   ]
  },
  {
   "cell_type": "code",
   "execution_count": 461,
   "id": "44c57070",
   "metadata": {},
   "outputs": [],
   "source": [
    "def predict_dl(model: nn.Module, valid_dl: DataLoader):\n",
    "    model.eval()\n",
    "    with torch.no_grad():\n",
    "        prediction = torch.cat([model(**batch)\n",
    "                               for batch in valid_dl])\n",
    "    return prediction.numpy()"
   ]
  },
  {
   "cell_type": "code",
   "execution_count": 462,
   "id": "7d6aa7e3",
   "metadata": {},
   "outputs": [],
   "source": [
    "prediction = predict_dl(model, valid_dl)\n",
    "output = ModelOutput(model, predict_fn, prediction)"
   ]
  },
  {
   "cell_type": "code",
   "execution_count": 463,
   "id": "15cfc02b",
   "metadata": {},
   "outputs": [],
   "source": [
    "ensemble = Ensemble([output], pipeline)"
   ]
  },
  {
   "cell_type": "code",
   "execution_count": 464,
   "id": "a67e14f7",
   "metadata": {},
   "outputs": [],
   "source": [
    "from evaluate.metrics import compute_metrics"
   ]
  },
  {
   "cell_type": "code",
   "execution_count": 465,
   "id": "88ba5f27",
   "metadata": {},
   "outputs": [],
   "source": [
    "# %%time\n",
    "# # raw_train_fr = raw_train_df.query(\"date >= '2020-07-01'\").reset_index(drop=True)\n",
    "# raw_train_fr = raw_train_df[df.columns]\n",
    "\n",
    "# recursive_prediction = []\n",
    "# for date, val_date_df in raw_valid_df.groupby('date'):\n",
    "#     val_date_df = val_date_df[df.columns].reset_index(drop=True)\n",
    "#     _recurive_pred, raw_train_fr = predict_recursive(val_date_df,\n",
    "#                                                      raw_train_fr,\n",
    "#                                                      ensemble,\n",
    "#                                                      n_days=30,\n",
    "#                                                      target_cols=target_cols)\n",
    "    \n",
    "# #     raw_train_fr.loc[raw_train_fr['date'] == date, target_cols] = val_date_df[target_cols].to_numpy()\n",
    "#     recursive_prediction.append(_recurive_pred)\n",
    "\n",
    "# recursive_prediction = pd.concat(recursive_prediction, ignore_index=True)\n",
    "# recursive_prediction.sort_values(['playerId', 'date'], inplace=True)\n",
    "# recursive_prediction.reset_index(drop=True, inplace=True)\n",
    "# recursive_prediction.rename(columns={f: f.replace('target', 'yhat')\n",
    "#                                      for f in target_cols}, inplace=True)\n",
    "\n",
    "# assert (recursive_prediction[['playerId', 'date']] == raw_valid_df[['playerId', 'date']]).all().all()\n",
    "# recursive_prediction[target_cols] = raw_valid_df[target_cols].to_numpy()"
   ]
  },
  {
   "cell_type": "code",
   "execution_count": 466,
   "id": "68ad17ea",
   "metadata": {},
   "outputs": [],
   "source": [
    "valid_test_prediction = pd.DataFrame(prediction, columns=['yhat1', 'yhat2', 'yhat3', 'yhat4'])\n",
    "\n",
    "valid_test_prediction[pp_cols] = raw_valid_df[pp_cols]\n",
    "\n",
    "is_test_pred = valid_test_prediction['date'] >= '2021-04-01'\n",
    "\n",
    "valid_prediction, test_prediction = (valid_test_prediction.loc[~is_test_pred, :],\n",
    "                                     valid_test_prediction.loc[is_test_pred, :])"
   ]
  },
  {
   "cell_type": "code",
   "execution_count": 478,
   "id": "9496941a",
   "metadata": {},
   "outputs": [
    {
     "data": {
      "text/plain": [
       "{'mae_mean': 12.876135,\n",
       " 'mae_1': 12.664308,\n",
       " 'mae_2': 11.2004595,\n",
       " 'mae_3': 11.883974,\n",
       " 'mae_4': 15.755797}"
      ]
     },
     "execution_count": 478,
     "metadata": {},
     "output_type": "execute_result"
    }
   ],
   "source": [
    "compute_metrics(valid_test_prediction)"
   ]
  },
  {
   "cell_type": "code",
   "execution_count": 479,
   "id": "d6d2baa4",
   "metadata": {},
   "outputs": [
    {
     "data": {
      "text/plain": [
       "{'mae_mean': 13.085277,\n",
       " 'mae_1': 13.777757,\n",
       " 'mae_2': 10.176478,\n",
       " 'mae_3': 11.473536,\n",
       " 'mae_4': 16.913334}"
      ]
     },
     "execution_count": 479,
     "metadata": {},
     "output_type": "execute_result"
    }
   ],
   "source": [
    "compute_metrics(valid_prediction)"
   ]
  },
  {
   "cell_type": "code",
   "execution_count": 480,
   "id": "8e11927a",
   "metadata": {},
   "outputs": [
    {
     "data": {
      "text/plain": [
       "{'mae_mean': 12.660021,\n",
       " 'mae_1': 11.513742,\n",
       " 'mae_2': 12.258574,\n",
       " 'mae_3': 12.308093,\n",
       " 'mae_4': 14.559674}"
      ]
     },
     "execution_count": 480,
     "metadata": {},
     "output_type": "execute_result"
    }
   ],
   "source": [
    "compute_metrics(test_prediction)"
   ]
  },
  {
   "cell_type": "code",
   "execution_count": 481,
   "id": "da8cce43",
   "metadata": {},
   "outputs": [],
   "source": [
    "# valid_rc_prediction, test_rc_prediction = (recursive_prediction.loc[~is_test_pred, :],\n",
    "#                                            recursive_prediction.loc[is_test_pred, :])"
   ]
  },
  {
   "cell_type": "code",
   "execution_count": 482,
   "id": "88d6eb3b",
   "metadata": {},
   "outputs": [],
   "source": [
    "# compute_metrics(valid_rc_prediction)"
   ]
  },
  {
   "cell_type": "code",
   "execution_count": 483,
   "id": "3bf0bac0",
   "metadata": {},
   "outputs": [],
   "source": [
    "# compute_metrics(test_rc_prediction)"
   ]
  },
  {
   "cell_type": "code",
   "execution_count": 484,
   "id": "a8c2a440",
   "metadata": {},
   "outputs": [],
   "source": [
    "# compute_metrics(recursive_prediction)"
   ]
  },
  {
   "cell_type": "code",
   "execution_count": 485,
   "id": "f3f8ea9e",
   "metadata": {},
   "outputs": [],
   "source": [
    "def plot_pred(df, playerId, index=1):\n",
    "    pdf = df.query(f'playerId == {playerId}')\n",
    "    \n",
    "    f, ax = plt.subplots(1, 1, figsize=(20, 5))\n",
    "    \n",
    "    tname = f'target{index}'\n",
    "    yhat_name = f'yhat{index}'\n",
    "    \n",
    "    ax.plot('date', tname, '-o', data=pdf, label=tname)\n",
    "    ax.plot('date', yhat_name, '-o', data=pdf, label=tname)\n",
    "    \n",
    "    ax.legend()\n",
    "    "
   ]
  },
  {
   "cell_type": "code",
   "execution_count": 486,
   "id": "b3fb053c",
   "metadata": {},
   "outputs": [
    {
     "data": {
      "text/html": [
       "<div>\n",
       "<style scoped>\n",
       "    .dataframe tbody tr th:only-of-type {\n",
       "        vertical-align: middle;\n",
       "    }\n",
       "\n",
       "    .dataframe tbody tr th {\n",
       "        vertical-align: top;\n",
       "    }\n",
       "\n",
       "    .dataframe thead th {\n",
       "        text-align: right;\n",
       "    }\n",
       "</style>\n",
       "<table border=\"1\" class=\"dataframe\">\n",
       "  <thead>\n",
       "    <tr style=\"text-align: right;\">\n",
       "      <th></th>\n",
       "      <th>mae_mean</th>\n",
       "      <th>mae_1</th>\n",
       "      <th>mae_2</th>\n",
       "      <th>mae_3</th>\n",
       "      <th>mae_4</th>\n",
       "    </tr>\n",
       "    <tr>\n",
       "      <th>playerId</th>\n",
       "      <th></th>\n",
       "      <th></th>\n",
       "      <th></th>\n",
       "      <th></th>\n",
       "      <th></th>\n",
       "    </tr>\n",
       "  </thead>\n",
       "  <tbody>\n",
       "    <tr>\n",
       "      <th>660271</th>\n",
       "      <td>25.732981</td>\n",
       "      <td>21.831831</td>\n",
       "      <td>31.126070</td>\n",
       "      <td>25.963112</td>\n",
       "      <td>24.010910</td>\n",
       "    </tr>\n",
       "    <tr>\n",
       "      <th>665487</th>\n",
       "      <td>18.699299</td>\n",
       "      <td>18.961674</td>\n",
       "      <td>9.996566</td>\n",
       "      <td>23.546343</td>\n",
       "      <td>22.292606</td>\n",
       "    </tr>\n",
       "    <tr>\n",
       "      <th>545361</th>\n",
       "      <td>16.304705</td>\n",
       "      <td>11.930372</td>\n",
       "      <td>12.092934</td>\n",
       "      <td>11.817278</td>\n",
       "      <td>29.378237</td>\n",
       "    </tr>\n",
       "    <tr>\n",
       "      <th>547180</th>\n",
       "      <td>12.873370</td>\n",
       "      <td>14.117197</td>\n",
       "      <td>9.063903</td>\n",
       "      <td>9.767345</td>\n",
       "      <td>18.545036</td>\n",
       "    </tr>\n",
       "    <tr>\n",
       "      <th>543037</th>\n",
       "      <td>12.610711</td>\n",
       "      <td>12.830074</td>\n",
       "      <td>14.496115</td>\n",
       "      <td>14.073411</td>\n",
       "      <td>9.043244</td>\n",
       "    </tr>\n",
       "    <tr>\n",
       "      <th>605141</th>\n",
       "      <td>10.816162</td>\n",
       "      <td>10.625196</td>\n",
       "      <td>7.438328</td>\n",
       "      <td>9.083943</td>\n",
       "      <td>16.117180</td>\n",
       "    </tr>\n",
       "    <tr>\n",
       "      <th>592450</th>\n",
       "      <td>10.199335</td>\n",
       "      <td>12.404188</td>\n",
       "      <td>8.064775</td>\n",
       "      <td>9.213553</td>\n",
       "      <td>11.114823</td>\n",
       "    </tr>\n",
       "    <tr>\n",
       "      <th>519317</th>\n",
       "      <td>9.371236</td>\n",
       "      <td>12.978130</td>\n",
       "      <td>7.123166</td>\n",
       "      <td>9.009720</td>\n",
       "      <td>8.373929</td>\n",
       "    </tr>\n",
       "    <tr>\n",
       "      <th>592518</th>\n",
       "      <td>6.339836</td>\n",
       "      <td>5.653610</td>\n",
       "      <td>4.885595</td>\n",
       "      <td>3.620407</td>\n",
       "      <td>11.199730</td>\n",
       "    </tr>\n",
       "    <tr>\n",
       "      <th>592885</th>\n",
       "      <td>5.813710</td>\n",
       "      <td>5.310803</td>\n",
       "      <td>7.717144</td>\n",
       "      <td>2.744622</td>\n",
       "      <td>7.482270</td>\n",
       "    </tr>\n",
       "  </tbody>\n",
       "</table>\n",
       "</div>"
      ],
      "text/plain": [
       "           mae_mean      mae_1      mae_2      mae_3      mae_4\n",
       "playerId                                                       \n",
       "660271    25.732981  21.831831  31.126070  25.963112  24.010910\n",
       "665487    18.699299  18.961674   9.996566  23.546343  22.292606\n",
       "545361    16.304705  11.930372  12.092934  11.817278  29.378237\n",
       "547180    12.873370  14.117197   9.063903   9.767345  18.545036\n",
       "543037    12.610711  12.830074  14.496115  14.073411   9.043244\n",
       "605141    10.816162  10.625196   7.438328   9.083943  16.117180\n",
       "592450    10.199335  12.404188   8.064775   9.213553  11.114823\n",
       "519317     9.371236  12.978130   7.123166   9.009720   8.373929\n",
       "592518     6.339836   5.653610   4.885595   3.620407  11.199730\n",
       "592885     5.813710   5.310803   7.717144   2.744622   7.482270"
      ]
     },
     "execution_count": 486,
     "metadata": {},
     "output_type": "execute_result"
    }
   ],
   "source": [
    "(valid_test_prediction.groupby('playerId')\n",
    " .apply(lambda x: pd.Series(compute_metrics(x)))\n",
    " .sort_values(by='mae_mean', ascending=False)).head(10)"
   ]
  },
  {
   "cell_type": "code",
   "execution_count": 476,
   "id": "1a75a023",
   "metadata": {},
   "outputs": [],
   "source": [
    "# 22.287758\t23.63591\t24.933866\t23.164949\t17.416305"
   ]
  },
  {
   "cell_type": "code",
   "execution_count": 477,
   "id": "e68995a7",
   "metadata": {},
   "outputs": [
    {
     "data": {
      "image/png": "[encoded data removed]",
      "text/plain": [
       "<Figure size 1440x360 with 1 Axes>"
      ]
     },
     "metadata": {
      "needs_background": "light"
     },
     "output_type": "display_data"
    },
    {
     "data": {
      "image/png": "[encoded data removed]",
      "text/plain": [
       "<Figure size 1440x360 with 1 Axes>"
      ]
     },
     "metadata": {
      "needs_background": "light"
     },
     "output_type": "display_data"
    },
    {
     "data": {
      "image/png": "[encoded data removed]",
      "text/plain": [
       "<Figure size 1440x360 with 1 Axes>"
      ]
     },
     "metadata": {
      "needs_background": "light"
     },
     "output_type": "display_data"
    },
    {
     "data": {
      "image/png": "[encoded data removed]",
      "text/plain": [
       "<Figure size 1440x360 with 1 Axes>"
      ]
     },
     "metadata": {
      "needs_background": "light"
     },
     "output_type": "display_data"
    }
   ],
   "source": [
    "for index in range(1, 5):\n",
    "    plot_pred(valid_test_prediction, playerId=660271, index=index)"
   ]
  },
  {
   "cell_type": "code",
   "execution_count": null,
   "id": "4ef30313",
   "metadata": {},
   "outputs": [],
   "source": []
  }
 ],
 "metadata": {
  "kernelspec": {
   "display_name": "Python 3",
   "language": "python",
   "name": "python3"
  },
  "language_info": {
   "codemirror_mode": {
    "name": "ipython",
    "version": 3
   },
   "file_extension": ".py",
   "mimetype": "text/x-python",
   "name": "python",
   "nbconvert_exporter": "python",
   "pygments_lexer": "ipython3",
   "version": "3.8.8"
  }
 },
 "nbformat": 4,
 "nbformat_minor": 5
}
