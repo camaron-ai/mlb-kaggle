{
 "cells": [
  {
   "cell_type": "code",
   "execution_count": 1,
   "id": "200bd975",
   "metadata": {},
   "outputs": [],
   "source": [
    "import pandas as pd\n",
    "import numpy as np\n",
    "from matplotlib import pyplot as plt\n",
    "from pathlib import Path\n",
    "import seaborn as sns"
   ]
  },
  {
   "cell_type": "code",
   "execution_count": 2,
   "id": "98b21c10",
   "metadata": {},
   "outputs": [],
   "source": [
    "import os\n",
    "import sys"
   ]
  },
  {
   "cell_type": "code",
   "execution_count": 3,
   "id": "83088198",
   "metadata": {},
   "outputs": [],
   "source": [
    "# chaging directory"
   ]
  },
  {
   "cell_type": "code",
   "execution_count": 4,
   "id": "63a6bace",
   "metadata": {},
   "outputs": [],
   "source": [
    "root, *_ = !pwd"
   ]
  },
  {
   "cell_type": "code",
   "execution_count": 5,
   "id": "0401546d",
   "metadata": {},
   "outputs": [],
   "source": [
    "if root.endswith('notebooks'):\n",
    "    os.chdir('../')\n",
    "    root, *_ = !pwd"
   ]
  },
  {
   "cell_type": "code",
   "execution_count": 6,
   "id": "c94d5f75",
   "metadata": {},
   "outputs": [
    {
     "data": {
      "text/plain": [
       "'/home/med/projects/competitions/mlb-kaggle'"
      ]
     },
     "execution_count": 6,
     "metadata": {},
     "output_type": "execute_result"
    }
   ],
   "source": [
    "os.getcwd()"
   ]
  },
  {
   "cell_type": "code",
   "execution_count": 7,
   "id": "bf93f65f",
   "metadata": {},
   "outputs": [
    {
     "data": {
      "text/plain": [
       "True"
      ]
     },
     "execution_count": 7,
     "metadata": {},
     "output_type": "execute_result"
    }
   ],
   "source": [
    "from dotenv import load_dotenv\n",
    "load_dotenv()"
   ]
  },
  {
   "cell_type": "code",
   "execution_count": 8,
   "id": "a0936da3",
   "metadata": {},
   "outputs": [],
   "source": [
    "RAW_PATH = Path(os.environ['RAW_PATH'])"
   ]
  },
  {
   "cell_type": "code",
   "execution_count": 9,
   "id": "e0104b3d",
   "metadata": {},
   "outputs": [
    {
     "data": {
      "text/plain": [
       "['seasons.csv',\n",
       " 'teams.csv',\n",
       " 'example_sample_submission.csv',\n",
       " 'train.csv',\n",
       " 'mlb-player-digital-engagement-forecasting.zip',\n",
       " 'awards.csv',\n",
       " 'players.csv',\n",
       " 'example_test.csv',\n",
       " 'mlb']"
      ]
     },
     "execution_count": 9,
     "metadata": {},
     "output_type": "execute_result"
    }
   ],
   "source": [
    "os.listdir(RAW_PATH)"
   ]
  },
  {
   "cell_type": "code",
   "execution_count": 10,
   "id": "dc5d2beb",
   "metadata": {},
   "outputs": [],
   "source": [
    "train_data = pd.read_csv(RAW_PATH / 'train.csv', parse_dates=['date'])"
   ]
  },
  {
   "cell_type": "code",
   "execution_count": 11,
   "id": "3d014845",
   "metadata": {},
   "outputs": [
    {
     "data": {
      "text/html": [
       "<div>\n",
       "<style scoped>\n",
       "    .dataframe tbody tr th:only-of-type {\n",
       "        vertical-align: middle;\n",
       "    }\n",
       "\n",
       "    .dataframe tbody tr th {\n",
       "        vertical-align: top;\n",
       "    }\n",
       "\n",
       "    .dataframe thead th {\n",
       "        text-align: right;\n",
       "    }\n",
       "</style>\n",
       "<table border=\"1\" class=\"dataframe\">\n",
       "  <thead>\n",
       "    <tr style=\"text-align: right;\">\n",
       "      <th></th>\n",
       "      <th>date</th>\n",
       "      <th>nextDayPlayerEngagement</th>\n",
       "      <th>games</th>\n",
       "      <th>rosters</th>\n",
       "      <th>playerBoxScores</th>\n",
       "      <th>teamBoxScores</th>\n",
       "      <th>transactions</th>\n",
       "      <th>standings</th>\n",
       "      <th>awards</th>\n",
       "      <th>events</th>\n",
       "      <th>playerTwitterFollowers</th>\n",
       "      <th>teamTwitterFollowers</th>\n",
       "    </tr>\n",
       "  </thead>\n",
       "  <tbody>\n",
       "    <tr>\n",
       "      <th>0</th>\n",
       "      <td>2018-01-01</td>\n",
       "      <td>[{\"engagementMetricsDate\":\"2018-01-02\",\"player...</td>\n",
       "      <td>NaN</td>\n",
       "      <td>[{\"playerId\":400121,\"gameDate\":\"2018-01-01\",\"t...</td>\n",
       "      <td>NaN</td>\n",
       "      <td>NaN</td>\n",
       "      <td>[{\"transactionId\":340732,\"playerId\":547348,\"pl...</td>\n",
       "      <td>NaN</td>\n",
       "      <td>NaN</td>\n",
       "      <td>NaN</td>\n",
       "      <td>[{\"date\":\"2018-01-01\",\"playerId\":545361,\"playe...</td>\n",
       "      <td>[{\"date\":\"2018-01-01\",\"teamId\":147,\"teamName\":...</td>\n",
       "    </tr>\n",
       "    <tr>\n",
       "      <th>1</th>\n",
       "      <td>2018-01-02</td>\n",
       "      <td>[{\"engagementMetricsDate\":\"2018-01-03\",\"player...</td>\n",
       "      <td>NaN</td>\n",
       "      <td>[{\"playerId\":134181,\"gameDate\":\"2018-01-02\",\"t...</td>\n",
       "      <td>NaN</td>\n",
       "      <td>NaN</td>\n",
       "      <td>[{\"transactionId\":339458,\"playerId\":621173,\"pl...</td>\n",
       "      <td>NaN</td>\n",
       "      <td>NaN</td>\n",
       "      <td>NaN</td>\n",
       "      <td>NaN</td>\n",
       "      <td>NaN</td>\n",
       "    </tr>\n",
       "    <tr>\n",
       "      <th>2</th>\n",
       "      <td>2018-01-03</td>\n",
       "      <td>[{\"engagementMetricsDate\":\"2018-01-04\",\"player...</td>\n",
       "      <td>NaN</td>\n",
       "      <td>[{\"playerId\":425492,\"gameDate\":\"2018-01-03\",\"t...</td>\n",
       "      <td>NaN</td>\n",
       "      <td>NaN</td>\n",
       "      <td>[{\"transactionId\":347527,\"playerId\":572389,\"pl...</td>\n",
       "      <td>NaN</td>\n",
       "      <td>NaN</td>\n",
       "      <td>NaN</td>\n",
       "      <td>NaN</td>\n",
       "      <td>NaN</td>\n",
       "    </tr>\n",
       "    <tr>\n",
       "      <th>3</th>\n",
       "      <td>2018-01-04</td>\n",
       "      <td>[{\"engagementMetricsDate\":\"2018-01-05\",\"player...</td>\n",
       "      <td>NaN</td>\n",
       "      <td>[{\"playerId\":282332,\"gameDate\":\"2018-01-04\",\"t...</td>\n",
       "      <td>NaN</td>\n",
       "      <td>NaN</td>\n",
       "      <td>[{\"transactionId\":339549,\"playerId\":545343,\"pl...</td>\n",
       "      <td>NaN</td>\n",
       "      <td>NaN</td>\n",
       "      <td>NaN</td>\n",
       "      <td>NaN</td>\n",
       "      <td>NaN</td>\n",
       "    </tr>\n",
       "    <tr>\n",
       "      <th>4</th>\n",
       "      <td>2018-01-05</td>\n",
       "      <td>[{\"engagementMetricsDate\":\"2018-01-06\",\"player...</td>\n",
       "      <td>NaN</td>\n",
       "      <td>[{\"playerId\":282332,\"gameDate\":\"2018-01-05\",\"t...</td>\n",
       "      <td>NaN</td>\n",
       "      <td>NaN</td>\n",
       "      <td>[{\"transactionId\":341195,\"playerId\":628336,\"pl...</td>\n",
       "      <td>NaN</td>\n",
       "      <td>NaN</td>\n",
       "      <td>NaN</td>\n",
       "      <td>NaN</td>\n",
       "      <td>NaN</td>\n",
       "    </tr>\n",
       "  </tbody>\n",
       "</table>\n",
       "</div>"
      ],
      "text/plain": [
       "        date                            nextDayPlayerEngagement games  \\\n",
       "0 2018-01-01  [{\"engagementMetricsDate\":\"2018-01-02\",\"player...   NaN   \n",
       "1 2018-01-02  [{\"engagementMetricsDate\":\"2018-01-03\",\"player...   NaN   \n",
       "2 2018-01-03  [{\"engagementMetricsDate\":\"2018-01-04\",\"player...   NaN   \n",
       "3 2018-01-04  [{\"engagementMetricsDate\":\"2018-01-05\",\"player...   NaN   \n",
       "4 2018-01-05  [{\"engagementMetricsDate\":\"2018-01-06\",\"player...   NaN   \n",
       "\n",
       "                                             rosters playerBoxScores  \\\n",
       "0  [{\"playerId\":400121,\"gameDate\":\"2018-01-01\",\"t...             NaN   \n",
       "1  [{\"playerId\":134181,\"gameDate\":\"2018-01-02\",\"t...             NaN   \n",
       "2  [{\"playerId\":425492,\"gameDate\":\"2018-01-03\",\"t...             NaN   \n",
       "3  [{\"playerId\":282332,\"gameDate\":\"2018-01-04\",\"t...             NaN   \n",
       "4  [{\"playerId\":282332,\"gameDate\":\"2018-01-05\",\"t...             NaN   \n",
       "\n",
       "  teamBoxScores                                       transactions standings  \\\n",
       "0           NaN  [{\"transactionId\":340732,\"playerId\":547348,\"pl...       NaN   \n",
       "1           NaN  [{\"transactionId\":339458,\"playerId\":621173,\"pl...       NaN   \n",
       "2           NaN  [{\"transactionId\":347527,\"playerId\":572389,\"pl...       NaN   \n",
       "3           NaN  [{\"transactionId\":339549,\"playerId\":545343,\"pl...       NaN   \n",
       "4           NaN  [{\"transactionId\":341195,\"playerId\":628336,\"pl...       NaN   \n",
       "\n",
       "  awards events                             playerTwitterFollowers  \\\n",
       "0    NaN    NaN  [{\"date\":\"2018-01-01\",\"playerId\":545361,\"playe...   \n",
       "1    NaN    NaN                                                NaN   \n",
       "2    NaN    NaN                                                NaN   \n",
       "3    NaN    NaN                                                NaN   \n",
       "4    NaN    NaN                                                NaN   \n",
       "\n",
       "                                teamTwitterFollowers  \n",
       "0  [{\"date\":\"2018-01-01\",\"teamId\":147,\"teamName\":...  \n",
       "1                                                NaN  \n",
       "2                                                NaN  \n",
       "3                                                NaN  \n",
       "4                                                NaN  "
      ]
     },
     "execution_count": 11,
     "metadata": {},
     "output_type": "execute_result"
    }
   ],
   "source": [
    "train_data.head()"
   ]
  },
  {
   "cell_type": "code",
   "execution_count": 12,
   "id": "ca651a05",
   "metadata": {},
   "outputs": [],
   "source": [
    "train_data = train_data.set_index('date')"
   ]
  },
  {
   "cell_type": "markdown",
   "id": "f70d340b",
   "metadata": {},
   "source": [
    "### calculating mean "
   ]
  },
  {
   "cell_type": "code",
   "execution_count": 13,
   "id": "12fb6acb",
   "metadata": {},
   "outputs": [],
   "source": [
    "# transforming"
   ]
  },
  {
   "cell_type": "code",
   "execution_count": 14,
   "id": "425fb25a",
   "metadata": {},
   "outputs": [],
   "source": [
    "from sklearn.pipeline import FeatureUnion, Pipeline\n",
    "from sklearn.compose import ColumnTransformer\n",
    "from sklearn.preprocessing import FunctionTransformer\n",
    "from sklearn.base import BaseEstimator, TransformerMixin\n",
    "import pandas as pd\n",
    "\n",
    "\n",
    "def pandas_hstack(Xs):\n",
    "    return pd.concat([X.reset_index(drop=True) for X in Xs], axis=1)\n",
    "\n",
    "class PdColumnTransformer(ColumnTransformer):\n",
    "    def _hstack(self, Xs):\n",
    "        return pandas_hstack(Xs)\n",
    "\n",
    "class PdFeatureUnion(FeatureUnion):\n",
    "    def _hstack(self, Xs):\n",
    "        return pandas_hstack(Xs)\n",
    "\n",
    "def unpack_json(json_str):\n",
    "    return pd.nan if pd.isna(json_str) else pd.read_json(json_str)\n",
    "\n",
    "def unpack_column(series: pd.DataFrame) -> pd.DataFrame:\n",
    "    def _unpack_row(index, row):\n",
    "        out_df = unpack_json(row).assign(date=index)\n",
    "        out_df.drop('engagementMetricsDate', axis=1, inplace=True)\n",
    "        return out_df\n",
    "    \n",
    "    return pd.concat([_unpack_row(index, row)\n",
    "                      for index, row in series.iteritems()], ignore_index=True)"
   ]
  },
  {
   "cell_type": "code",
   "execution_count": 1,
   "id": "3bfcff1f",
   "metadata": {},
   "outputs": [],
   "source": [
    "from sklearn.preprocessing import OneHotEncoder"
   ]
  },
  {
   "cell_type": "code",
   "execution_count": 16,
   "id": "b8072875",
   "metadata": {},
   "outputs": [],
   "source": [
    "target_name = 'nextDayPlayerEngagement'"
   ]
  },
  {
   "cell_type": "code",
   "execution_count": 17,
   "id": "832a72c8",
   "metadata": {},
   "outputs": [],
   "source": [
    "unpack_target_tmf = PdColumnTransformer([('target', FunctionTransformer(unpack_column), target_name,\n",
    "                                        )])"
   ]
  },
  {
   "cell_type": "code",
   "execution_count": 18,
   "id": "c38a4e8f",
   "metadata": {},
   "outputs": [
    {
     "data": {
      "text/plain": [
       "PdColumnTransformer(transformers=[('target',\n",
       "                                   FunctionTransformer(func=<function unpack_column at 0x7f9e16816430>),\n",
       "                                   'nextDayPlayerEngagement')])"
      ]
     },
     "execution_count": 18,
     "metadata": {},
     "output_type": "execute_result"
    }
   ],
   "source": [
    "unpack_target_tmf"
   ]
  },
  {
   "cell_type": "code",
   "execution_count": 19,
   "id": "fa466691",
   "metadata": {},
   "outputs": [],
   "source": [
    "target = unpack_target_tmf.fit_transform(train_data)"
   ]
  },
  {
   "cell_type": "code",
   "execution_count": 37,
   "id": "0c4b45fe",
   "metadata": {},
   "outputs": [],
   "source": [
    "# pipeline = Pipeline([('unpack_target', unpack_target_tmf)])"
   ]
  },
  {
   "cell_type": "code",
   "execution_count": 20,
   "id": "a8639803",
   "metadata": {},
   "outputs": [
    {
     "data": {
      "text/html": [
       "<div>\n",
       "<style scoped>\n",
       "    .dataframe tbody tr th:only-of-type {\n",
       "        vertical-align: middle;\n",
       "    }\n",
       "\n",
       "    .dataframe tbody tr th {\n",
       "        vertical-align: top;\n",
       "    }\n",
       "\n",
       "    .dataframe thead th {\n",
       "        text-align: right;\n",
       "    }\n",
       "</style>\n",
       "<table border=\"1\" class=\"dataframe\">\n",
       "  <thead>\n",
       "    <tr style=\"text-align: right;\">\n",
       "      <th></th>\n",
       "      <th>playerId</th>\n",
       "      <th>target1</th>\n",
       "      <th>target2</th>\n",
       "      <th>target3</th>\n",
       "      <th>target4</th>\n",
       "      <th>date</th>\n",
       "    </tr>\n",
       "  </thead>\n",
       "  <tbody>\n",
       "    <tr>\n",
       "      <th>0</th>\n",
       "      <td>628317</td>\n",
       "      <td>0.011167</td>\n",
       "      <td>4.474708</td>\n",
       "      <td>0.005168</td>\n",
       "      <td>5.735294</td>\n",
       "      <td>2018-01-01</td>\n",
       "    </tr>\n",
       "    <tr>\n",
       "      <th>1</th>\n",
       "      <td>547989</td>\n",
       "      <td>0.042993</td>\n",
       "      <td>5.593385</td>\n",
       "      <td>0.045033</td>\n",
       "      <td>2.794118</td>\n",
       "      <td>2018-01-01</td>\n",
       "    </tr>\n",
       "    <tr>\n",
       "      <th>2</th>\n",
       "      <td>519317</td>\n",
       "      <td>0.974327</td>\n",
       "      <td>56.177043</td>\n",
       "      <td>13.693746</td>\n",
       "      <td>64.166667</td>\n",
       "      <td>2018-01-01</td>\n",
       "    </tr>\n",
       "    <tr>\n",
       "      <th>3</th>\n",
       "      <td>607625</td>\n",
       "      <td>0.006700</td>\n",
       "      <td>2.675097</td>\n",
       "      <td>0.005168</td>\n",
       "      <td>1.862745</td>\n",
       "      <td>2018-01-01</td>\n",
       "    </tr>\n",
       "    <tr>\n",
       "      <th>4</th>\n",
       "      <td>592547</td>\n",
       "      <td>0.001117</td>\n",
       "      <td>0.632296</td>\n",
       "      <td>0.002953</td>\n",
       "      <td>0.931373</td>\n",
       "      <td>2018-01-01</td>\n",
       "    </tr>\n",
       "    <tr>\n",
       "      <th>...</th>\n",
       "      <td>...</td>\n",
       "      <td>...</td>\n",
       "      <td>...</td>\n",
       "      <td>...</td>\n",
       "      <td>...</td>\n",
       "      <td>...</td>\n",
       "    </tr>\n",
       "    <tr>\n",
       "      <th>2506171</th>\n",
       "      <td>451661</td>\n",
       "      <td>0.000000</td>\n",
       "      <td>0.013314</td>\n",
       "      <td>0.000000</td>\n",
       "      <td>0.625925</td>\n",
       "      <td>2021-04-30</td>\n",
       "    </tr>\n",
       "    <tr>\n",
       "      <th>2506172</th>\n",
       "      <td>519301</td>\n",
       "      <td>0.000131</td>\n",
       "      <td>0.003329</td>\n",
       "      <td>0.000000</td>\n",
       "      <td>0.216229</td>\n",
       "      <td>2021-04-30</td>\n",
       "    </tr>\n",
       "    <tr>\n",
       "      <th>2506173</th>\n",
       "      <td>527055</td>\n",
       "      <td>0.000000</td>\n",
       "      <td>0.019971</td>\n",
       "      <td>0.000000</td>\n",
       "      <td>0.273131</td>\n",
       "      <td>2021-04-30</td>\n",
       "    </tr>\n",
       "    <tr>\n",
       "      <th>2506174</th>\n",
       "      <td>543484</td>\n",
       "      <td>0.000131</td>\n",
       "      <td>0.056586</td>\n",
       "      <td>0.000000</td>\n",
       "      <td>1.024240</td>\n",
       "      <td>2021-04-30</td>\n",
       "    </tr>\n",
       "    <tr>\n",
       "      <th>2506175</th>\n",
       "      <td>605525</td>\n",
       "      <td>0.000131</td>\n",
       "      <td>0.499284</td>\n",
       "      <td>0.000000</td>\n",
       "      <td>0.386935</td>\n",
       "      <td>2021-04-30</td>\n",
       "    </tr>\n",
       "  </tbody>\n",
       "</table>\n",
       "<p>2506176 rows × 6 columns</p>\n",
       "</div>"
      ],
      "text/plain": [
       "         playerId   target1    target2    target3    target4       date\n",
       "0          628317  0.011167   4.474708   0.005168   5.735294 2018-01-01\n",
       "1          547989  0.042993   5.593385   0.045033   2.794118 2018-01-01\n",
       "2          519317  0.974327  56.177043  13.693746  64.166667 2018-01-01\n",
       "3          607625  0.006700   2.675097   0.005168   1.862745 2018-01-01\n",
       "4          592547  0.001117   0.632296   0.002953   0.931373 2018-01-01\n",
       "...           ...       ...        ...        ...        ...        ...\n",
       "2506171    451661  0.000000   0.013314   0.000000   0.625925 2021-04-30\n",
       "2506172    519301  0.000131   0.003329   0.000000   0.216229 2021-04-30\n",
       "2506173    527055  0.000000   0.019971   0.000000   0.273131 2021-04-30\n",
       "2506174    543484  0.000131   0.056586   0.000000   1.024240 2021-04-30\n",
       "2506175    605525  0.000131   0.499284   0.000000   0.386935 2021-04-30\n",
       "\n",
       "[2506176 rows x 6 columns]"
      ]
     },
     "execution_count": 20,
     "metadata": {},
     "output_type": "execute_result"
    }
   ],
   "source": [
    "target"
   ]
  },
  {
   "cell_type": "code",
   "execution_count": 21,
   "id": "c4e49222",
   "metadata": {},
   "outputs": [],
   "source": [
    "from sklearn.metrics import mean_absolute_error\n",
    "from typing import Callable\n",
    "\n",
    "def _calc_score(yhat: np.ndarray, target: np.ndarray,\n",
    "                func: Callable, name: str = None):\n",
    "    if name is None:\n",
    "        name = func.__name__\n",
    "    \n",
    "    cw_error = [func(target[:, i], yhat[:, i])\n",
    "                for i in range(target.shape[1])]    \n",
    "    error = np.mean(cw_error)\n",
    "    output = {f'{name}_mean': error}\n",
    "    \n",
    "    output.update({f'{name}_{i+1}': cw_error[i]\n",
    "                   for i in range(len(cw_error))})\n",
    "    return output\n",
    "\n",
    "\n",
    "def compute_metrics(yhat: np.ndarray,\n",
    "                    target: np.ndarray):\n",
    "    return _calc_score(yhat, target, func=mean_absolute_error, name='mae')"
   ]
  },
  {
   "cell_type": "code",
   "execution_count": 22,
   "id": "f3936479",
   "metadata": {},
   "outputs": [],
   "source": [
    "from datetime import datetime\n",
    "from typing import Union\n",
    "\n",
    "\n",
    "class SplitData:\n",
    "    \"\"\"Helper class to split the data for time series\"\"\"\n",
    "    def __init__(self, date: Union[datetime, str],\n",
    "                 train_days: int = None,\n",
    "                 test_days: int = 31,\n",
    "                 gap: int = 0,\n",
    "                 dt_col: str = 'date'):\n",
    "        if isinstance(date, str):\n",
    "            date = pd.to_datetime(date)\n",
    "        # test range\n",
    "        self.start_test_dt = date\n",
    "        self.end_test_dt =  date + pd.to_timedelta(test_days, unit='d')\n",
    "        # train range\n",
    "        self.end_train_dt = date - pd.to_timedelta(gap, unit='d')\n",
    "        self.start_train_dt = (self.end_train_dt - pd.to_timedelta(train_days, unit='d')\n",
    "                               if train_days is not None else\n",
    "                               None)\n",
    "        self.dt_col = dt_col\n",
    "    \n",
    "    @staticmethod\n",
    "    def _get_index(dates: pd.Series,\n",
    "                start: datetime,\n",
    "                end: datetime):\n",
    "        index = (dates >= start) & (dates < end)\n",
    "        return index\n",
    "    \n",
    "    def train(self, df: pd.DataFrame) -> pd.DataFrame:\n",
    "        start_train_dt = (df[self.dt_col].min()\n",
    "                          if self.start_train_dt is None\n",
    "                          else self.start_train_dt)\n",
    "        index = self._get_index(df[self.dt_col], start_train_dt,\n",
    "                                self.end_train_dt)\n",
    "        return df.loc[index, :].reset_index(drop=True)\n",
    "\n",
    "    def valid(self, df: pd.DataFrame) -> pd.DataFrame:\n",
    "        index = self._get_index(df[self.dt_col], self.start_test_dt,\n",
    "                                self.end_test_dt)\n",
    "        return df.loc[index, :].reset_index(drop=True)\n",
    "    \n",
    "    def __repr__(self):\n",
    "        return (f'test_range=({self.start_test_dt}, {self.end_test_dt}), '\n",
    "                f'train_range=({self.start_train_dt}, {self.end_train_dt})')"
   ]
  },
  {
   "cell_type": "code",
   "execution_count": 112,
   "id": "e347d0fb",
   "metadata": {},
   "outputs": [],
   "source": [
    "sp = SplitData(\"2021-04-01\", train_days=120)"
   ]
  },
  {
   "cell_type": "code",
   "execution_count": 113,
   "id": "c958a8b5",
   "metadata": {},
   "outputs": [],
   "source": [
    "train_df = sp.train(target)\n",
    "valid_df = sp.valid(target)"
   ]
  },
  {
   "cell_type": "code",
   "execution_count": 114,
   "id": "191c6631",
   "metadata": {},
   "outputs": [
    {
     "data": {
      "text/plain": [
       "min   2020-12-02\n",
       "max   2021-03-31\n",
       "Name: date, dtype: datetime64[ns]"
      ]
     },
     "execution_count": 114,
     "metadata": {},
     "output_type": "execute_result"
    }
   ],
   "source": [
    "train_df.date.agg(('min', 'max'))"
   ]
  },
  {
   "cell_type": "code",
   "execution_count": 115,
   "id": "414924ea",
   "metadata": {},
   "outputs": [
    {
     "data": {
      "text/plain": [
       "min   2021-04-01\n",
       "max   2021-04-30\n",
       "Name: date, dtype: datetime64[ns]"
      ]
     },
     "execution_count": 115,
     "metadata": {},
     "output_type": "execute_result"
    }
   ],
   "source": [
    "valid_df.date.agg(('min', 'max'))"
   ]
  },
  {
   "cell_type": "code",
   "execution_count": 116,
   "id": "89771815",
   "metadata": {},
   "outputs": [
    {
     "data": {
      "text/plain": [
       "(['target1', 'target2', 'target3', 'target4'], ['date', 'playerId'])"
      ]
     },
     "execution_count": 116,
     "metadata": {},
     "output_type": "execute_result"
    }
   ],
   "source": [
    "target_cols = [f'target{i}' for i in range(1, 5)];\n",
    "index_cols = ['date', 'playerId'] \n",
    "target_cols, index_cols"
   ]
  },
  {
   "cell_type": "code",
   "execution_count": 117,
   "id": "4986a844",
   "metadata": {},
   "outputs": [],
   "source": [
    "class MeanEncoding(BaseEstimator, TransformerMixin):\n",
    "    def __init__(self, ids: str = ['playerId'],\n",
    "                 features: str = ['target1', 'target2',\n",
    "                                  'target3', 'target4']):\n",
    "        self.ids = ids\n",
    "        self.features = features\n",
    "    \n",
    "    def fit(self, X: pd.DataFrame, y=None):\n",
    "        self.mean = X.groupby(self.ids)[self.features].median().reset_index()\n",
    "    \n",
    "    def predict(self, X):\n",
    "        \n",
    "        drop_features = [feature for feature in self.features\n",
    "                         if feature in X.columns]\n",
    "        X = X.drop(drop_features, axis=1)\n",
    "        output = X.merge(self.mean, on=self.ids)\n",
    "        return output"
   ]
  },
  {
   "cell_type": "code",
   "execution_count": 118,
   "id": "2a76584d",
   "metadata": {},
   "outputs": [],
   "source": [
    "model= MeanEncoding()"
   ]
  },
  {
   "cell_type": "code",
   "execution_count": 119,
   "id": "ef2eeac9",
   "metadata": {},
   "outputs": [],
   "source": [
    "model.fit(train_df)"
   ]
  },
  {
   "cell_type": "code",
   "execution_count": 120,
   "id": "02261dd2",
   "metadata": {},
   "outputs": [],
   "source": [
    "valid_prediction = model.predict(valid_df)"
   ]
  },
  {
   "cell_type": "code",
   "execution_count": 121,
   "id": "98980925",
   "metadata": {},
   "outputs": [
    {
     "data": {
      "text/plain": [
       "{'mae_mean': 1.449488128580136,\n",
       " 'mae_1': 0.8568508711370514,\n",
       " 'mae_2': 2.4792356236716744,\n",
       " 'mae_3': 0.6010446554564337,\n",
       " 'mae_4': 1.8608213640553846}"
      ]
     },
     "execution_count": 121,
     "metadata": {},
     "output_type": "execute_result"
    }
   ],
   "source": [
    "compute_metrics(valid_prediction[target_cols].values,\n",
    "                valid_df[target_cols].values)"
   ]
  },
  {
   "cell_type": "code",
   "execution_count": 91,
   "id": "d9db3473",
   "metadata": {},
   "outputs": [
    {
     "data": {
      "text/plain": [
       "{'mae_mean': 1.449488128580136,\n",
       " 'mae_1': 0.8568508711370514,\n",
       " 'mae_2': 2.4792356236716744,\n",
       " 'mae_3': 0.6010446554564337,\n",
       " 'mae_4': 1.8608213640553846}"
      ]
     },
     "execution_count": 91,
     "metadata": {},
     "output_type": "execute_result"
    }
   ],
   "source": [
    "compute_metrics(valid_prediction[target_cols].values,\n",
    "                valid_df[target_cols].values)"
   ]
  },
  {
   "cell_type": "code",
   "execution_count": null,
   "id": "b2bc9641",
   "metadata": {},
   "outputs": [],
   "source": []
  }
 ],
 "metadata": {
  "kernelspec": {
   "display_name": "Python 3",
   "language": "python",
   "name": "python3"
  },
  "language_info": {
   "codemirror_mode": {
    "name": "ipython",
    "version": 3
   },
   "file_extension": ".py",
   "mimetype": "text/x-python",
   "name": "python",
   "nbconvert_exporter": "python",
   "pygments_lexer": "ipython3",
   "version": "3.8.8"
  }
 },
 "nbformat": 4,
 "nbformat_minor": 5
}
