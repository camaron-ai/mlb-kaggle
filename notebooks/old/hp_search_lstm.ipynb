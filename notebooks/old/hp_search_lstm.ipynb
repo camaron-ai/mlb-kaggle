{
 "cells": [
  {
   "cell_type": "code",
   "execution_count": 1,
   "id": "11a1984e",
   "metadata": {},
   "outputs": [],
   "source": [
    "%load_ext autoreload\n",
    "%autoreload 2\n"
   ]
  },
  {
   "cell_type": "code",
   "execution_count": 2,
   "id": "200bd975",
   "metadata": {},
   "outputs": [],
   "source": [
    "import pandas as pd\n",
    "import numpy as np\n",
    "from matplotlib import pyplot as plt\n",
    "from pathlib import Path\n",
    "import seaborn as sns"
   ]
  },
  {
   "cell_type": "code",
   "execution_count": 3,
   "id": "98b21c10",
   "metadata": {},
   "outputs": [],
   "source": [
    "import os\n",
    "import sys"
   ]
  },
  {
   "cell_type": "code",
   "execution_count": 4,
   "id": "83088198",
   "metadata": {},
   "outputs": [],
   "source": [
    "# chaging directory"
   ]
  },
  {
   "cell_type": "code",
   "execution_count": 5,
   "id": "63a6bace",
   "metadata": {},
   "outputs": [],
   "source": [
    "root, *_ = !pwd"
   ]
  },
  {
   "cell_type": "code",
   "execution_count": 6,
   "id": "0401546d",
   "metadata": {},
   "outputs": [],
   "source": [
    "if root.endswith('notebooks'):\n",
    "    os.chdir('../')\n",
    "    root, *_ = !pwd\n",
    "    sys.path.append('src/')"
   ]
  },
  {
   "cell_type": "code",
   "execution_count": 7,
   "id": "c94d5f75",
   "metadata": {},
   "outputs": [
    {
     "data": {
      "text/plain": [
       "'/home/med/projects/competitions/mlb-kaggle'"
      ]
     },
     "execution_count": 7,
     "metadata": {},
     "output_type": "execute_result"
    }
   ],
   "source": [
    "os.getcwd()"
   ]
  },
  {
   "cell_type": "code",
   "execution_count": 8,
   "id": "bf93f65f",
   "metadata": {},
   "outputs": [
    {
     "data": {
      "text/plain": [
       "True"
      ]
     },
     "execution_count": 8,
     "metadata": {},
     "output_type": "execute_result"
    }
   ],
   "source": [
    "from dotenv import load_dotenv\n",
    "load_dotenv()"
   ]
  },
  {
   "cell_type": "code",
   "execution_count": 9,
   "id": "a0936da3",
   "metadata": {},
   "outputs": [],
   "source": [
    "RAW_PATH = Path(os.environ['RAW_PATH'])"
   ]
  },
  {
   "cell_type": "code",
   "execution_count": 10,
   "id": "e0104b3d",
   "metadata": {},
   "outputs": [
    {
     "data": {
      "text/plain": [
       "['seasons.csv',\n",
       " 'teams.csv',\n",
       " 'example_sample_submission.csv',\n",
       " 'train.csv',\n",
       " 'mlb-player-digital-engagement-forecasting.zip',\n",
       " 'awards.csv',\n",
       " 'players.csv',\n",
       " 'example_test.csv',\n",
       " 'mlb']"
      ]
     },
     "execution_count": 10,
     "metadata": {},
     "output_type": "execute_result"
    }
   ],
   "source": [
    "os.listdir(RAW_PATH)"
   ]
  },
  {
   "cell_type": "code",
   "execution_count": 11,
   "id": "dc5d2beb",
   "metadata": {},
   "outputs": [],
   "source": [
    "train_data = pd.read_csv(RAW_PATH / 'train.csv', parse_dates=['date'])\n",
    "train_data = train_data.set_index('date')"
   ]
  },
  {
   "cell_type": "code",
   "execution_count": 12,
   "id": "3d014845",
   "metadata": {},
   "outputs": [
    {
     "data": {
      "text/html": [
       "<div>\n",
       "<style scoped>\n",
       "    .dataframe tbody tr th:only-of-type {\n",
       "        vertical-align: middle;\n",
       "    }\n",
       "\n",
       "    .dataframe tbody tr th {\n",
       "        vertical-align: top;\n",
       "    }\n",
       "\n",
       "    .dataframe thead th {\n",
       "        text-align: right;\n",
       "    }\n",
       "</style>\n",
       "<table border=\"1\" class=\"dataframe\">\n",
       "  <thead>\n",
       "    <tr style=\"text-align: right;\">\n",
       "      <th></th>\n",
       "      <th>nextDayPlayerEngagement</th>\n",
       "      <th>games</th>\n",
       "      <th>rosters</th>\n",
       "      <th>playerBoxScores</th>\n",
       "      <th>teamBoxScores</th>\n",
       "      <th>transactions</th>\n",
       "      <th>standings</th>\n",
       "      <th>awards</th>\n",
       "      <th>events</th>\n",
       "      <th>playerTwitterFollowers</th>\n",
       "      <th>teamTwitterFollowers</th>\n",
       "    </tr>\n",
       "    <tr>\n",
       "      <th>date</th>\n",
       "      <th></th>\n",
       "      <th></th>\n",
       "      <th></th>\n",
       "      <th></th>\n",
       "      <th></th>\n",
       "      <th></th>\n",
       "      <th></th>\n",
       "      <th></th>\n",
       "      <th></th>\n",
       "      <th></th>\n",
       "      <th></th>\n",
       "    </tr>\n",
       "  </thead>\n",
       "  <tbody>\n",
       "    <tr>\n",
       "      <th>2018-01-01</th>\n",
       "      <td>[{\"engagementMetricsDate\":\"2018-01-02\",\"player...</td>\n",
       "      <td>NaN</td>\n",
       "      <td>[{\"playerId\":400121,\"gameDate\":\"2018-01-01\",\"t...</td>\n",
       "      <td>NaN</td>\n",
       "      <td>NaN</td>\n",
       "      <td>[{\"transactionId\":340732,\"playerId\":547348,\"pl...</td>\n",
       "      <td>NaN</td>\n",
       "      <td>NaN</td>\n",
       "      <td>NaN</td>\n",
       "      <td>[{\"date\":\"2018-01-01\",\"playerId\":545361,\"playe...</td>\n",
       "      <td>[{\"date\":\"2018-01-01\",\"teamId\":147,\"teamName\":...</td>\n",
       "    </tr>\n",
       "    <tr>\n",
       "      <th>2018-01-02</th>\n",
       "      <td>[{\"engagementMetricsDate\":\"2018-01-03\",\"player...</td>\n",
       "      <td>NaN</td>\n",
       "      <td>[{\"playerId\":134181,\"gameDate\":\"2018-01-02\",\"t...</td>\n",
       "      <td>NaN</td>\n",
       "      <td>NaN</td>\n",
       "      <td>[{\"transactionId\":339458,\"playerId\":621173,\"pl...</td>\n",
       "      <td>NaN</td>\n",
       "      <td>NaN</td>\n",
       "      <td>NaN</td>\n",
       "      <td>NaN</td>\n",
       "      <td>NaN</td>\n",
       "    </tr>\n",
       "    <tr>\n",
       "      <th>2018-01-03</th>\n",
       "      <td>[{\"engagementMetricsDate\":\"2018-01-04\",\"player...</td>\n",
       "      <td>NaN</td>\n",
       "      <td>[{\"playerId\":425492,\"gameDate\":\"2018-01-03\",\"t...</td>\n",
       "      <td>NaN</td>\n",
       "      <td>NaN</td>\n",
       "      <td>[{\"transactionId\":347527,\"playerId\":572389,\"pl...</td>\n",
       "      <td>NaN</td>\n",
       "      <td>NaN</td>\n",
       "      <td>NaN</td>\n",
       "      <td>NaN</td>\n",
       "      <td>NaN</td>\n",
       "    </tr>\n",
       "    <tr>\n",
       "      <th>2018-01-04</th>\n",
       "      <td>[{\"engagementMetricsDate\":\"2018-01-05\",\"player...</td>\n",
       "      <td>NaN</td>\n",
       "      <td>[{\"playerId\":282332,\"gameDate\":\"2018-01-04\",\"t...</td>\n",
       "      <td>NaN</td>\n",
       "      <td>NaN</td>\n",
       "      <td>[{\"transactionId\":339549,\"playerId\":545343,\"pl...</td>\n",
       "      <td>NaN</td>\n",
       "      <td>NaN</td>\n",
       "      <td>NaN</td>\n",
       "      <td>NaN</td>\n",
       "      <td>NaN</td>\n",
       "    </tr>\n",
       "    <tr>\n",
       "      <th>2018-01-05</th>\n",
       "      <td>[{\"engagementMetricsDate\":\"2018-01-06\",\"player...</td>\n",
       "      <td>NaN</td>\n",
       "      <td>[{\"playerId\":282332,\"gameDate\":\"2018-01-05\",\"t...</td>\n",
       "      <td>NaN</td>\n",
       "      <td>NaN</td>\n",
       "      <td>[{\"transactionId\":341195,\"playerId\":628336,\"pl...</td>\n",
       "      <td>NaN</td>\n",
       "      <td>NaN</td>\n",
       "      <td>NaN</td>\n",
       "      <td>NaN</td>\n",
       "      <td>NaN</td>\n",
       "    </tr>\n",
       "  </tbody>\n",
       "</table>\n",
       "</div>"
      ],
      "text/plain": [
       "                                      nextDayPlayerEngagement games  \\\n",
       "date                                                                  \n",
       "2018-01-01  [{\"engagementMetricsDate\":\"2018-01-02\",\"player...   NaN   \n",
       "2018-01-02  [{\"engagementMetricsDate\":\"2018-01-03\",\"player...   NaN   \n",
       "2018-01-03  [{\"engagementMetricsDate\":\"2018-01-04\",\"player...   NaN   \n",
       "2018-01-04  [{\"engagementMetricsDate\":\"2018-01-05\",\"player...   NaN   \n",
       "2018-01-05  [{\"engagementMetricsDate\":\"2018-01-06\",\"player...   NaN   \n",
       "\n",
       "                                                      rosters playerBoxScores  \\\n",
       "date                                                                            \n",
       "2018-01-01  [{\"playerId\":400121,\"gameDate\":\"2018-01-01\",\"t...             NaN   \n",
       "2018-01-02  [{\"playerId\":134181,\"gameDate\":\"2018-01-02\",\"t...             NaN   \n",
       "2018-01-03  [{\"playerId\":425492,\"gameDate\":\"2018-01-03\",\"t...             NaN   \n",
       "2018-01-04  [{\"playerId\":282332,\"gameDate\":\"2018-01-04\",\"t...             NaN   \n",
       "2018-01-05  [{\"playerId\":282332,\"gameDate\":\"2018-01-05\",\"t...             NaN   \n",
       "\n",
       "           teamBoxScores                                       transactions  \\\n",
       "date                                                                          \n",
       "2018-01-01           NaN  [{\"transactionId\":340732,\"playerId\":547348,\"pl...   \n",
       "2018-01-02           NaN  [{\"transactionId\":339458,\"playerId\":621173,\"pl...   \n",
       "2018-01-03           NaN  [{\"transactionId\":347527,\"playerId\":572389,\"pl...   \n",
       "2018-01-04           NaN  [{\"transactionId\":339549,\"playerId\":545343,\"pl...   \n",
       "2018-01-05           NaN  [{\"transactionId\":341195,\"playerId\":628336,\"pl...   \n",
       "\n",
       "           standings awards events  \\\n",
       "date                                 \n",
       "2018-01-01       NaN    NaN    NaN   \n",
       "2018-01-02       NaN    NaN    NaN   \n",
       "2018-01-03       NaN    NaN    NaN   \n",
       "2018-01-04       NaN    NaN    NaN   \n",
       "2018-01-05       NaN    NaN    NaN   \n",
       "\n",
       "                                       playerTwitterFollowers  \\\n",
       "date                                                            \n",
       "2018-01-01  [{\"date\":\"2018-01-01\",\"playerId\":545361,\"playe...   \n",
       "2018-01-02                                                NaN   \n",
       "2018-01-03                                                NaN   \n",
       "2018-01-04                                                NaN   \n",
       "2018-01-05                                                NaN   \n",
       "\n",
       "                                         teamTwitterFollowers  \n",
       "date                                                           \n",
       "2018-01-01  [{\"date\":\"2018-01-01\",\"teamId\":147,\"teamName\":...  \n",
       "2018-01-02                                                NaN  \n",
       "2018-01-03                                                NaN  \n",
       "2018-01-04                                                NaN  \n",
       "2018-01-05                                                NaN  "
      ]
     },
     "execution_count": 12,
     "metadata": {},
     "output_type": "execute_result"
    }
   ],
   "source": [
    "train_data.head()"
   ]
  },
  {
   "cell_type": "markdown",
   "id": "3ff122d8",
   "metadata": {},
   "source": [
    "### time and player data "
   ]
  },
  {
   "cell_type": "code",
   "execution_count": 13,
   "id": "55437b97",
   "metadata": {},
   "outputs": [],
   "source": [
    "_players = pd.read_csv(RAW_PATH / 'players.csv')"
   ]
  },
  {
   "cell_type": "code",
   "execution_count": 14,
   "id": "227e12a5",
   "metadata": {},
   "outputs": [],
   "source": [
    "_players['playerForTestSetAndFuturePreds'].fillna(False, inplace=True)"
   ]
  },
  {
   "cell_type": "code",
   "execution_count": 15,
   "id": "b9b686dd",
   "metadata": {},
   "outputs": [],
   "source": [
    "player_in_test = _players.query('playerForTestSetAndFuturePreds')['playerId']"
   ]
  },
  {
   "cell_type": "markdown",
   "id": "f70d340b",
   "metadata": {},
   "source": [
    "### target "
   ]
  },
  {
   "cell_type": "code",
   "execution_count": 16,
   "id": "7280912f",
   "metadata": {},
   "outputs": [],
   "source": [
    "from data.ingest_data import ingest_target, ingest_features\n",
    "from data.util import filter_by_date, filter_by_id"
   ]
  },
  {
   "cell_type": "code",
   "execution_count": 17,
   "id": "c7236a63",
   "metadata": {},
   "outputs": [
    {
     "name": "stdout",
     "output_type": "stream",
     "text": [
      "preprocessing target\n",
      "CPU times: user 15.4 s, sys: 0 ns, total: 15.4 s\n",
      "Wall time: 15.5 s\n"
     ]
    }
   ],
   "source": [
    "%time target = ingest_target(train_data)"
   ]
  },
  {
   "cell_type": "code",
   "execution_count": 18,
   "id": "3022300a",
   "metadata": {},
   "outputs": [
    {
     "data": {
      "text/html": [
       "<div>\n",
       "<style scoped>\n",
       "    .dataframe tbody tr th:only-of-type {\n",
       "        vertical-align: middle;\n",
       "    }\n",
       "\n",
       "    .dataframe tbody tr th {\n",
       "        vertical-align: top;\n",
       "    }\n",
       "\n",
       "    .dataframe thead th {\n",
       "        text-align: right;\n",
       "    }\n",
       "</style>\n",
       "<table border=\"1\" class=\"dataframe\">\n",
       "  <thead>\n",
       "    <tr style=\"text-align: right;\">\n",
       "      <th></th>\n",
       "      <th>playerId</th>\n",
       "      <th>target1</th>\n",
       "      <th>target2</th>\n",
       "      <th>target3</th>\n",
       "      <th>target4</th>\n",
       "      <th>date</th>\n",
       "      <th>target_avg</th>\n",
       "    </tr>\n",
       "  </thead>\n",
       "  <tbody>\n",
       "    <tr>\n",
       "      <th>0</th>\n",
       "      <td>112526</td>\n",
       "      <td>0.055277</td>\n",
       "      <td>5.496109</td>\n",
       "      <td>0.025839</td>\n",
       "      <td>16.176471</td>\n",
       "      <td>2018-01-01</td>\n",
       "      <td>5.438424</td>\n",
       "    </tr>\n",
       "    <tr>\n",
       "      <th>1</th>\n",
       "      <td>112526</td>\n",
       "      <td>0.060625</td>\n",
       "      <td>3.252914</td>\n",
       "      <td>0.030486</td>\n",
       "      <td>8.541353</td>\n",
       "      <td>2018-01-02</td>\n",
       "      <td>2.971345</td>\n",
       "    </tr>\n",
       "    <tr>\n",
       "      <th>2</th>\n",
       "      <td>112526</td>\n",
       "      <td>0.029341</td>\n",
       "      <td>1.648352</td>\n",
       "      <td>0.032613</td>\n",
       "      <td>10.490112</td>\n",
       "      <td>2018-01-03</td>\n",
       "      <td>3.050104</td>\n",
       "    </tr>\n",
       "    <tr>\n",
       "      <th>3</th>\n",
       "      <td>112526</td>\n",
       "      <td>0.014799</td>\n",
       "      <td>2.665894</td>\n",
       "      <td>0.087422</td>\n",
       "      <td>19.091467</td>\n",
       "      <td>2018-01-04</td>\n",
       "      <td>5.464896</td>\n",
       "    </tr>\n",
       "    <tr>\n",
       "      <th>4</th>\n",
       "      <td>112526</td>\n",
       "      <td>0.083916</td>\n",
       "      <td>1.161002</td>\n",
       "      <td>0.024759</td>\n",
       "      <td>6.643880</td>\n",
       "      <td>2018-01-05</td>\n",
       "      <td>1.978389</td>\n",
       "    </tr>\n",
       "  </tbody>\n",
       "</table>\n",
       "</div>"
      ],
      "text/plain": [
       "   playerId   target1   target2   target3    target4       date  target_avg\n",
       "0    112526  0.055277  5.496109  0.025839  16.176471 2018-01-01    5.438424\n",
       "1    112526  0.060625  3.252914  0.030486   8.541353 2018-01-02    2.971345\n",
       "2    112526  0.029341  1.648352  0.032613  10.490112 2018-01-03    3.050104\n",
       "3    112526  0.014799  2.665894  0.087422  19.091467 2018-01-04    5.464896\n",
       "4    112526  0.083916  1.161002  0.024759   6.643880 2018-01-05    1.978389"
      ]
     },
     "execution_count": 18,
     "metadata": {},
     "output_type": "execute_result"
    }
   ],
   "source": [
    "target.head()"
   ]
  },
  {
   "cell_type": "code",
   "execution_count": 19,
   "id": "118310db",
   "metadata": {},
   "outputs": [],
   "source": [
    "df = target.copy()"
   ]
  },
  {
   "cell_type": "code",
   "execution_count": 20,
   "id": "6bc7884b",
   "metadata": {},
   "outputs": [],
   "source": [
    "df = filter_by_id(df, player_in_test)"
   ]
  },
  {
   "cell_type": "code",
   "execution_count": 21,
   "id": "089a8067",
   "metadata": {},
   "outputs": [],
   "source": [
    "playerList = df.groupby(['playerId'])['target_avg'].std().sort_values(ascending=False).reset_index()"
   ]
  },
  {
   "cell_type": "code",
   "execution_count": 22,
   "id": "9d60fcc8",
   "metadata": {},
   "outputs": [
    {
     "data": {
      "text/html": [
       "<div>\n",
       "<style scoped>\n",
       "    .dataframe tbody tr th:only-of-type {\n",
       "        vertical-align: middle;\n",
       "    }\n",
       "\n",
       "    .dataframe tbody tr th {\n",
       "        vertical-align: top;\n",
       "    }\n",
       "\n",
       "    .dataframe thead th {\n",
       "        text-align: right;\n",
       "    }\n",
       "</style>\n",
       "<table border=\"1\" class=\"dataframe\">\n",
       "  <thead>\n",
       "    <tr style=\"text-align: right;\">\n",
       "      <th></th>\n",
       "      <th>playerId</th>\n",
       "      <th>target_avg</th>\n",
       "    </tr>\n",
       "  </thead>\n",
       "  <tbody>\n",
       "    <tr>\n",
       "      <th>0</th>\n",
       "      <td>547180</td>\n",
       "      <td>18.775985</td>\n",
       "    </tr>\n",
       "    <tr>\n",
       "      <th>1</th>\n",
       "      <td>660271</td>\n",
       "      <td>18.055585</td>\n",
       "    </tr>\n",
       "    <tr>\n",
       "      <th>2</th>\n",
       "      <td>545361</td>\n",
       "      <td>17.410036</td>\n",
       "    </tr>\n",
       "    <tr>\n",
       "      <th>3</th>\n",
       "      <td>605141</td>\n",
       "      <td>17.236386</td>\n",
       "    </tr>\n",
       "    <tr>\n",
       "      <th>4</th>\n",
       "      <td>592450</td>\n",
       "      <td>16.850044</td>\n",
       "    </tr>\n",
       "    <tr>\n",
       "      <th>...</th>\n",
       "      <td>...</td>\n",
       "      <td>...</td>\n",
       "    </tr>\n",
       "    <tr>\n",
       "      <th>1182</th>\n",
       "      <td>593590</td>\n",
       "      <td>0.119988</td>\n",
       "    </tr>\n",
       "    <tr>\n",
       "      <th>1183</th>\n",
       "      <td>656458</td>\n",
       "      <td>0.115664</td>\n",
       "    </tr>\n",
       "    <tr>\n",
       "      <th>1184</th>\n",
       "      <td>676424</td>\n",
       "      <td>0.094298</td>\n",
       "    </tr>\n",
       "    <tr>\n",
       "      <th>1185</th>\n",
       "      <td>641927</td>\n",
       "      <td>0.086976</td>\n",
       "    </tr>\n",
       "    <tr>\n",
       "      <th>1186</th>\n",
       "      <td>547001</td>\n",
       "      <td>0.058783</td>\n",
       "    </tr>\n",
       "  </tbody>\n",
       "</table>\n",
       "<p>1187 rows × 2 columns</p>\n",
       "</div>"
      ],
      "text/plain": [
       "      playerId  target_avg\n",
       "0       547180   18.775985\n",
       "1       660271   18.055585\n",
       "2       545361   17.410036\n",
       "3       605141   17.236386\n",
       "4       592450   16.850044\n",
       "...        ...         ...\n",
       "1182    593590    0.119988\n",
       "1183    656458    0.115664\n",
       "1184    676424    0.094298\n",
       "1185    641927    0.086976\n",
       "1186    547001    0.058783\n",
       "\n",
       "[1187 rows x 2 columns]"
      ]
     },
     "execution_count": 22,
     "metadata": {},
     "output_type": "execute_result"
    }
   ],
   "source": [
    "playerList"
   ]
  },
  {
   "cell_type": "code",
   "execution_count": 23,
   "id": "cfb6234f",
   "metadata": {},
   "outputs": [],
   "source": [
    "# df = filter_by_id(df, playerList['playerId'].head(10))"
   ]
  },
  {
   "cell_type": "code",
   "execution_count": 24,
   "id": "c5afd925",
   "metadata": {},
   "outputs": [
    {
     "data": {
      "text/plain": [
       "1187"
      ]
     },
     "execution_count": 24,
     "metadata": {},
     "output_type": "execute_result"
    }
   ],
   "source": [
    "df.playerId.nunique()"
   ]
  },
  {
   "cell_type": "code",
   "execution_count": 25,
   "id": "ec5c1528",
   "metadata": {},
   "outputs": [],
   "source": [
    "# player stats"
   ]
  },
  {
   "cell_type": "code",
   "execution_count": 26,
   "id": "4e5aeb81",
   "metadata": {},
   "outputs": [
    {
     "data": {
      "text/plain": [
       "Index(['nextDayPlayerEngagement', 'games', 'rosters', 'playerBoxScores',\n",
       "       'teamBoxScores', 'transactions', 'standings', 'awards', 'events',\n",
       "       'playerTwitterFollowers', 'teamTwitterFollowers'],\n",
       "      dtype='object')"
      ]
     },
     "execution_count": 26,
     "metadata": {},
     "output_type": "execute_result"
    }
   ],
   "source": [
    "train_data.columns"
   ]
  },
  {
   "cell_type": "code",
   "execution_count": 27,
   "id": "74499c72",
   "metadata": {},
   "outputs": [],
   "source": [
    "df = ingest_features(df, train_data)"
   ]
  },
  {
   "cell_type": "code",
   "execution_count": 28,
   "id": "13b0e92d",
   "metadata": {},
   "outputs": [],
   "source": [
    "# del train_data"
   ]
  },
  {
   "cell_type": "markdown",
   "id": "479877f4",
   "metadata": {},
   "source": [
    "### preprocessing "
   ]
  },
  {
   "cell_type": "code",
   "execution_count": 29,
   "id": "d120ad18",
   "metadata": {},
   "outputs": [],
   "source": [
    "from typing import List\n",
    "def forward_fill(df: pd.DataFrame, features: List[str],\n",
    "                 on='playerId',\n",
    "                 limit: int =None):\n",
    "    ffilled_df = df.groupby(on)[features].ffill(limit=limit)\n",
    "    df.loc[:, features] = ffilled_df\n",
    "    return df"
   ]
  },
  {
   "cell_type": "code",
   "execution_count": 30,
   "id": "a413b1ad",
   "metadata": {},
   "outputs": [],
   "source": [
    "def gen_hardcoded_features(df: pd.DataFrame):\n",
    "    # some feature eng for the dates\n",
    "    df['playerAge'] = (df['date'] - df['DOB']).dt.total_seconds()\n",
    "    df['playerTSinceDebut'] = (df['date'] - df['mlbDebutDate']).dt.total_seconds()\n",
    "    df['playerDebutAge'] = (df['mlbDebutDate'] - df['DOB']).dt.total_seconds()\n",
    "    df['rostersTime'] = (df['date'] - pd.to_datetime(df['rosterDate'])).dt.total_seconds()\n",
    "    df['rostersTime'] /= 60 * 60 * 24\n",
    "    # normalize\n",
    "    df[['playerAge', 'playerTSinceDebut', 'playerDebutAge']] /= 60 * 60 * 24 * 365\n",
    "    df['AwardWinner'] = df['awardId'].isna().astype(np.float32)\n",
    "    return df"
   ]
  },
  {
   "cell_type": "code",
   "execution_count": 31,
   "id": "9f25e15b",
   "metadata": {},
   "outputs": [],
   "source": [
    "def fillna(df: pd.DataFrame, fill_value=-1):\n",
    "    return df.fillna(-1)"
   ]
  },
  {
   "cell_type": "code",
   "execution_count": 32,
   "id": "405d0362",
   "metadata": {},
   "outputs": [],
   "source": [
    "from pipeline.core import FunctionTransformer, Pipeline, PdColumnTransformer, PdFeatureUnion\n",
    "from pipeline.continuous import PdScaleNorm, FilterContinuousFeatures, MedianFillNaN\n",
    "from pipeline.stats import StatisticGen, LagGen, FeaturesTable\n",
    "from pipeline.categories import Categorify\n",
    "from pipeline.season import join_season_info\n",
    "from pipeline.players import join_players_info"
   ]
  },
  {
   "cell_type": "code",
   "execution_count": 33,
   "id": "39c0cd31",
   "metadata": {},
   "outputs": [],
   "source": [
    "# transformer for joining data and create base features\n",
    "fill_forward_tmf = FunctionTransformer(forward_fill, kw_args={'features':['numberOfFollowers',\n",
    "                                                                        'teamFollowers',\n",
    "                                                                        'status',\n",
    "                                                                        'teamId', 'rosterDate']})\n",
    "join_season_tmf = FunctionTransformer(join_season_info,\n",
    "                                      kw_args={'path_to_season': RAW_PATH / 'seasons.csv',\n",
    "                                             'date_attr': ['year', 'month']})\n",
    "join_players_tmf = FunctionTransformer(join_players_info, kw_args={'path_to_players': RAW_PATH / 'players.csv'})\n",
    "harcoded_feat_tmf = FunctionTransformer(gen_hardcoded_features)"
   ]
  },
  {
   "cell_type": "code",
   "execution_count": 34,
   "id": "ec950535",
   "metadata": {},
   "outputs": [],
   "source": [
    "# creating pipeline\n",
    "join_and_compute_feat_pl = Pipeline([('season', join_season_tmf),\n",
    "                                     ('players', join_players_tmf),\n",
    "                                     ('fill_forward', fill_forward_tmf),\n",
    "                                     ('hardcoded_feat', harcoded_feat_tmf)])"
   ]
  },
  {
   "cell_type": "code",
   "execution_count": 35,
   "id": "7de21ce9",
   "metadata": {},
   "outputs": [],
   "source": [
    "# features to use for target preprocessing\n",
    "target_cols = ['target1', 'target2', 'target3', 'target4']\n",
    "index_cols = ['date', 'playerId']\n",
    "pp_cols = target_cols + index_cols"
   ]
  },
  {
   "cell_type": "code",
   "execution_count": 36,
   "id": "a63be58f",
   "metadata": {},
   "outputs": [],
   "source": [
    "# categories encoding\n",
    "categories = ['playerId', 'seasonPart', 'year',\n",
    "              'primaryPositionName', 'month', 'status', 'teamId', 'awardId']\n",
    "\n",
    "categories_tmf = PdColumnTransformer([(category, Categorify(add_nan=True), category)\n",
    "                                       for category in categories])"
   ]
  },
  {
   "cell_type": "code",
   "execution_count": 37,
   "id": "6ce0ccd6",
   "metadata": {},
   "outputs": [],
   "source": [
    "# target statistics\n",
    "\n",
    "stats_gen_tmf = StatisticGen(stats=['mean', 'median', 'std'],\n",
    "                             windows=[90],\n",
    "                             drop_index=True)\n",
    "stats_lagger_tmf = LagGen(lags=[1, 60], drop_index=False)\n",
    "\n",
    "# create mean and median stats after lagging the target 1 day\n",
    "stats_lagger_tmf = Pipeline([('lags', stats_lagger_tmf),\n",
    "                             ('stats', stats_gen_tmf),\n",
    "                             ('fillnan', FunctionTransformer(fillna)),\n",
    "                             ('normalize', PdScaleNorm())])\n",
    "\n",
    "# last 11 days as features\n",
    "lagger_tmf = Pipeline([('lags', LagGen(lags=[1])),\n",
    "                       ('fillnan', FunctionTransformer(fillna)),\n",
    "                       ('normalize', PdScaleNorm())])\n",
    "\n",
    "\n",
    "target_stats_tmf = PdColumnTransformer([\n",
    "    ('lags_stats', stats_lagger_tmf, pp_cols),\n",
    "    ('lags', lagger_tmf, pp_cols)\n",
    "                                  ])"
   ]
  },
  {
   "cell_type": "code",
   "execution_count": 38,
   "id": "f5374f64",
   "metadata": {},
   "outputs": [],
   "source": [
    "# continuous preprocessing\n",
    "\n",
    "median_fillnan_columns = ['numberOfFollowers', 'teamFollowers',\n",
    "                          'playerDebutAge', 'playerAge', 'playerTSinceDebut']\n",
    "fillnan_median_tmf = MedianFillNaN(median_fillnan_columns)\n",
    "\n",
    "# get the rest of the continuous features\n",
    "continuous_feat_tmf = Pipeline([('get_cont_feat', FilterContinuousFeatures()),\n",
    "                                ('fillnan_median', fillnan_median_tmf),\n",
    "                                ('fillnan', FunctionTransformer(fillna)),\n",
    "                                ('normalize', PdScaleNorm())\n",
    "                               ])"
   ]
  },
  {
   "cell_type": "code",
   "execution_count": 39,
   "id": "7e05794e",
   "metadata": {},
   "outputs": [],
   "source": [
    "# putting all together\n",
    "all_features_tmf = PdFeatureUnion([('target_stats', target_stats_tmf), \n",
    "                                   ('cont_feat', continuous_feat_tmf), \n",
    "                                  ('cats', categories_tmf)\n",
    "                                  ])"
   ]
  },
  {
   "cell_type": "code",
   "execution_count": 40,
   "id": "6ced9f55",
   "metadata": {},
   "outputs": [],
   "source": [
    "# main pipeline with all steps \n",
    "pipeline = Pipeline([('join_compute', join_and_compute_feat_pl),\n",
    "                    ('features_gen', all_features_tmf)])"
   ]
  },
  {
   "cell_type": "code",
   "execution_count": 41,
   "id": "9419c51d",
   "metadata": {},
   "outputs": [],
   "source": [
    "from data.split import *"
   ]
  },
  {
   "cell_type": "code",
   "execution_count": 42,
   "id": "9c1b57a6",
   "metadata": {},
   "outputs": [],
   "source": [
    "sp = SplitData(\"2021-03-01\", test_days=61)"
   ]
  },
  {
   "cell_type": "code",
   "execution_count": 43,
   "id": "6e3195f3",
   "metadata": {},
   "outputs": [],
   "source": [
    "train_idx = sp.train_idx(df)\n",
    "valid_idx = sp.valid_idx(df)"
   ]
  },
  {
   "cell_type": "code",
   "execution_count": 44,
   "id": "4eccead6",
   "metadata": {},
   "outputs": [
    {
     "name": "stdout",
     "output_type": "stream",
     "text": [
      "CPU times: user 30.1 s, sys: 3.51 s, total: 33.6 s\n",
      "Wall time: 33.8 s\n"
     ]
    },
    {
     "data": {
      "text/plain": [
       "Pipeline(steps=[('join_compute',\n",
       "                 Pipeline(steps=[('season',\n",
       "                                  FunctionTransformer(func=<function join_season_info at 0x7fc5439fc3a0>,\n",
       "                                                      kw_args={'date_attr': ['year',\n",
       "                                                                             'month'],\n",
       "                                                               'path_to_season': PosixPath('data/raw/seasons.csv')})),\n",
       "                                 ('players',\n",
       "                                  FunctionTransformer(func=<function join_players_info at 0x7fc5439fc4c0>,\n",
       "                                                      kw_args={'path_to_players': PosixPath('data/raw/playe...\n",
       "                                                                                     ('seasonPart',\n",
       "                                                                                      Categorify(add_nan=True),\n",
       "                                                                                      'seasonPart'),\n",
       "                                                                                     ('year',\n",
       "                                                                                      Categorify(add_nan=True),\n",
       "                                                                                      'year'),\n",
       "                                                                                     ('primaryPositionName',\n",
       "                                                                                      Categorify(add_nan=True),\n",
       "                                                                                      'primaryPositionName'),\n",
       "                                                                                     ('month',\n",
       "                                                                                      Categorify(add_nan=True),\n",
       "                                                                                      'month'),\n",
       "                                                                                     ('status',\n",
       "                                                                                      Categorify(add_nan=True),\n",
       "                                                                                      'status'),\n",
       "                                                                                     ('teamId',\n",
       "                                                                                      Categorify(add_nan=True),\n",
       "                                                                                      'teamId'),\n",
       "                                                                                     ('awardId',\n",
       "                                                                                      Categorify(add_nan=True),\n",
       "                                                                                      'awardId')]))]))])"
      ]
     },
     "execution_count": 44,
     "metadata": {},
     "output_type": "execute_result"
    }
   ],
   "source": [
    "%%time\n",
    "pipeline.fit(sp.filter(df, train_idx))"
   ]
  },
  {
   "cell_type": "code",
   "execution_count": 45,
   "id": "a5498e0e",
   "metadata": {
    "scrolled": true
   },
   "outputs": [
    {
     "name": "stdout",
     "output_type": "stream",
     "text": [
      "CPU times: user 29.7 s, sys: 3.92 s, total: 33.6 s\n",
      "Wall time: 33.7 s\n"
     ]
    }
   ],
   "source": [
    "%%time\n",
    "features = pipeline.transform(df)"
   ]
  },
  {
   "cell_type": "code",
   "execution_count": 46,
   "id": "ec154d68",
   "metadata": {},
   "outputs": [
    {
     "data": {
      "text/html": [
       "<div>\n",
       "<style scoped>\n",
       "    .dataframe tbody tr th:only-of-type {\n",
       "        vertical-align: middle;\n",
       "    }\n",
       "\n",
       "    .dataframe tbody tr th {\n",
       "        vertical-align: top;\n",
       "    }\n",
       "\n",
       "    .dataframe thead th {\n",
       "        text-align: right;\n",
       "    }\n",
       "</style>\n",
       "<table border=\"1\" class=\"dataframe\">\n",
       "  <thead>\n",
       "    <tr style=\"text-align: right;\">\n",
       "      <th></th>\n",
       "      <th>0</th>\n",
       "      <th>1</th>\n",
       "      <th>2</th>\n",
       "      <th>3</th>\n",
       "      <th>4</th>\n",
       "      <th>5</th>\n",
       "      <th>6</th>\n",
       "      <th>7</th>\n",
       "      <th>8</th>\n",
       "      <th>9</th>\n",
       "      <th>...</th>\n",
       "      <th>1443382</th>\n",
       "      <th>1443383</th>\n",
       "      <th>1443384</th>\n",
       "      <th>1443385</th>\n",
       "      <th>1443386</th>\n",
       "      <th>1443387</th>\n",
       "      <th>1443388</th>\n",
       "      <th>1443389</th>\n",
       "      <th>1443390</th>\n",
       "      <th>1443391</th>\n",
       "    </tr>\n",
       "  </thead>\n",
       "  <tbody>\n",
       "    <tr>\n",
       "      <th>target1__1lag__mean__90d</th>\n",
       "      <td>0.0</td>\n",
       "      <td>0.011405</td>\n",
       "      <td>0.011328</td>\n",
       "      <td>0.011065</td>\n",
       "      <td>0.010834</td>\n",
       "      <td>0.010959</td>\n",
       "      <td>0.010826</td>\n",
       "      <td>0.010719</td>\n",
       "      <td>0.010636</td>\n",
       "      <td>0.010575</td>\n",
       "      <td>...</td>\n",
       "      <td>0.014701</td>\n",
       "      <td>0.014728</td>\n",
       "      <td>0.014740</td>\n",
       "      <td>0.014745</td>\n",
       "      <td>0.014752</td>\n",
       "      <td>0.014761</td>\n",
       "      <td>0.014766</td>\n",
       "      <td>0.014768</td>\n",
       "      <td>0.014769</td>\n",
       "      <td>0.014772</td>\n",
       "    </tr>\n",
       "    <tr>\n",
       "      <th>target1__1lag__median__90d</th>\n",
       "      <td>0.0</td>\n",
       "      <td>0.011405</td>\n",
       "      <td>0.011328</td>\n",
       "      <td>0.011252</td>\n",
       "      <td>0.010895</td>\n",
       "      <td>0.011252</td>\n",
       "      <td>0.010895</td>\n",
       "      <td>0.010539</td>\n",
       "      <td>0.010349</td>\n",
       "      <td>0.010160</td>\n",
       "      <td>...</td>\n",
       "      <td>0.009947</td>\n",
       "      <td>0.009959</td>\n",
       "      <td>0.009968</td>\n",
       "      <td>0.009975</td>\n",
       "      <td>0.009986</td>\n",
       "      <td>0.009996</td>\n",
       "      <td>0.010007</td>\n",
       "      <td>0.010021</td>\n",
       "      <td>0.010029</td>\n",
       "      <td>0.010032</td>\n",
       "    </tr>\n",
       "    <tr>\n",
       "      <th>target1__1lag__std__90d</th>\n",
       "      <td>0.0</td>\n",
       "      <td>0.000000</td>\n",
       "      <td>0.014141</td>\n",
       "      <td>0.014640</td>\n",
       "      <td>0.014830</td>\n",
       "      <td>0.014818</td>\n",
       "      <td>0.014862</td>\n",
       "      <td>0.014881</td>\n",
       "      <td>0.014879</td>\n",
       "      <td>0.014861</td>\n",
       "      <td>...</td>\n",
       "      <td>0.039648</td>\n",
       "      <td>0.039640</td>\n",
       "      <td>0.039636</td>\n",
       "      <td>0.039634</td>\n",
       "      <td>0.039632</td>\n",
       "      <td>0.039629</td>\n",
       "      <td>0.039627</td>\n",
       "      <td>0.039626</td>\n",
       "      <td>0.039626</td>\n",
       "      <td>0.039625</td>\n",
       "    </tr>\n",
       "    <tr>\n",
       "      <th>target2__1lag__mean__90d</th>\n",
       "      <td>0.0</td>\n",
       "      <td>0.222271</td>\n",
       "      <td>0.170436</td>\n",
       "      <td>0.147374</td>\n",
       "      <td>0.138181</td>\n",
       "      <td>0.121029</td>\n",
       "      <td>0.117314</td>\n",
       "      <td>0.157410</td>\n",
       "      <td>0.168022</td>\n",
       "      <td>0.162968</td>\n",
       "      <td>...</td>\n",
       "      <td>0.083101</td>\n",
       "      <td>0.083237</td>\n",
       "      <td>0.083292</td>\n",
       "      <td>0.083590</td>\n",
       "      <td>0.085297</td>\n",
       "      <td>0.085326</td>\n",
       "      <td>0.085406</td>\n",
       "      <td>0.085479</td>\n",
       "      <td>0.085908</td>\n",
       "      <td>0.089355</td>\n",
       "    </tr>\n",
       "    <tr>\n",
       "      <th>target2__1lag__median__90d</th>\n",
       "      <td>0.0</td>\n",
       "      <td>0.222271</td>\n",
       "      <td>0.170436</td>\n",
       "      <td>0.118600</td>\n",
       "      <td>0.114602</td>\n",
       "      <td>0.110604</td>\n",
       "      <td>0.105927</td>\n",
       "      <td>0.110604</td>\n",
       "      <td>0.114602</td>\n",
       "      <td>0.118600</td>\n",
       "      <td>...</td>\n",
       "      <td>0.053724</td>\n",
       "      <td>0.053724</td>\n",
       "      <td>0.053724</td>\n",
       "      <td>0.053724</td>\n",
       "      <td>0.053948</td>\n",
       "      <td>0.053948</td>\n",
       "      <td>0.053948</td>\n",
       "      <td>0.053948</td>\n",
       "      <td>0.053948</td>\n",
       "      <td>0.054093</td>\n",
       "    </tr>\n",
       "    <tr>\n",
       "      <th>...</th>\n",
       "      <td>...</td>\n",
       "      <td>...</td>\n",
       "      <td>...</td>\n",
       "      <td>...</td>\n",
       "      <td>...</td>\n",
       "      <td>...</td>\n",
       "      <td>...</td>\n",
       "      <td>...</td>\n",
       "      <td>...</td>\n",
       "      <td>...</td>\n",
       "      <td>...</td>\n",
       "      <td>...</td>\n",
       "      <td>...</td>\n",
       "      <td>...</td>\n",
       "      <td>...</td>\n",
       "      <td>...</td>\n",
       "      <td>...</td>\n",
       "      <td>...</td>\n",
       "      <td>...</td>\n",
       "      <td>...</td>\n",
       "      <td>...</td>\n",
       "    </tr>\n",
       "    <tr>\n",
       "      <th>primaryPositionName</th>\n",
       "      <td>3.0</td>\n",
       "      <td>3.000000</td>\n",
       "      <td>3.000000</td>\n",
       "      <td>3.000000</td>\n",
       "      <td>3.000000</td>\n",
       "      <td>3.000000</td>\n",
       "      <td>3.000000</td>\n",
       "      <td>3.000000</td>\n",
       "      <td>3.000000</td>\n",
       "      <td>3.000000</td>\n",
       "      <td>...</td>\n",
       "      <td>6.000000</td>\n",
       "      <td>6.000000</td>\n",
       "      <td>6.000000</td>\n",
       "      <td>6.000000</td>\n",
       "      <td>6.000000</td>\n",
       "      <td>6.000000</td>\n",
       "      <td>6.000000</td>\n",
       "      <td>6.000000</td>\n",
       "      <td>6.000000</td>\n",
       "      <td>6.000000</td>\n",
       "    </tr>\n",
       "    <tr>\n",
       "      <th>month</th>\n",
       "      <td>1.0</td>\n",
       "      <td>1.000000</td>\n",
       "      <td>1.000000</td>\n",
       "      <td>1.000000</td>\n",
       "      <td>1.000000</td>\n",
       "      <td>1.000000</td>\n",
       "      <td>1.000000</td>\n",
       "      <td>1.000000</td>\n",
       "      <td>1.000000</td>\n",
       "      <td>1.000000</td>\n",
       "      <td>...</td>\n",
       "      <td>4.000000</td>\n",
       "      <td>4.000000</td>\n",
       "      <td>4.000000</td>\n",
       "      <td>4.000000</td>\n",
       "      <td>4.000000</td>\n",
       "      <td>4.000000</td>\n",
       "      <td>4.000000</td>\n",
       "      <td>4.000000</td>\n",
       "      <td>4.000000</td>\n",
       "      <td>4.000000</td>\n",
       "    </tr>\n",
       "    <tr>\n",
       "      <th>status</th>\n",
       "      <td>1.0</td>\n",
       "      <td>1.000000</td>\n",
       "      <td>1.000000</td>\n",
       "      <td>1.000000</td>\n",
       "      <td>1.000000</td>\n",
       "      <td>1.000000</td>\n",
       "      <td>1.000000</td>\n",
       "      <td>1.000000</td>\n",
       "      <td>1.000000</td>\n",
       "      <td>1.000000</td>\n",
       "      <td>...</td>\n",
       "      <td>1.000000</td>\n",
       "      <td>1.000000</td>\n",
       "      <td>1.000000</td>\n",
       "      <td>1.000000</td>\n",
       "      <td>1.000000</td>\n",
       "      <td>1.000000</td>\n",
       "      <td>1.000000</td>\n",
       "      <td>1.000000</td>\n",
       "      <td>1.000000</td>\n",
       "      <td>1.000000</td>\n",
       "    </tr>\n",
       "    <tr>\n",
       "      <th>teamId</th>\n",
       "      <td>1.0</td>\n",
       "      <td>1.000000</td>\n",
       "      <td>1.000000</td>\n",
       "      <td>1.000000</td>\n",
       "      <td>1.000000</td>\n",
       "      <td>1.000000</td>\n",
       "      <td>1.000000</td>\n",
       "      <td>1.000000</td>\n",
       "      <td>1.000000</td>\n",
       "      <td>1.000000</td>\n",
       "      <td>...</td>\n",
       "      <td>22.000000</td>\n",
       "      <td>22.000000</td>\n",
       "      <td>22.000000</td>\n",
       "      <td>22.000000</td>\n",
       "      <td>22.000000</td>\n",
       "      <td>22.000000</td>\n",
       "      <td>22.000000</td>\n",
       "      <td>22.000000</td>\n",
       "      <td>22.000000</td>\n",
       "      <td>22.000000</td>\n",
       "    </tr>\n",
       "    <tr>\n",
       "      <th>awardId</th>\n",
       "      <td>0.0</td>\n",
       "      <td>0.000000</td>\n",
       "      <td>0.000000</td>\n",
       "      <td>0.000000</td>\n",
       "      <td>0.000000</td>\n",
       "      <td>0.000000</td>\n",
       "      <td>0.000000</td>\n",
       "      <td>0.000000</td>\n",
       "      <td>0.000000</td>\n",
       "      <td>0.000000</td>\n",
       "      <td>...</td>\n",
       "      <td>0.000000</td>\n",
       "      <td>0.000000</td>\n",
       "      <td>0.000000</td>\n",
       "      <td>0.000000</td>\n",
       "      <td>0.000000</td>\n",
       "      <td>0.000000</td>\n",
       "      <td>0.000000</td>\n",
       "      <td>0.000000</td>\n",
       "      <td>0.000000</td>\n",
       "      <td>0.000000</td>\n",
       "    </tr>\n",
       "  </tbody>\n",
       "</table>\n",
       "<p>118 rows × 1443392 columns</p>\n",
       "</div>"
      ],
      "text/plain": [
       "                            0         1         2         3         4        \\\n",
       "target1__1lag__mean__90d        0.0  0.011405  0.011328  0.011065  0.010834   \n",
       "target1__1lag__median__90d      0.0  0.011405  0.011328  0.011252  0.010895   \n",
       "target1__1lag__std__90d         0.0  0.000000  0.014141  0.014640  0.014830   \n",
       "target2__1lag__mean__90d        0.0  0.222271  0.170436  0.147374  0.138181   \n",
       "target2__1lag__median__90d      0.0  0.222271  0.170436  0.118600  0.114602   \n",
       "...                             ...       ...       ...       ...       ...   \n",
       "primaryPositionName             3.0  3.000000  3.000000  3.000000  3.000000   \n",
       "month                           1.0  1.000000  1.000000  1.000000  1.000000   \n",
       "status                          1.0  1.000000  1.000000  1.000000  1.000000   \n",
       "teamId                          1.0  1.000000  1.000000  1.000000  1.000000   \n",
       "awardId                         0.0  0.000000  0.000000  0.000000  0.000000   \n",
       "\n",
       "                             5         6         7         8         9        \\\n",
       "target1__1lag__mean__90d    0.010959  0.010826  0.010719  0.010636  0.010575   \n",
       "target1__1lag__median__90d  0.011252  0.010895  0.010539  0.010349  0.010160   \n",
       "target1__1lag__std__90d     0.014818  0.014862  0.014881  0.014879  0.014861   \n",
       "target2__1lag__mean__90d    0.121029  0.117314  0.157410  0.168022  0.162968   \n",
       "target2__1lag__median__90d  0.110604  0.105927  0.110604  0.114602  0.118600   \n",
       "...                              ...       ...       ...       ...       ...   \n",
       "primaryPositionName         3.000000  3.000000  3.000000  3.000000  3.000000   \n",
       "month                       1.000000  1.000000  1.000000  1.000000  1.000000   \n",
       "status                      1.000000  1.000000  1.000000  1.000000  1.000000   \n",
       "teamId                      1.000000  1.000000  1.000000  1.000000  1.000000   \n",
       "awardId                     0.000000  0.000000  0.000000  0.000000  0.000000   \n",
       "\n",
       "                            ...    1443382    1443383    1443384    1443385  \\\n",
       "target1__1lag__mean__90d    ...   0.014701   0.014728   0.014740   0.014745   \n",
       "target1__1lag__median__90d  ...   0.009947   0.009959   0.009968   0.009975   \n",
       "target1__1lag__std__90d     ...   0.039648   0.039640   0.039636   0.039634   \n",
       "target2__1lag__mean__90d    ...   0.083101   0.083237   0.083292   0.083590   \n",
       "target2__1lag__median__90d  ...   0.053724   0.053724   0.053724   0.053724   \n",
       "...                         ...        ...        ...        ...        ...   \n",
       "primaryPositionName         ...   6.000000   6.000000   6.000000   6.000000   \n",
       "month                       ...   4.000000   4.000000   4.000000   4.000000   \n",
       "status                      ...   1.000000   1.000000   1.000000   1.000000   \n",
       "teamId                      ...  22.000000  22.000000  22.000000  22.000000   \n",
       "awardId                     ...   0.000000   0.000000   0.000000   0.000000   \n",
       "\n",
       "                              1443386    1443387    1443388    1443389  \\\n",
       "target1__1lag__mean__90d     0.014752   0.014761   0.014766   0.014768   \n",
       "target1__1lag__median__90d   0.009986   0.009996   0.010007   0.010021   \n",
       "target1__1lag__std__90d      0.039632   0.039629   0.039627   0.039626   \n",
       "target2__1lag__mean__90d     0.085297   0.085326   0.085406   0.085479   \n",
       "target2__1lag__median__90d   0.053948   0.053948   0.053948   0.053948   \n",
       "...                               ...        ...        ...        ...   \n",
       "primaryPositionName          6.000000   6.000000   6.000000   6.000000   \n",
       "month                        4.000000   4.000000   4.000000   4.000000   \n",
       "status                       1.000000   1.000000   1.000000   1.000000   \n",
       "teamId                      22.000000  22.000000  22.000000  22.000000   \n",
       "awardId                      0.000000   0.000000   0.000000   0.000000   \n",
       "\n",
       "                              1443390    1443391  \n",
       "target1__1lag__mean__90d     0.014769   0.014772  \n",
       "target1__1lag__median__90d   0.010029   0.010032  \n",
       "target1__1lag__std__90d      0.039626   0.039625  \n",
       "target2__1lag__mean__90d     0.085908   0.089355  \n",
       "target2__1lag__median__90d   0.053948   0.054093  \n",
       "...                               ...        ...  \n",
       "primaryPositionName          6.000000   6.000000  \n",
       "month                        4.000000   4.000000  \n",
       "status                       1.000000   1.000000  \n",
       "teamId                      22.000000  22.000000  \n",
       "awardId                      0.000000   0.000000  \n",
       "\n",
       "[118 rows x 1443392 columns]"
      ]
     },
     "execution_count": 46,
     "metadata": {},
     "output_type": "execute_result"
    }
   ],
   "source": [
    "pd.options.display.max_rows = 100\n",
    "features.T"
   ]
  },
  {
   "cell_type": "code",
   "execution_count": 47,
   "id": "8d29963f",
   "metadata": {},
   "outputs": [],
   "source": [
    "time_dp_features = ['battingOrder', 'gamesPlayedBatting', 'flyOuts', 'groundOuts',\n",
    "       'runsScored', 'doubles', 'triples', 'homeRuns', 'strikeOuts',\n",
    "       'baseOnBalls', 'intentionalWalks', 'hits', 'hitByPitch', 'atBats',\n",
    "       'caughtStealing', 'stolenBases', 'groundIntoDoublePlay',\n",
    "       'groundIntoTriplePlay', 'plateAppearances', 'totalBases', 'rbi',\n",
    "       'leftOnBase', 'sacBunts', 'sacFlies', 'catchersInterference',\n",
    "       'pickoffs', 'gamesPlayedPitching', 'gamesStartedPitching',\n",
    "       'completeGamesPitching', 'shutoutsPitching', 'winsPitching',\n",
    "       'lossesPitching', 'flyOutsPitching', 'airOutsPitching',\n",
    "       'groundOutsPitching', 'runsPitching', 'doublesPitching',\n",
    "       'triplesPitching', 'homeRunsPitching', 'strikeOutsPitching',\n",
    "       'baseOnBallsPitching', 'intentionalWalksPitching', 'hitsPitching',\n",
    "       'hitByPitchPitching', 'atBatsPitching', 'caughtStealingPitching',\n",
    "       'stolenBasesPitching', 'inningsPitched', 'saveOpportunities',\n",
    "       'earnedRuns', 'battersFaced', 'outsPitching', 'pitchesThrown', 'balls',\n",
    "       'strikes', 'hitBatsmen', 'balks', 'wildPitches', 'pickoffsPitching',\n",
    "       'rbiPitching', 'gamesFinishedPitching', 'inheritedRunners',\n",
    "       'inheritedRunnersScored', 'catchersInterferencePitching',\n",
    "       'sacBuntsPitching', 'sacFliesPitching', 'saves', 'holds', 'blownSaves',\n",
    "       'assists', 'putOuts', 'errors', 'chances']"
   ]
  },
  {
   "cell_type": "code",
   "execution_count": 48,
   "id": "5b14aa48",
   "metadata": {},
   "outputs": [],
   "source": [
    "all_features = features.columns"
   ]
  },
  {
   "cell_type": "code",
   "execution_count": 49,
   "id": "624eba7a",
   "metadata": {},
   "outputs": [],
   "source": [
    "import re\n",
    "def filter_by_pattern(features: List[str], pattern: str):\n",
    "    return [f for f in features\n",
    "            if re.search(pattern, f) is not None]"
   ]
  },
  {
   "cell_type": "code",
   "execution_count": 50,
   "id": "1ac74418",
   "metadata": {},
   "outputs": [],
   "source": [
    "# re.search('^target(.*?)\\d*lag$', 'target4__60lag__median__90d')"
   ]
  },
  {
   "cell_type": "code",
   "execution_count": 51,
   "id": "7da3fffb",
   "metadata": {},
   "outputs": [],
   "source": [
    "one_lag_features = filter_by_pattern(all_features, '^target(.*?)\\d*lag$')"
   ]
  },
  {
   "cell_type": "code",
   "execution_count": 52,
   "id": "b57e2f72",
   "metadata": {},
   "outputs": [],
   "source": [
    "one_lag_features = filter_by_pattern(all_features, '^target(.*?)\\d*lag$')"
   ]
  },
  {
   "cell_type": "code",
   "execution_count": 53,
   "id": "c2823b99",
   "metadata": {},
   "outputs": [],
   "source": [
    "one_lag_moving_stats = filter_by_pattern(all_features,\n",
    "                                         '^target\\d__1lag(.*?)\\d*d$')"
   ]
  },
  {
   "cell_type": "code",
   "execution_count": 54,
   "id": "10fc5ce2",
   "metadata": {},
   "outputs": [
    {
     "data": {
      "text/plain": [
       "['target1__1lag__mean__90d',\n",
       " 'target1__1lag__median__90d',\n",
       " 'target1__1lag__std__90d',\n",
       " 'target2__1lag__mean__90d',\n",
       " 'target2__1lag__median__90d',\n",
       " 'target2__1lag__std__90d',\n",
       " 'target3__1lag__mean__90d',\n",
       " 'target3__1lag__median__90d',\n",
       " 'target3__1lag__std__90d',\n",
       " 'target4__1lag__mean__90d',\n",
       " 'target4__1lag__median__90d',\n",
       " 'target4__1lag__std__90d']"
      ]
     },
     "execution_count": 54,
     "metadata": {},
     "output_type": "execute_result"
    }
   ],
   "source": [
    "one_lag_moving_stats"
   ]
  },
  {
   "cell_type": "code",
   "execution_count": 55,
   "id": "53f9a724",
   "metadata": {},
   "outputs": [],
   "source": [
    "real_data_moving_stats = filter_by_pattern(all_features,\n",
    "                                         '^target\\d__60lag(.*?)\\d*d$')"
   ]
  },
  {
   "cell_type": "code",
   "execution_count": 56,
   "id": "5a2c3a77",
   "metadata": {},
   "outputs": [
    {
     "data": {
      "text/plain": [
       "['target1__60lag__mean__90d',\n",
       " 'target1__60lag__median__90d',\n",
       " 'target1__60lag__std__90d',\n",
       " 'target2__60lag__mean__90d',\n",
       " 'target2__60lag__median__90d',\n",
       " 'target2__60lag__std__90d',\n",
       " 'target3__60lag__mean__90d',\n",
       " 'target3__60lag__median__90d',\n",
       " 'target3__60lag__std__90d',\n",
       " 'target4__60lag__mean__90d',\n",
       " 'target4__60lag__median__90d',\n",
       " 'target4__60lag__std__90d']"
      ]
     },
     "execution_count": 56,
     "metadata": {},
     "output_type": "execute_result"
    }
   ],
   "source": [
    "real_data_moving_stats"
   ]
  },
  {
   "cell_type": "code",
   "execution_count": 57,
   "id": "cbdbd5f7",
   "metadata": {},
   "outputs": [],
   "source": [
    "static_features = list(all_features.drop((one_lag_features +\n",
    "                                         one_lag_moving_stats +\n",
    "                                         real_data_moving_stats + \n",
    "                                         categories + time_dp_features)))"
   ]
  },
  {
   "cell_type": "code",
   "execution_count": 58,
   "id": "dab78801",
   "metadata": {},
   "outputs": [
    {
     "data": {
      "text/plain": [
       "['numberOfFollowers',\n",
       " 'teamFollowers',\n",
       " 'weight',\n",
       " 'height',\n",
       " 'playerBMI',\n",
       " 'playerAge',\n",
       " 'playerTSinceDebut',\n",
       " 'playerDebutAge',\n",
       " 'rostersTime']"
      ]
     },
     "execution_count": 58,
     "metadata": {},
     "output_type": "execute_result"
    }
   ],
   "source": [
    "static_features"
   ]
  },
  {
   "cell_type": "code",
   "execution_count": 59,
   "id": "832e312b",
   "metadata": {},
   "outputs": [],
   "source": [
    "df[target_cols] = df[target_cols].astype(np.float32)"
   ]
  },
  {
   "cell_type": "code",
   "execution_count": 60,
   "id": "cc9fe8dc",
   "metadata": {},
   "outputs": [],
   "source": [
    "train_data = sp.filter(features, train_idx)\n",
    "raw_train_df = sp.filter(df, train_idx)"
   ]
  },
  {
   "cell_type": "code",
   "execution_count": 61,
   "id": "78d844ea",
   "metadata": {},
   "outputs": [],
   "source": [
    "valid_data = sp.filter(features, valid_idx)\n",
    "raw_valid_df = sp.filter(df, valid_idx)"
   ]
  },
  {
   "cell_type": "code",
   "execution_count": 62,
   "id": "9b8fbff0",
   "metadata": {},
   "outputs": [
    {
     "data": {
      "text/plain": [
       "((1370985, 118), (72407, 86))"
      ]
     },
     "execution_count": 62,
     "metadata": {},
     "output_type": "execute_result"
    }
   ],
   "source": [
    "train_data.shape, raw_valid_df.shape\n"
   ]
  },
  {
   "cell_type": "code",
   "execution_count": 63,
   "id": "2f30bbf9",
   "metadata": {},
   "outputs": [
    {
     "data": {
      "text/plain": [
       "((72407, 118), (1370985, 86))"
      ]
     },
     "execution_count": 63,
     "metadata": {},
     "output_type": "execute_result"
    }
   ],
   "source": [
    "valid_data.shape, raw_train_df.shape"
   ]
  },
  {
   "cell_type": "code",
   "execution_count": 64,
   "id": "7520ca64",
   "metadata": {},
   "outputs": [],
   "source": [
    "train_data[target_cols + ['date']] = raw_train_df[target_cols + ['date']]\n",
    "valid_data[target_cols + ['date']] = raw_valid_df[target_cols + ['date']]"
   ]
  },
  {
   "cell_type": "markdown",
   "id": "e3dd765e",
   "metadata": {},
   "source": [
    "### modeling "
   ]
  },
  {
   "cell_type": "code",
   "execution_count": 65,
   "id": "63d2f2f7",
   "metadata": {},
   "outputs": [],
   "source": [
    "from omegaconf import OmegaConf\n",
    "hp = {'bptt': 7,\n",
    "      'epochs': 10,\n",
    "      'batch_size': 2048,\n",
    "      'max_emb_sz': 20,\n",
    "      'hidden_dim': 32,\n",
    "      'encoder_dim': 128,\n",
    "      'emb_dropout': 0.2,\n",
    "      'dropout': 0.2,\n",
    "      'lr': 0.001,\n",
    "      'wd': 3e-5}\n",
    "\n",
    "real_data_config = {'hp': hp,\n",
    "                    'seed': 2021,\n",
    "         'static_features': static_features+one_lag_moving_stats,\n",
    "          'categories': categories,\n",
    "          'time_features': time_dp_features,\n",
    "          'target_cols': target_cols}\n",
    "real_data_config = OmegaConf.create(real_data_config) "
   ]
  },
  {
   "cell_type": "code",
   "execution_count": 66,
   "id": "a3c1af60",
   "metadata": {},
   "outputs": [
    {
     "name": "stderr",
     "output_type": "stream",
     "text": [
      "/home/med/anaconda3/envs/mlb/lib/python3.8/site-packages/pytorch_lightning/metrics/__init__.py:43: LightningDeprecationWarning: `pytorch_lightning.metrics.*` module has been renamed to `torchmetrics.*` and split off to its own package (https://github.com/PyTorchLightning/metrics) since v1.3 and will be removed in v1.5\n",
      "  rank_zero_deprecation(\n"
     ]
    }
   ],
   "source": [
    "from train.lstm import run_lstm"
   ]
  },
  {
   "cell_type": "code",
   "execution_count": 67,
   "id": "4f960591",
   "metadata": {},
   "outputs": [],
   "source": [
    "# real_data_lstm_output = run_lstm(real_data_config, train_data, valid_data)"
   ]
  },
  {
   "cell_type": "code",
   "execution_count": 68,
   "id": "72d9b14b",
   "metadata": {},
   "outputs": [],
   "source": [
    "hp = {'bptt': 7,\n",
    "      'epochs': 5,\n",
    "      'batch_size': 512,\n",
    "      'max_emb_sz': 20,\n",
    "      'hidden_dim': 10,\n",
    "      'encoder_dim': 50,\n",
    "      'emb_dropout': 0.05,\n",
    "      'dropout': 0.05,\n",
    "      'lr': 0.01,\n",
    "      'wd': 0.}\n",
    "\n",
    "onelag_data_config = {'hp': hp,\n",
    "                    'seed': 2021,\n",
    "                     'static_features': static_features,\n",
    "                      'categories': categories,\n",
    "                      'time_features': time_dp_features + one_lag_features,\n",
    "                      'target_cols': target_cols}\n",
    "onelag_data_config = OmegaConf.create(onelag_data_config)"
   ]
  },
  {
   "cell_type": "code",
   "execution_count": 69,
   "id": "2a18d380",
   "metadata": {},
   "outputs": [
    {
     "name": "stderr",
     "output_type": "stream",
     "text": [
      "GPU available: False, used: False\n",
      "TPU available: False, using: 0 TPU cores\n",
      "\n",
      "  | Name         | Type           | Params\n",
      "------------------------------------------------\n",
      "0 | emb          | EmbeddingLayer | 29.8 K\n",
      "1 | net          | LSTM           | 3.6 K \n",
      "2 | output_layer | Sequential     | 5.1 K \n",
      "------------------------------------------------\n",
      "38.4 K    Trainable params\n",
      "0         Non-trainable params\n",
      "38.4 K    Total params\n",
      "0.154     Total estimated model params size (MB)\n"
     ]
    },
    {
     "data": {
      "application/vnd.jupyter.widget-view+json": {
       "model_id": "",
       "version_major": 2,
       "version_minor": 0
      },
      "text/plain": [
       "Validation sanity check: 0it [00:00, ?it/s]"
      ]
     },
     "metadata": {},
     "output_type": "display_data"
    },
    {
     "name": "stderr",
     "output_type": "stream",
     "text": [
      "/home/med/anaconda3/envs/mlb/lib/python3.8/site-packages/pytorch_lightning/core/step_result.py:115: UserWarning: To copy construct from a tensor, it is recommended to use sourceTensor.clone().detach() or sourceTensor.clone().detach().requires_grad_(True), rather than torch.tensor(sourceTensor).\n",
      "  value = torch.tensor(value, device=device, dtype=torch.float)\n"
     ]
    },
    {
     "data": {
      "application/vnd.jupyter.widget-view+json": {
       "model_id": "a28ad3b91ca240929803cd3a1789954e",
       "version_major": 2,
       "version_minor": 0
      },
      "text/plain": [
       "Training: 0it [00:00, ?it/s]"
      ]
     },
     "metadata": {},
     "output_type": "display_data"
    },
    {
     "data": {
      "application/vnd.jupyter.widget-view+json": {
       "model_id": "",
       "version_major": 2,
       "version_minor": 0
      },
      "text/plain": [
       "Validating: 0it [00:00, ?it/s]"
      ]
     },
     "metadata": {},
     "output_type": "display_data"
    },
    {
     "data": {
      "application/vnd.jupyter.widget-view+json": {
       "model_id": "",
       "version_major": 2,
       "version_minor": 0
      },
      "text/plain": [
       "Validating: 0it [00:00, ?it/s]"
      ]
     },
     "metadata": {},
     "output_type": "display_data"
    },
    {
     "data": {
      "application/vnd.jupyter.widget-view+json": {
       "model_id": "",
       "version_major": 2,
       "version_minor": 0
      },
      "text/plain": [
       "Validating: 0it [00:00, ?it/s]"
      ]
     },
     "metadata": {},
     "output_type": "display_data"
    },
    {
     "data": {
      "application/vnd.jupyter.widget-view+json": {
       "model_id": "",
       "version_major": 2,
       "version_minor": 0
      },
      "text/plain": [
       "Validating: 0it [00:00, ?it/s]"
      ]
     },
     "metadata": {},
     "output_type": "display_data"
    },
    {
     "data": {
      "application/vnd.jupyter.widget-view+json": {
       "model_id": "",
       "version_major": 2,
       "version_minor": 0
      },
      "text/plain": [
       "Validating: 0it [00:00, ?it/s]"
      ]
     },
     "metadata": {},
     "output_type": "display_data"
    }
   ],
   "source": [
    "lag_data_lstm_output = run_lstm(onelag_data_config, train_data, valid_data)"
   ]
  },
  {
   "cell_type": "code",
   "execution_count": 70,
   "id": "b82c00e1",
   "metadata": {},
   "outputs": [],
   "source": [
    "from train.lgbm import run_lgbm"
   ]
  },
  {
   "cell_type": "code",
   "execution_count": 71,
   "id": "2f042f17",
   "metadata": {
    "scrolled": true
   },
   "outputs": [
    {
     "data": {
      "text/plain": [
       "{'hp': {'objective': 'mae', 'reg_alpha': 0.1, 'reg_lambda': 0.1, 'n_estimators': 100000, 'learning_rate': 0.1, 'random_state': 42}, 'features': ['playerId', 'seasonPart', 'year', 'primaryPositionName', 'month', 'status', 'teamId', 'awardId', 'numberOfFollowers', 'teamFollowers', 'weight', 'height', 'playerBMI', 'playerAge', 'playerTSinceDebut', 'playerDebutAge', 'rostersTime', 'target1__60lag__mean__90d', 'target1__60lag__median__90d', 'target1__60lag__std__90d', 'target2__60lag__mean__90d', 'target2__60lag__median__90d', 'target2__60lag__std__90d', 'target3__60lag__mean__90d', 'target3__60lag__median__90d', 'target3__60lag__std__90d', 'target4__60lag__mean__90d', 'target4__60lag__median__90d', 'target4__60lag__std__90d', 'battingOrder', 'gamesPlayedBatting', 'flyOuts', 'groundOuts', 'runsScored', 'doubles', 'triples', 'homeRuns', 'strikeOuts', 'baseOnBalls', 'intentionalWalks', 'hits', 'hitByPitch', 'atBats', 'caughtStealing', 'stolenBases', 'groundIntoDoublePlay', 'groundIntoTriplePlay', 'plateAppearances', 'totalBases', 'rbi', 'leftOnBase', 'sacBunts', 'sacFlies', 'catchersInterference', 'pickoffs', 'gamesPlayedPitching', 'gamesStartedPitching', 'completeGamesPitching', 'shutoutsPitching', 'winsPitching', 'lossesPitching', 'flyOutsPitching', 'airOutsPitching', 'groundOutsPitching', 'runsPitching', 'doublesPitching', 'triplesPitching', 'homeRunsPitching', 'strikeOutsPitching', 'baseOnBallsPitching', 'intentionalWalksPitching', 'hitsPitching', 'hitByPitchPitching', 'atBatsPitching', 'caughtStealingPitching', 'stolenBasesPitching', 'inningsPitched', 'saveOpportunities', 'earnedRuns', 'battersFaced', 'outsPitching', 'pitchesThrown', 'balls', 'strikes', 'hitBatsmen', 'balks', 'wildPitches', 'pickoffsPitching', 'rbiPitching', 'gamesFinishedPitching', 'inheritedRunners', 'inheritedRunnersScored', 'catchersInterferencePitching', 'sacBuntsPitching', 'sacFliesPitching', 'saves', 'holds', 'blownSaves', 'assists', 'putOuts', 'errors', 'chances'], 'categories': ['playerId', 'seasonPart', 'year', 'primaryPositionName', 'month', 'status', 'teamId', 'awardId'], 'target_cols': ['target1', 'target2', 'target3', 'target4']}"
      ]
     },
     "execution_count": 71,
     "metadata": {},
     "output_type": "execute_result"
    }
   ],
   "source": [
    "lgbm_parameters = {\n",
    " 'objective':'mae',\n",
    " 'reg_alpha': 0.1,\n",
    " 'reg_lambda': 0.1, \n",
    " 'n_estimators': 100000,\n",
    " 'learning_rate': 0.1,\n",
    " 'random_state': 42,\n",
    "}\n",
    "lgbm_config = {'hp': lgbm_parameters,\n",
    "          'features': (categories +\n",
    "                       static_features +\n",
    "                       real_data_moving_stats +\n",
    "                       time_dp_features),\n",
    "          'categories': categories,\n",
    "          'target_cols': target_cols}\n",
    "lgbm_config = OmegaConf.create(lgbm_config)\n",
    "\n",
    "lgbm_config"
   ]
  },
  {
   "cell_type": "code",
   "execution_count": 72,
   "id": "1225ce13",
   "metadata": {},
   "outputs": [],
   "source": [
    "# lgbm_output = run_lgbm(lgbm_config, train_data, valid_data)"
   ]
  },
  {
   "cell_type": "code",
   "execution_count": 73,
   "id": "a4ca654e",
   "metadata": {},
   "outputs": [],
   "source": [
    "from train.core import predict_recursive, Ensemble\n",
    "ensemble = Ensemble([lag_data_lstm_output],\n",
    "                    pipeline)"
   ]
  },
  {
   "cell_type": "code",
   "execution_count": 74,
   "id": "7fdb3b46",
   "metadata": {
    "scrolled": true
   },
   "outputs": [
    {
     "name": "stdout",
     "output_type": "stream",
     "text": [
      "    target1    target2   target3    target4       date  playerId\n",
      "0  4.324192  38.871262  1.319553  52.477581 2021-03-01    405395\n",
      "1  0.719895  17.954294  0.619434  18.062401 2021-03-01    408234\n",
      "2  0.028933   2.078122  0.016994   1.087263 2021-03-01    424144\n",
      "3  0.025878   3.000629  0.012819   0.785480 2021-03-01    425772\n",
      "4  0.008380   0.720200  0.003401   0.329665 2021-03-01    425784\n",
      "    target1    target2   target3    target4       date  playerId\n",
      "0  2.311288  38.073906  0.595956  46.554420 2021-03-02    405395\n",
      "1  0.460500  19.475307  0.278274  15.457169 2021-03-02    408234\n",
      "2  0.030280   2.337387  0.017814   1.032669 2021-03-02    424144\n",
      "3  0.034364   3.025422  0.014830   0.820545 2021-03-02    425772\n",
      "4  0.009700   0.891492  0.004051   0.339823 2021-03-02    425784\n",
      "    target1    target2   target3    target4       date  playerId\n",
      "0  1.906427  38.097210  0.468465  43.682549 2021-03-03    405395\n",
      "1  0.329405  19.328415  0.186030  13.522695 2021-03-03    408234\n",
      "2  0.028516   2.333948  0.017224   0.943972 2021-03-03    424144\n",
      "3  0.041372   2.923552  0.014760   0.771150 2021-03-03    425772\n",
      "4  0.009268   0.936232  0.003981   0.328337 2021-03-03    425784\n",
      "    target1    target2   target3    target4       date  playerId\n",
      "0  1.838731  38.068882  0.446961  41.631321 2021-03-04    405395\n",
      "1  0.278764  19.618153  0.153999  12.511805 2021-03-04    408234\n",
      "2  0.027395   2.157151  0.016214   0.867625 2021-03-04    424144\n",
      "3  0.035079   2.789647  0.013422   0.673349 2021-03-04    425772\n",
      "4  0.008420   0.902540  0.003729   0.305917 2021-03-04    425784\n",
      "    target1    target2   target3    target4       date  playerId\n",
      "0  1.840615  38.162941  0.442852  40.125877 2021-03-05    405395\n",
      "1  0.242502  18.923874  0.137106  11.750240 2021-03-05    408234\n",
      "2  0.027231   2.086557  0.015635   0.797512 2021-03-05    424144\n",
      "3  0.033477   2.765537  0.012950   0.610696 2021-03-05    425772\n",
      "4  0.008243   0.909102  0.003598   0.299501 2021-03-05    425784\n",
      "    target1    target2   target3    target4       date  playerId\n",
      "0  1.781303  37.949036  0.428583  38.774101 2021-03-06    405395\n",
      "1  0.213506  17.929060  0.126348  11.124500 2021-03-06    408234\n",
      "2  0.026232   2.001463  0.014914   0.741821 2021-03-06    424144\n",
      "3  0.033572   2.820843  0.012884   0.571427 2021-03-06    425772\n",
      "4  0.008342   0.915473  0.003570   0.299029 2021-03-06    425784\n",
      "    target1    target2   target3    target4       date  playerId\n",
      "0  1.700219  38.277237  0.414365  37.951984 2021-03-07    405395\n",
      "1  0.213542  18.354841  0.127791  11.001439 2021-03-07    408234\n",
      "2  0.025932   2.012559  0.014700   0.709635 2021-03-07    424144\n",
      "3  0.031706   2.564837  0.012166   0.557854 2021-03-07    425772\n",
      "4  0.008637   0.950618  0.003617   0.304844 2021-03-07    425784\n",
      "    target1    target2   target3    target4       date  playerId\n",
      "0  1.679918  38.109097  0.408826  37.264412 2021-03-08    405395\n",
      "1  0.219027  18.972284  0.128774  10.972277 2021-03-08    408234\n",
      "2  0.026215   2.064840  0.014867   0.697522 2021-03-08    424144\n",
      "3  0.029838   2.412493  0.011514   0.531559 2021-03-08    425772\n",
      "4  0.008902   0.988435  0.003691   0.311189 2021-03-08    425784\n",
      "    target1    target2   target3    target4       date  playerId\n",
      "0  1.651309  37.834568  0.404255  36.694832 2021-03-09    405395\n",
      "1  0.219719  19.235510  0.127686  10.848231 2021-03-09    408234\n",
      "2  0.026138   2.084030  0.014880   0.686230 2021-03-09    424144\n",
      "3  0.029004   2.336370  0.011203   0.515969 2021-03-09    425772\n",
      "4  0.009028   1.011289  0.003734   0.314452 2021-03-09    425784\n",
      "    target1    target2   target3    target4       date  playerId\n",
      "0  1.626935  37.511898  0.401034  36.203114 2021-03-10    405395\n",
      "1  0.217752  19.272520  0.126358  10.687010 2021-03-10    408234\n",
      "2  0.025800   2.075245  0.014754   0.673472 2021-03-10    424144\n",
      "3  0.028228   2.280175  0.010943   0.505001 2021-03-10    425772\n",
      "4  0.009057   1.021497  0.003745   0.315591 2021-03-10    425784\n",
      "    target1    target2   target3    target4       date  playerId\n",
      "0  1.602916  37.176765  0.398222  35.774158 2021-03-11    405395\n",
      "1  0.216342  19.271538  0.125530  10.550995 2021-03-11    408234\n",
      "2  0.025474   2.053146  0.014591   0.662218 2021-03-11    424144\n",
      "3  0.027351   2.233234  0.010711   0.496409 2021-03-11    425772\n",
      "4  0.009060   1.025403  0.003744   0.316134 2021-03-11    425784\n",
      "    target1    target2   target3    target4       date  playerId\n",
      "0  1.578812  36.853725  0.395558  35.399914 2021-03-12    405395\n",
      "1  0.214349  19.185562  0.124548  10.426266 2021-03-12    408234\n",
      "2  0.025174   2.033592  0.014433   0.653687 2021-03-12    424144\n",
      "3  0.025397   2.172990  0.010216   0.486854 2021-03-12    425772\n",
      "4  0.009041   1.029020  0.003735   0.316948 2021-03-12    425784\n",
      "    target1    target2   target3    target4       date  playerId\n",
      "0  1.554732  36.545860  0.392919  35.070370 2021-03-13    405395\n",
      "1  0.212700  19.110664  0.123885  10.322597 2021-03-13    408234\n",
      "2  0.024986   2.019451  0.014333   0.648073 2021-03-13    424144\n",
      "3  0.024779   2.129809  0.010032   0.480220 2021-03-13    425772\n",
      "4  0.009080   1.033913  0.003743   0.318198 2021-03-13    425784\n",
      "    target1    target2   target3    target4       date  playerId\n",
      "0  1.531599  36.269238  0.390439  34.785156 2021-03-14    405395\n",
      "1  0.213218  19.182613  0.124055  10.265321 2021-03-14    408234\n",
      "2  0.024858   2.013329  0.014277   0.644676 2021-03-14    424144\n",
      "3  0.024208   2.084075  0.009856   0.474759 2021-03-14    425772\n",
      "4  0.009123   1.039818  0.003754   0.319593 2021-03-14    425784\n",
      "    target1    target2   target3    target4       date  playerId\n",
      "0  1.508775  35.995026  0.387898  34.525120 2021-03-15    405395\n",
      "1  0.214159  19.281078  0.124164  10.226128 2021-03-15    408234\n",
      "2  0.024761   2.010760  0.014248   0.642545 2021-03-15    424144\n",
      "3  0.023711   2.046127  0.009704   0.469989 2021-03-15    425772\n",
      "4  0.009155   1.044937  0.003765   0.320784 2021-03-15    425784\n",
      "    target1    target2   target3    target4       date  playerId\n",
      "0  1.486472  35.730846  0.385418  34.286373 2021-03-16    405395\n",
      "1  0.214459  19.336304  0.124031  10.187311 2021-03-16    408234\n",
      "2  0.024651   2.006525  0.014214   0.640754 2021-03-16    424144\n",
      "3  0.023307   2.016623  0.009587   0.466361 2021-03-16    425772\n",
      "4  0.009172   1.048243  0.003772   0.321623 2021-03-16    425784\n",
      "    target1    target2   target3    target4       date  playerId\n",
      "0  1.464965  35.478859  0.383020  34.066029 2021-03-17    405395\n",
      "1  0.214300  19.355854  0.123820  10.149280 2021-03-17    408234\n",
      "2  0.024528   2.000114  0.014172   0.639062 2021-03-17    424144\n",
      "3  0.022966   1.992133  0.009490   0.463485 2021-03-17    425772\n",
      "4  0.009177   1.050037  0.003775   0.322207 2021-03-17    425784\n",
      "    target1    target2   target3    target4       date  playerId\n",
      "0  1.444408  35.240211  0.380712  33.862030 2021-03-18    405395\n",
      "1  0.214054  19.361301  0.123629  10.115381 2021-03-18    408234\n",
      "2  0.024411   1.992784  0.014128   0.637597 2021-03-18    424144\n",
      "3  0.022661   1.970639  0.009405   0.461021 2021-03-18    425772\n",
      "4  0.009178   1.050984  0.003777   0.322675 2021-03-18    425784\n",
      "    target1    target2   target3    target4       date  playerId\n",
      "0  1.424897  35.015339  0.378503  33.672817 2021-03-19    405395\n",
      "1  0.213772  19.358307  0.123449  10.085340 2021-03-19    408234\n",
      "2  0.024306   1.985883  0.014089   0.636460 2021-03-19    424144\n",
      "3  0.022384   1.950803  0.009329   0.458857 2021-03-19    425772\n",
      "4  0.009177   1.051609  0.003779   0.323110 2021-03-19    425784\n",
      "    target1    target2   target3    target4       date  playerId\n",
      "0  1.406475  34.803822  0.376397  33.496914 2021-03-20    405395\n",
      "1  0.213604  19.360519  0.123333  10.060703 2021-03-20    408234\n",
      "2  0.024211   1.979883  0.014055   0.635637 2021-03-20    424144\n",
      "3  0.022144   1.933347  0.009262   0.456991 2021-03-20    425772\n",
      "4  0.009176   1.052080  0.003780   0.323524 2021-03-20    425784\n",
      "    target1    target2   target3    target4       date  playerId\n",
      "0  1.389142  34.605072  0.374395  33.333004 2021-03-21    405395\n",
      "1  0.213678  19.378172  0.123308  10.043102 2021-03-21    408234\n",
      "2  0.024125   1.974801  0.014026   0.635060 2021-03-21    424144\n",
      "3  0.021931   1.917607  0.009203   0.455391 2021-03-21    425772\n",
      "4  0.009173   1.052376  0.003781   0.323904 2021-03-21    425784\n",
      "    target1    target2   target3    target4       date  playerId\n",
      "0  1.372816  34.417236  0.372486  33.179291 2021-03-22    405395\n",
      "1  0.213811  19.398508  0.123289  10.029639 2021-03-22    408234\n",
      "2  0.024043   1.970213  0.014001   0.634639 2021-03-22    424144\n",
      "3  0.021741   1.903757  0.009152   0.454030 2021-03-22    425772\n",
      "4  0.009168   1.052399  0.003782   0.324231 2021-03-22    425784\n"
     ]
    },
    {
     "name": "stdout",
     "output_type": "stream",
     "text": [
      "    target1    target2   target3    target4       date  playerId\n",
      "0  1.357440  34.239536  0.370668  33.034500 2021-03-23    405395\n",
      "1  0.213872  19.412786  0.123246  10.018025 2021-03-23    408234\n",
      "2  0.023964   1.965692  0.013977   0.634292 2021-03-23    424144\n",
      "3  0.021573   1.891680  0.009107   0.452896 2021-03-23    425772\n",
      "4  0.009160   1.052120  0.003782   0.324503 2021-03-23    425784\n",
      "    target1    target2   target3    target4       date  playerId\n",
      "0  1.342956  34.071289  0.368937  32.897686 2021-03-24    405395\n",
      "1  0.213867  19.421152  0.123194  10.007761 2021-03-24    408234\n",
      "2  0.023886   1.961135  0.013953   0.633990 2021-03-24    424144\n",
      "3  0.021424   1.880999  0.009068   0.451943 2021-03-24    425772\n",
      "4  0.009150   1.051597  0.003782   0.324733 2021-03-24    425784\n",
      "    target1    target2   target3    target4       date  playerId\n",
      "0  1.329307  33.911869  0.367290  32.768047 2021-03-25    405395\n",
      "1  0.213841  19.426403  0.123145   9.998931 2021-03-25    408234\n",
      "2  0.023810   1.956628  0.013929   0.633735 2021-03-25    424144\n",
      "3  0.021288   1.871392  0.009033   0.451127 2021-03-25    425772\n",
      "4  0.009139   1.050907  0.003781   0.324936 2021-03-25    425784\n",
      "    target1    target2   target3    target4       date  playerId\n",
      "0  1.316434  33.760643  0.365721  32.644920 2021-03-26    405395\n",
      "1  0.213817  19.430420  0.123103   9.991522 2021-03-26    408234\n",
      "2  0.023737   1.952274  0.013907   0.633533 2021-03-26    424144\n",
      "3  0.021164   1.862649  0.009002   0.450423 2021-03-26    425772\n",
      "4  0.009128   1.050107  0.003780   0.325122 2021-03-26    425784\n",
      "    target1    target2   target3    target4       date  playerId\n",
      "0  1.304278  33.617008  0.364226  32.527725 2021-03-27    405395\n",
      "1  0.213815  19.435102  0.123074   9.985646 2021-03-27    408234\n",
      "2  0.023667   1.948112  0.013886   0.633383 2021-03-27    424144\n",
      "3  0.021051   1.854687  0.008973   0.449820 2021-03-27    425772\n",
      "4  0.009115   1.049226  0.003779   0.325294 2021-03-27    425784\n",
      "    target1    target2   target3    target4       date  playerId\n",
      "0  1.292786  33.480381  0.362799  32.415943 2021-03-28    405395\n",
      "1  0.213842  19.441206  0.123058   9.981296 2021-03-28    408234\n",
      "2  0.028848   2.140413  0.014359   0.603535 2021-03-28    424144\n",
      "3  0.020947   1.847403  0.008948   0.449307 2021-03-28    425772\n",
      "4  0.009103   1.048272  0.003778   0.325452 2021-03-28    425784\n",
      "    target1    target2   target3    target4       date  playerId\n",
      "0  1.281903  33.350189  0.361434  32.309097 2021-03-29    405395\n",
      "1  0.213876  19.447264  0.123044   9.978046 2021-03-29    408234\n",
      "2  0.029783   2.216222  0.014796   0.611998 2021-03-29    424144\n",
      "3  0.020852   1.840730  0.008925   0.448873 2021-03-29    425772\n",
      "4  0.009089   1.047248  0.003776   0.325598 2021-03-29    425784\n",
      "    target1    target2   target3    target4       date  playerId\n",
      "0  1.271580  33.225910  0.360129  32.206760 2021-03-30    405395\n",
      "1  0.213901  19.452206  0.123029   9.975526 2021-03-30    408234\n",
      "2  0.030149   2.252917  0.014952   0.612509 2021-03-30    424144\n",
      "3  0.020763   1.834594  0.008904   0.448509 2021-03-30    425772\n",
      "4  0.009076   1.046160  0.003775   0.325732 2021-03-30    425784\n",
      "    target1    target2   target3    target4       date  playerId\n",
      "0  1.261771  33.107098  0.358877  32.108589 2021-03-31    405395\n",
      "1  0.213916  19.456009  0.123013   9.973578 2021-03-31    408234\n",
      "2  0.030588   2.276486  0.015092   0.612686 2021-03-31    424144\n",
      "3  0.020680   1.828910  0.008885   0.448203 2021-03-31    425772\n",
      "4  0.009061   1.045024  0.003774   0.325858 2021-03-31    425784\n",
      "    target1    target2   target3    target4       date  playerId\n",
      "0  0.732048  25.112020  0.114993  23.725983 2021-04-01    405395\n",
      "1  2.461621  23.407637  0.358294   9.364416 2021-04-01    408234\n",
      "2  0.019697   1.803808  0.011786   0.820133 2021-04-01    424144\n",
      "3  0.012535   1.367671  0.006560   0.612942 2021-04-01    425772\n",
      "4  0.006339   0.805446  0.002961   0.483147 2021-04-01    425784\n",
      "    target1    target2   target3    target4       date  playerId\n",
      "0  6.601239  31.281925  1.210695  22.189247 2021-04-02    405395\n",
      "1  0.225334  15.796013  0.086235   7.592131 2021-04-02    408234\n",
      "2  0.017956   1.655270  0.010763   0.810074 2021-04-02    424144\n",
      "3  0.011029   1.221621  0.005724   0.593999 2021-04-02    425772\n",
      "4  0.005808   0.739573  0.002698   0.476823 2021-04-02    425784\n",
      "    target1    target2   target3    target4       date  playerId\n",
      "0  0.480734  19.404861  0.137422  16.926750 2021-04-03    405395\n",
      "1  0.426703  17.437244  0.076134   6.965551 2021-04-03    408234\n",
      "2  0.017040   1.585792  0.010285   0.812746 2021-04-03    424144\n",
      "3  0.010315   1.150699  0.005387   0.591495 2021-04-03    425772\n",
      "4  0.005400   0.675715  0.002497   0.472216 2021-04-03    425784\n",
      "    target1    target2   target3    target4       date  playerId\n",
      "0  0.379549  17.923290  0.072879  14.238633 2021-04-04    405395\n",
      "1  0.160516  14.973842  0.065608   7.048402 2021-04-04    408234\n",
      "2  0.016228   1.547931  0.009943   0.819410 2021-04-04    424144\n",
      "3  0.009672   1.102115  0.005123   0.590733 2021-04-04    425772\n",
      "4  0.004995   0.615594  0.002297   0.464564 2021-04-04    425784\n",
      "    target1    target2   target3    target4       date  playerId\n",
      "0  0.355356  15.844125  0.043879  11.441111 2021-04-05    405395\n",
      "1  0.167123  13.921161  0.030394   6.910892 2021-04-05    408234\n",
      "2  0.015529   1.513609  0.009672   0.825951 2021-04-05    424144\n",
      "3  0.009135   1.061146  0.004911   0.589799 2021-04-05    425772\n",
      "4  0.004639   0.560613  0.002119   0.455531 2021-04-05    425784\n",
      "    target1    target2   target3    target4       date  playerId\n",
      "0  0.251465  11.999824  0.037297  10.058693 2021-04-06    405395\n",
      "1  0.163301  12.248384  0.026315   5.705191 2021-04-06    408234\n",
      "2  0.014999   1.477710  0.009447   0.829349 2021-04-06    424144\n",
      "3  0.008732   1.023081  0.004742   0.587149 2021-04-06    425772\n",
      "4  0.004317   0.509925  0.001955   0.444717 2021-04-06    425784\n",
      "    target1    target2   target3    target4       date  playerId\n",
      "0  0.146523  11.922669  0.047954  10.184627 2021-04-07    405395\n",
      "1  0.151006  10.131175  0.020598   4.944064 2021-04-07    408234\n",
      "2  0.014536   1.438134  0.009225   0.827840 2021-04-07    424144\n",
      "3  0.012364   0.874497  0.006597   0.612172 2021-04-07    425772\n",
      "4  0.004317   0.463358  0.001531   0.351617 2021-04-07    425784\n",
      "    target1    target2   target3    target4       date  playerId\n",
      "0  0.122596  12.272373  0.061555  10.034685 2021-04-08    405395\n",
      "1  0.076123  10.702189  0.027975   5.795296 2021-04-08    408234\n",
      "2  0.013988   1.385668  0.008932   0.819762 2021-04-08    424144\n",
      "3  0.011380   0.804991  0.006052   0.593285 2021-04-08    425772\n",
      "4  0.003983   0.413883  0.001380   0.332892 2021-04-08    425784\n",
      "    target1    target2   target3   target4       date  playerId\n",
      "0  0.112789  11.778744  0.066425  9.909235 2021-04-09    405395\n",
      "1  0.134513   9.794942  0.023246  5.267914 2021-04-09    408234\n",
      "2  0.013587   1.347482  0.008703  0.812057 2021-04-09    424144\n",
      "3  0.010905   0.767720  0.005799  0.584008 2021-04-09    425772\n",
      "4  0.003794   0.381139  0.001291  0.320715 2021-04-09    425784\n",
      "    target1    target2   target3   target4       date  playerId\n",
      "0  0.351553  12.517026  0.057018  9.562070 2021-04-10    405395\n",
      "1  0.126217   7.644390  0.020707  4.630321 2021-04-10    408234\n",
      "2  0.036404   1.435976  0.003207  0.668108 2021-04-10    424144\n",
      "3  0.010357   0.719885  0.005477  0.573075 2021-04-10    425772\n",
      "4  0.003659   0.355377  0.001224  0.310673 2021-04-10    425784\n",
      "    target1   target2   target3   target4       date  playerId\n",
      "0  0.166224  9.961406  0.062275  8.783303 2021-04-11    405395\n",
      "1  0.058431  8.119772  0.024863  5.052986 2021-04-11    408234\n",
      "2  0.011476  0.884061  0.004670  0.703937 2021-04-11    424144\n",
      "3  0.009731  0.667489  0.005099  0.558652 2021-04-11    425772\n",
      "4  0.003525  0.333500  0.001164  0.301803 2021-04-11    425784\n",
      "    target1    target2   target3   target4       date  playerId\n",
      "0  0.330629  11.175920  0.045991  8.170939 2021-04-12    405395\n",
      "1  0.041246   7.013073  0.033766  4.886435 2021-04-12    408234\n",
      "2  0.012366   1.092290  0.006479  0.805125 2021-04-12    424144\n",
      "3  0.009130   0.616574  0.004732  0.542875 2021-04-12    425772\n",
      "4  0.003354   0.312355  0.001091  0.292538 2021-04-12    425784\n",
      "    target1   target2   target3   target4       date  playerId\n",
      "0  0.286243  9.938269  0.034053  7.417593 2021-04-13    405395\n",
      "1  0.034148  6.179245  0.033671  4.596612 2021-04-13    408234\n",
      "2  0.010605  1.083447  0.006562  0.821906 2021-04-13    424144\n",
      "3  0.008601  0.569475  0.004402  0.526795 2021-04-13    425772\n",
      "4  0.003149  0.291326  0.001007  0.282710 2021-04-13    425784\n"
     ]
    },
    {
     "name": "stdout",
     "output_type": "stream",
     "text": [
      "    target1   target2   target3   target4       date  playerId\n",
      "0  0.164446  7.269464  0.024413  7.099905 2021-04-14    405395\n",
      "1  0.031101  5.333715  0.033803  4.221510 2021-04-14    408234\n",
      "2  0.038038  1.130943  0.002945  0.597001 2021-04-14    424144\n",
      "3  0.008092  0.523433  0.004084  0.509811 2021-04-14    425772\n",
      "4  0.002970  0.272960  0.000934  0.274130 2021-04-14    425784\n",
      "    target1   target2   target3   target4       date  playerId\n",
      "0  0.097216  8.095753  0.033725  7.566415 2021-04-15    405395\n",
      "1  0.029072  4.714181  0.033013  3.914383 2021-04-15    408234\n",
      "2  0.012525  0.770853  0.004414  0.669506 2021-04-15    424144\n",
      "3  0.007675  0.485589  0.003821  0.494786 2021-04-15    425772\n",
      "4  0.002825  0.257798  0.000876  0.266896 2021-04-15    425784\n",
      "    target1   target2   target3   target4       date  playerId\n",
      "0  0.288159  8.753366  0.045843  7.577163 2021-04-16    405395\n",
      "1  0.029764  4.564419  0.034222  3.709709 2021-04-16    408234\n",
      "2  0.058013  1.202014  0.003946  0.617208 2021-04-16    424144\n",
      "3  0.007343  0.454233  0.003611  0.481753 2021-04-16    425772\n",
      "4  0.002712  0.245752  0.000830  0.260974 2021-04-16    425784\n",
      "    target1   target2   target3   target4       date  playerId\n",
      "0  0.137936  8.281506  0.050324  7.644640 2021-04-17    405395\n",
      "1  0.030159  4.690310  0.035034  3.610264 2021-04-17    408234\n",
      "2  0.019406  1.001883  0.001797  0.647691 2021-04-17    424144\n",
      "3  0.007056  0.426626  0.003430  0.469698 2021-04-17    425772\n",
      "4  0.002619  0.235872  0.000792  0.255986 2021-04-17    425784\n",
      "    target1   target2   target3   target4       date  playerId\n",
      "0  0.088594  8.501495  0.050207  7.738513 2021-04-18    405395\n",
      "1  0.029931  4.640071  0.034619  3.527128 2021-04-18    408234\n",
      "2  0.006246  0.714373  0.001920  0.761492 2021-04-18    424144\n",
      "3  0.006801  0.402332  0.003271  0.458548 2021-04-18    425772\n",
      "4  0.002540  0.227621  0.000761  0.251720 2021-04-18    425784\n",
      "    target1    target2   target3   target4       date  playerId\n",
      "0  0.554071  10.530950  0.083043  7.871932 2021-04-19    405395\n",
      "1  0.028879   4.484870  0.033471  3.417285 2021-04-19    408234\n",
      "2  0.005203   0.889886  0.003110  0.903288 2021-04-19    424144\n",
      "3  0.006580   0.381352  0.003133  0.448511 2021-04-19    425772\n",
      "4  0.002474   0.220669  0.000735  0.248057 2021-04-19    425784\n",
      "    target1    target2   target3   target4       date  playerId\n",
      "0  1.354680  10.656128  0.180245  6.967146 2021-04-20    405395\n",
      "1  0.027845   4.321398  0.032296  3.303476 2021-04-20    408234\n",
      "2  0.008028   0.920274  0.005120  0.839518 2021-04-20    424144\n",
      "3  0.006396   0.363548  0.003018  0.439696 2021-04-20    425772\n",
      "4  0.002418   0.214849  0.000714  0.244946 2021-04-20    425784\n",
      "    target1   target2   target3   target4       date  playerId\n",
      "0  0.137482  6.678372  0.024777  6.147123 2021-04-21    405395\n",
      "1  0.026990  4.175582  0.031255  3.200900 2021-04-21    408234\n",
      "2  0.010085  0.940682  0.006319  0.841048 2021-04-21    424144\n",
      "3  0.006241  0.348507  0.002921  0.432031 2021-04-21    425772\n",
      "4  0.002372  0.210091  0.000696  0.242372 2021-04-21    425784\n",
      "    target1   target2   target3   target4       date  playerId\n",
      "0  1.973324  8.659395  0.288746  5.632432 2021-04-22    405395\n",
      "1  0.026335  4.063786  0.030419  3.114304 2021-04-22    408234\n",
      "2  0.046992  1.078836  0.003069  0.507314 2021-04-22    424144\n",
      "3  0.006114  0.336065  0.002840  0.425498 2021-04-22    425772\n",
      "4  0.002335  0.206244  0.000682  0.240270 2021-04-22    425784\n",
      "    target1   target2   target3   target4       date  playerId\n",
      "0  0.207489  5.887879  0.030383  5.089189 2021-04-23    405395\n",
      "1  0.025918  3.992672  0.029842  3.044417 2021-04-23    408234\n",
      "2  0.012268  0.627897  0.003827  0.485437 2021-04-23    424144\n",
      "3  0.006009  0.325777  0.002774  0.419957 2021-04-23    425772\n",
      "4  0.002306  0.203143  0.000671  0.238563 2021-04-23    425784\n",
      "    target1   target2   target3   target4       date  playerId\n",
      "0  0.087371  6.555825  0.027977  6.244112 2021-04-24    405395\n",
      "1  0.020435  2.980676  0.034502  2.724814 2021-04-24    408234\n",
      "2  0.008628  0.878641  0.004519  0.658062 2021-04-24    424144\n",
      "3  0.005922  0.317216  0.002719  0.415253 2021-04-24    425772\n",
      "4  0.002282  0.200629  0.000661  0.237171 2021-04-24    425784\n",
      "    target1   target2   target3   target4       date  playerId\n",
      "0  0.182491  6.750875  0.029249  6.029888 2021-04-25    405395\n",
      "1  0.046534  2.712812  0.018944  2.047450 2021-04-25    408234\n",
      "2  0.008598  0.916336  0.005448  0.710036 2021-04-25    424144\n",
      "3  0.005849  0.310100  0.002674  0.411275 2021-04-25    425772\n",
      "4  0.002262  0.198586  0.000654  0.236036 2021-04-25    425784\n",
      "    target1   target2   target3   target4       date  playerId\n",
      "0  1.324549  7.692710  0.160826  5.590491 2021-04-26    405395\n",
      "1  0.192681  5.033964  0.020226  2.047574 2021-04-26    408234\n",
      "2  0.011186  0.963897  0.006752  0.714918 2021-04-26    424144\n",
      "3  0.005789  0.304214  0.002636  0.407941 2021-04-26    425772\n",
      "4  0.002247  0.196928  0.000648  0.235115 2021-04-26    425784\n",
      "    target1   target2   target3   target4       date  playerId\n",
      "0  0.279541  5.663998  0.039218  5.212569 2021-04-27    405395\n",
      "1  0.624130  5.524992  0.051407  2.075611 2021-04-27    408234\n",
      "2  0.010145  1.026913  0.006662  0.740579 2021-04-27    424144\n",
      "3  0.005740  0.299370  0.002605  0.405166 2021-04-27    425772\n",
      "4  0.002234  0.195588  0.000643  0.234372 2021-04-27    425784\n",
      "    target1   target2   target3   target4       date  playerId\n",
      "0  0.088569  5.955635  0.030763  5.947262 2021-04-28    405395\n",
      "1  0.121476  4.883821  0.028984  2.868144 2021-04-28    408234\n",
      "2  0.010539  1.062467  0.006817  0.657730 2021-04-28    424144\n",
      "3  0.005699  0.295392  0.002579  0.402869 2021-04-28    425772\n",
      "4  0.002224  0.194512  0.000639  0.233778 2021-04-28    425784\n",
      "    target1   target2   target3   target4       date  playerId\n",
      "0  0.061691  6.588818  0.034767  6.289231 2021-04-29    405395\n",
      "1  0.089756  3.750150  0.011524  2.040667 2021-04-29    408234\n",
      "2  0.010644  1.049398  0.007018  0.713875 2021-04-29    424144\n",
      "3  0.005666  0.292136  0.002558  0.400978 2021-04-29    425772\n",
      "4  0.002215  0.193651  0.000636  0.233307 2021-04-29    425784\n",
      "    target1   target2   target3   target4       date  playerId\n",
      "0  0.167051  6.859526  0.028525  6.288955 2021-04-30    405395\n",
      "1  0.065267  3.319101  0.008283  2.044965 2021-04-30    408234\n",
      "2  0.010539  1.038745  0.006964  0.717188 2021-04-30    424144\n",
      "3  0.005639  0.289470  0.002541  0.399424 2021-04-30    425772\n",
      "4  0.002209  0.192964  0.000634  0.232935 2021-04-30    425784\n",
      "CPU times: user 58min 59s, sys: 1min 50s, total: 1h 49s\n",
      "Wall time: 40min 20s\n"
     ]
    }
   ],
   "source": [
    "%%time\n",
    "raw_train_fr = raw_train_df[df.columns].copy()\n",
    "\n",
    "recursive_prediction = []\n",
    "for date, val_date_df in raw_valid_df.groupby('date'):\n",
    "    val_date_df = val_date_df[df.columns].reset_index(drop=True)\n",
    "    _recurive_pred, raw_train_fr = predict_recursive(val_date_df,\n",
    "                                                     raw_train_fr,\n",
    "                                                     ensemble,\n",
    "                                                     n_days=90 + 60 + 10,\n",
    "                                                     target_cols=target_cols)\n",
    "    recursive_prediction.append(_recurive_pred)\n",
    "\n",
    "recursive_prediction = pd.concat(recursive_prediction, ignore_index=True)\n",
    "recursive_prediction.sort_values(['playerId', 'date'], inplace=True)\n",
    "recursive_prediction.reset_index(drop=True, inplace=True)\n",
    "recursive_prediction.rename(columns={f: f.replace('target', 'yhat')\n",
    "                                     for f in target_cols}, inplace=True)\n",
    "recursive_prediction[target_cols] = raw_valid_df[target_cols].to_numpy()"
   ]
  },
  {
   "cell_type": "markdown",
   "id": "23c62539",
   "metadata": {},
   "source": [
    "with best 500 ids \n",
    "one day lag\n",
    "\n",
    "{'mae_mean': 15.404842,\n",
    " 'mae_1': 15.112363,\n",
    " 'mae_2': 12.518346,\n",
    " 'mae_3': 15.941521,\n",
    " 'mae_4': 18.04714}\n",
    " \n",
    "{'mae_mean': 16.107979,\n",
    " 'mae_1': 14.4299965,\n",
    " 'mae_2': 13.712786,\n",
    " 'mae_3': 17.216927,\n",
    " 'mae_4': 19.072205}\n",
    " \n",
    "lag 60 day 150 stats mean median std\n",
    "raw_valid_df\n",
    "\n",
    "{'mae_mean': 16.526415,\n",
    " 'mae_1': 15.134252,\n",
    " 'mae_2': 15.736391,\n",
    " 'mae_3': 16.731949,\n",
    " 'mae_4': 18.503065}\n",
    " \n",
    "{'mae_mean': 16.243195,\n",
    " 'mae_1': 14.64544,\n",
    " 'mae_2': 15.223519,\n",
    " 'mae_3': 16.67205,\n",
    " 'mae_4': 18.43177}\n",
    " \n",
    " \n",
    "with best 500 ids \n",
    "one day lag \n",
    "{'mae_mean': 2.4375365,\n",
    " 'mae_1': 2.2795138,\n",
    " 'mae_2': 3.1164076,\n",
    " 'mae_3': 1.6708878,\n",
    " 'mae_4': 2.6833365}\n",
    " \n",
    "{'mae_mean': 3.2938020082107333,\n",
    " 'mae_1': 2.5740078375938165,\n",
    " 'mae_2': 5.631358953836824,\n",
    " 'mae_3': 1.837284798457624,\n",
    " 'mae_4': 3.1325564429546677}\n",
    " \n",
    "lag 60 day 150 stats mean median std\n",
    "\n",
    "{'mae_mean': 2.8213322,\n",
    " 'mae_1': 2.4738746,\n",
    " 'mae_2': 3.9536836,\n",
    " 'mae_3': 1.8413752,\n",
    " 'mae_4': 3.0163958}\n",
    " \n",
    "{'mae_mean': 2.8054446768310446,\n",
    " 'mae_1': 2.4669433853402922,\n",
    " 'mae_2': 3.901420425393473,\n",
    " 'mae_3': 1.8396196560640896,\n",
    " 'mae_4': 3.0137952405263246}\n",
    " \n",
    " con toda la data\n",
    " \n",
    " {'mae_mean': 1.5619345,\n",
    " 'mae_1': 1.2107118,\n",
    " 'mae_2': 2.4501314,\n",
    " 'mae_3': 0.95569867,\n",
    " 'mae_4': 1.6311963}\n",
    " \n",
    " \n",
    " {'mae_mean': 1.5390999144452775,\n",
    " 'mae_1': 1.210369386168515,\n",
    " 'mae_2': 2.3818660584590656,\n",
    " 'mae_3': 0.9496059085908733,\n",
    " 'mae_4': 1.6145583045626561}\n",
    " "
   ]
  },
  {
   "cell_type": "code",
   "execution_count": 75,
   "id": "0c3ac933",
   "metadata": {},
   "outputs": [],
   "source": [
    "from evaluate.metrics import compute_metrics"
   ]
  },
  {
   "cell_type": "code",
   "execution_count": 76,
   "id": "81a673aa",
   "metadata": {},
   "outputs": [
    {
     "ename": "NameError",
     "evalue": "name 'real_data_lstm_output' is not defined",
     "output_type": "error",
     "traceback": [
      "\u001b[0;31m---------------------------------------------------------------------------\u001b[0m",
      "\u001b[0;31mNameError\u001b[0m                                 Traceback (most recent call last)",
      "\u001b[0;32m<ipython-input-76-71739b258d6a>\u001b[0m in \u001b[0;36m<module>\u001b[0;34m\u001b[0m\n\u001b[1;32m      2\u001b[0m \u001b[0;31m# prediction = (real_data_lstm_output.prediction + lag_data_lstm_output.prediction) / 2\u001b[0m\u001b[0;34m\u001b[0m\u001b[0;34m\u001b[0m\u001b[0;34m\u001b[0m\u001b[0m\n\u001b[1;32m      3\u001b[0m \u001b[0;31m#\u001b[0m\u001b[0;34m\u001b[0m\u001b[0;34m\u001b[0m\u001b[0;34m\u001b[0m\u001b[0m\n\u001b[0;32m----> 4\u001b[0;31m \u001b[0mprediction\u001b[0m \u001b[0;34m=\u001b[0m \u001b[0mreal_data_lstm_output\u001b[0m\u001b[0;34m.\u001b[0m\u001b[0mprediction\u001b[0m\u001b[0;34m\u001b[0m\u001b[0;34m\u001b[0m\u001b[0m\n\u001b[0m\u001b[1;32m      5\u001b[0m \u001b[0;34m\u001b[0m\u001b[0m\n\u001b[1;32m      6\u001b[0m \u001b[0mvalid_test_prediction\u001b[0m \u001b[0;34m=\u001b[0m \u001b[0mpd\u001b[0m\u001b[0;34m.\u001b[0m\u001b[0mDataFrame\u001b[0m\u001b[0;34m(\u001b[0m\u001b[0mprediction\u001b[0m\u001b[0;34m,\u001b[0m \u001b[0mcolumns\u001b[0m\u001b[0;34m=\u001b[0m\u001b[0;34m[\u001b[0m\u001b[0;34m'yhat1'\u001b[0m\u001b[0;34m,\u001b[0m \u001b[0;34m'yhat2'\u001b[0m\u001b[0;34m,\u001b[0m \u001b[0;34m'yhat3'\u001b[0m\u001b[0;34m,\u001b[0m \u001b[0;34m'yhat4'\u001b[0m\u001b[0;34m]\u001b[0m\u001b[0;34m)\u001b[0m\u001b[0;34m\u001b[0m\u001b[0;34m\u001b[0m\u001b[0m\n",
      "\u001b[0;31mNameError\u001b[0m: name 'real_data_lstm_output' is not defined"
     ]
    }
   ],
   "source": [
    "# /\n",
    "# prediction = (real_data_lstm_output.prediction + lag_data_lstm_output.prediction) / 2\n",
    "# \n",
    "prediction = real_data_lstm_output.prediction\n",
    "\n",
    "valid_test_prediction = pd.DataFrame(prediction, columns=['yhat1', 'yhat2', 'yhat3', 'yhat4'])\n",
    "\n",
    "valid_test_prediction[pp_cols] = raw_valid_df[pp_cols]\n",
    "\n",
    "is_test_pred = valid_test_prediction['date'] >= '2021-04-01'\n",
    "\n",
    "valid_prediction, test_prediction = (valid_test_prediction.loc[~is_test_pred, :],\n",
    "                                     valid_test_prediction.loc[is_test_pred, :])\n",
    "\n",
    "valid_rc_prediction, test_rc_prediction = (recursive_prediction.loc[~is_test_pred, :],\n",
    "                                           recursive_prediction.loc[is_test_pred, :])"
   ]
  },
  {
   "cell_type": "code",
   "execution_count": null,
   "id": "a0b44ab5",
   "metadata": {},
   "outputs": [],
   "source": [
    "compute_metrics(valid_prediction)"
   ]
  },
  {
   "cell_type": "code",
   "execution_count": null,
   "id": "92bd9b5b",
   "metadata": {},
   "outputs": [],
   "source": [
    "compute_metrics(valid_rc_prediction)"
   ]
  },
  {
   "cell_type": "code",
   "execution_count": null,
   "id": "1eb14c7e",
   "metadata": {},
   "outputs": [],
   "source": [
    "compute_metrics(test_prediction)"
   ]
  },
  {
   "cell_type": "code",
   "execution_count": null,
   "id": "ae2433e7",
   "metadata": {},
   "outputs": [],
   "source": [
    "compute_metrics(test_rc_prediction)"
   ]
  },
  {
   "cell_type": "code",
   "execution_count": null,
   "id": "819937f7",
   "metadata": {},
   "outputs": [],
   "source": [
    "compute_metrics(valid_test_prediction)"
   ]
  },
  {
   "cell_type": "code",
   "execution_count": null,
   "id": "b7e4f05c",
   "metadata": {},
   "outputs": [],
   "source": [
    "compute_metrics(recursive_prediction)"
   ]
  },
  {
   "cell_type": "code",
   "execution_count": null,
   "id": "7627b2ea",
   "metadata": {},
   "outputs": [],
   "source": [
    "def plot_pred(df, playerId, index=1):\n",
    "    pdf = df.query(f'playerId == {playerId}')\n",
    "    \n",
    "    f, ax = plt.subplots(1, 1, figsize=(20, 5))\n",
    "    \n",
    "    tname = f'target{index}'\n",
    "    yhat_name = f'yhat{index}'\n",
    "    \n",
    "    ax.plot('date', tname, '-o', data=pdf, label=tname)\n",
    "    ax.plot('date', yhat_name, '-o', data=pdf, label=tname)\n",
    "    \n",
    "    ax.legend()\n",
    "    "
   ]
  },
  {
   "cell_type": "code",
   "execution_count": null,
   "id": "a9995eb8",
   "metadata": {},
   "outputs": [],
   "source": [
    "(valid_test_prediction.groupby('playerId')\n",
    " .apply(lambda x: pd.Series(compute_metrics(x)))\n",
    " .sort_values(by='mae_mean', ascending=False))"
   ]
  },
  {
   "cell_type": "code",
   "execution_count": null,
   "id": "d2269b8a",
   "metadata": {},
   "outputs": [],
   "source": [
    "for index in range(1, 5):\n",
    "    plot_pred(valid_test_prediction, playerId=660271, index=index)"
   ]
  },
  {
   "cell_type": "code",
   "execution_count": null,
   "id": "e971147b",
   "metadata": {},
   "outputs": [],
   "source": [
    "index = df.date.isin(valid_prediction.date.drop_duplicates()); index.sum()"
   ]
  },
  {
   "cell_type": "code",
   "execution_count": null,
   "id": "464f45b2",
   "metadata": {},
   "outputs": [],
   "source": [
    "_valid_features = features.loc[index]"
   ]
  },
  {
   "cell_type": "code",
   "execution_count": null,
   "id": "f7382c2d",
   "metadata": {},
   "outputs": [],
   "source": [
    "static_features"
   ]
  },
  {
   "cell_type": "code",
   "execution_count": null,
   "id": "7678de67",
   "metadata": {},
   "outputs": [],
   "source": [
    "categories"
   ]
  },
  {
   "cell_type": "code",
   "execution_count": null,
   "id": "d69044e1",
   "metadata": {},
   "outputs": [],
   "source": [
    "for index in range(1, 5):\n",
    "    plot_pred(recursive_prediction, playerId=660271, index=index)"
   ]
  },
  {
   "cell_type": "code",
   "execution_count": null,
   "id": "6dbc7cf0",
   "metadata": {},
   "outputs": [],
   "source": []
  },
  {
   "cell_type": "code",
   "execution_count": null,
   "id": "f7152d2c",
   "metadata": {},
   "outputs": [],
   "source": []
  },
  {
   "cell_type": "code",
   "execution_count": null,
   "id": "149d0e3e",
   "metadata": {},
   "outputs": [],
   "source": []
  }
 ],
 "metadata": {
  "kernelspec": {
   "display_name": "Python 3",
   "language": "python",
   "name": "python3"
  },
  "language_info": {
   "codemirror_mode": {
    "name": "ipython",
    "version": 3
   },
   "file_extension": ".py",
   "mimetype": "text/x-python",
   "name": "python",
   "nbconvert_exporter": "python",
   "pygments_lexer": "ipython3",
   "version": "3.8.8"
  }
 },
 "nbformat": 4,
 "nbformat_minor": 5
}
