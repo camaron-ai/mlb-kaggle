{
 "cells": [
  {
   "cell_type": "code",
   "execution_count": 1,
   "id": "11a1984e",
   "metadata": {},
   "outputs": [],
   "source": [
    "%load_ext autoreload\n",
    "%autoreload 2\n"
   ]
  },
  {
   "cell_type": "code",
   "execution_count": 2,
   "id": "200bd975",
   "metadata": {},
   "outputs": [],
   "source": [
    "import pandas as pd\n",
    "import numpy as np\n",
    "from matplotlib import pyplot as plt\n",
    "from pathlib import Path\n",
    "import seaborn as sns"
   ]
  },
  {
   "cell_type": "code",
   "execution_count": 3,
   "id": "98b21c10",
   "metadata": {},
   "outputs": [],
   "source": [
    "import os\n",
    "import sys"
   ]
  },
  {
   "cell_type": "code",
   "execution_count": 4,
   "id": "83088198",
   "metadata": {},
   "outputs": [],
   "source": [
    "# chaging directory"
   ]
  },
  {
   "cell_type": "code",
   "execution_count": 5,
   "id": "63a6bace",
   "metadata": {},
   "outputs": [],
   "source": [
    "root, *_ = !pwd"
   ]
  },
  {
   "cell_type": "code",
   "execution_count": 6,
   "id": "0401546d",
   "metadata": {},
   "outputs": [],
   "source": [
    "if root.endswith('notebooks'):\n",
    "    os.chdir('../')\n",
    "    root, *_ = !pwd\n",
    "    sys.path.append('src/')"
   ]
  },
  {
   "cell_type": "code",
   "execution_count": 7,
   "id": "c94d5f75",
   "metadata": {},
   "outputs": [
    {
     "data": {
      "text/plain": [
       "'/home/med/projects/competitions/mlb-kaggle'"
      ]
     },
     "execution_count": 7,
     "metadata": {},
     "output_type": "execute_result"
    }
   ],
   "source": [
    "os.getcwd()"
   ]
  },
  {
   "cell_type": "code",
   "execution_count": 8,
   "id": "bf93f65f",
   "metadata": {},
   "outputs": [
    {
     "data": {
      "text/plain": [
       "True"
      ]
     },
     "execution_count": 8,
     "metadata": {},
     "output_type": "execute_result"
    }
   ],
   "source": [
    "from dotenv import load_dotenv\n",
    "load_dotenv()"
   ]
  },
  {
   "cell_type": "code",
   "execution_count": 9,
   "id": "a0936da3",
   "metadata": {},
   "outputs": [],
   "source": [
    "RAW_PATH = Path(os.environ['RAW_PATH'])"
   ]
  },
  {
   "cell_type": "code",
   "execution_count": 10,
   "id": "e0104b3d",
   "metadata": {},
   "outputs": [
    {
     "data": {
      "text/plain": [
       "['seasons.csv',\n",
       " 'teams.csv',\n",
       " 'example_sample_submission.csv',\n",
       " 'train.csv',\n",
       " 'mlb-player-digital-engagement-forecasting.zip',\n",
       " 'awards.csv',\n",
       " 'players.csv',\n",
       " 'example_test.csv',\n",
       " 'mlb']"
      ]
     },
     "execution_count": 10,
     "metadata": {},
     "output_type": "execute_result"
    }
   ],
   "source": [
    "os.listdir(RAW_PATH)"
   ]
  },
  {
   "cell_type": "code",
   "execution_count": null,
   "id": "dc5d2beb",
   "metadata": {},
   "outputs": [],
   "source": [
    "train_data = pd.read_csv(RAW_PATH / 'train.csv', parse_dates=['date'])\n",
    "train_data = train_data.set_index('date')"
   ]
  },
  {
   "cell_type": "code",
   "execution_count": null,
   "id": "3d014845",
   "metadata": {},
   "outputs": [],
   "source": [
    "train_data.head()"
   ]
  },
  {
   "cell_type": "markdown",
   "id": "3ff122d8",
   "metadata": {},
   "source": [
    "### time and player data "
   ]
  },
  {
   "cell_type": "code",
   "execution_count": null,
   "id": "60887f06",
   "metadata": {},
   "outputs": [],
   "source": [
    "from pipeline import *"
   ]
  },
  {
   "cell_type": "code",
   "execution_count": null,
   "id": "55437b97",
   "metadata": {},
   "outputs": [],
   "source": [
    "_players = pd.read_csv(RAW_PATH / 'players.csv')"
   ]
  },
  {
   "cell_type": "code",
   "execution_count": null,
   "id": "227e12a5",
   "metadata": {},
   "outputs": [],
   "source": [
    "_players['playerForTestSetAndFuturePreds'].fillna(False, inplace=True)"
   ]
  },
  {
   "cell_type": "code",
   "execution_count": null,
   "id": "b9b686dd",
   "metadata": {},
   "outputs": [],
   "source": [
    "player_in_test = _players.query('playerForTestSetAndFuturePreds')['playerId']"
   ]
  },
  {
   "cell_type": "markdown",
   "id": "f70d340b",
   "metadata": {},
   "source": [
    "### target "
   ]
  },
  {
   "cell_type": "code",
   "execution_count": null,
   "id": "7280912f",
   "metadata": {},
   "outputs": [],
   "source": [
    "from command.ingest_data import *"
   ]
  },
  {
   "cell_type": "code",
   "execution_count": null,
   "id": "a314256a",
   "metadata": {},
   "outputs": [],
   "source": [
    "from data.util import *"
   ]
  },
  {
   "cell_type": "code",
   "execution_count": null,
   "id": "c7236a63",
   "metadata": {},
   "outputs": [],
   "source": [
    "%time target = ingest_target(train_data)"
   ]
  },
  {
   "cell_type": "code",
   "execution_count": null,
   "id": "3022300a",
   "metadata": {},
   "outputs": [],
   "source": [
    "target.head()"
   ]
  },
  {
   "cell_type": "code",
   "execution_count": null,
   "id": "118310db",
   "metadata": {},
   "outputs": [],
   "source": [
    "df = target.copy()"
   ]
  },
  {
   "cell_type": "code",
   "execution_count": null,
   "id": "6bc7884b",
   "metadata": {},
   "outputs": [],
   "source": [
    "df = filter_by_id(df, player_in_test)"
   ]
  },
  {
   "cell_type": "code",
   "execution_count": null,
   "id": "089a8067",
   "metadata": {},
   "outputs": [],
   "source": [
    "playerList = df.groupby(['playerId'])['target_avg'].std().sort_values(ascending=False).reset_index()"
   ]
  },
  {
   "cell_type": "code",
   "execution_count": null,
   "id": "9d60fcc8",
   "metadata": {},
   "outputs": [],
   "source": [
    "playerList"
   ]
  },
  {
   "cell_type": "code",
   "execution_count": null,
   "id": "cfb6234f",
   "metadata": {},
   "outputs": [],
   "source": [
    "df = filter_by_id(df, playerList['playerId'].head(5))"
   ]
  },
  {
   "cell_type": "code",
   "execution_count": null,
   "id": "c5afd925",
   "metadata": {},
   "outputs": [],
   "source": [
    "df.playerId.nunique()"
   ]
  },
  {
   "cell_type": "code",
   "execution_count": null,
   "id": "ec5c1528",
   "metadata": {},
   "outputs": [],
   "source": [
    "# player stats"
   ]
  },
  {
   "cell_type": "code",
   "execution_count": null,
   "id": "4e5aeb81",
   "metadata": {},
   "outputs": [],
   "source": [
    "train_data.columns"
   ]
  },
  {
   "cell_type": "code",
   "execution_count": null,
   "id": "74499c72",
   "metadata": {},
   "outputs": [],
   "source": [
    "df = ingest_player_stats(df, train_data)"
   ]
  },
  {
   "cell_type": "code",
   "execution_count": null,
   "id": "13b0e92d",
   "metadata": {},
   "outputs": [],
   "source": [
    "# del train_data"
   ]
  },
  {
   "cell_type": "markdown",
   "id": "479877f4",
   "metadata": {},
   "source": [
    "### preprocessing "
   ]
  },
  {
   "cell_type": "code",
   "execution_count": null,
   "id": "c20d282a",
   "metadata": {},
   "outputs": [],
   "source": [
    "# from pipeline.stats import *\n",
    "# from pipeline.categories import *\n",
    "# from pipeline.continuous import *\n",
    "# from pipeline.core import *"
   ]
  },
  {
   "cell_type": "code",
   "execution_count": null,
   "id": "acba434a",
   "metadata": {},
   "outputs": [],
   "source": [
    "def gen_hardcoded_features(df: pd.DataFrame):\n",
    "    # some feature eng for the dates\n",
    "    df['playerAge'] = (df['date'] - df['DOB']).dt.total_seconds()\n",
    "    df['playerTSinceDebut'] = (df['date'] - df['mlbDebutDate']).dt.total_seconds()\n",
    "    df['playerDebutAge'] = (df['mlbDebutDate'] - df['DOB']).dt.total_seconds()\n",
    "    # normalize\n",
    "    df[['playerAge', 'playerTSinceDebut', 'playerDebutAge']] /= 60 * 60 * 24 * 365\n",
    "    \n",
    "    return df"
   ]
  },
  {
   "cell_type": "code",
   "execution_count": null,
   "id": "edd005de",
   "metadata": {},
   "outputs": [],
   "source": [
    "def fillna(df: pd.DataFrame, fill_value=-1):\n",
    "    return df.fillna(-1)"
   ]
  },
  {
   "cell_type": "code",
   "execution_count": null,
   "id": "7f6d344a",
   "metadata": {},
   "outputs": [],
   "source": [
    "# transformer for joining data and create base features\n",
    "\n",
    "join_season_tmf = FunctionTransformer(join_season_info,\n",
    "                                      kw_args={'path_to_season': RAW_PATH / 'seasons.csv',\n",
    "                                             'date_attr': ['year', 'month']})\n",
    "join_players_tmf = FunctionTransformer(join_players_info, kw_args={'path_to_players': RAW_PATH / 'players.csv'})\n",
    "harcoded_feat_tmf = FunctionTransformer(gen_hardcoded_features)"
   ]
  },
  {
   "cell_type": "code",
   "execution_count": null,
   "id": "7bfcc3e5",
   "metadata": {},
   "outputs": [],
   "source": [
    "# creating pipeline\n",
    "join_and_compute_feat_pl = Pipeline([('season', join_season_tmf),\n",
    "                                     ('players', join_players_tmf),\n",
    "                                     ('hardcoded_feat', harcoded_feat_tmf)])"
   ]
  },
  {
   "cell_type": "code",
   "execution_count": null,
   "id": "312f6809",
   "metadata": {},
   "outputs": [],
   "source": [
    "# features to use for target preprocessing\n",
    "target_cols = ['target1', 'target2', 'target3', 'target4']\n",
    "index_cols = ['date', 'playerId']\n",
    "pp_cols = target_cols + index_cols"
   ]
  },
  {
   "cell_type": "code",
   "execution_count": null,
   "id": "0fdaf48b",
   "metadata": {},
   "outputs": [],
   "source": [
    "# categories encoding\n",
    "categories = ['playerId', 'seasonPart', 'year',\n",
    "              'primaryPositionName', 'month']\n",
    "categories_tmf = PdColumnTransformer([(category, Categorify(add_nan=True), category)\n",
    "                                       for category in categories])"
   ]
  },
  {
   "cell_type": "code",
   "execution_count": null,
   "id": "65f92767",
   "metadata": {},
   "outputs": [],
   "source": []
  },
  {
   "cell_type": "code",
   "execution_count": null,
   "id": "a4ab0332",
   "metadata": {},
   "outputs": [],
   "source": [
    "# target statistics\n",
    "\n",
    "stats_gen_tmf = StatisticGen(stats=['mean', 'median', 'std'], windows=[90], drop_index=True)\n",
    "stats_lagger_tmf = LagGen(lags=[1], drop_index=False)\n",
    "\n",
    "# create mean and median stats after lagging the target 1 day\n",
    "stats_lagger_tmf = Pipeline([('lags', stats_lagger_tmf),\n",
    "                             ('stats', stats_gen_tmf),\n",
    "                             ('fillnan', FunctionTransformer(fillna)),\n",
    "                             ('normalize', PdScaleNorm())])\n",
    "\n",
    "# last 11 days as features\n",
    "lagger_tmf = Pipeline([('lags', LagGen(lags=[1])),\n",
    "                       ('fillnan', FunctionTransformer(fillna)),\n",
    "                       ('normalize', PdScaleNorm())])\n",
    "\n",
    "\n",
    "target_stats_tmf = PdColumnTransformer([\n",
    "    ('lags_stats', stats_lagger_tmf, pp_cols),\n",
    "#                                         ('lags', lagger_tmf, pp_cols)\n",
    "                                  ])"
   ]
  },
  {
   "cell_type": "code",
   "execution_count": null,
   "id": "7ad59bbe",
   "metadata": {},
   "outputs": [],
   "source": [
    "# %%time\n",
    "# target_stats_tmf.fit_transform(df)"
   ]
  },
  {
   "cell_type": "code",
   "execution_count": null,
   "id": "b2c522d4",
   "metadata": {},
   "outputs": [],
   "source": [
    "# %%time\n",
    "# target_stats_tmf.fit_transform(df)"
   ]
  },
  {
   "cell_type": "code",
   "execution_count": null,
   "id": "cb7a4d33",
   "metadata": {},
   "outputs": [],
   "source": [
    "# continuous preprocessing\n",
    "\n",
    "\n",
    "# get the rest of the continuous features\n",
    "continuous_feat_tmf = Pipeline([('get_cont_feat', FilterContinuousFeatures()),\n",
    "                                ('fillnan', FunctionTransformer(fillna)),\n",
    "                                ('normalize', PdScaleNorm())])"
   ]
  },
  {
   "cell_type": "code",
   "execution_count": null,
   "id": "bc199ff8",
   "metadata": {},
   "outputs": [],
   "source": [
    "# putting all together\n",
    "all_features_tmf = PdFeatureUnion([('target_stats', target_stats_tmf), \n",
    "                                   ('cont_feat', continuous_feat_tmf), \n",
    "                                  ('cats', categories_tmf)\n",
    "                                  ])"
   ]
  },
  {
   "cell_type": "code",
   "execution_count": null,
   "id": "e6bcb4ad",
   "metadata": {},
   "outputs": [],
   "source": [
    "# main pipeline with all steps \n",
    "pipeline = Pipeline([('join_compute', join_and_compute_feat_pl),\n",
    "                    ('features_gen', all_features_tmf)])"
   ]
  },
  {
   "cell_type": "code",
   "execution_count": null,
   "id": "4955dfc9",
   "metadata": {},
   "outputs": [],
   "source": [
    "pipeline"
   ]
  },
  {
   "cell_type": "code",
   "execution_count": null,
   "id": "9419c51d",
   "metadata": {},
   "outputs": [],
   "source": [
    "from data.split import *"
   ]
  },
  {
   "cell_type": "code",
   "execution_count": null,
   "id": "9c1b57a6",
   "metadata": {},
   "outputs": [],
   "source": [
    "sp = SplitData(\"2021-04-01\")"
   ]
  },
  {
   "cell_type": "code",
   "execution_count": null,
   "id": "6e3195f3",
   "metadata": {},
   "outputs": [],
   "source": [
    "train_idx = sp.train_idx(df)\n",
    "valid_idx = sp.valid_idx(df)"
   ]
  },
  {
   "cell_type": "code",
   "execution_count": null,
   "id": "4eccead6",
   "metadata": {},
   "outputs": [],
   "source": [
    "%%time\n",
    "pipeline.fit(sp.filter(df, train_idx))"
   ]
  },
  {
   "cell_type": "code",
   "execution_count": null,
   "id": "a5498e0e",
   "metadata": {
    "scrolled": true
   },
   "outputs": [],
   "source": [
    "%%time\n",
    "features = pipeline.transform(df)"
   ]
  },
  {
   "cell_type": "code",
   "execution_count": null,
   "id": "ec154d68",
   "metadata": {},
   "outputs": [],
   "source": [
    "pd.options.display.max_rows = 100\n",
    "features.T"
   ]
  },
  {
   "cell_type": "code",
   "execution_count": null,
   "id": "38ad1b4f",
   "metadata": {},
   "outputs": [],
   "source": [
    "continuous_feat = features.columns.drop(categories)"
   ]
  },
  {
   "cell_type": "code",
   "execution_count": null,
   "id": "832e312b",
   "metadata": {},
   "outputs": [],
   "source": [
    "df[target_cols] = df[target_cols].astype(np.float32)"
   ]
  },
  {
   "cell_type": "code",
   "execution_count": null,
   "id": "cc9fe8dc",
   "metadata": {},
   "outputs": [],
   "source": [
    "train_data = sp.filter(features, train_idx)\n",
    "raw_train_df = sp.filter(df, train_idx)"
   ]
  },
  {
   "cell_type": "code",
   "execution_count": null,
   "id": "78d844ea",
   "metadata": {},
   "outputs": [],
   "source": [
    "valid_data = sp.filter(features, valid_idx)\n",
    "raw_valid_df = sp.filter(df, valid_idx)"
   ]
  },
  {
   "cell_type": "code",
   "execution_count": null,
   "id": "9b8fbff0",
   "metadata": {},
   "outputs": [],
   "source": [
    "train_data.shape, raw_valid_df.shape"
   ]
  },
  {
   "cell_type": "code",
   "execution_count": null,
   "id": "2f30bbf9",
   "metadata": {},
   "outputs": [],
   "source": [
    "valid_data.shape, raw_train_df.shape"
   ]
  },
  {
   "cell_type": "code",
   "execution_count": null,
   "id": "7520ca64",
   "metadata": {},
   "outputs": [],
   "source": [
    "train_data[target_cols + ['date']] = raw_train_df[target_cols + ['date']]\n",
    "valid_data[target_cols + ['date']] = raw_valid_df[target_cols + ['date']]"
   ]
  },
  {
   "cell_type": "markdown",
   "id": "ae97c92f",
   "metadata": {},
   "source": [
    "### modeling "
   ]
  },
  {
   "cell_type": "code",
   "execution_count": null,
   "id": "0f07288c",
   "metadata": {},
   "outputs": [],
   "source": [
    "from torch.utils.data import DataLoader\n",
    "import torch\n",
    "from typing import Dict\n",
    "\n",
    "\n",
    "class PlayerDataset:\n",
    "    def __init__(self, features: np.ndarray,\n",
    "                 categories: np.ndarray,\n",
    "                 target: np.ndarray = None,\n",
    "                 lag: int = 10,\n",
    "                 device: torch.device = torch.device('cpu')):\n",
    "        self.features = features\n",
    "        self.target = target\n",
    "        self.lag = lag - 1\n",
    "        self.device = device\n",
    "        self.categories = categories\n",
    "        assert len(self) > self.lag, f'lenght: {len(self)}, lags: {self.lag}'\n",
    "        \n",
    "    def __len__(self):\n",
    "        return len(self.features)\n",
    "    \n",
    "    def _to_torch(self, array):\n",
    "        return torch.from_numpy(np.asarray(array)).to(device=self.device)\n",
    "    \n",
    "    def to_device(self, batch_item: Dict[str, np.ndarray]):\n",
    "        return {name: self._to_torch(values)\n",
    "                for name, values in batch_item.items()}\n",
    "    \n",
    "    def __getitem__(self, idx: int):\n",
    "        \n",
    "        start_idx = max(0, idx - self.lag)\n",
    "        timeft = self.features[start_idx: idx + 1]\n",
    "        \n",
    "        if len(timeft) <= self.lag:\n",
    "            missing_steps = self.lag - len(timeft) + 1\n",
    "            timeft = np.pad(timeft, pad_width=((missing_steps, 0), (0, 0)))        \n",
    "        cats = self.categories[idx]\n",
    "        \n",
    "        batch_item = {\"features\": timeft, 'categories': cats}\n",
    "        if self.target is not None:\n",
    "            batch_item['target'] = self.target[idx]\n",
    "    \n",
    "        return self.to_device(batch_item)\n",
    "\n",
    "    \n",
    "class MultiPlayerDataset:\n",
    "    def __init__(self, ds: List[PlayerDataset]):\n",
    "        self.ds = ds\n",
    "        self.cum_lenght = np.cumsum([0] + list(map(len, self.ds)))\n",
    "        \n",
    "    def __len__(self):\n",
    "        return self.cum_lenght[-1]\n",
    "    \n",
    "    def __getitem__(self, idx):\n",
    "        ds_idx = np.argmax(self.cum_lenght > idx) - 1\n",
    "        ds = self.ds[ds_idx]        \n",
    "        right_idx = idx - self.cum_lenght[ds_idx]\n",
    "        return ds[idx - self.cum_lenght[ds_idx]]\n",
    "\n",
    "    @classmethod\n",
    "    def from_df(cls, df: pd.DataFrame,\n",
    "                playerIds,\n",
    "                features: List[str],\n",
    "                categories: List[str],\n",
    "                target: List[str]=None,\n",
    "                lag: int = 30,\n",
    "                device: torch.device = torch.device('cpu')):\n",
    "#         df.sort_values(by=['playerId', 'date'], inplace=True)\n",
    "        df.reset_index(drop=True, inplace=True)\n",
    "        \n",
    "        ds = []\n",
    "        for playerId, pdf in df.groupby(playerIds):\n",
    "            pl_target = (pdf.loc[:, target].to_numpy() if target is not None else None)\n",
    "            pds = PlayerDataset(pdf.loc[:, features].to_numpy(),\n",
    "                                pdf.loc[:, categories].to_numpy(),\n",
    "                                target=pl_target,\n",
    "                                lag=lag,\n",
    "                               device=device)\n",
    "            ds.append(pds)\n",
    "        \n",
    "        return cls(ds)"
   ]
  },
  {
   "cell_type": "code",
   "execution_count": null,
   "id": "ce2cc2e4",
   "metadata": {},
   "outputs": [],
   "source": []
  },
  {
   "cell_type": "code",
   "execution_count": null,
   "id": "15dc5cbf",
   "metadata": {},
   "outputs": [],
   "source": [
    "from torch import nn, optim\n",
    "from torch.nn import functional as F"
   ]
  },
  {
   "cell_type": "code",
   "execution_count": null,
   "id": "3a3f7de4",
   "metadata": {},
   "outputs": [],
   "source": [
    "def mae(yhat, y):\n",
    "    return torch.abs(yhat-y).mean()"
   ]
  },
  {
   "cell_type": "code",
   "execution_count": null,
   "id": "6679fe4b",
   "metadata": {},
   "outputs": [],
   "source": [
    "from typing import List, Tuple\n",
    "\n",
    "class EmbeddingLayer(nn.Module):\n",
    "    def __init__(self, emb_szs: List[Tuple[int, int]], dropout: float = 0.):\n",
    "        super().__init__()\n",
    "        self.dropout = nn.Dropout(dropout)\n",
    "        self.emb = nn.ModuleList([nn.Embedding(size, hidden_dim)\n",
    "                              for (size, hidden_dim) in emb_szs])\n",
    "        \n",
    "        self.out_features = sum([hidden_dim for (_, hidden_dim) in emb_szs])\n",
    "    \n",
    "    def forward(self, x):\n",
    "        output = torch.cat([emb(x[:, e]) for e, emb in enumerate(self.emb)], dim=1)\n",
    "        output = self.dropout(output)\n",
    "        return output"
   ]
  },
  {
   "cell_type": "code",
   "execution_count": null,
   "id": "2837a7f6",
   "metadata": {},
   "outputs": [],
   "source": [
    "import pytorch_lightning as pl"
   ]
  },
  {
   "cell_type": "code",
   "execution_count": null,
   "id": "0aaf80f7",
   "metadata": {},
   "outputs": [],
   "source": [
    "class LstmModel(pl.LightningModule):\n",
    "    def __init__(self, in_features: int,\n",
    "                 emb_szs,\n",
    "                 hidden_dim: int,\n",
    "                 out_features: int = 1,\n",
    "                 n_layers: int = 2):\n",
    "        super().__init__()\n",
    "        self.emb = EmbeddingLayer(emb_szs, dropout=0.05)\n",
    "        self.hidden_dim = hidden_dim\n",
    "        self.net = nn.LSTM(in_features, hidden_dim, batch_first=True)\n",
    "        # decoder\n",
    "        self.output_layer = nn.Sequential(nn.Linear(hidden_dim + self.emb.out_features, hidden_dim),\n",
    "                                          nn.ReLU(),\n",
    "                                          nn.BatchNorm1d(hidden_dim),\n",
    "                                          nn.Dropout(0.05),\n",
    "                                          nn.Linear(hidden_dim, out_features))\n",
    "        self.loss = mae\n",
    "        \n",
    "    def _init_hidden(self, bs):\n",
    "        return next(self.parameters()).new(1, bs, self.hidden_dim).zero_()\n",
    "        \n",
    "    def init_hidden_state(self, bs):\n",
    "        return (self._init_hidden(bs), self._init_hidden(bs))\n",
    "    \n",
    "    def forward(self, features,\n",
    "                categories,\n",
    "                target=None):        \n",
    "        bs, sq, ft = features.size()\n",
    "        hidden_state = self.init_hidden_state(bs)\n",
    "        \n",
    "        _, (final_state, _) = self.net(features, hidden_state)\n",
    "        \n",
    "        final_state.squeeze_(dim=0)\n",
    "        categories = self.emb(categories)\n",
    "        final_state = torch.cat((categories, final_state), dim=1)\n",
    "        prediction = self.output_layer(final_state)\n",
    "        # scaled prediction to 0 to 100\n",
    "        prediction = torch.sigmoid(prediction) * 100\n",
    "\n",
    "        return prediction\n",
    "    \n",
    "    def training_step(self, batch, batch_idx):\n",
    "        y_hat = self(**batch)\n",
    "        loss = mae(y_hat, batch['target'])\n",
    "        self.log('train_mae', loss, on_epoch=True,\n",
    "                 prog_bar=True, sync_dist=True)\n",
    "        return loss\n",
    "\n",
    "    def validation_step(self, batch, batch_idx):\n",
    "        y_hat = self(**batch)\n",
    "        loss = mae(y_hat, batch['target'])\n",
    "        self.log('valid_mae', loss, on_epoch=True,\n",
    "                 prog_bar=True, sync_dist=True)\n",
    "        return loss\n",
    "    \n",
    "    def configure_optimizers(self):\n",
    "        optimizer = optim.Adam(self.parameters(), lr=0.01)\n",
    "        return optimizer"
   ]
  },
  {
   "cell_type": "code",
   "execution_count": null,
   "id": "0b3b91bf",
   "metadata": {},
   "outputs": [],
   "source": [
    "# class GRUModel(pl.LightningModule):\n",
    "#     def __init__(self, in_features: int,\n",
    "#                  emb_szs,\n",
    "#                  hidden_dim: int,\n",
    "#                  out_features: int = 1,\n",
    "#                  n_layers: int = 2):\n",
    "#         super().__init__()\n",
    "#         self.emb = EmbeddingLayer(emb_szs, dropout=0.05)\n",
    "#         self.hidden_dim = hidden_dim\n",
    "#         self.net = nn.GRU(in_features, hidden_dim, batch_first=True)\n",
    "#         # decoder\n",
    "#         self.output_layer = nn.Sequential(nn.Linear(hidden_dim + self.emb.out_features, hidden_dim),\n",
    "#                                           nn.ReLU(),\n",
    "#                                           nn.BatchNorm1d(hidden_dim),\n",
    "#                                           nn.Dropout(0.05),\n",
    "#                                           nn.Linear(hidden_dim, out_features))\n",
    "        \n",
    "#     def _init_hidden(self, bs):\n",
    "#         return next(self.parameters()).new(1, bs, self.hidden_dim).zero_()\n",
    "        \n",
    "#     def init_hidden_state(self, bs):\n",
    "#         return self._init_hidden(bs)\n",
    "    \n",
    "#     def forward(self, features,\n",
    "#                 categories,\n",
    "#                 target=None):        \n",
    "#         bs, sq, ft = features.size()\n",
    "#         hidden_state = self.init_hidden_state(bs)\n",
    "        \n",
    "#         _, final_state = self.net(features, hidden_state)\n",
    "        \n",
    "#         final_state.squeeze_(dim=0)\n",
    "#         categories = self.emb(categories)\n",
    "#         final_state = torch.cat((categories, final_state), dim=1)\n",
    "#         prediction = self.output_layer(final_state)\n",
    "#         # scaled prediction to 0 to 100\n",
    "#         prediction = torch.sigmoid(prediction) * 100\n",
    "\n",
    "#         return prediction\n",
    "    \n",
    "#     def training_step(self, batch, batch_idx):\n",
    "#         y_hat = self(**batch)\n",
    "#         loss = mae(y_hat, batch['target'])\n",
    "#         self.log('train_mae', loss, on_epoch=True,\n",
    "#                  prog_bar=True, sync_dist=True)\n",
    "#         return loss\n",
    "\n",
    "#     def validation_step(self, batch, batch_idx):\n",
    "#         y_hat = self(**batch)\n",
    "#         loss = mae(y_hat, batch['target'])\n",
    "#         self.log('valid_mae', loss, on_epoch=True,\n",
    "#                  prog_bar=True, sync_dist=True)\n",
    "#         return loss\n",
    "    \n",
    "#     def configure_optimizers(self):\n",
    "#         optimizer = optim.Adam(self.parameters(), lr=0.01)\n",
    "#         return optimizer"
   ]
  },
  {
   "cell_type": "code",
   "execution_count": null,
   "id": "495740a8",
   "metadata": {},
   "outputs": [],
   "source": [
    "torch.manual_seed(2021)"
   ]
  },
  {
   "cell_type": "code",
   "execution_count": null,
   "id": "63d2f2f7",
   "metadata": {},
   "outputs": [],
   "source": [
    "LAGS = 7\n",
    "batch_size = 512"
   ]
  },
  {
   "cell_type": "code",
   "execution_count": null,
   "id": "ba3c8f45",
   "metadata": {},
   "outputs": [],
   "source": [
    "train_ds = MultiPlayerDataset.from_df(train_data,\n",
    "                                      playerIds=raw_train_df['playerId'],\n",
    "                                      features=continuous_feat, \n",
    "                                      categories=categories,\n",
    "                                      target=target_cols, lag=LAGS)\n",
    "train_dl = DataLoader(train_ds, batch_size=batch_size, shuffle=True)"
   ]
  },
  {
   "cell_type": "code",
   "execution_count": null,
   "id": "97bf22e9",
   "metadata": {},
   "outputs": [],
   "source": [
    "valid_ds = MultiPlayerDataset.from_df(valid_data, \n",
    "                                      playerIds=raw_valid_df['playerId'],\n",
    "                                      features=continuous_feat, \n",
    "                                      categories=categories,\n",
    "                                      target=target_cols, lag=LAGS)\n",
    "valid_dl = DataLoader(valid_ds, batch_size=batch_size, shuffle=False)"
   ]
  },
  {
   "cell_type": "code",
   "execution_count": null,
   "id": "34063f31",
   "metadata": {},
   "outputs": [],
   "source": [
    "get_szs_size = lambda size: (size+1, min(size//2, 50))"
   ]
  },
  {
   "cell_type": "code",
   "execution_count": null,
   "id": "f6a92591",
   "metadata": {},
   "outputs": [],
   "source": [
    "emb_szs = [get_szs_size(size) for size in train_data.loc[:, categories].nunique()]"
   ]
  },
  {
   "cell_type": "code",
   "execution_count": null,
   "id": "573345a9",
   "metadata": {},
   "outputs": [],
   "source": [
    "emb_szs"
   ]
  },
  {
   "cell_type": "code",
   "execution_count": null,
   "id": "c87e479e",
   "metadata": {},
   "outputs": [],
   "source": [
    "model = LstmModel(len(continuous_feat), emb_szs=emb_szs, hidden_dim=20,\n",
    "                  out_features=len(target_cols))"
   ]
  },
  {
   "cell_type": "code",
   "execution_count": 190,
   "id": "636e767c",
   "metadata": {},
   "outputs": [
    {
     "data": {
      "text/plain": [
       "LstmModel(\n",
       "  (emb): EmbeddingLayer(\n",
       "    (dropout): Dropout(p=0.05, inplace=False)\n",
       "    (emb): ModuleList(\n",
       "      (0): Embedding(1188, 50)\n",
       "      (1): Embedding(8, 3)\n",
       "      (2): Embedding(5, 2)\n",
       "      (3): Embedding(10, 4)\n",
       "      (4): Embedding(13, 6)\n",
       "    )\n",
       "  )\n",
       "  (net): LSTM(94, 20, batch_first=True)\n",
       "  (output_layer): Sequential(\n",
       "    (0): Linear(in_features=85, out_features=20, bias=True)\n",
       "    (1): ReLU()\n",
       "    (2): BatchNorm1d(20, eps=1e-05, momentum=0.1, affine=True, track_running_stats=True)\n",
       "    (3): Dropout(p=0.05, inplace=False)\n",
       "    (4): Linear(in_features=20, out_features=4, bias=True)\n",
       "  )\n",
       ")"
      ]
     },
     "execution_count": 190,
     "metadata": {},
     "output_type": "execute_result"
    }
   ],
   "source": [
    "model"
   ]
  },
  {
   "cell_type": "code",
   "execution_count": 191,
   "id": "f2cdca4b",
   "metadata": {},
   "outputs": [
    {
     "name": "stderr",
     "output_type": "stream",
     "text": [
      "GPU available: False, used: False\n",
      "TPU available: False, using: 0 TPU cores\n"
     ]
    }
   ],
   "source": [
    "from pytorch_lightning.callbacks import EarlyStopping\n",
    "early_stopping = EarlyStopping('valid_mae', patience=5, )\n",
    "trainer = pl.Trainer(max_epochs=10, callbacks=[early_stopping])"
   ]
  },
  {
   "cell_type": "code",
   "execution_count": 192,
   "id": "090bf9d5",
   "metadata": {
    "scrolled": true
   },
   "outputs": [
    {
     "name": "stderr",
     "output_type": "stream",
     "text": [
      "\n",
      "  | Name         | Type           | Params\n",
      "------------------------------------------------\n",
      "0 | emb          | EmbeddingLayer | 59.6 K\n",
      "1 | net          | LSTM           | 9.3 K \n",
      "2 | output_layer | Sequential     | 1.8 K \n",
      "------------------------------------------------\n",
      "70.7 K    Trainable params\n",
      "0         Non-trainable params\n",
      "70.7 K    Total params\n",
      "0.283     Total estimated model params size (MB)\n"
     ]
    },
    {
     "data": {
      "application/vnd.jupyter.widget-view+json": {
       "model_id": "",
       "version_major": 2,
       "version_minor": 0
      },
      "text/plain": [
       "Validation sanity check: 0it [00:00, ?it/s]"
      ]
     },
     "metadata": {},
     "output_type": "display_data"
    },
    {
     "data": {
      "application/vnd.jupyter.widget-view+json": {
       "model_id": "476838319f2147eba4e02ebf0f7ea766",
       "version_major": 2,
       "version_minor": 0
      },
      "text/plain": [
       "Training: 0it [00:00, ?it/s]"
      ]
     },
     "metadata": {},
     "output_type": "display_data"
    },
    {
     "data": {
      "application/vnd.jupyter.widget-view+json": {
       "model_id": "",
       "version_major": 2,
       "version_minor": 0
      },
      "text/plain": [
       "Validating: 0it [00:00, ?it/s]"
      ]
     },
     "metadata": {},
     "output_type": "display_data"
    },
    {
     "data": {
      "application/vnd.jupyter.widget-view+json": {
       "model_id": "",
       "version_major": 2,
       "version_minor": 0
      },
      "text/plain": [
       "Validating: 0it [00:00, ?it/s]"
      ]
     },
     "metadata": {},
     "output_type": "display_data"
    },
    {
     "data": {
      "application/vnd.jupyter.widget-view+json": {
       "model_id": "",
       "version_major": 2,
       "version_minor": 0
      },
      "text/plain": [
       "Validating: 0it [00:00, ?it/s]"
      ]
     },
     "metadata": {},
     "output_type": "display_data"
    },
    {
     "data": {
      "application/vnd.jupyter.widget-view+json": {
       "model_id": "",
       "version_major": 2,
       "version_minor": 0
      },
      "text/plain": [
       "Validating: 0it [00:00, ?it/s]"
      ]
     },
     "metadata": {},
     "output_type": "display_data"
    },
    {
     "data": {
      "application/vnd.jupyter.widget-view+json": {
       "model_id": "",
       "version_major": 2,
       "version_minor": 0
      },
      "text/plain": [
       "Validating: 0it [00:00, ?it/s]"
      ]
     },
     "metadata": {},
     "output_type": "display_data"
    },
    {
     "data": {
      "application/vnd.jupyter.widget-view+json": {
       "model_id": "",
       "version_major": 2,
       "version_minor": 0
      },
      "text/plain": [
       "Validating: 0it [00:00, ?it/s]"
      ]
     },
     "metadata": {},
     "output_type": "display_data"
    },
    {
     "data": {
      "application/vnd.jupyter.widget-view+json": {
       "model_id": "",
       "version_major": 2,
       "version_minor": 0
      },
      "text/plain": [
       "Validating: 0it [00:00, ?it/s]"
      ]
     },
     "metadata": {},
     "output_type": "display_data"
    },
    {
     "data": {
      "application/vnd.jupyter.widget-view+json": {
       "model_id": "",
       "version_major": 2,
       "version_minor": 0
      },
      "text/plain": [
       "Validating: 0it [00:00, ?it/s]"
      ]
     },
     "metadata": {},
     "output_type": "display_data"
    },
    {
     "data": {
      "application/vnd.jupyter.widget-view+json": {
       "model_id": "",
       "version_major": 2,
       "version_minor": 0
      },
      "text/plain": [
       "Validating: 0it [00:00, ?it/s]"
      ]
     },
     "metadata": {},
     "output_type": "display_data"
    },
    {
     "data": {
      "application/vnd.jupyter.widget-view+json": {
       "model_id": "",
       "version_major": 2,
       "version_minor": 0
      },
      "text/plain": [
       "Validating: 0it [00:00, ?it/s]"
      ]
     },
     "metadata": {},
     "output_type": "display_data"
    }
   ],
   "source": [
    "trainer.fit(model, train_dl, valid_dl)"
   ]
  },
  {
   "cell_type": "code",
   "execution_count": 163,
   "id": "9899a4d6",
   "metadata": {},
   "outputs": [],
   "source": [
    "def predict_dl(model, valid_dl):\n",
    "    model.eval()\n",
    "    with torch.no_grad():\n",
    "        prediction = torch.cat([model(**batch)\n",
    "                               for batch in valid_dl])\n",
    "    return prediction.numpy()"
   ]
  },
  {
   "cell_type": "code",
   "execution_count": 164,
   "id": "9a59f98d",
   "metadata": {},
   "outputs": [],
   "source": [
    "valid_prediction = predict_dl(model, valid_dl)"
   ]
  },
  {
   "cell_type": "code",
   "execution_count": 165,
   "id": "98c81453",
   "metadata": {},
   "outputs": [],
   "source": [
    "valid_prediction = pd.DataFrame(valid_prediction, columns=['yhat1', 'yhat2', 'yhat3', 'yhat4'])"
   ]
  },
  {
   "cell_type": "code",
   "execution_count": 166,
   "id": "9867c57d",
   "metadata": {},
   "outputs": [],
   "source": [
    "valid_prediction[pp_cols] = raw_valid_df[pp_cols]"
   ]
  },
  {
   "cell_type": "code",
   "execution_count": 167,
   "id": "8636d66c",
   "metadata": {},
   "outputs": [],
   "source": [
    "def predict_fn(raw_df: pd.DataFrame):\n",
    "    test_features = pipeline.transform(raw_df)\n",
    "    test_ds = MultiPlayerDataset.from_df(test_features,\n",
    "                                         playerIds=raw_df['playerId'],\n",
    "                                         features=continuous_feat,\n",
    "                                         categories=categories, lag=LAGS)\n",
    "    test_dl = DataLoader(test_ds, batch_size=batch_size, shuffle=False)\n",
    "    prediction = predict_dl(model, test_dl)\n",
    "    \n",
    "    \n",
    "    return prediction"
   ]
  },
  {
   "cell_type": "code",
   "execution_count": null,
   "id": "d9ebeefa",
   "metadata": {},
   "outputs": [],
   "source": []
  },
  {
   "cell_type": "code",
   "execution_count": 168,
   "id": "0ad4e846",
   "metadata": {},
   "outputs": [],
   "source": [
    "from typing import Dict, Callable\n",
    "import gc\n",
    "def predict_recursive(test_df: pd.DataFrame,\n",
    "                      raw_df: pd.DataFrame, \n",
    "                      predict_fn: Callable,\n",
    "                      n_days: int=1):\n",
    "    \n",
    "    assert test_df['date'].nunique() == 1, \\\n",
    "           'the test set has more than one date'\n",
    "\n",
    "    test_date = test_df['date'].iloc[0]\n",
    "    last_date = raw_df['date'].max()\n",
    "    \n",
    "    raw_df = raw_df[raw_df['date'] >= (last_date - pd.to_timedelta(n_days, unit='d'))]\n",
    "    \n",
    "    if test_date <= last_date:\n",
    "        print('test date in training data')\n",
    "    else:\n",
    "        assert test_date - last_date == pd.to_timedelta(1, unit='d'), \\\n",
    "           f'the test date ({test_date}) must be one day after the last_date ({last_date})'\n",
    "    # append information\n",
    "        raw_df = raw_df.append(test_df, ignore_index=True)\n",
    "    # sort by index and dates\n",
    "    raw_df.sort_values(by=['playerId', 'date'], inplace=True)\n",
    "    raw_df.reset_index(drop=True, inplace=True)\n",
    "    # get the index to locate the test df\n",
    "    index = (raw_df['date'] == test_date)\n",
    "    \n",
    "    assert index.sum() == len(test_df)\n",
    "    # predict\n",
    "    prediction = predict_fn(raw_df)\n",
    "    # filter prediction\n",
    "    prediction = prediction[index]\n",
    "    # create a dataframe with the prediction\n",
    "    prediction_df = pd.DataFrame(prediction, columns=target_cols)\n",
    "    prediction_df['date'] = test_date\n",
    "    prediction_df['playerId'] = raw_df.loc[index, 'playerId'].to_numpy()\n",
    "    print(prediction_df.head())\n",
    "    # add the prediction to the dataset\n",
    "    raw_df.loc[index, target_cols] = prediction\n",
    "    \n",
    "    del prediction, index\n",
    "    gc.collect()\n",
    "    return prediction_df, raw_df"
   ]
  },
  {
   "cell_type": "code",
   "execution_count": 172,
   "id": "54d657dc",
   "metadata": {},
   "outputs": [
    {
     "name": "stdout",
     "output_type": "stream",
     "text": [
      "    target1    target2   target3    target4       date  playerId\n",
      "0  0.662348  13.124995  1.454247  24.492933 2021-04-01    405395\n",
      "1  5.210132  14.658020  4.394110  17.305609 2021-04-01    408234\n",
      "2  0.004103   0.365526  0.003643   1.095779 2021-04-01    424144\n",
      "3  0.004985   0.280761  0.003207   0.694998 2021-04-01    425772\n",
      "4  0.001015   0.127101  0.000462   0.260432 2021-04-01    425784\n",
      "    target1    target2   target3    target4       date  playerId\n",
      "0  6.934170  18.592014  8.239429  26.986710 2021-04-02    405395\n",
      "1  3.033669  12.650392  2.988313  16.195728 2021-04-02    408234\n",
      "2  0.004076   0.364481  0.003620   1.093493 2021-04-02    424144\n",
      "3  0.004880   0.276766  0.003136   0.688605 2021-04-02    425772\n",
      "4  0.001014   0.127041  0.000461   0.260341 2021-04-02    425784\n",
      "    target1    target2   target3    target4       date  playerId\n",
      "0  4.408242  17.666111  6.210984  26.249880 2021-04-03    405395\n",
      "1  1.501038  10.899079  1.531669  14.403924 2021-04-03    408234\n",
      "2  0.004025   0.361719  0.003573   1.087595 2021-04-03    424144\n",
      "3  0.004767   0.272232  0.003059   0.681305 2021-04-03    425772\n",
      "4  0.001005   0.126446  0.000457   0.259461 2021-04-03    425784\n",
      "    target1    target2   target3    target4       date  playerId\n",
      "0  0.885734  13.440815  1.859643  25.262341 2021-04-04    405395\n",
      "1  1.224799  10.787568  1.553533  15.750265 2021-04-04    408234\n",
      "2  0.003898   0.356450  0.003473   1.076386 2021-04-04    424144\n",
      "3  0.004713   0.269965  0.003021   0.677622 2021-04-04    425772\n",
      "4  0.000998   0.125879  0.000454   0.258591 2021-04-04    425784\n",
      "    target1    target2   target3    target4       date  playerId\n",
      "0  0.484862  11.222534  1.039075  22.066607 2021-04-05    405395\n",
      "1  0.361997   8.269551  0.533922  13.506566 2021-04-05    408234\n",
      "2  0.003912   0.356718  0.003483   1.077160 2021-04-05    424144\n",
      "3  0.004713   0.269750  0.003020   0.677290 2021-04-05    425772\n",
      "4  0.000993   0.125582  0.000452   0.258095 2021-04-05    425784\n",
      "    target1    target2   target3    target4       date  playerId\n",
      "0  0.457512  11.073368  0.986165  21.885971 2021-04-06    405395\n",
      "1  0.362068   7.960635  0.516345  13.145945 2021-04-06    408234\n",
      "2  0.003926   0.357195  0.003493   1.078259 2021-04-06    424144\n",
      "3  0.004735   0.270234  0.003032   0.677957 2021-04-06    425772\n",
      "4  0.000991   0.125524  0.000451   0.257959 2021-04-06    425784\n",
      "    target1    target2   target3    target4       date  playerId\n",
      "0  0.534915  12.581539  1.453322  26.433802 2021-04-07    405395\n",
      "1  0.345080   7.941141  0.503342  13.251347 2021-04-07    408234\n",
      "2  0.003936   0.357627  0.003502   1.079228 2021-04-07    424144\n",
      "3  0.004744   0.270488  0.003038   0.678344 2021-04-07    425772\n",
      "4  0.000990   0.125456  0.000450   0.257828 2021-04-07    425784\n",
      "    target1    target2   target3    target4       date  playerId\n",
      "0  0.290849  10.825255  0.907874  24.435884 2021-04-08    405395\n",
      "1  0.377230   9.357260  0.692891  16.051725 2021-04-08    408234\n",
      "2  0.003928   0.357198  0.003494   1.078295 2021-04-08    424144\n",
      "3  0.004744   0.270571  0.003039   0.678541 2021-04-08    425772\n",
      "4  0.000989   0.125397  0.000450   0.257723 2021-04-08    425784\n",
      "    target1   target2   target3    target4       date  playerId\n",
      "0  0.174805  9.357049  0.609369  22.813002 2021-04-09    405395\n",
      "1  0.284216  7.588098  0.432153  12.985902 2021-04-09    408234\n",
      "2  0.003924  0.357227  0.003493   1.078385 2021-04-09    424144\n",
      "3  0.004734  0.270407  0.003033   0.678410 2021-04-09    425772\n",
      "4  0.000986  0.125150  0.000448   0.257356 2021-04-09    425784\n",
      "    target1    target2   target3    target4       date  playerId\n",
      "0  0.563443  11.720573  1.189966  22.742901 2021-04-10    405395\n",
      "1  0.312172   7.727472  0.463976  13.091360 2021-04-10    408234\n",
      "2  0.091891   1.264676  0.039367   1.881488 2021-04-10    424144\n",
      "3  0.004729   0.270457  0.003032   0.678651 2021-04-10    425772\n",
      "4  0.000982   0.124890  0.000446   0.256961 2021-04-10    425784\n",
      "    target1    target2   target3    target4       date  playerId\n",
      "0  0.581194  12.806694  1.552634  26.590771 2021-04-11    405395\n",
      "1  0.360254   9.314123  0.674594  16.112818 2021-04-11    408234\n",
      "2  0.145613   1.332709  0.064448   2.183851 2021-04-11    424144\n",
      "3  0.004728   0.270468  0.003032   0.678709 2021-04-11    425772\n",
      "4  0.000980   0.124762  0.000446   0.256753 2021-04-11    425784\n",
      "    target1    target2   target3    target4       date  playerId\n",
      "0  0.512264  11.057534  1.036403  21.305742 2021-04-12    405395\n",
      "1  0.186121   7.621499  0.395705  14.357718 2021-04-12    408234\n",
      "2  0.077494   0.980716  0.036975   1.823820 2021-04-12    424144\n",
      "3  0.004730   0.270533  0.003033   0.678794 2021-04-12    425772\n",
      "4  0.000980   0.124703  0.000445   0.256646 2021-04-12    425784\n",
      "    target1    target2   target3    target4       date  playerId\n",
      "0  0.638131  11.632045  1.251994  22.019220 2021-04-13    405395\n",
      "1  0.116141   6.639229  0.275260  13.413776 2021-04-13    408234\n",
      "2  0.050709   0.837961  0.026412   1.682088 2021-04-13    424144\n",
      "3  0.004719   0.270058  0.003025   0.677923 2021-04-13    425772\n",
      "4  0.000975   0.124359  0.000443   0.256116 2021-04-13    425784\n",
      "    target1    target2   target3    target4       date  playerId\n",
      "0  0.533822  11.845808  1.176934  23.291634 2021-04-14    405395\n",
      "1  0.072259   5.861610  0.192070  12.659356 2021-04-14    408234\n",
      "2  0.077424   1.160584  0.032906   1.731182 2021-04-14    424144\n",
      "3  0.004726   0.270268  0.003030   0.678274 2021-04-14    425772\n",
      "4  0.000972   0.124130  0.000442   0.255748 2021-04-14    425784\n",
      "    target1    target2   target3    target4       date  playerId\n",
      "0  0.532810  12.714581  1.465780  26.710701 2021-04-15    405395\n",
      "1  0.056258   5.419814  0.158445  12.180292 2021-04-15    408234\n",
      "2  0.156555   1.482499  0.072269   2.367928 2021-04-15    424144\n",
      "3  0.004732   0.270460  0.003033   0.678588 2021-04-15    425772\n",
      "4  0.000972   0.124117  0.000441   0.255699 2021-04-15    425784\n",
      "    target1    target2   target3    target4       date  playerId\n",
      "0  0.584089  11.967508  1.250363  23.246067 2021-04-16    405395\n",
      "1  0.031143   4.718613  0.104252  10.608133 2021-04-16    408234\n",
      "2  0.116590   1.503890  0.049450   2.047896 2021-04-16    424144\n",
      "3  0.004738   0.270608  0.003037   0.678802 2021-04-16    425772\n",
      "4  0.000971   0.124074  0.000441   0.255617 2021-04-16    425784\n",
      "    target1    target2   target3    target4       date  playerId\n",
      "0  0.583792  12.872127  1.562146  26.717360 2021-04-17    405395\n",
      "1  0.027470   4.354290  0.093791   9.477155 2021-04-17    408234\n",
      "2  0.094099   1.447651  0.040189   1.942402 2021-04-17    424144\n",
      "3  0.004737   0.270571  0.003036   0.678715 2021-04-17    425772\n",
      "4  0.000964   0.123564  0.000438   0.254853 2021-04-17    425784\n",
      "    target1    target2   target3    target4       date  playerId\n",
      "0  0.320483  11.084450  0.983522  24.718826 2021-04-18    405395\n",
      "1  0.028010   4.370292  0.095181   9.509668 2021-04-18    408234\n",
      "2  0.071993   1.063948  0.035540   1.922698 2021-04-18    424144\n",
      "3  0.004743   0.270771  0.003040   0.679057 2021-04-18    425772\n",
      "4  0.000964   0.123611  0.000438   0.254889 2021-04-18    425784\n",
      "    target1    target2   target3    target4       date  playerId\n",
      "0  1.053039  13.961765  2.117565  25.753275 2021-04-19    405395\n",
      "1  0.028197   4.379148  0.095757   9.526304 2021-04-19    408234\n",
      "2  0.047063   0.922473  0.026461   1.861043 2021-04-19    424144\n",
      "3  0.004744   0.270851  0.003041   0.679221 2021-04-19    425772\n",
      "4  0.000964   0.123571  0.000437   0.254815 2021-04-19    425784\n",
      "    target1    target2   target3    target4       date  playerId\n",
      "0  4.084136  16.826258  5.480838  26.002848 2021-04-20    405395\n",
      "1  0.028502   4.391926  0.096647   9.550227 2021-04-20    408234\n",
      "2  0.026382   0.748193  0.016616   1.675080 2021-04-20    424144\n",
      "3  0.004749   0.271036  0.003044   0.679520 2021-04-20    425772\n",
      "4  0.000963   0.123571  0.000437   0.254801 2021-04-20    425784\n",
      "    target1    target2   target3    target4       date  playerId\n",
      "0  0.778656  12.951571  1.662423  24.780392 2021-04-21    405395\n",
      "1  0.028763   4.397898  0.097234   9.560750 2021-04-21    408234\n",
      "2  0.008938   0.538221  0.007139   1.456031 2021-04-21    424144\n",
      "3  0.004751   0.271023  0.003045   0.679449 2021-04-21    425772\n",
      "4  0.000962   0.123431  0.000436   0.254588 2021-04-21    425784\n",
      "    target1    target2   target3    target4       date  playerId\n",
      "0  5.843574  17.644552  7.091975  26.254019 2021-04-22    405395\n",
      "1  0.028670   4.385722  0.096680   9.537398 2021-04-22    408234\n",
      "2  0.102440   1.360356  0.043477   1.933701 2021-04-22    424144\n",
      "3  0.004757   0.271209  0.003049   0.679742 2021-04-22    425772\n",
      "4  0.000961   0.123349  0.000436   0.254457 2021-04-22    425784\n"
     ]
    },
    {
     "name": "stdout",
     "output_type": "stream",
     "text": [
      "    target1    target2   target3    target4       date  playerId\n",
      "0  2.143747  14.724981  3.263585  24.400501 2021-04-23    405395\n",
      "1  0.028783   4.388597  0.096966   9.543611 2021-04-23    408234\n",
      "2  0.228500   1.694288  0.099246   2.553479 2021-04-23    424144\n",
      "3  0.004761   0.271350  0.003051   0.679971 2021-04-23    425772\n",
      "4  0.000961   0.123352  0.000436   0.254453 2021-04-23    425784\n",
      "    target1    target2   target3    target4       date  playerId\n",
      "0  1.866007  15.064989  3.465936  26.523384 2021-04-24    405395\n",
      "1  0.029114   4.401182  0.097910   9.568069 2021-04-24    408234\n",
      "2  0.090144   1.020783  0.041725   1.841983 2021-04-24    424144\n",
      "3  0.004769   0.271569  0.003056   0.680307 2021-04-24    425772\n",
      "4  0.000961   0.123365  0.000436   0.254464 2021-04-24    425784\n",
      "    target1    target2   target3    target4       date  playerId\n",
      "0  0.981667  13.508821  1.949464  24.963512 2021-04-25    405395\n",
      "1  0.488629   9.002983  0.690506  14.252311 2021-04-25    408234\n",
      "2  0.068790   0.930188  0.034085   1.761393 2021-04-25    424144\n",
      "3  0.004774   0.271711  0.003059   0.680504 2021-04-25    425772\n",
      "4  0.000961   0.123385  0.000436   0.254488 2021-04-25    425784\n",
      "    target1    target2   target3    target4       date  playerId\n",
      "0  4.481209  16.459503  5.619361  25.127300 2021-04-26    405395\n",
      "1  0.732365   9.577129  0.902843  14.072728 2021-04-26    408234\n",
      "2  0.039989   0.783132  0.022239   1.623196 2021-04-26    424144\n",
      "3  0.004777   0.271758  0.003060   0.680542 2021-04-26    425772\n",
      "4  0.000960   0.123265  0.000435   0.254311 2021-04-26    425784\n",
      "    target1    target2   target3    target4       date  playerId\n",
      "0  2.262720  15.047249  3.485112  25.035128 2021-04-27    405395\n",
      "1  3.379444  12.662974  2.864849  15.328402 2021-04-27    408234\n",
      "2  0.004868   0.448583  0.004499   1.346639 2021-04-27    424144\n",
      "3  0.004779   0.271817  0.003062   0.680631 2021-04-27    425772\n",
      "4  0.000956   0.122910  0.000433   0.253774 2021-04-27    425784\n",
      "    target1    target2   target3    target4       date  playerId\n",
      "0  1.845165  15.232660  3.484807  26.848188 2021-04-28    405395\n",
      "1  3.046069  12.786789  3.116808  16.804365 2021-04-28    408234\n",
      "2  0.001990   0.351355  0.002323   1.115634 2021-04-28    424144\n",
      "3  0.004784   0.271946  0.003065   0.680821 2021-04-28    425772\n",
      "4  0.000955   0.122853  0.000433   0.253665 2021-04-28    425784\n",
      "    target1    target2   target3    target4       date  playerId\n",
      "0  1.001412  13.262752  2.189740  24.823050 2021-04-29    405395\n",
      "1  0.243706   6.780052  0.349981  11.684914 2021-04-29    408234\n",
      "2  0.004780   0.401046  0.004242   1.169893 2021-04-29    424144\n",
      "3  0.004791   0.272161  0.003069   0.681146 2021-04-29    425772\n",
      "4  0.000955   0.122850  0.000433   0.253641 2021-04-29    425784\n",
      "    target1    target2   target3    target4       date  playerId\n",
      "0  0.751801  12.766181  1.564760  24.245300 2021-04-30    405395\n",
      "1  0.274726   7.741985  0.424279  12.880911 2021-04-30    408234\n",
      "2  0.004802   0.401713  0.004258   1.171286 2021-04-30    424144\n",
      "3  0.004797   0.272324  0.003073   0.681373 2021-04-30    425772\n",
      "4  0.000955   0.122858  0.000433   0.253638 2021-04-30    425784\n",
      "CPU times: user 29min 32s, sys: 1min 20s, total: 30min 52s\n",
      "Wall time: 13min 54s\n"
     ]
    }
   ],
   "source": [
    "%%time\n",
    "raw_train_fr = raw_train_df.query(\"date >= '2020-07-01'\").reset_index(drop=True)\n",
    "raw_train_fr = raw_train_fr[df.columns]\n",
    "\n",
    "recursive_prediction = []\n",
    "for date, val_date_df in raw_valid_df.groupby('date'):\n",
    "    val_date_df = val_date_df[df.columns].reset_index(drop=True)\n",
    "    _recurive_pred, raw_train_fr = predict_recursive(val_date_df,\n",
    "                                                     raw_train_fr,\n",
    "                                                     predict_fn, n_days=150 + 60 + LAGS + 10)\n",
    "    recursive_prediction.append(_recurive_pred)\n",
    "\n",
    "recursive_prediction = pd.concat(recursive_prediction, ignore_index=True)\n",
    "recursive_prediction.sort_values(['playerId', 'date'], inplace=True)\n",
    "recursive_prediction.reset_index(drop=True, inplace=True)\n",
    "recursive_prediction.rename(columns={f: f.replace('target', 'yhat')\n",
    "                                     for f in target_cols}, inplace=True)\n",
    "recursive_prediction[target_cols] = raw_valid_df[target_cols].to_numpy()"
   ]
  },
  {
   "cell_type": "code",
   "execution_count": 173,
   "id": "72d9b14b",
   "metadata": {},
   "outputs": [],
   "source": [
    "from evaluate.metrics import *"
   ]
  },
  {
   "cell_type": "markdown",
   "id": "23c62539",
   "metadata": {},
   "source": [
    "with best 500 ids \n",
    "one day lag\n",
    "\n",
    "{'mae_mean': 15.404842,\n",
    " 'mae_1': 15.112363,\n",
    " 'mae_2': 12.518346,\n",
    " 'mae_3': 15.941521,\n",
    " 'mae_4': 18.04714}\n",
    " \n",
    "{'mae_mean': 16.107979,\n",
    " 'mae_1': 14.4299965,\n",
    " 'mae_2': 13.712786,\n",
    " 'mae_3': 17.216927,\n",
    " 'mae_4': 19.072205}\n",
    " \n",
    "lag 60 day 150 stats mean median std\n",
    "raw_valid_df\n",
    "\n",
    "{'mae_mean': 16.526415,\n",
    " 'mae_1': 15.134252,\n",
    " 'mae_2': 15.736391,\n",
    " 'mae_3': 16.731949,\n",
    " 'mae_4': 18.503065}\n",
    " \n",
    "{'mae_mean': 16.243195,\n",
    " 'mae_1': 14.64544,\n",
    " 'mae_2': 15.223519,\n",
    " 'mae_3': 16.67205,\n",
    " 'mae_4': 18.43177}\n",
    " \n",
    " \n",
    "with best 500 ids \n",
    "one day lag \n",
    "{'mae_mean': 2.4375365,\n",
    " 'mae_1': 2.2795138,\n",
    " 'mae_2': 3.1164076,\n",
    " 'mae_3': 1.6708878,\n",
    " 'mae_4': 2.6833365}\n",
    " \n",
    "{'mae_mean': 3.2938020082107333,\n",
    " 'mae_1': 2.5740078375938165,\n",
    " 'mae_2': 5.631358953836824,\n",
    " 'mae_3': 1.837284798457624,\n",
    " 'mae_4': 3.1325564429546677}\n",
    " \n",
    "lag 60 day 150 stats mean median std\n",
    "\n",
    "{'mae_mean': 2.8213322,\n",
    " 'mae_1': 2.4738746,\n",
    " 'mae_2': 3.9536836,\n",
    " 'mae_3': 1.8413752,\n",
    " 'mae_4': 3.0163958}\n",
    " \n",
    "{'mae_mean': 2.8054446768310446,\n",
    " 'mae_1': 2.4669433853402922,\n",
    " 'mae_2': 3.901420425393473,\n",
    " 'mae_3': 1.8396196560640896,\n",
    " 'mae_4': 3.0137952405263246}\n",
    " \n",
    " con toda la data\n",
    " \n",
    " {'mae_mean': 1.5619345,\n",
    " 'mae_1': 1.2107118,\n",
    " 'mae_2': 2.4501314,\n",
    " 'mae_3': 0.95569867,\n",
    " 'mae_4': 1.6311963}\n",
    " \n",
    " \n",
    " {'mae_mean': 1.5390999144452775,\n",
    " 'mae_1': 1.210369386168515,\n",
    " 'mae_2': 2.3818660584590656,\n",
    " 'mae_3': 0.9496059085908733,\n",
    " 'mae_4': 1.6145583045626561}\n",
    " "
   ]
  },
  {
   "cell_type": "code",
   "execution_count": 180,
   "id": "4a3ca1b3",
   "metadata": {},
   "outputs": [
    {
     "data": {
      "text/plain": [
       "{'mae_mean': 1.5081184,\n",
       " 'mae_1': 1.2529138,\n",
       " 'mae_2': 2.2533286,\n",
       " 'mae_3': 0.9538244,\n",
       " 'mae_4': 1.5724065}"
      ]
     },
     "execution_count": 180,
     "metadata": {},
     "output_type": "execute_result"
    }
   ],
   "source": [
    "compute_metrics(valid_prediction)"
   ]
  },
  {
   "cell_type": "code",
   "execution_count": 181,
   "id": "0bfba300",
   "metadata": {
    "scrolled": true
   },
   "outputs": [
    {
     "data": {
      "text/plain": [
       "{'mae_mean': 1.5080127153831335,\n",
       " 'mae_1': 1.2576130738627638,\n",
       " 'mae_2': 2.2508604641041328,\n",
       " 'mae_3': 0.9544335617482855,\n",
       " 'mae_4': 1.5691437618173523}"
      ]
     },
     "execution_count": 181,
     "metadata": {},
     "output_type": "execute_result"
    }
   ],
   "source": [
    "compute_metrics(recursive_prediction)"
   ]
  },
  {
   "cell_type": "code",
   "execution_count": 182,
   "id": "7627b2ea",
   "metadata": {},
   "outputs": [],
   "source": [
    "def plot_pred(df, playerId, index=1):\n",
    "    pdf = df.query(f'playerId == {playerId}')\n",
    "    \n",
    "    f, ax = plt.subplots(1, 1, figsize=(20, 5))\n",
    "    \n",
    "    tname = f'target{index}'\n",
    "    yhat_name = f'yhat{index}'\n",
    "    \n",
    "    ax.plot('date', tname, '-o', data=pdf, label=tname)\n",
    "    ax.plot('date', yhat_name, '-o', data=pdf, label=tname)\n",
    "    \n",
    "    ax.legend()\n",
    "    "
   ]
  },
  {
   "cell_type": "code",
   "execution_count": 183,
   "id": "a9995eb8",
   "metadata": {},
   "outputs": [
    {
     "data": {
      "text/html": [
       "<div>\n",
       "<style scoped>\n",
       "    .dataframe tbody tr th:only-of-type {\n",
       "        vertical-align: middle;\n",
       "    }\n",
       "\n",
       "    .dataframe tbody tr th {\n",
       "        vertical-align: top;\n",
       "    }\n",
       "\n",
       "    .dataframe thead th {\n",
       "        text-align: right;\n",
       "    }\n",
       "</style>\n",
       "<table border=\"1\" class=\"dataframe\">\n",
       "  <thead>\n",
       "    <tr style=\"text-align: right;\">\n",
       "      <th></th>\n",
       "      <th>mae_mean</th>\n",
       "      <th>mae_1</th>\n",
       "      <th>mae_2</th>\n",
       "      <th>mae_3</th>\n",
       "      <th>mae_4</th>\n",
       "    </tr>\n",
       "    <tr>\n",
       "      <th>playerId</th>\n",
       "      <th></th>\n",
       "      <th></th>\n",
       "      <th></th>\n",
       "      <th></th>\n",
       "      <th></th>\n",
       "    </tr>\n",
       "  </thead>\n",
       "  <tbody>\n",
       "    <tr>\n",
       "      <th>660271</th>\n",
       "      <td>26.183135</td>\n",
       "      <td>17.113032</td>\n",
       "      <td>33.465931</td>\n",
       "      <td>26.866328</td>\n",
       "      <td>27.287249</td>\n",
       "    </tr>\n",
       "    <tr>\n",
       "      <th>606213</th>\n",
       "      <td>19.475917</td>\n",
       "      <td>9.157824</td>\n",
       "      <td>38.980561</td>\n",
       "      <td>16.116400</td>\n",
       "      <td>13.648881</td>\n",
       "    </tr>\n",
       "    <tr>\n",
       "      <th>660670</th>\n",
       "      <td>18.651749</td>\n",
       "      <td>22.170537</td>\n",
       "      <td>22.570607</td>\n",
       "      <td>18.853908</td>\n",
       "      <td>11.011943</td>\n",
       "    </tr>\n",
       "    <tr>\n",
       "      <th>594798</th>\n",
       "      <td>17.829605</td>\n",
       "      <td>11.309468</td>\n",
       "      <td>28.359283</td>\n",
       "      <td>10.238930</td>\n",
       "      <td>21.410738</td>\n",
       "    </tr>\n",
       "    <tr>\n",
       "      <th>545361</th>\n",
       "      <td>17.744173</td>\n",
       "      <td>14.404969</td>\n",
       "      <td>21.100876</td>\n",
       "      <td>16.153478</td>\n",
       "      <td>19.317370</td>\n",
       "    </tr>\n",
       "    <tr>\n",
       "      <th>...</th>\n",
       "      <td>...</td>\n",
       "      <td>...</td>\n",
       "      <td>...</td>\n",
       "      <td>...</td>\n",
       "      <td>...</td>\n",
       "    </tr>\n",
       "    <tr>\n",
       "      <th>680430</th>\n",
       "      <td>0.005632</td>\n",
       "      <td>0.000133</td>\n",
       "      <td>0.009686</td>\n",
       "      <td>0.000071</td>\n",
       "      <td>0.012640</td>\n",
       "    </tr>\n",
       "    <tr>\n",
       "      <th>608422</th>\n",
       "      <td>0.004695</td>\n",
       "      <td>0.000098</td>\n",
       "      <td>0.016441</td>\n",
       "      <td>0.000023</td>\n",
       "      <td>0.002217</td>\n",
       "    </tr>\n",
       "    <tr>\n",
       "      <th>621248</th>\n",
       "      <td>0.004601</td>\n",
       "      <td>0.000030</td>\n",
       "      <td>0.015225</td>\n",
       "      <td>0.000011</td>\n",
       "      <td>0.003138</td>\n",
       "    </tr>\n",
       "    <tr>\n",
       "      <th>667297</th>\n",
       "      <td>0.004026</td>\n",
       "      <td>0.000072</td>\n",
       "      <td>0.007907</td>\n",
       "      <td>0.000037</td>\n",
       "      <td>0.008087</td>\n",
       "    </tr>\n",
       "    <tr>\n",
       "      <th>547001</th>\n",
       "      <td>0.003483</td>\n",
       "      <td>0.000039</td>\n",
       "      <td>0.006417</td>\n",
       "      <td>0.000016</td>\n",
       "      <td>0.007460</td>\n",
       "    </tr>\n",
       "  </tbody>\n",
       "</table>\n",
       "<p>1187 rows × 5 columns</p>\n",
       "</div>"
      ],
      "text/plain": [
       "           mae_mean      mae_1      mae_2      mae_3      mae_4\n",
       "playerId                                                       \n",
       "660271    26.183135  17.113032  33.465931  26.866328  27.287249\n",
       "606213    19.475917   9.157824  38.980561  16.116400  13.648881\n",
       "660670    18.651749  22.170537  22.570607  18.853908  11.011943\n",
       "594798    17.829605  11.309468  28.359283  10.238930  21.410738\n",
       "545361    17.744173  14.404969  21.100876  16.153478  19.317370\n",
       "...             ...        ...        ...        ...        ...\n",
       "680430     0.005632   0.000133   0.009686   0.000071   0.012640\n",
       "608422     0.004695   0.000098   0.016441   0.000023   0.002217\n",
       "621248     0.004601   0.000030   0.015225   0.000011   0.003138\n",
       "667297     0.004026   0.000072   0.007907   0.000037   0.008087\n",
       "547001     0.003483   0.000039   0.006417   0.000016   0.007460\n",
       "\n",
       "[1187 rows x 5 columns]"
      ]
     },
     "execution_count": 183,
     "metadata": {},
     "output_type": "execute_result"
    }
   ],
   "source": [
    "(recursive_prediction.groupby('playerId')\n",
    " .apply(lambda x: pd.Series(compute_metrics(x)))\n",
    " .sort_values(by='mae_mean', ascending=False))"
   ]
  },
  {
   "cell_type": "code",
   "execution_count": 184,
   "id": "d2269b8a",
   "metadata": {},
   "outputs": [
    {
     "data": {
      "image/png": "[encoded data removed]",
      "text/plain": [
       "<Figure size 1440x360 with 1 Axes>"
      ]
     },
     "metadata": {
      "needs_background": "light"
     },
     "output_type": "display_data"
    },
    {
     "data": {
      "image/png": "[encoded data removed]",
      "text/plain": [
       "<Figure size 1440x360 with 1 Axes>"
      ]
     },
     "metadata": {
      "needs_background": "light"
     },
     "output_type": "display_data"
    },
    {
     "data": {
      "image/png": "[encoded data removed]",
      "text/plain": [
       "<Figure size 1440x360 with 1 Axes>"
      ]
     },
     "metadata": {
      "needs_background": "light"
     },
     "output_type": "display_data"
    },
    {
     "data": {
      "image/png": "[encoded data removed]",
      "text/plain": [
       "<Figure size 1440x360 with 1 Axes>"
      ]
     },
     "metadata": {
      "needs_background": "light"
     },
     "output_type": "display_data"
    }
   ],
   "source": [
    "for index in range(1, 5):\n",
    "    plot_pred(recursive_prediction, playerId=660271, index=index)"
   ]
  },
  {
   "cell_type": "code",
   "execution_count": null,
   "id": "3ddc0f4d",
   "metadata": {},
   "outputs": [],
   "source": [
    "# del train_data, valid_data, target, features #df, raw_train_df, raw_valid_df"
   ]
  }
 ],
 "metadata": {
  "kernelspec": {
   "display_name": "Python 3",
   "language": "python",
   "name": "python3"
  },
  "language_info": {
   "codemirror_mode": {
    "name": "ipython",
    "version": 3
   },
   "file_extension": ".py",
   "mimetype": "text/x-python",
   "name": "python",
   "nbconvert_exporter": "python",
   "pygments_lexer": "ipython3",
   "version": "3.8.8"
  }
 },
 "nbformat": 4,
 "nbformat_minor": 5
}
