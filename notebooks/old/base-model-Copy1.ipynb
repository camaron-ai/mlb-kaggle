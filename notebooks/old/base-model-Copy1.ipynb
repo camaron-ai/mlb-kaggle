{
 "cells": [
  {
   "cell_type": "code",
   "execution_count": 1,
   "id": "200bd975",
   "metadata": {},
   "outputs": [],
   "source": [
    "import pandas as pd\n",
    "import numpy as np\n",
    "from matplotlib import pyplot as plt\n",
    "from pathlib import Path\n",
    "import seaborn as sns"
   ]
  },
  {
   "cell_type": "code",
   "execution_count": 2,
   "id": "98b21c10",
   "metadata": {},
   "outputs": [],
   "source": [
    "import os\n",
    "import sys"
   ]
  },
  {
   "cell_type": "code",
   "execution_count": 3,
   "id": "83088198",
   "metadata": {},
   "outputs": [],
   "source": [
    "# chaging directory"
   ]
  },
  {
   "cell_type": "code",
   "execution_count": 4,
   "id": "63a6bace",
   "metadata": {},
   "outputs": [],
   "source": [
    "root, *_ = !pwd"
   ]
  },
  {
   "cell_type": "code",
   "execution_count": 5,
   "id": "0401546d",
   "metadata": {},
   "outputs": [],
   "source": [
    "if root.endswith('notebooks'):\n",
    "    os.chdir('../')\n",
    "    root, *_ = !pwd\n",
    "    sys.path.append('src/')"
   ]
  },
  {
   "cell_type": "code",
   "execution_count": 6,
   "id": "c94d5f75",
   "metadata": {},
   "outputs": [
    {
     "data": {
      "text/plain": [
       "'/home/med/projects/competitions/mlb-kaggle'"
      ]
     },
     "execution_count": 6,
     "metadata": {},
     "output_type": "execute_result"
    }
   ],
   "source": [
    "os.getcwd()"
   ]
  },
  {
   "cell_type": "code",
   "execution_count": 7,
   "id": "bf93f65f",
   "metadata": {},
   "outputs": [
    {
     "data": {
      "text/plain": [
       "True"
      ]
     },
     "execution_count": 7,
     "metadata": {},
     "output_type": "execute_result"
    }
   ],
   "source": [
    "from dotenv import load_dotenv\n",
    "load_dotenv()"
   ]
  },
  {
   "cell_type": "code",
   "execution_count": 8,
   "id": "a0936da3",
   "metadata": {},
   "outputs": [],
   "source": [
    "RAW_PATH = Path(os.environ['RAW_PATH'])"
   ]
  },
  {
   "cell_type": "code",
   "execution_count": 9,
   "id": "e0104b3d",
   "metadata": {},
   "outputs": [
    {
     "data": {
      "text/plain": [
       "['seasons.csv',\n",
       " 'teams.csv',\n",
       " 'example_sample_submission.csv',\n",
       " 'train.csv',\n",
       " 'mlb-player-digital-engagement-forecasting.zip',\n",
       " 'awards.csv',\n",
       " 'players.csv',\n",
       " 'example_test.csv',\n",
       " 'mlb']"
      ]
     },
     "execution_count": 9,
     "metadata": {},
     "output_type": "execute_result"
    }
   ],
   "source": [
    "os.listdir(RAW_PATH)"
   ]
  },
  {
   "cell_type": "code",
   "execution_count": 10,
   "id": "dc5d2beb",
   "metadata": {},
   "outputs": [],
   "source": [
    "train_data = pd.read_csv(RAW_PATH / 'train.csv', parse_dates=['date'])\n",
    "train_data = train_data.set_index('date')"
   ]
  },
  {
   "cell_type": "code",
   "execution_count": 11,
   "id": "3d014845",
   "metadata": {},
   "outputs": [
    {
     "data": {
      "text/html": [
       "<div>\n",
       "<style scoped>\n",
       "    .dataframe tbody tr th:only-of-type {\n",
       "        vertical-align: middle;\n",
       "    }\n",
       "\n",
       "    .dataframe tbody tr th {\n",
       "        vertical-align: top;\n",
       "    }\n",
       "\n",
       "    .dataframe thead th {\n",
       "        text-align: right;\n",
       "    }\n",
       "</style>\n",
       "<table border=\"1\" class=\"dataframe\">\n",
       "  <thead>\n",
       "    <tr style=\"text-align: right;\">\n",
       "      <th></th>\n",
       "      <th>nextDayPlayerEngagement</th>\n",
       "      <th>games</th>\n",
       "      <th>rosters</th>\n",
       "      <th>playerBoxScores</th>\n",
       "      <th>teamBoxScores</th>\n",
       "      <th>transactions</th>\n",
       "      <th>standings</th>\n",
       "      <th>awards</th>\n",
       "      <th>events</th>\n",
       "      <th>playerTwitterFollowers</th>\n",
       "      <th>teamTwitterFollowers</th>\n",
       "    </tr>\n",
       "    <tr>\n",
       "      <th>date</th>\n",
       "      <th></th>\n",
       "      <th></th>\n",
       "      <th></th>\n",
       "      <th></th>\n",
       "      <th></th>\n",
       "      <th></th>\n",
       "      <th></th>\n",
       "      <th></th>\n",
       "      <th></th>\n",
       "      <th></th>\n",
       "      <th></th>\n",
       "    </tr>\n",
       "  </thead>\n",
       "  <tbody>\n",
       "    <tr>\n",
       "      <th>2018-01-01</th>\n",
       "      <td>[{\"engagementMetricsDate\":\"2018-01-02\",\"player...</td>\n",
       "      <td>NaN</td>\n",
       "      <td>[{\"playerId\":400121,\"gameDate\":\"2018-01-01\",\"t...</td>\n",
       "      <td>NaN</td>\n",
       "      <td>NaN</td>\n",
       "      <td>[{\"transactionId\":340732,\"playerId\":547348,\"pl...</td>\n",
       "      <td>NaN</td>\n",
       "      <td>NaN</td>\n",
       "      <td>NaN</td>\n",
       "      <td>[{\"date\":\"2018-01-01\",\"playerId\":545361,\"playe...</td>\n",
       "      <td>[{\"date\":\"2018-01-01\",\"teamId\":147,\"teamName\":...</td>\n",
       "    </tr>\n",
       "    <tr>\n",
       "      <th>2018-01-02</th>\n",
       "      <td>[{\"engagementMetricsDate\":\"2018-01-03\",\"player...</td>\n",
       "      <td>NaN</td>\n",
       "      <td>[{\"playerId\":134181,\"gameDate\":\"2018-01-02\",\"t...</td>\n",
       "      <td>NaN</td>\n",
       "      <td>NaN</td>\n",
       "      <td>[{\"transactionId\":339458,\"playerId\":621173,\"pl...</td>\n",
       "      <td>NaN</td>\n",
       "      <td>NaN</td>\n",
       "      <td>NaN</td>\n",
       "      <td>NaN</td>\n",
       "      <td>NaN</td>\n",
       "    </tr>\n",
       "    <tr>\n",
       "      <th>2018-01-03</th>\n",
       "      <td>[{\"engagementMetricsDate\":\"2018-01-04\",\"player...</td>\n",
       "      <td>NaN</td>\n",
       "      <td>[{\"playerId\":425492,\"gameDate\":\"2018-01-03\",\"t...</td>\n",
       "      <td>NaN</td>\n",
       "      <td>NaN</td>\n",
       "      <td>[{\"transactionId\":347527,\"playerId\":572389,\"pl...</td>\n",
       "      <td>NaN</td>\n",
       "      <td>NaN</td>\n",
       "      <td>NaN</td>\n",
       "      <td>NaN</td>\n",
       "      <td>NaN</td>\n",
       "    </tr>\n",
       "    <tr>\n",
       "      <th>2018-01-04</th>\n",
       "      <td>[{\"engagementMetricsDate\":\"2018-01-05\",\"player...</td>\n",
       "      <td>NaN</td>\n",
       "      <td>[{\"playerId\":282332,\"gameDate\":\"2018-01-04\",\"t...</td>\n",
       "      <td>NaN</td>\n",
       "      <td>NaN</td>\n",
       "      <td>[{\"transactionId\":339549,\"playerId\":545343,\"pl...</td>\n",
       "      <td>NaN</td>\n",
       "      <td>NaN</td>\n",
       "      <td>NaN</td>\n",
       "      <td>NaN</td>\n",
       "      <td>NaN</td>\n",
       "    </tr>\n",
       "    <tr>\n",
       "      <th>2018-01-05</th>\n",
       "      <td>[{\"engagementMetricsDate\":\"2018-01-06\",\"player...</td>\n",
       "      <td>NaN</td>\n",
       "      <td>[{\"playerId\":282332,\"gameDate\":\"2018-01-05\",\"t...</td>\n",
       "      <td>NaN</td>\n",
       "      <td>NaN</td>\n",
       "      <td>[{\"transactionId\":341195,\"playerId\":628336,\"pl...</td>\n",
       "      <td>NaN</td>\n",
       "      <td>NaN</td>\n",
       "      <td>NaN</td>\n",
       "      <td>NaN</td>\n",
       "      <td>NaN</td>\n",
       "    </tr>\n",
       "  </tbody>\n",
       "</table>\n",
       "</div>"
      ],
      "text/plain": [
       "                                      nextDayPlayerEngagement games  \\\n",
       "date                                                                  \n",
       "2018-01-01  [{\"engagementMetricsDate\":\"2018-01-02\",\"player...   NaN   \n",
       "2018-01-02  [{\"engagementMetricsDate\":\"2018-01-03\",\"player...   NaN   \n",
       "2018-01-03  [{\"engagementMetricsDate\":\"2018-01-04\",\"player...   NaN   \n",
       "2018-01-04  [{\"engagementMetricsDate\":\"2018-01-05\",\"player...   NaN   \n",
       "2018-01-05  [{\"engagementMetricsDate\":\"2018-01-06\",\"player...   NaN   \n",
       "\n",
       "                                                      rosters playerBoxScores  \\\n",
       "date                                                                            \n",
       "2018-01-01  [{\"playerId\":400121,\"gameDate\":\"2018-01-01\",\"t...             NaN   \n",
       "2018-01-02  [{\"playerId\":134181,\"gameDate\":\"2018-01-02\",\"t...             NaN   \n",
       "2018-01-03  [{\"playerId\":425492,\"gameDate\":\"2018-01-03\",\"t...             NaN   \n",
       "2018-01-04  [{\"playerId\":282332,\"gameDate\":\"2018-01-04\",\"t...             NaN   \n",
       "2018-01-05  [{\"playerId\":282332,\"gameDate\":\"2018-01-05\",\"t...             NaN   \n",
       "\n",
       "           teamBoxScores                                       transactions  \\\n",
       "date                                                                          \n",
       "2018-01-01           NaN  [{\"transactionId\":340732,\"playerId\":547348,\"pl...   \n",
       "2018-01-02           NaN  [{\"transactionId\":339458,\"playerId\":621173,\"pl...   \n",
       "2018-01-03           NaN  [{\"transactionId\":347527,\"playerId\":572389,\"pl...   \n",
       "2018-01-04           NaN  [{\"transactionId\":339549,\"playerId\":545343,\"pl...   \n",
       "2018-01-05           NaN  [{\"transactionId\":341195,\"playerId\":628336,\"pl...   \n",
       "\n",
       "           standings awards events  \\\n",
       "date                                 \n",
       "2018-01-01       NaN    NaN    NaN   \n",
       "2018-01-02       NaN    NaN    NaN   \n",
       "2018-01-03       NaN    NaN    NaN   \n",
       "2018-01-04       NaN    NaN    NaN   \n",
       "2018-01-05       NaN    NaN    NaN   \n",
       "\n",
       "                                       playerTwitterFollowers  \\\n",
       "date                                                            \n",
       "2018-01-01  [{\"date\":\"2018-01-01\",\"playerId\":545361,\"playe...   \n",
       "2018-01-02                                                NaN   \n",
       "2018-01-03                                                NaN   \n",
       "2018-01-04                                                NaN   \n",
       "2018-01-05                                                NaN   \n",
       "\n",
       "                                         teamTwitterFollowers  \n",
       "date                                                           \n",
       "2018-01-01  [{\"date\":\"2018-01-01\",\"teamId\":147,\"teamName\":...  \n",
       "2018-01-02                                                NaN  \n",
       "2018-01-03                                                NaN  \n",
       "2018-01-04                                                NaN  \n",
       "2018-01-05                                                NaN  "
      ]
     },
     "execution_count": 11,
     "metadata": {},
     "output_type": "execute_result"
    }
   ],
   "source": [
    "train_data.head()"
   ]
  },
  {
   "cell_type": "code",
   "execution_count": 12,
   "id": "3ce3cefa",
   "metadata": {},
   "outputs": [],
   "source": [
    "# train_data = train_data[train_data.index > '2021-01-01']"
   ]
  },
  {
   "cell_type": "markdown",
   "id": "c6320bf7",
   "metadata": {},
   "source": [
    "### season"
   ]
  },
  {
   "cell_type": "code",
   "execution_count": 13,
   "id": "729f3d85",
   "metadata": {},
   "outputs": [],
   "source": [
    "from pipeline.season import *"
   ]
  },
  {
   "cell_type": "code",
   "execution_count": 14,
   "id": "4a224f9f",
   "metadata": {},
   "outputs": [],
   "source": [
    "### template"
   ]
  },
  {
   "cell_type": "code",
   "execution_count": 15,
   "id": "e74ec068",
   "metadata": {},
   "outputs": [],
   "source": [
    "dates = train_data.reset_index()[['date']]"
   ]
  },
  {
   "cell_type": "code",
   "execution_count": 16,
   "id": "dd9d6d72",
   "metadata": {},
   "outputs": [
    {
     "name": "stderr",
     "output_type": "stream",
     "text": [
      "src/pipeline/season.py:17: FutureWarning: Series.dt.weekofyear and Series.dt.week have been deprecated.  Please use Series.dt.isocalendar().week instead.\n",
      "  df[attr] = getattr(df[dt_col].dt, attr)\n"
     ]
    }
   ],
   "source": [
    "dates = date_preprocessing(dates, RAW_PATH / 'seasons.csv',\n",
    "                   date_attr=['year', 'month', 'week'])"
   ]
  },
  {
   "cell_type": "code",
   "execution_count": 17,
   "id": "44610f8a",
   "metadata": {},
   "outputs": [
    {
     "data": {
      "text/html": [
       "<div>\n",
       "<style scoped>\n",
       "    .dataframe tbody tr th:only-of-type {\n",
       "        vertical-align: middle;\n",
       "    }\n",
       "\n",
       "    .dataframe tbody tr th {\n",
       "        vertical-align: top;\n",
       "    }\n",
       "\n",
       "    .dataframe thead th {\n",
       "        text-align: right;\n",
       "    }\n",
       "</style>\n",
       "<table border=\"1\" class=\"dataframe\">\n",
       "  <thead>\n",
       "    <tr style=\"text-align: right;\">\n",
       "      <th></th>\n",
       "      <th>date</th>\n",
       "      <th>year</th>\n",
       "      <th>month</th>\n",
       "      <th>week</th>\n",
       "      <th>inSeason</th>\n",
       "      <th>seasonPart</th>\n",
       "    </tr>\n",
       "  </thead>\n",
       "  <tbody>\n",
       "    <tr>\n",
       "      <th>0</th>\n",
       "      <td>2018-01-01</td>\n",
       "      <td>2018</td>\n",
       "      <td>1</td>\n",
       "      <td>1</td>\n",
       "      <td>False</td>\n",
       "      <td>Offseason</td>\n",
       "    </tr>\n",
       "    <tr>\n",
       "      <th>1</th>\n",
       "      <td>2018-01-02</td>\n",
       "      <td>2018</td>\n",
       "      <td>1</td>\n",
       "      <td>1</td>\n",
       "      <td>False</td>\n",
       "      <td>Offseason</td>\n",
       "    </tr>\n",
       "    <tr>\n",
       "      <th>2</th>\n",
       "      <td>2018-01-03</td>\n",
       "      <td>2018</td>\n",
       "      <td>1</td>\n",
       "      <td>1</td>\n",
       "      <td>False</td>\n",
       "      <td>Offseason</td>\n",
       "    </tr>\n",
       "    <tr>\n",
       "      <th>3</th>\n",
       "      <td>2018-01-04</td>\n",
       "      <td>2018</td>\n",
       "      <td>1</td>\n",
       "      <td>1</td>\n",
       "      <td>False</td>\n",
       "      <td>Offseason</td>\n",
       "    </tr>\n",
       "    <tr>\n",
       "      <th>4</th>\n",
       "      <td>2018-01-05</td>\n",
       "      <td>2018</td>\n",
       "      <td>1</td>\n",
       "      <td>1</td>\n",
       "      <td>False</td>\n",
       "      <td>Offseason</td>\n",
       "    </tr>\n",
       "    <tr>\n",
       "      <th>...</th>\n",
       "      <td>...</td>\n",
       "      <td>...</td>\n",
       "      <td>...</td>\n",
       "      <td>...</td>\n",
       "      <td>...</td>\n",
       "      <td>...</td>\n",
       "    </tr>\n",
       "    <tr>\n",
       "      <th>1211</th>\n",
       "      <td>2021-04-26</td>\n",
       "      <td>2021</td>\n",
       "      <td>4</td>\n",
       "      <td>17</td>\n",
       "      <td>True</td>\n",
       "      <td>Reg Season 1st Half</td>\n",
       "    </tr>\n",
       "    <tr>\n",
       "      <th>1212</th>\n",
       "      <td>2021-04-27</td>\n",
       "      <td>2021</td>\n",
       "      <td>4</td>\n",
       "      <td>17</td>\n",
       "      <td>True</td>\n",
       "      <td>Reg Season 1st Half</td>\n",
       "    </tr>\n",
       "    <tr>\n",
       "      <th>1213</th>\n",
       "      <td>2021-04-28</td>\n",
       "      <td>2021</td>\n",
       "      <td>4</td>\n",
       "      <td>17</td>\n",
       "      <td>True</td>\n",
       "      <td>Reg Season 1st Half</td>\n",
       "    </tr>\n",
       "    <tr>\n",
       "      <th>1214</th>\n",
       "      <td>2021-04-29</td>\n",
       "      <td>2021</td>\n",
       "      <td>4</td>\n",
       "      <td>17</td>\n",
       "      <td>True</td>\n",
       "      <td>Reg Season 1st Half</td>\n",
       "    </tr>\n",
       "    <tr>\n",
       "      <th>1215</th>\n",
       "      <td>2021-04-30</td>\n",
       "      <td>2021</td>\n",
       "      <td>4</td>\n",
       "      <td>17</td>\n",
       "      <td>True</td>\n",
       "      <td>Reg Season 1st Half</td>\n",
       "    </tr>\n",
       "  </tbody>\n",
       "</table>\n",
       "<p>1216 rows × 6 columns</p>\n",
       "</div>"
      ],
      "text/plain": [
       "           date  year  month  week  inSeason           seasonPart\n",
       "0    2018-01-01  2018      1     1     False            Offseason\n",
       "1    2018-01-02  2018      1     1     False            Offseason\n",
       "2    2018-01-03  2018      1     1     False            Offseason\n",
       "3    2018-01-04  2018      1     1     False            Offseason\n",
       "4    2018-01-05  2018      1     1     False            Offseason\n",
       "...         ...   ...    ...   ...       ...                  ...\n",
       "1211 2021-04-26  2021      4    17      True  Reg Season 1st Half\n",
       "1212 2021-04-27  2021      4    17      True  Reg Season 1st Half\n",
       "1213 2021-04-28  2021      4    17      True  Reg Season 1st Half\n",
       "1214 2021-04-29  2021      4    17      True  Reg Season 1st Half\n",
       "1215 2021-04-30  2021      4    17      True  Reg Season 1st Half\n",
       "\n",
       "[1216 rows x 6 columns]"
      ]
     },
     "execution_count": 17,
     "metadata": {},
     "output_type": "execute_result"
    }
   ],
   "source": [
    "dates"
   ]
  },
  {
   "cell_type": "markdown",
   "id": "88721839",
   "metadata": {},
   "source": [
    "### players"
   ]
  },
  {
   "cell_type": "code",
   "execution_count": 18,
   "id": "c8b2ede2",
   "metadata": {},
   "outputs": [],
   "source": [
    "from pipeline.players import *"
   ]
  },
  {
   "cell_type": "code",
   "execution_count": 19,
   "id": "78d7635e",
   "metadata": {},
   "outputs": [],
   "source": [
    "players = pd.read_csv(RAW_PATH / 'players.csv', parse_dates=['DOB', 'mlbDebutDate'])"
   ]
  },
  {
   "cell_type": "code",
   "execution_count": 20,
   "id": "6adf85fc",
   "metadata": {},
   "outputs": [],
   "source": [
    "pp = player_preprocessing(players)"
   ]
  },
  {
   "cell_type": "code",
   "execution_count": 21,
   "id": "4421fc12",
   "metadata": {},
   "outputs": [
    {
     "data": {
      "text/plain": [
       "playerId               0.000000\n",
       "DOB                    0.000000\n",
       "mlbDebutDate           0.017467\n",
       "birthCountry           0.000000\n",
       "weight                 0.000000\n",
       "primaryPositionName    0.000000\n",
       "player_in_test         0.000000\n",
       "height                 0.000000\n",
       "playerBMI              0.000000\n",
       "dtype: float64"
      ]
     },
     "execution_count": 21,
     "metadata": {},
     "output_type": "execute_result"
    }
   ],
   "source": [
    "pp.isna().mean()"
   ]
  },
  {
   "cell_type": "markdown",
   "id": "f70d340b",
   "metadata": {},
   "source": [
    "### target "
   ]
  },
  {
   "cell_type": "code",
   "execution_count": 22,
   "id": "ba4a6a20",
   "metadata": {},
   "outputs": [],
   "source": [
    "from pipeline.target import target_preprocessing"
   ]
  },
  {
   "cell_type": "code",
   "execution_count": 23,
   "id": "25746443",
   "metadata": {},
   "outputs": [],
   "source": [
    "unpack_target_tmf = make_unpack_tmf('nextDayPlayerEngagement')\n",
    "\n",
    "target_pipeline = Pipeline([('unpack_target', unpack_target_tmf),\n",
    "                            ('preprocessing', FunctionTransformer(target_preprocessing))])"
   ]
  },
  {
   "cell_type": "code",
   "execution_count": 24,
   "id": "c7236a63",
   "metadata": {},
   "outputs": [
    {
     "name": "stdout",
     "output_type": "stream",
     "text": [
      "CPU times: user 16.5 s, sys: 287 ms, total: 16.7 s\n",
      "Wall time: 16.7 s\n"
     ]
    }
   ],
   "source": [
    "%time target = target_pipeline.fit_transform(train_data)"
   ]
  },
  {
   "cell_type": "code",
   "execution_count": 25,
   "id": "3022300a",
   "metadata": {},
   "outputs": [
    {
     "data": {
      "text/html": [
       "<div>\n",
       "<style scoped>\n",
       "    .dataframe tbody tr th:only-of-type {\n",
       "        vertical-align: middle;\n",
       "    }\n",
       "\n",
       "    .dataframe tbody tr th {\n",
       "        vertical-align: top;\n",
       "    }\n",
       "\n",
       "    .dataframe thead th {\n",
       "        text-align: right;\n",
       "    }\n",
       "</style>\n",
       "<table border=\"1\" class=\"dataframe\">\n",
       "  <thead>\n",
       "    <tr style=\"text-align: right;\">\n",
       "      <th></th>\n",
       "      <th>playerId</th>\n",
       "      <th>target1</th>\n",
       "      <th>target2</th>\n",
       "      <th>target3</th>\n",
       "      <th>target4</th>\n",
       "      <th>date</th>\n",
       "      <th>target_avg</th>\n",
       "    </tr>\n",
       "  </thead>\n",
       "  <tbody>\n",
       "    <tr>\n",
       "      <th>0</th>\n",
       "      <td>628317</td>\n",
       "      <td>0.011167</td>\n",
       "      <td>4.474708</td>\n",
       "      <td>0.005168</td>\n",
       "      <td>5.735294</td>\n",
       "      <td>2018-01-01</td>\n",
       "      <td>2.556584</td>\n",
       "    </tr>\n",
       "    <tr>\n",
       "      <th>1</th>\n",
       "      <td>547989</td>\n",
       "      <td>0.042993</td>\n",
       "      <td>5.593385</td>\n",
       "      <td>0.045033</td>\n",
       "      <td>2.794118</td>\n",
       "      <td>2018-01-01</td>\n",
       "      <td>2.118882</td>\n",
       "    </tr>\n",
       "    <tr>\n",
       "      <th>2</th>\n",
       "      <td>519317</td>\n",
       "      <td>0.974327</td>\n",
       "      <td>56.177043</td>\n",
       "      <td>13.693746</td>\n",
       "      <td>64.166667</td>\n",
       "      <td>2018-01-01</td>\n",
       "      <td>33.752945</td>\n",
       "    </tr>\n",
       "    <tr>\n",
       "      <th>3</th>\n",
       "      <td>607625</td>\n",
       "      <td>0.006700</td>\n",
       "      <td>2.675097</td>\n",
       "      <td>0.005168</td>\n",
       "      <td>1.862745</td>\n",
       "      <td>2018-01-01</td>\n",
       "      <td>1.137428</td>\n",
       "    </tr>\n",
       "    <tr>\n",
       "      <th>4</th>\n",
       "      <td>592547</td>\n",
       "      <td>0.001117</td>\n",
       "      <td>0.632296</td>\n",
       "      <td>0.002953</td>\n",
       "      <td>0.931373</td>\n",
       "      <td>2018-01-01</td>\n",
       "      <td>0.391934</td>\n",
       "    </tr>\n",
       "  </tbody>\n",
       "</table>\n",
       "</div>"
      ],
      "text/plain": [
       "   playerId   target1    target2    target3    target4       date  target_avg\n",
       "0    628317  0.011167   4.474708   0.005168   5.735294 2018-01-01    2.556584\n",
       "1    547989  0.042993   5.593385   0.045033   2.794118 2018-01-01    2.118882\n",
       "2    519317  0.974327  56.177043  13.693746  64.166667 2018-01-01   33.752945\n",
       "3    607625  0.006700   2.675097   0.005168   1.862745 2018-01-01    1.137428\n",
       "4    592547  0.001117   0.632296   0.002953   0.931373 2018-01-01    0.391934"
      ]
     },
     "execution_count": 25,
     "metadata": {},
     "output_type": "execute_result"
    }
   ],
   "source": [
    "target.head()"
   ]
  },
  {
   "cell_type": "code",
   "execution_count": 26,
   "id": "92d78dad",
   "metadata": {},
   "outputs": [],
   "source": [
    "# target = target[target.playerId.isin(target.playerId.unique()[:2])]"
   ]
  },
  {
   "cell_type": "code",
   "execution_count": 27,
   "id": "5be81a94",
   "metadata": {},
   "outputs": [],
   "source": [
    "\n",
    "# target.reset_index(inplace=True, drop=True)"
   ]
  },
  {
   "cell_type": "code",
   "execution_count": 28,
   "id": "c30a152f",
   "metadata": {},
   "outputs": [
    {
     "data": {
      "text/html": [
       "<div>\n",
       "<style scoped>\n",
       "    .dataframe tbody tr th:only-of-type {\n",
       "        vertical-align: middle;\n",
       "    }\n",
       "\n",
       "    .dataframe tbody tr th {\n",
       "        vertical-align: top;\n",
       "    }\n",
       "\n",
       "    .dataframe thead th {\n",
       "        text-align: right;\n",
       "    }\n",
       "</style>\n",
       "<table border=\"1\" class=\"dataframe\">\n",
       "  <thead>\n",
       "    <tr style=\"text-align: right;\">\n",
       "      <th></th>\n",
       "      <th>playerId</th>\n",
       "      <th>target1</th>\n",
       "      <th>target2</th>\n",
       "      <th>target3</th>\n",
       "      <th>target4</th>\n",
       "      <th>date</th>\n",
       "      <th>target_avg</th>\n",
       "    </tr>\n",
       "  </thead>\n",
       "  <tbody>\n",
       "    <tr>\n",
       "      <th>0</th>\n",
       "      <td>628317</td>\n",
       "      <td>0.011167</td>\n",
       "      <td>4.474708</td>\n",
       "      <td>0.005168</td>\n",
       "      <td>5.735294</td>\n",
       "      <td>2018-01-01</td>\n",
       "      <td>2.556584</td>\n",
       "    </tr>\n",
       "    <tr>\n",
       "      <th>1</th>\n",
       "      <td>547989</td>\n",
       "      <td>0.042993</td>\n",
       "      <td>5.593385</td>\n",
       "      <td>0.045033</td>\n",
       "      <td>2.794118</td>\n",
       "      <td>2018-01-01</td>\n",
       "      <td>2.118882</td>\n",
       "    </tr>\n",
       "    <tr>\n",
       "      <th>2</th>\n",
       "      <td>519317</td>\n",
       "      <td>0.974327</td>\n",
       "      <td>56.177043</td>\n",
       "      <td>13.693746</td>\n",
       "      <td>64.166667</td>\n",
       "      <td>2018-01-01</td>\n",
       "      <td>33.752945</td>\n",
       "    </tr>\n",
       "    <tr>\n",
       "      <th>3</th>\n",
       "      <td>607625</td>\n",
       "      <td>0.006700</td>\n",
       "      <td>2.675097</td>\n",
       "      <td>0.005168</td>\n",
       "      <td>1.862745</td>\n",
       "      <td>2018-01-01</td>\n",
       "      <td>1.137428</td>\n",
       "    </tr>\n",
       "    <tr>\n",
       "      <th>4</th>\n",
       "      <td>592547</td>\n",
       "      <td>0.001117</td>\n",
       "      <td>0.632296</td>\n",
       "      <td>0.002953</td>\n",
       "      <td>0.931373</td>\n",
       "      <td>2018-01-01</td>\n",
       "      <td>0.391934</td>\n",
       "    </tr>\n",
       "  </tbody>\n",
       "</table>\n",
       "</div>"
      ],
      "text/plain": [
       "   playerId   target1    target2    target3    target4       date  target_avg\n",
       "0    628317  0.011167   4.474708   0.005168   5.735294 2018-01-01    2.556584\n",
       "1    547989  0.042993   5.593385   0.045033   2.794118 2018-01-01    2.118882\n",
       "2    519317  0.974327  56.177043  13.693746  64.166667 2018-01-01   33.752945\n",
       "3    607625  0.006700   2.675097   0.005168   1.862745 2018-01-01    1.137428\n",
       "4    592547  0.001117   0.632296   0.002953   0.931373 2018-01-01    0.391934"
      ]
     },
     "execution_count": 28,
     "metadata": {},
     "output_type": "execute_result"
    }
   ],
   "source": [
    "target.head()"
   ]
  },
  {
   "cell_type": "markdown",
   "id": "b378837a",
   "metadata": {},
   "source": [
    "### rosters "
   ]
  },
  {
   "cell_type": "code",
   "execution_count": 29,
   "id": "fa317098",
   "metadata": {},
   "outputs": [],
   "source": [
    "unpack_rosters = make_unpack_tmf('rosters')"
   ]
  },
  {
   "cell_type": "code",
   "execution_count": 30,
   "id": "22b97cde",
   "metadata": {},
   "outputs": [],
   "source": [
    "rosters = unpack_rosters.fit_transform(train_data)"
   ]
  },
  {
   "cell_type": "code",
   "execution_count": 31,
   "id": "30d8896d",
   "metadata": {},
   "outputs": [
    {
     "data": {
      "text/html": [
       "<div>\n",
       "<style scoped>\n",
       "    .dataframe tbody tr th:only-of-type {\n",
       "        vertical-align: middle;\n",
       "    }\n",
       "\n",
       "    .dataframe tbody tr th {\n",
       "        vertical-align: top;\n",
       "    }\n",
       "\n",
       "    .dataframe thead th {\n",
       "        text-align: right;\n",
       "    }\n",
       "</style>\n",
       "<table border=\"1\" class=\"dataframe\">\n",
       "  <thead>\n",
       "    <tr style=\"text-align: right;\">\n",
       "      <th></th>\n",
       "      <th>playerId</th>\n",
       "      <th>gameDate</th>\n",
       "      <th>teamId</th>\n",
       "      <th>statusCode</th>\n",
       "      <th>status</th>\n",
       "      <th>date</th>\n",
       "    </tr>\n",
       "  </thead>\n",
       "  <tbody>\n",
       "    <tr>\n",
       "      <th>0</th>\n",
       "      <td>400121</td>\n",
       "      <td>2018-01-01</td>\n",
       "      <td>116</td>\n",
       "      <td>A</td>\n",
       "      <td>Active</td>\n",
       "      <td>2018-01-01</td>\n",
       "    </tr>\n",
       "    <tr>\n",
       "      <th>1</th>\n",
       "      <td>408045</td>\n",
       "      <td>2018-01-01</td>\n",
       "      <td>142</td>\n",
       "      <td>A</td>\n",
       "      <td>Active</td>\n",
       "      <td>2018-01-01</td>\n",
       "    </tr>\n",
       "    <tr>\n",
       "      <th>2</th>\n",
       "      <td>425492</td>\n",
       "      <td>2018-01-01</td>\n",
       "      <td>120</td>\n",
       "      <td>A</td>\n",
       "      <td>Active</td>\n",
       "      <td>2018-01-01</td>\n",
       "    </tr>\n",
       "    <tr>\n",
       "      <th>3</th>\n",
       "      <td>429664</td>\n",
       "      <td>2018-01-01</td>\n",
       "      <td>136</td>\n",
       "      <td>A</td>\n",
       "      <td>Active</td>\n",
       "      <td>2018-01-01</td>\n",
       "    </tr>\n",
       "    <tr>\n",
       "      <th>4</th>\n",
       "      <td>431151</td>\n",
       "      <td>2018-01-01</td>\n",
       "      <td>121</td>\n",
       "      <td>A</td>\n",
       "      <td>Active</td>\n",
       "      <td>2018-01-01</td>\n",
       "    </tr>\n",
       "  </tbody>\n",
       "</table>\n",
       "</div>"
      ],
      "text/plain": [
       "   playerId    gameDate  teamId statusCode  status       date\n",
       "0    400121  2018-01-01     116          A  Active 2018-01-01\n",
       "1    408045  2018-01-01     142          A  Active 2018-01-01\n",
       "2    425492  2018-01-01     120          A  Active 2018-01-01\n",
       "3    429664  2018-01-01     136          A  Active 2018-01-01\n",
       "4    431151  2018-01-01     121          A  Active 2018-01-01"
      ]
     },
     "execution_count": 31,
     "metadata": {},
     "output_type": "execute_result"
    }
   ],
   "source": [
    "rosters.head()"
   ]
  },
  {
   "cell_type": "code",
   "execution_count": 32,
   "id": "fea48f58",
   "metadata": {},
   "outputs": [],
   "source": [
    "rosters.rename(columns={'gameDate': 'rosterDate'}, inplace=True)"
   ]
  },
  {
   "cell_type": "code",
   "execution_count": 33,
   "id": "9a8c2fdd",
   "metadata": {},
   "outputs": [],
   "source": [
    "rosters = rosters[['playerId', 'date', 'status', 'teamId', 'rosterDate']]"
   ]
  },
  {
   "cell_type": "markdown",
   "id": "1b55339a",
   "metadata": {},
   "source": [
    "\n",
    "### player twitter"
   ]
  },
  {
   "cell_type": "code",
   "execution_count": 34,
   "id": "f2cd8041",
   "metadata": {},
   "outputs": [
    {
     "data": {
      "text/plain": [
       "Index(['nextDayPlayerEngagement', 'games', 'rosters', 'playerBoxScores',\n",
       "       'teamBoxScores', 'transactions', 'standings', 'awards', 'events',\n",
       "       'playerTwitterFollowers', 'teamTwitterFollowers'],\n",
       "      dtype='object')"
      ]
     },
     "execution_count": 34,
     "metadata": {},
     "output_type": "execute_result"
    }
   ],
   "source": [
    "train_data.columns"
   ]
  },
  {
   "cell_type": "code",
   "execution_count": 35,
   "id": "bc73e8a5",
   "metadata": {},
   "outputs": [],
   "source": [
    "unpack_tw = make_unpack_tmf('playerTwitterFollowers')"
   ]
  },
  {
   "cell_type": "code",
   "execution_count": 36,
   "id": "c4ff6453",
   "metadata": {},
   "outputs": [],
   "source": [
    "tw = unpack_tw.fit_transform(train_data)"
   ]
  },
  {
   "cell_type": "code",
   "execution_count": 37,
   "id": "bf03cbe6",
   "metadata": {},
   "outputs": [
    {
     "data": {
      "text/html": [
       "<div>\n",
       "<style scoped>\n",
       "    .dataframe tbody tr th:only-of-type {\n",
       "        vertical-align: middle;\n",
       "    }\n",
       "\n",
       "    .dataframe tbody tr th {\n",
       "        vertical-align: top;\n",
       "    }\n",
       "\n",
       "    .dataframe thead th {\n",
       "        text-align: right;\n",
       "    }\n",
       "</style>\n",
       "<table border=\"1\" class=\"dataframe\">\n",
       "  <thead>\n",
       "    <tr style=\"text-align: right;\">\n",
       "      <th></th>\n",
       "      <th>date</th>\n",
       "      <th>playerId</th>\n",
       "      <th>playerName</th>\n",
       "      <th>accountName</th>\n",
       "      <th>twitterHandle</th>\n",
       "      <th>numberOfFollowers</th>\n",
       "    </tr>\n",
       "  </thead>\n",
       "  <tbody>\n",
       "    <tr>\n",
       "      <th>0</th>\n",
       "      <td>2018-01-01</td>\n",
       "      <td>545361</td>\n",
       "      <td>Mike Trout</td>\n",
       "      <td>Mike Trout</td>\n",
       "      <td>@miketrout</td>\n",
       "      <td>2452409</td>\n",
       "    </tr>\n",
       "    <tr>\n",
       "      <th>1</th>\n",
       "      <td>2018-01-01</td>\n",
       "      <td>506433</td>\n",
       "      <td>Yu Darvish</td>\n",
       "      <td>Yu Darvish</td>\n",
       "      <td>@faridyu</td>\n",
       "      <td>1945081</td>\n",
       "    </tr>\n",
       "    <tr>\n",
       "      <th>2</th>\n",
       "      <td>2018-01-01</td>\n",
       "      <td>434378</td>\n",
       "      <td>Justin Verlander</td>\n",
       "      <td>Justin Verlander</td>\n",
       "      <td>@justinverlander</td>\n",
       "      <td>1795985</td>\n",
       "    </tr>\n",
       "    <tr>\n",
       "      <th>3</th>\n",
       "      <td>2018-01-01</td>\n",
       "      <td>430897</td>\n",
       "      <td>Nick Swisher</td>\n",
       "      <td>Nick Swisher</td>\n",
       "      <td>@nickswisher</td>\n",
       "      <td>1711807</td>\n",
       "    </tr>\n",
       "    <tr>\n",
       "      <th>4</th>\n",
       "      <td>2018-01-01</td>\n",
       "      <td>120074</td>\n",
       "      <td>David Ortiz</td>\n",
       "      <td>David Ortiz</td>\n",
       "      <td>@davidortiz</td>\n",
       "      <td>1515463</td>\n",
       "    </tr>\n",
       "  </tbody>\n",
       "</table>\n",
       "</div>"
      ],
      "text/plain": [
       "        date  playerId        playerName       accountName     twitterHandle  \\\n",
       "0 2018-01-01    545361        Mike Trout        Mike Trout        @miketrout   \n",
       "1 2018-01-01    506433        Yu Darvish        Yu Darvish          @faridyu   \n",
       "2 2018-01-01    434378  Justin Verlander  Justin Verlander  @justinverlander   \n",
       "3 2018-01-01    430897      Nick Swisher      Nick Swisher      @nickswisher   \n",
       "4 2018-01-01    120074       David Ortiz       David Ortiz       @davidortiz   \n",
       "\n",
       "   numberOfFollowers  \n",
       "0            2452409  \n",
       "1            1945081  \n",
       "2            1795985  \n",
       "3            1711807  \n",
       "4            1515463  "
      ]
     },
     "execution_count": 37,
     "metadata": {},
     "output_type": "execute_result"
    }
   ],
   "source": [
    "tw.head()"
   ]
  },
  {
   "cell_type": "code",
   "execution_count": 38,
   "id": "a84098fb",
   "metadata": {},
   "outputs": [],
   "source": [
    "ptw = tw[['playerId', 'date', 'numberOfFollowers']]"
   ]
  },
  {
   "cell_type": "code",
   "execution_count": 39,
   "id": "d2c8561b",
   "metadata": {},
   "outputs": [
    {
     "name": "stderr",
     "output_type": "stream",
     "text": [
      "/home/med/anaconda3/envs/mlb/lib/python3.8/site-packages/pandas/core/indexing.py:1597: SettingWithCopyWarning: \n",
      "A value is trying to be set on a copy of a slice from a DataFrame.\n",
      "Try using .loc[row_indexer,col_indexer] = value instead\n",
      "\n",
      "See the caveats in the documentation: https://pandas.pydata.org/pandas-docs/stable/user_guide/indexing.html#returning-a-view-versus-a-copy\n",
      "  self.obj[key] = value\n",
      "/home/med/anaconda3/envs/mlb/lib/python3.8/site-packages/pandas/core/indexing.py:1676: SettingWithCopyWarning: \n",
      "A value is trying to be set on a copy of a slice from a DataFrame.\n",
      "Try using .loc[row_indexer,col_indexer] = value instead\n",
      "\n",
      "See the caveats in the documentation: https://pandas.pydata.org/pandas-docs/stable/user_guide/indexing.html#returning-a-view-versus-a-copy\n",
      "  self._setitem_single_column(ilocs[0], value, pi)\n"
     ]
    }
   ],
   "source": [
    "ptw.loc[:, 'accountInitDate'] = ptw.groupby('playerId')['date'].transform('min')"
   ]
  },
  {
   "cell_type": "markdown",
   "id": "ebe49cff",
   "metadata": {},
   "source": [
    "### player stats "
   ]
  },
  {
   "cell_type": "code",
   "execution_count": 40,
   "id": "5ee0e85f",
   "metadata": {},
   "outputs": [],
   "source": [
    "unpack_pgame_stats = make_unpack_tmf('playerBoxScores')"
   ]
  },
  {
   "cell_type": "code",
   "execution_count": 43,
   "id": "93f12ac6",
   "metadata": {},
   "outputs": [],
   "source": [
    "pgame_stats = unpack_pgame_stats.fit_transform(train_data)"
   ]
  },
  {
   "cell_type": "code",
   "execution_count": null,
   "id": "440f96ba",
   "metadata": {},
   "outputs": [],
   "source": [
    "pgame_stats.columns"
   ]
  },
  {
   "cell_type": "markdown",
   "id": "a9a034f6",
   "metadata": {},
   "source": [
    "### merge "
   ]
  },
  {
   "cell_type": "code",
   "execution_count": 63,
   "id": "d96f9514",
   "metadata": {},
   "outputs": [],
   "source": [
    "# import gc\n",
    "# del train_data\n",
    "# gc.collect()"
   ]
  },
  {
   "cell_type": "code",
   "execution_count": 80,
   "id": "60b10173",
   "metadata": {},
   "outputs": [],
   "source": [
    "def ffill_forward(df, features, id_feats = ['playerId'], limit: int = None):\n",
    "    ff_df = df.groupby(id_feats)[features].ffill(limit=limit)\n",
    "    df.update(ff_df)\n",
    "    return df"
   ]
  },
  {
   "cell_type": "code",
   "execution_count": 81,
   "id": "1fbc25b9",
   "metadata": {},
   "outputs": [],
   "source": [
    "df = target.copy()"
   ]
  },
  {
   "cell_type": "code",
   "execution_count": 82,
   "id": "44aec078",
   "metadata": {},
   "outputs": [],
   "source": [
    "df.sort_values(by=['playerId', 'date'], inplace=True)"
   ]
  },
  {
   "cell_type": "code",
   "execution_count": 83,
   "id": "e36ff50a",
   "metadata": {},
   "outputs": [],
   "source": [
    "df = df.merge(dates, on=['date'], how='left')"
   ]
  },
  {
   "cell_type": "code",
   "execution_count": 84,
   "id": "bae18b83",
   "metadata": {},
   "outputs": [
    {
     "data": {
      "text/html": [
       "<div>\n",
       "<style scoped>\n",
       "    .dataframe tbody tr th:only-of-type {\n",
       "        vertical-align: middle;\n",
       "    }\n",
       "\n",
       "    .dataframe tbody tr th {\n",
       "        vertical-align: top;\n",
       "    }\n",
       "\n",
       "    .dataframe thead th {\n",
       "        text-align: right;\n",
       "    }\n",
       "</style>\n",
       "<table border=\"1\" class=\"dataframe\">\n",
       "  <thead>\n",
       "    <tr style=\"text-align: right;\">\n",
       "      <th></th>\n",
       "      <th>playerId</th>\n",
       "      <th>target1</th>\n",
       "      <th>target2</th>\n",
       "      <th>target3</th>\n",
       "      <th>target4</th>\n",
       "      <th>date</th>\n",
       "      <th>target_avg</th>\n",
       "      <th>year</th>\n",
       "      <th>month</th>\n",
       "      <th>week</th>\n",
       "      <th>inSeason</th>\n",
       "      <th>seasonPart</th>\n",
       "    </tr>\n",
       "  </thead>\n",
       "  <tbody>\n",
       "    <tr>\n",
       "      <th>0</th>\n",
       "      <td>112526</td>\n",
       "      <td>0.055277</td>\n",
       "      <td>5.496109</td>\n",
       "      <td>0.025839</td>\n",
       "      <td>16.176471</td>\n",
       "      <td>2018-01-01</td>\n",
       "      <td>5.438424</td>\n",
       "      <td>2018</td>\n",
       "      <td>1</td>\n",
       "      <td>1</td>\n",
       "      <td>False</td>\n",
       "      <td>Offseason</td>\n",
       "    </tr>\n",
       "    <tr>\n",
       "      <th>1</th>\n",
       "      <td>112526</td>\n",
       "      <td>0.060625</td>\n",
       "      <td>3.252914</td>\n",
       "      <td>0.030486</td>\n",
       "      <td>8.541353</td>\n",
       "      <td>2018-01-02</td>\n",
       "      <td>2.971345</td>\n",
       "      <td>2018</td>\n",
       "      <td>1</td>\n",
       "      <td>1</td>\n",
       "      <td>False</td>\n",
       "      <td>Offseason</td>\n",
       "    </tr>\n",
       "    <tr>\n",
       "      <th>2</th>\n",
       "      <td>112526</td>\n",
       "      <td>0.029341</td>\n",
       "      <td>1.648352</td>\n",
       "      <td>0.032613</td>\n",
       "      <td>10.490112</td>\n",
       "      <td>2018-01-03</td>\n",
       "      <td>3.050104</td>\n",
       "      <td>2018</td>\n",
       "      <td>1</td>\n",
       "      <td>1</td>\n",
       "      <td>False</td>\n",
       "      <td>Offseason</td>\n",
       "    </tr>\n",
       "    <tr>\n",
       "      <th>3</th>\n",
       "      <td>112526</td>\n",
       "      <td>0.014799</td>\n",
       "      <td>2.665894</td>\n",
       "      <td>0.087422</td>\n",
       "      <td>19.091467</td>\n",
       "      <td>2018-01-04</td>\n",
       "      <td>5.464896</td>\n",
       "      <td>2018</td>\n",
       "      <td>1</td>\n",
       "      <td>1</td>\n",
       "      <td>False</td>\n",
       "      <td>Offseason</td>\n",
       "    </tr>\n",
       "    <tr>\n",
       "      <th>4</th>\n",
       "      <td>112526</td>\n",
       "      <td>0.083916</td>\n",
       "      <td>1.161002</td>\n",
       "      <td>0.024759</td>\n",
       "      <td>6.643880</td>\n",
       "      <td>2018-01-05</td>\n",
       "      <td>1.978389</td>\n",
       "      <td>2018</td>\n",
       "      <td>1</td>\n",
       "      <td>1</td>\n",
       "      <td>False</td>\n",
       "      <td>Offseason</td>\n",
       "    </tr>\n",
       "  </tbody>\n",
       "</table>\n",
       "</div>"
      ],
      "text/plain": [
       "   playerId   target1   target2   target3    target4       date  target_avg  \\\n",
       "0    112526  0.055277  5.496109  0.025839  16.176471 2018-01-01    5.438424   \n",
       "1    112526  0.060625  3.252914  0.030486   8.541353 2018-01-02    2.971345   \n",
       "2    112526  0.029341  1.648352  0.032613  10.490112 2018-01-03    3.050104   \n",
       "3    112526  0.014799  2.665894  0.087422  19.091467 2018-01-04    5.464896   \n",
       "4    112526  0.083916  1.161002  0.024759   6.643880 2018-01-05    1.978389   \n",
       "\n",
       "   year  month  week  inSeason seasonPart  \n",
       "0  2018      1     1     False  Offseason  \n",
       "1  2018      1     1     False  Offseason  \n",
       "2  2018      1     1     False  Offseason  \n",
       "3  2018      1     1     False  Offseason  \n",
       "4  2018      1     1     False  Offseason  "
      ]
     },
     "execution_count": 84,
     "metadata": {},
     "output_type": "execute_result"
    }
   ],
   "source": [
    "df.head()"
   ]
  },
  {
   "cell_type": "code",
   "execution_count": 85,
   "id": "c693ef24",
   "metadata": {},
   "outputs": [
    {
     "data": {
      "text/plain": [
       "playerId      0.0\n",
       "target1       0.0\n",
       "target2       0.0\n",
       "target3       0.0\n",
       "target4       0.0\n",
       "date          0.0\n",
       "target_avg    0.0\n",
       "year          0.0\n",
       "month         0.0\n",
       "week          0.0\n",
       "inSeason      0.0\n",
       "seasonPart    0.0\n",
       "dtype: float64"
      ]
     },
     "execution_count": 85,
     "metadata": {},
     "output_type": "execute_result"
    }
   ],
   "source": [
    "df.isna().mean()"
   ]
  },
  {
   "cell_type": "code",
   "execution_count": 86,
   "id": "37de4d3e",
   "metadata": {},
   "outputs": [],
   "source": [
    "df = df.merge(pp, on=['playerId'], how='left')"
   ]
  },
  {
   "cell_type": "code",
   "execution_count": 87,
   "id": "b9920aea",
   "metadata": {},
   "outputs": [
    {
     "data": {
      "text/plain": [
       "playerId               0.000000\n",
       "target1                0.000000\n",
       "target2                0.000000\n",
       "target3                0.000000\n",
       "target4                0.000000\n",
       "date                   0.000000\n",
       "target_avg             0.000000\n",
       "year                   0.000000\n",
       "month                  0.000000\n",
       "week                   0.000000\n",
       "inSeason               0.000000\n",
       "seasonPart             0.000000\n",
       "DOB                    0.000000\n",
       "mlbDebutDate           0.017467\n",
       "birthCountry           0.000000\n",
       "weight                 0.000000\n",
       "primaryPositionName    0.000000\n",
       "player_in_test         0.000000\n",
       "height                 0.000000\n",
       "playerBMI              0.000000\n",
       "dtype: float64"
      ]
     },
     "execution_count": 87,
     "metadata": {},
     "output_type": "execute_result"
    }
   ],
   "source": [
    "df.isna().mean()"
   ]
  },
  {
   "cell_type": "code",
   "execution_count": 88,
   "id": "33824a48",
   "metadata": {},
   "outputs": [
    {
     "data": {
      "text/plain": [
       "Index(['playerId', 'target1', 'target2', 'target3', 'target4', 'date',\n",
       "       'target_avg', 'year', 'month', 'week', 'inSeason', 'seasonPart', 'DOB',\n",
       "       'mlbDebutDate', 'birthCountry', 'weight', 'primaryPositionName',\n",
       "       'player_in_test', 'height', 'playerBMI'],\n",
       "      dtype='object')"
      ]
     },
     "execution_count": 88,
     "metadata": {},
     "output_type": "execute_result"
    }
   ],
   "source": [
    "df.columns"
   ]
  },
  {
   "cell_type": "code",
   "execution_count": 89,
   "id": "15599d62",
   "metadata": {},
   "outputs": [],
   "source": [
    "# filter only those players on the test set"
   ]
  },
  {
   "cell_type": "code",
   "execution_count": 90,
   "id": "8d5c42e3",
   "metadata": {},
   "outputs": [],
   "source": [
    "# df = df.query('player_in_test').reset_index(drop=True)"
   ]
  },
  {
   "cell_type": "code",
   "execution_count": 91,
   "id": "c9f6dbb1",
   "metadata": {},
   "outputs": [],
   "source": [
    "# merging team names"
   ]
  },
  {
   "cell_type": "code",
   "execution_count": 92,
   "id": "874d0e78",
   "metadata": {},
   "outputs": [],
   "source": [
    "df = df.merge(rosters, on=['date', 'playerId'], how='left')"
   ]
  },
  {
   "cell_type": "code",
   "execution_count": 93,
   "id": "527c7401",
   "metadata": {},
   "outputs": [],
   "source": [
    "df = ffill_forward(df, features=rosters.columns.drop('date'), limit=10)"
   ]
  },
  {
   "cell_type": "code",
   "execution_count": 94,
   "id": "60677028",
   "metadata": {},
   "outputs": [
    {
     "data": {
      "text/plain": [
       "playerId               0.000000\n",
       "target1                0.000000\n",
       "target2                0.000000\n",
       "target3                0.000000\n",
       "target4                0.000000\n",
       "date                   0.000000\n",
       "target_avg             0.000000\n",
       "year                   0.000000\n",
       "month                  0.000000\n",
       "week                   0.000000\n",
       "inSeason               0.000000\n",
       "seasonPart             0.000000\n",
       "DOB                    0.000000\n",
       "mlbDebutDate           0.017467\n",
       "birthCountry           0.000000\n",
       "weight                 0.000000\n",
       "primaryPositionName    0.000000\n",
       "player_in_test         0.000000\n",
       "height                 0.000000\n",
       "playerBMI              0.000000\n",
       "status                 0.419431\n",
       "teamId                 0.419431\n",
       "rosterDate             0.419431\n",
       "dtype: float64"
      ]
     },
     "execution_count": 94,
     "metadata": {},
     "output_type": "execute_result"
    }
   ],
   "source": [
    "df.isna().mean()"
   ]
  },
  {
   "cell_type": "code",
   "execution_count": 111,
   "id": "852fcdaf",
   "metadata": {},
   "outputs": [],
   "source": [
    "df = df.merge(ptw, on=['date', 'playerId'], how='left')"
   ]
  },
  {
   "cell_type": "code",
   "execution_count": 112,
   "id": "a058f943",
   "metadata": {},
   "outputs": [
    {
     "data": {
      "text/plain": [
       "playerId               0.000000\n",
       "target1                0.000000\n",
       "target2                0.000000\n",
       "target3                0.000000\n",
       "target4                0.000000\n",
       "date                   0.000000\n",
       "target_avg             0.000000\n",
       "year                   0.000000\n",
       "month                  0.000000\n",
       "week                   0.000000\n",
       "inSeason               0.000000\n",
       "seasonPart             0.000000\n",
       "DOB                    0.000000\n",
       "mlbDebutDate           0.017467\n",
       "birthCountry           0.000000\n",
       "weight                 0.000000\n",
       "primaryPositionName    0.000000\n",
       "player_in_test         0.000000\n",
       "height                 0.000000\n",
       "playerBMI              0.000000\n",
       "status                 0.419431\n",
       "teamId                 0.419431\n",
       "rosterDate             0.419431\n",
       "playerAge              0.000000\n",
       "playerTSinceDebut      0.017467\n",
       "playerDebutAge         0.017467\n",
       "TimeSinceLastRoster    0.419431\n",
       "numberOfFollowers      0.987638\n",
       "accountInitDate        0.987638\n",
       "dtype: float64"
      ]
     },
     "execution_count": 112,
     "metadata": {},
     "output_type": "execute_result"
    }
   ],
   "source": [
    "df.isna().mean()"
   ]
  },
  {
   "cell_type": "code",
   "execution_count": 114,
   "id": "f8b713f2",
   "metadata": {},
   "outputs": [],
   "source": [
    "df = ffill_forward(df, features=ptw.columns.drop(['date', 'playerId']))"
   ]
  },
  {
   "cell_type": "code",
   "execution_count": 115,
   "id": "0766540d",
   "metadata": {},
   "outputs": [
    {
     "data": {
      "text/plain": [
       "playerId               0.000000\n",
       "target1                0.000000\n",
       "target2                0.000000\n",
       "target3                0.000000\n",
       "target4                0.000000\n",
       "date                   0.000000\n",
       "target_avg             0.000000\n",
       "year                   0.000000\n",
       "month                  0.000000\n",
       "week                   0.000000\n",
       "inSeason               0.000000\n",
       "seasonPart             0.000000\n",
       "DOB                    0.000000\n",
       "mlbDebutDate           0.017467\n",
       "birthCountry           0.000000\n",
       "weight                 0.000000\n",
       "primaryPositionName    0.000000\n",
       "player_in_test         0.000000\n",
       "height                 0.000000\n",
       "playerBMI              0.000000\n",
       "status                 0.419431\n",
       "teamId                 0.419431\n",
       "rosterDate             0.419431\n",
       "playerAge              0.000000\n",
       "playerTSinceDebut      0.017467\n",
       "playerDebutAge         0.017467\n",
       "TimeSinceLastRoster    0.419431\n",
       "numberOfFollowers      0.603250\n",
       "accountInitDate        0.603250\n",
       "dtype: float64"
      ]
     },
     "execution_count": 115,
     "metadata": {},
     "output_type": "execute_result"
    }
   ],
   "source": [
    "df.isna().mean()"
   ]
  },
  {
   "cell_type": "code",
   "execution_count": 116,
   "id": "5f7f7e49",
   "metadata": {},
   "outputs": [],
   "source": [
    "# some feature eng for the dates\n",
    "df['playerAge'] = (df['date'] - df['DOB']).dt.total_seconds()\n",
    "df['playerTSinceDebut'] = (df['date'] - df['mlbDebutDate']).dt.total_seconds()\n",
    "df['playerDebutAge'] = (df['mlbDebutDate'] - df['DOB']).dt.total_seconds()\n",
    "df['TimeSinceLastRoster'] = (df['date'] - pd.to_datetime(df['rosterDate'])).dt.total_seconds()\n",
    "df['TimeSinceLastRoster'] /= 60 * 60 * 24\n",
    "# normalize\n",
    "df[['playerAge', 'playerTSinceDebut', 'playerDebutAge']] /= 60 * 60 * 24 * 365"
   ]
  },
  {
   "cell_type": "code",
   "execution_count": 117,
   "id": "c039c18c",
   "metadata": {},
   "outputs": [],
   "source": [
    "# import gc\n",
    "# del train_data, agg_df, pgame_stats, target, dates, pp, players\n",
    "# gc.collect()"
   ]
  },
  {
   "cell_type": "code",
   "execution_count": 118,
   "id": "c38489d7",
   "metadata": {},
   "outputs": [],
   "source": [
    "# seasonal transformer"
   ]
  },
  {
   "cell_type": "code",
   "execution_count": 119,
   "id": "73c00285",
   "metadata": {},
   "outputs": [],
   "source": [
    "from statsmodels.tsa.deterministic import (CalendarFourier,\n",
    "                                           CalendarSeasonality,\n",
    "                                           CalendarTimeTrend,\n",
    "                                           DeterministicProcess)\n",
    "\n",
    "\n",
    "def compute_fourier_calendar(dates: pd.Series,\n",
    "                             freq: str = 'A',\n",
    "                             order: int = 8):\n",
    "    fourier = CalendarFourier(freq=freq, order=order)\n",
    "    deterministic = DeterministicProcess(\n",
    "                index=dates,\n",
    "                order=0,\n",
    "                seasonal=False,  # set to True to create indicators for days of the week (weekly seasonality)\n",
    "                additional_terms=[fourier],\n",
    "            )\n",
    "    return deterministic.in_sample().reset_index(drop=True)"
   ]
  },
  {
   "cell_type": "code",
   "execution_count": 120,
   "id": "723f36af",
   "metadata": {},
   "outputs": [],
   "source": [
    "# _fourier_calendar_tmf = FunctionTransformer(compute_fourier_calendar, kw_args={'freq': 'A', 'order': 8})\n",
    "# fourier_calendar_tmf = PdColumnTransformer([('fourier_calendar', _fourier_calendar_tmf, 'date')])"
   ]
  },
  {
   "cell_type": "code",
   "execution_count": 121,
   "id": "455d6436",
   "metadata": {},
   "outputs": [],
   "source": [
    "# categorify"
   ]
  },
  {
   "cell_type": "code",
   "execution_count": 122,
   "id": "7e014e50",
   "metadata": {},
   "outputs": [],
   "source": [
    "from pandas.api.types import is_categorical_dtype\n",
    "import pandas as pd\n",
    "from collections import Counter\n",
    "\n",
    "class Categorify(BaseEstimator, TransformerMixin):\n",
    "    def __init__(self, top_n: int = None,\n",
    "                 add_nan: bool = False,\n",
    "                 dtype=np.int64):\n",
    "        self.top_n = top_n\n",
    "        self.add_nan = add_nan\n",
    "        self.dtype = dtype\n",
    "\n",
    "    def fit(self, X: pd.Series):\n",
    "        if not isinstance(X, pd.Series):\n",
    "            X = pd.Series(X)\n",
    "        categories = (list(X.categories)\n",
    "                      if is_categorical_dtype(X)\n",
    "                      else sorted(list(f for f in X.drop_duplicates()\n",
    "                                       if not pd.isna(f))))\n",
    "        if self.top_n is not None:\n",
    "            counter = Counter(X)\n",
    "            top_categories = [cat for cat, _ in\n",
    "                              counter.most_common(self.top_n)]\n",
    "            categories = [cat for cat in categories\n",
    "                          if cat in top_categories]\n",
    "        self.categories = categories\n",
    "        return self\n",
    "\n",
    "    def transform(self, X: pd.Series) -> pd.DataFrame:\n",
    "        Xcat = pd.Categorical(X, categories=self.categories, ordered=True)\n",
    "        Xcodes = Xcat.codes.astype(self.dtype)\n",
    "        if self.add_nan:\n",
    "            Xcodes += 1\n",
    "        return pd.DataFrame({X.name: Xcodes})"
   ]
  },
  {
   "cell_type": "code",
   "execution_count": 123,
   "id": "3f70accb",
   "metadata": {},
   "outputs": [],
   "source": [
    "categories = ['playerId', 'seasonPart', 'birthCountry', 'teamId', 'primaryPositionName', 'status']"
   ]
  },
  {
   "cell_type": "code",
   "execution_count": 124,
   "id": "843ecbcf",
   "metadata": {},
   "outputs": [],
   "source": [
    "categories_pipeline = PdColumnTransformer([(name, Categorify(add_nan=True), name)\n",
    "                                            for name in categories])"
   ]
  },
  {
   "cell_type": "code",
   "execution_count": 125,
   "id": "be95c090",
   "metadata": {},
   "outputs": [],
   "source": [
    "### fill nan"
   ]
  },
  {
   "cell_type": "code",
   "execution_count": 126,
   "id": "e95c664b",
   "metadata": {},
   "outputs": [],
   "source": [
    "continuous_features = [name for name, values in df.items()\n",
    "  if (values.dtype == np.float64) and not name.startswith('target') and not name.endswith('Id')]\n"
   ]
  },
  {
   "cell_type": "code",
   "execution_count": 127,
   "id": "020a00ac",
   "metadata": {},
   "outputs": [
    {
     "data": {
      "text/plain": [
       "['weight',\n",
       " 'height',\n",
       " 'playerBMI',\n",
       " 'playerAge',\n",
       " 'playerTSinceDebut',\n",
       " 'playerDebutAge',\n",
       " 'TimeSinceLastRoster',\n",
       " 'numberOfFollowers']"
      ]
     },
     "execution_count": 127,
     "metadata": {},
     "output_type": "execute_result"
    }
   ],
   "source": [
    "continuous_features"
   ]
  },
  {
   "cell_type": "code",
   "execution_count": 128,
   "id": "62fd4a7a",
   "metadata": {},
   "outputs": [],
   "source": [
    "def to_float32(df: pd.DataFrame, fill_value: int = -1) -> pd.DataFrame:\n",
    "    for name, value in df.items():\n",
    "        df[name] = value.astype(np.float32)\n",
    "    return df"
   ]
  },
  {
   "cell_type": "code",
   "execution_count": 129,
   "id": "15bbbc10",
   "metadata": {},
   "outputs": [],
   "source": [
    "continuous_pipeline = PdColumnTransformer([('continuous_features', FunctionTransformer(to_float32),\n",
    "                                            continuous_features )])"
   ]
  },
  {
   "cell_type": "code",
   "execution_count": 130,
   "id": "82aad073",
   "metadata": {},
   "outputs": [],
   "source": [
    "### putting pipeline together"
   ]
  },
  {
   "cell_type": "code",
   "execution_count": 131,
   "id": "7d3488fd",
   "metadata": {},
   "outputs": [],
   "source": [
    "pipeline = PdFeatureUnion([#('fourier_calendar', fourier_calendar_tmf),\n",
    "                           ('categories', categories_pipeline),\n",
    "                           ('continuous', continuous_pipeline)])"
   ]
  },
  {
   "cell_type": "code",
   "execution_count": 132,
   "id": "97c2ba10",
   "metadata": {},
   "outputs": [
    {
     "data": {
      "text/plain": [
       "PdFeatureUnion(transformer_list=[('categories',\n",
       "                                  PdColumnTransformer(transformers=[('playerId',\n",
       "                                                                     Categorify(add_nan=True),\n",
       "                                                                     'playerId'),\n",
       "                                                                    ('seasonPart',\n",
       "                                                                     Categorify(add_nan=True),\n",
       "                                                                     'seasonPart'),\n",
       "                                                                    ('birthCountry',\n",
       "                                                                     Categorify(add_nan=True),\n",
       "                                                                     'birthCountry'),\n",
       "                                                                    ('teamId',\n",
       "                                                                     Categorify(add_nan=True),\n",
       "                                                                     'teamId'),\n",
       "                                                                    ('primaryPositionName',\n",
       "                                                                     Categorify(add_nan=True),\n",
       "                                                                     'primaryPositionName'),\n",
       "                                                                    ('status',\n",
       "                                                                     Categorify(add_nan=True),\n",
       "                                                                     'status')])),\n",
       "                                 ('continuous',\n",
       "                                  PdColumnTransformer(transformers=[('continuous_features',\n",
       "                                                                     FunctionTransformer(func=<function to_float32 at 0x7f48a77cfe50>),\n",
       "                                                                     ['weight',\n",
       "                                                                      'height',\n",
       "                                                                      'playerBMI',\n",
       "                                                                      'playerAge',\n",
       "                                                                      'playerTSinceDebut',\n",
       "                                                                      'playerDebutAge',\n",
       "                                                                      'TimeSinceLastRoster',\n",
       "                                                                      'numberOfFollowers'])]))])"
      ]
     },
     "execution_count": 132,
     "metadata": {},
     "output_type": "execute_result"
    }
   ],
   "source": [
    "pipeline"
   ]
  },
  {
   "cell_type": "code",
   "execution_count": 133,
   "id": "341bdb65",
   "metadata": {},
   "outputs": [],
   "source": [
    "from datetime import datetime\n",
    "from typing import Union\n",
    "\n",
    "\n",
    "class SplitData:\n",
    "    \"\"\"Helper class to split the data for time series\"\"\"\n",
    "    def __init__(self, date: Union[datetime, str],\n",
    "                 train_days: int = None,\n",
    "                 test_days: int = 31,\n",
    "                 gap: int = 0,\n",
    "                 dt_col: str = 'date'):\n",
    "        if isinstance(date, str):\n",
    "            date = pd.to_datetime(date)\n",
    "        # test range\n",
    "        self.start_test_dt = date\n",
    "        self.end_test_dt =  date + pd.to_timedelta(test_days, unit='d')\n",
    "        # train range\n",
    "        self.end_train_dt = date - pd.to_timedelta(gap, unit='d')\n",
    "        self.start_train_dt = (self.end_train_dt - pd.to_timedelta(train_days, unit='d')\n",
    "                               if train_days is not None else\n",
    "                               None)\n",
    "        self.dt_col = dt_col\n",
    "    \n",
    "    @staticmethod\n",
    "    def _get_index(dates: pd.Series,\n",
    "                start: datetime,\n",
    "                end: datetime):\n",
    "        index = (dates >= start) & (dates < end)\n",
    "        return index\n",
    "    \n",
    "    def train(self, df: pd.DataFrame) -> pd.DataFrame:\n",
    "        start_train_dt = (df[self.dt_col].min()\n",
    "                          if self.start_train_dt is None\n",
    "                          else self.start_train_dt)\n",
    "        index = self._get_index(df[self.dt_col], start_train_dt,\n",
    "                                self.end_train_dt)\n",
    "        return df.loc[index, :].reset_index(drop=True)\n",
    "\n",
    "    def valid(self, df: pd.DataFrame) -> pd.DataFrame:\n",
    "        index = self._get_index(df[self.dt_col], self.start_test_dt,\n",
    "                                self.end_test_dt)\n",
    "        return df.loc[index, :].reset_index(drop=True)\n",
    "    \n",
    "    def __repr__(self):\n",
    "        return (f'test_range=({self.start_test_dt}, {self.end_test_dt}), '\n",
    "                f'train_range=({self.start_train_dt}, {self.end_train_dt})')"
   ]
  },
  {
   "cell_type": "code",
   "execution_count": 134,
   "id": "5e51c712",
   "metadata": {},
   "outputs": [],
   "source": [
    "sp = SplitData(\"2021-04-01\")"
   ]
  },
  {
   "cell_type": "code",
   "execution_count": 135,
   "id": "c6a08b42",
   "metadata": {},
   "outputs": [],
   "source": [
    "train_df = sp.train(df)\n",
    "valid_df = sp.valid(df)"
   ]
  },
  {
   "cell_type": "code",
   "execution_count": 136,
   "id": "a3145c81",
   "metadata": {},
   "outputs": [
    {
     "data": {
      "text/plain": [
       "min   2018-01-01\n",
       "max   2021-03-31\n",
       "Name: date, dtype: datetime64[ns]"
      ]
     },
     "execution_count": 136,
     "metadata": {},
     "output_type": "execute_result"
    }
   ],
   "source": [
    "train_df.date.agg(('min', 'max'))"
   ]
  },
  {
   "cell_type": "code",
   "execution_count": 137,
   "id": "a8e28440",
   "metadata": {},
   "outputs": [
    {
     "data": {
      "text/plain": [
       "min   2021-04-01\n",
       "max   2021-04-30\n",
       "Name: date, dtype: datetime64[ns]"
      ]
     },
     "execution_count": 137,
     "metadata": {},
     "output_type": "execute_result"
    }
   ],
   "source": [
    "valid_df.date.agg(('min', 'max'))"
   ]
  },
  {
   "cell_type": "code",
   "execution_count": 138,
   "id": "2d8c3c41",
   "metadata": {},
   "outputs": [
    {
     "data": {
      "text/plain": [
       "(['target1', 'target2', 'target3', 'target4'], ['date', 'playerId'])"
      ]
     },
     "execution_count": 138,
     "metadata": {},
     "output_type": "execute_result"
    }
   ],
   "source": [
    "target_cols = [f'target{i}' for i in range(1, 5)];\n",
    "index_cols = ['date', 'playerId'] \n",
    "target_cols, index_cols"
   ]
  },
  {
   "cell_type": "code",
   "execution_count": 139,
   "id": "c8baf77a",
   "metadata": {},
   "outputs": [],
   "source": [
    "train_target = train_df.loc[:, target_cols]\n",
    "valid_target = valid_df.loc[:, target_cols]"
   ]
  },
  {
   "cell_type": "code",
   "execution_count": 140,
   "id": "391ce88e",
   "metadata": {},
   "outputs": [
    {
     "name": "stdout",
     "output_type": "stream",
     "text": [
      "CPU times: user 1.69 s, sys: 210 ms, total: 1.9 s\n",
      "Wall time: 1.92 s\n"
     ]
    }
   ],
   "source": [
    "%%time\n",
    "train_features = pipeline.fit_transform(train_df)"
   ]
  },
  {
   "cell_type": "code",
   "execution_count": 141,
   "id": "fca0f882",
   "metadata": {},
   "outputs": [
    {
     "name": "stdout",
     "output_type": "stream",
     "text": [
      "CPU times: user 54.6 ms, sys: 283 µs, total: 54.8 ms\n",
      "Wall time: 51.3 ms\n"
     ]
    }
   ],
   "source": [
    "%%time\n",
    "valid_features = pipeline.transform(valid_df)"
   ]
  },
  {
   "cell_type": "code",
   "execution_count": 142,
   "id": "e57e9e16",
   "metadata": {},
   "outputs": [
    {
     "data": {
      "text/html": [
       "<div>\n",
       "<style scoped>\n",
       "    .dataframe tbody tr th:only-of-type {\n",
       "        vertical-align: middle;\n",
       "    }\n",
       "\n",
       "    .dataframe tbody tr th {\n",
       "        vertical-align: top;\n",
       "    }\n",
       "\n",
       "    .dataframe thead th {\n",
       "        text-align: right;\n",
       "    }\n",
       "</style>\n",
       "<table border=\"1\" class=\"dataframe\">\n",
       "  <thead>\n",
       "    <tr style=\"text-align: right;\">\n",
       "      <th></th>\n",
       "      <th>playerId</th>\n",
       "      <th>seasonPart</th>\n",
       "      <th>birthCountry</th>\n",
       "      <th>teamId</th>\n",
       "      <th>primaryPositionName</th>\n",
       "      <th>status</th>\n",
       "      <th>weight</th>\n",
       "      <th>height</th>\n",
       "      <th>playerBMI</th>\n",
       "      <th>playerAge</th>\n",
       "      <th>playerTSinceDebut</th>\n",
       "      <th>playerDebutAge</th>\n",
       "      <th>TimeSinceLastRoster</th>\n",
       "      <th>numberOfFollowers</th>\n",
       "    </tr>\n",
       "  </thead>\n",
       "  <tbody>\n",
       "    <tr>\n",
       "      <th>0</th>\n",
       "      <td>1</td>\n",
       "      <td>3</td>\n",
       "      <td>10</td>\n",
       "      <td>0</td>\n",
       "      <td>7</td>\n",
       "      <td>0</td>\n",
       "      <td>129.273727</td>\n",
       "      <td>1.8034</td>\n",
       "      <td>39.748993</td>\n",
       "      <td>44.638355</td>\n",
       "      <td>20.758904</td>\n",
       "      <td>23.879452</td>\n",
       "      <td>NaN</td>\n",
       "      <td>NaN</td>\n",
       "    </tr>\n",
       "    <tr>\n",
       "      <th>1</th>\n",
       "      <td>1</td>\n",
       "      <td>3</td>\n",
       "      <td>10</td>\n",
       "      <td>0</td>\n",
       "      <td>7</td>\n",
       "      <td>0</td>\n",
       "      <td>129.273727</td>\n",
       "      <td>1.8034</td>\n",
       "      <td>39.748993</td>\n",
       "      <td>44.641094</td>\n",
       "      <td>20.761644</td>\n",
       "      <td>23.879452</td>\n",
       "      <td>NaN</td>\n",
       "      <td>NaN</td>\n",
       "    </tr>\n",
       "    <tr>\n",
       "      <th>2</th>\n",
       "      <td>1</td>\n",
       "      <td>3</td>\n",
       "      <td>10</td>\n",
       "      <td>0</td>\n",
       "      <td>7</td>\n",
       "      <td>0</td>\n",
       "      <td>129.273727</td>\n",
       "      <td>1.8034</td>\n",
       "      <td>39.748993</td>\n",
       "      <td>44.643837</td>\n",
       "      <td>20.764383</td>\n",
       "      <td>23.879452</td>\n",
       "      <td>NaN</td>\n",
       "      <td>NaN</td>\n",
       "    </tr>\n",
       "    <tr>\n",
       "      <th>3</th>\n",
       "      <td>1</td>\n",
       "      <td>3</td>\n",
       "      <td>10</td>\n",
       "      <td>0</td>\n",
       "      <td>7</td>\n",
       "      <td>0</td>\n",
       "      <td>129.273727</td>\n",
       "      <td>1.8034</td>\n",
       "      <td>39.748993</td>\n",
       "      <td>44.646576</td>\n",
       "      <td>20.767124</td>\n",
       "      <td>23.879452</td>\n",
       "      <td>NaN</td>\n",
       "      <td>NaN</td>\n",
       "    </tr>\n",
       "    <tr>\n",
       "      <th>4</th>\n",
       "      <td>1</td>\n",
       "      <td>3</td>\n",
       "      <td>10</td>\n",
       "      <td>0</td>\n",
       "      <td>7</td>\n",
       "      <td>0</td>\n",
       "      <td>129.273727</td>\n",
       "      <td>1.8034</td>\n",
       "      <td>39.748993</td>\n",
       "      <td>44.649315</td>\n",
       "      <td>20.769863</td>\n",
       "      <td>23.879452</td>\n",
       "      <td>NaN</td>\n",
       "      <td>NaN</td>\n",
       "    </tr>\n",
       "    <tr>\n",
       "      <th>...</th>\n",
       "      <td>...</td>\n",
       "      <td>...</td>\n",
       "      <td>...</td>\n",
       "      <td>...</td>\n",
       "      <td>...</td>\n",
       "      <td>...</td>\n",
       "      <td>...</td>\n",
       "      <td>...</td>\n",
       "      <td>...</td>\n",
       "      <td>...</td>\n",
       "      <td>...</td>\n",
       "      <td>...</td>\n",
       "      <td>...</td>\n",
       "      <td>...</td>\n",
       "    </tr>\n",
       "    <tr>\n",
       "      <th>2444341</th>\n",
       "      <td>2061</td>\n",
       "      <td>5</td>\n",
       "      <td>13</td>\n",
       "      <td>22</td>\n",
       "      <td>7</td>\n",
       "      <td>3</td>\n",
       "      <td>95.254318</td>\n",
       "      <td>1.8796</td>\n",
       "      <td>26.962107</td>\n",
       "      <td>28.643835</td>\n",
       "      <td>-0.019178</td>\n",
       "      <td>28.663013</td>\n",
       "      <td>0.0</td>\n",
       "      <td>NaN</td>\n",
       "    </tr>\n",
       "    <tr>\n",
       "      <th>2444342</th>\n",
       "      <td>2061</td>\n",
       "      <td>5</td>\n",
       "      <td>13</td>\n",
       "      <td>22</td>\n",
       "      <td>7</td>\n",
       "      <td>3</td>\n",
       "      <td>95.254318</td>\n",
       "      <td>1.8796</td>\n",
       "      <td>26.962107</td>\n",
       "      <td>28.646576</td>\n",
       "      <td>-0.016438</td>\n",
       "      <td>28.663013</td>\n",
       "      <td>0.0</td>\n",
       "      <td>NaN</td>\n",
       "    </tr>\n",
       "    <tr>\n",
       "      <th>2444343</th>\n",
       "      <td>2061</td>\n",
       "      <td>5</td>\n",
       "      <td>13</td>\n",
       "      <td>22</td>\n",
       "      <td>7</td>\n",
       "      <td>3</td>\n",
       "      <td>95.254318</td>\n",
       "      <td>1.8796</td>\n",
       "      <td>26.962107</td>\n",
       "      <td>28.649315</td>\n",
       "      <td>-0.013699</td>\n",
       "      <td>28.663013</td>\n",
       "      <td>0.0</td>\n",
       "      <td>NaN</td>\n",
       "    </tr>\n",
       "    <tr>\n",
       "      <th>2444344</th>\n",
       "      <td>2061</td>\n",
       "      <td>5</td>\n",
       "      <td>13</td>\n",
       "      <td>22</td>\n",
       "      <td>7</td>\n",
       "      <td>3</td>\n",
       "      <td>95.254318</td>\n",
       "      <td>1.8796</td>\n",
       "      <td>26.962107</td>\n",
       "      <td>28.652056</td>\n",
       "      <td>-0.010959</td>\n",
       "      <td>28.663013</td>\n",
       "      <td>0.0</td>\n",
       "      <td>NaN</td>\n",
       "    </tr>\n",
       "    <tr>\n",
       "      <th>2444345</th>\n",
       "      <td>2061</td>\n",
       "      <td>5</td>\n",
       "      <td>13</td>\n",
       "      <td>22</td>\n",
       "      <td>7</td>\n",
       "      <td>3</td>\n",
       "      <td>95.254318</td>\n",
       "      <td>1.8796</td>\n",
       "      <td>26.962107</td>\n",
       "      <td>28.654795</td>\n",
       "      <td>-0.008219</td>\n",
       "      <td>28.663013</td>\n",
       "      <td>0.0</td>\n",
       "      <td>NaN</td>\n",
       "    </tr>\n",
       "  </tbody>\n",
       "</table>\n",
       "<p>2444346 rows × 14 columns</p>\n",
       "</div>"
      ],
      "text/plain": [
       "         playerId  seasonPart  birthCountry  teamId  primaryPositionName  \\\n",
       "0               1           3            10       0                    7   \n",
       "1               1           3            10       0                    7   \n",
       "2               1           3            10       0                    7   \n",
       "3               1           3            10       0                    7   \n",
       "4               1           3            10       0                    7   \n",
       "...           ...         ...           ...     ...                  ...   \n",
       "2444341      2061           5            13      22                    7   \n",
       "2444342      2061           5            13      22                    7   \n",
       "2444343      2061           5            13      22                    7   \n",
       "2444344      2061           5            13      22                    7   \n",
       "2444345      2061           5            13      22                    7   \n",
       "\n",
       "         status      weight  height  playerBMI  playerAge  playerTSinceDebut  \\\n",
       "0             0  129.273727  1.8034  39.748993  44.638355          20.758904   \n",
       "1             0  129.273727  1.8034  39.748993  44.641094          20.761644   \n",
       "2             0  129.273727  1.8034  39.748993  44.643837          20.764383   \n",
       "3             0  129.273727  1.8034  39.748993  44.646576          20.767124   \n",
       "4             0  129.273727  1.8034  39.748993  44.649315          20.769863   \n",
       "...         ...         ...     ...        ...        ...                ...   \n",
       "2444341       3   95.254318  1.8796  26.962107  28.643835          -0.019178   \n",
       "2444342       3   95.254318  1.8796  26.962107  28.646576          -0.016438   \n",
       "2444343       3   95.254318  1.8796  26.962107  28.649315          -0.013699   \n",
       "2444344       3   95.254318  1.8796  26.962107  28.652056          -0.010959   \n",
       "2444345       3   95.254318  1.8796  26.962107  28.654795          -0.008219   \n",
       "\n",
       "         playerDebutAge  TimeSinceLastRoster  numberOfFollowers  \n",
       "0             23.879452                  NaN                NaN  \n",
       "1             23.879452                  NaN                NaN  \n",
       "2             23.879452                  NaN                NaN  \n",
       "3             23.879452                  NaN                NaN  \n",
       "4             23.879452                  NaN                NaN  \n",
       "...                 ...                  ...                ...  \n",
       "2444341       28.663013                  0.0                NaN  \n",
       "2444342       28.663013                  0.0                NaN  \n",
       "2444343       28.663013                  0.0                NaN  \n",
       "2444344       28.663013                  0.0                NaN  \n",
       "2444345       28.663013                  0.0                NaN  \n",
       "\n",
       "[2444346 rows x 14 columns]"
      ]
     },
     "execution_count": 142,
     "metadata": {},
     "output_type": "execute_result"
    }
   ],
   "source": [
    "train_features"
   ]
  },
  {
   "cell_type": "code",
   "execution_count": 143,
   "id": "c20a48d5",
   "metadata": {},
   "outputs": [
    {
     "data": {
      "text/html": [
       "<div>\n",
       "<style scoped>\n",
       "    .dataframe tbody tr th:only-of-type {\n",
       "        vertical-align: middle;\n",
       "    }\n",
       "\n",
       "    .dataframe tbody tr th {\n",
       "        vertical-align: top;\n",
       "    }\n",
       "\n",
       "    .dataframe thead th {\n",
       "        text-align: right;\n",
       "    }\n",
       "</style>\n",
       "<table border=\"1\" class=\"dataframe\">\n",
       "  <thead>\n",
       "    <tr style=\"text-align: right;\">\n",
       "      <th></th>\n",
       "      <th>playerId</th>\n",
       "      <th>seasonPart</th>\n",
       "      <th>birthCountry</th>\n",
       "      <th>teamId</th>\n",
       "      <th>primaryPositionName</th>\n",
       "      <th>status</th>\n",
       "      <th>weight</th>\n",
       "      <th>height</th>\n",
       "      <th>playerBMI</th>\n",
       "      <th>playerAge</th>\n",
       "      <th>playerTSinceDebut</th>\n",
       "      <th>playerDebutAge</th>\n",
       "      <th>TimeSinceLastRoster</th>\n",
       "      <th>numberOfFollowers</th>\n",
       "    </tr>\n",
       "  </thead>\n",
       "  <tbody>\n",
       "    <tr>\n",
       "      <th>0</th>\n",
       "      <td>1</td>\n",
       "      <td>6</td>\n",
       "      <td>10</td>\n",
       "      <td>0</td>\n",
       "      <td>7</td>\n",
       "      <td>0</td>\n",
       "      <td>129.273727</td>\n",
       "      <td>1.8034</td>\n",
       "      <td>39.748993</td>\n",
       "      <td>47.887672</td>\n",
       "      <td>24.008219</td>\n",
       "      <td>23.879452</td>\n",
       "      <td>NaN</td>\n",
       "      <td>NaN</td>\n",
       "    </tr>\n",
       "    <tr>\n",
       "      <th>1</th>\n",
       "      <td>1</td>\n",
       "      <td>6</td>\n",
       "      <td>10</td>\n",
       "      <td>0</td>\n",
       "      <td>7</td>\n",
       "      <td>0</td>\n",
       "      <td>129.273727</td>\n",
       "      <td>1.8034</td>\n",
       "      <td>39.748993</td>\n",
       "      <td>47.890411</td>\n",
       "      <td>24.010960</td>\n",
       "      <td>23.879452</td>\n",
       "      <td>NaN</td>\n",
       "      <td>NaN</td>\n",
       "    </tr>\n",
       "    <tr>\n",
       "      <th>2</th>\n",
       "      <td>1</td>\n",
       "      <td>6</td>\n",
       "      <td>10</td>\n",
       "      <td>0</td>\n",
       "      <td>7</td>\n",
       "      <td>0</td>\n",
       "      <td>129.273727</td>\n",
       "      <td>1.8034</td>\n",
       "      <td>39.748993</td>\n",
       "      <td>47.893150</td>\n",
       "      <td>24.013699</td>\n",
       "      <td>23.879452</td>\n",
       "      <td>NaN</td>\n",
       "      <td>NaN</td>\n",
       "    </tr>\n",
       "    <tr>\n",
       "      <th>3</th>\n",
       "      <td>1</td>\n",
       "      <td>6</td>\n",
       "      <td>10</td>\n",
       "      <td>0</td>\n",
       "      <td>7</td>\n",
       "      <td>0</td>\n",
       "      <td>129.273727</td>\n",
       "      <td>1.8034</td>\n",
       "      <td>39.748993</td>\n",
       "      <td>47.895889</td>\n",
       "      <td>24.016438</td>\n",
       "      <td>23.879452</td>\n",
       "      <td>NaN</td>\n",
       "      <td>NaN</td>\n",
       "    </tr>\n",
       "    <tr>\n",
       "      <th>4</th>\n",
       "      <td>1</td>\n",
       "      <td>6</td>\n",
       "      <td>10</td>\n",
       "      <td>0</td>\n",
       "      <td>7</td>\n",
       "      <td>0</td>\n",
       "      <td>129.273727</td>\n",
       "      <td>1.8034</td>\n",
       "      <td>39.748993</td>\n",
       "      <td>47.898628</td>\n",
       "      <td>24.019178</td>\n",
       "      <td>23.879452</td>\n",
       "      <td>NaN</td>\n",
       "      <td>NaN</td>\n",
       "    </tr>\n",
       "  </tbody>\n",
       "</table>\n",
       "</div>"
      ],
      "text/plain": [
       "   playerId  seasonPart  birthCountry  teamId  primaryPositionName  status  \\\n",
       "0         1           6            10       0                    7       0   \n",
       "1         1           6            10       0                    7       0   \n",
       "2         1           6            10       0                    7       0   \n",
       "3         1           6            10       0                    7       0   \n",
       "4         1           6            10       0                    7       0   \n",
       "\n",
       "       weight  height  playerBMI  playerAge  playerTSinceDebut  \\\n",
       "0  129.273727  1.8034  39.748993  47.887672          24.008219   \n",
       "1  129.273727  1.8034  39.748993  47.890411          24.010960   \n",
       "2  129.273727  1.8034  39.748993  47.893150          24.013699   \n",
       "3  129.273727  1.8034  39.748993  47.895889          24.016438   \n",
       "4  129.273727  1.8034  39.748993  47.898628          24.019178   \n",
       "\n",
       "   playerDebutAge  TimeSinceLastRoster  numberOfFollowers  \n",
       "0       23.879452                  NaN                NaN  \n",
       "1       23.879452                  NaN                NaN  \n",
       "2       23.879452                  NaN                NaN  \n",
       "3       23.879452                  NaN                NaN  \n",
       "4       23.879452                  NaN                NaN  "
      ]
     },
     "execution_count": 143,
     "metadata": {},
     "output_type": "execute_result"
    }
   ],
   "source": [
    "valid_features.head()"
   ]
  },
  {
   "cell_type": "code",
   "execution_count": 144,
   "id": "dad11274",
   "metadata": {},
   "outputs": [],
   "source": [
    "from dataclasses import dataclass\n",
    "\n",
    "@dataclass\n",
    "class MLBDataset:\n",
    "    features: pd.DataFrame\n",
    "    target: pd.DataFrame\n",
    "    prediction: np.ndarray = None\n",
    "    \n",
    "    def get_target(self, index: int):\n",
    "        return self.target.values[:, index]\n",
    "    \n",
    "    def set_prediction(self, pred: np.ndarray):\n",
    "        self.prediction = prediction\n",
    "#     @classmethod\n",
    "#     def from_df(self, features: pd.DataFrame, target: pd.DataFrame)"
   ]
  },
  {
   "cell_type": "code",
   "execution_count": 145,
   "id": "6a2ab1fd",
   "metadata": {},
   "outputs": [],
   "source": [
    "train_data = MLBDataset(train_features, train_target)\n",
    "valid_data = MLBDataset(valid_features, valid_target)"
   ]
  },
  {
   "cell_type": "code",
   "execution_count": 146,
   "id": "b722a439",
   "metadata": {},
   "outputs": [
    {
     "data": {
      "text/plain": [
       "MLBDataset(features=         playerId  seasonPart  birthCountry  teamId  primaryPositionName  \\\n",
       "0               1           3            10       0                    7   \n",
       "1               1           3            10       0                    7   \n",
       "2               1           3            10       0                    7   \n",
       "3               1           3            10       0                    7   \n",
       "4               1           3            10       0                    7   \n",
       "...           ...         ...           ...     ...                  ...   \n",
       "2444341      2061           5            13      22                    7   \n",
       "2444342      2061           5            13      22                    7   \n",
       "2444343      2061           5            13      22                    7   \n",
       "2444344      2061           5            13      22                    7   \n",
       "2444345      2061           5            13      22                    7   \n",
       "\n",
       "         status      weight  height  playerBMI  playerAge  playerTSinceDebut  \\\n",
       "0             0  129.273727  1.8034  39.748993  44.638355          20.758904   \n",
       "1             0  129.273727  1.8034  39.748993  44.641094          20.761644   \n",
       "2             0  129.273727  1.8034  39.748993  44.643837          20.764383   \n",
       "3             0  129.273727  1.8034  39.748993  44.646576          20.767124   \n",
       "4             0  129.273727  1.8034  39.748993  44.649315          20.769863   \n",
       "...         ...         ...     ...        ...        ...                ...   \n",
       "2444341       3   95.254318  1.8796  26.962107  28.643835          -0.019178   \n",
       "2444342       3   95.254318  1.8796  26.962107  28.646576          -0.016438   \n",
       "2444343       3   95.254318  1.8796  26.962107  28.649315          -0.013699   \n",
       "2444344       3   95.254318  1.8796  26.962107  28.652056          -0.010959   \n",
       "2444345       3   95.254318  1.8796  26.962107  28.654795          -0.008219   \n",
       "\n",
       "         playerDebutAge  TimeSinceLastRoster  numberOfFollowers  \n",
       "0             23.879452                  NaN                NaN  \n",
       "1             23.879452                  NaN                NaN  \n",
       "2             23.879452                  NaN                NaN  \n",
       "3             23.879452                  NaN                NaN  \n",
       "4             23.879452                  NaN                NaN  \n",
       "...                 ...                  ...                ...  \n",
       "2444341       28.663013                  0.0                NaN  \n",
       "2444342       28.663013                  0.0                NaN  \n",
       "2444343       28.663013                  0.0                NaN  \n",
       "2444344       28.663013                  0.0                NaN  \n",
       "2444345       28.663013                  0.0                NaN  \n",
       "\n",
       "[2444346 rows x 14 columns], target=          target1    target2   target3    target4\n",
       "0        0.055277   5.496109  0.025839  16.176471\n",
       "1        0.060625   3.252914  0.030486   8.541353\n",
       "2        0.029341   1.648352  0.032613  10.490112\n",
       "3        0.014799   2.665894  0.087422  19.091467\n",
       "4        0.083916   1.161002  0.024759   6.643880\n",
       "...           ...        ...       ...        ...\n",
       "2444341  2.847250  48.264984  0.547288   6.944986\n",
       "2444342  5.333101   6.400267  3.501559   2.694346\n",
       "2444343  1.282354   8.539095  2.089865   1.529100\n",
       "2444344  0.161984  14.469882  3.089282   0.741931\n",
       "2444345  0.017753   6.011942  0.285499   0.693112\n",
       "\n",
       "[2444346 rows x 4 columns], prediction=None)"
      ]
     },
     "execution_count": 146,
     "metadata": {},
     "output_type": "execute_result"
    }
   ],
   "source": [
    "train_data"
   ]
  },
  {
   "cell_type": "code",
   "execution_count": 147,
   "id": "d6922b27",
   "metadata": {},
   "outputs": [
    {
     "data": {
      "text/plain": [
       "MLBDataset(features=       playerId  seasonPart  birthCountry  teamId  primaryPositionName  \\\n",
       "0             1           6            10       0                    7   \n",
       "1             1           6            10       0                    7   \n",
       "2             1           6            10       0                    7   \n",
       "3             1           6            10       0                    7   \n",
       "4             1           6            10       0                    7   \n",
       "...         ...         ...           ...     ...                  ...   \n",
       "61825      2061           6            13      22                    7   \n",
       "61826      2061           6            13      22                    7   \n",
       "61827      2061           6            13      22                    7   \n",
       "61828      2061           6            13      22                    7   \n",
       "61829      2061           6            13      22                    7   \n",
       "\n",
       "       status      weight  height  playerBMI  playerAge  playerTSinceDebut  \\\n",
       "0           0  129.273727  1.8034  39.748993  47.887672          24.008219   \n",
       "1           0  129.273727  1.8034  39.748993  47.890411          24.010960   \n",
       "2           0  129.273727  1.8034  39.748993  47.893150          24.013699   \n",
       "3           0  129.273727  1.8034  39.748993  47.895889          24.016438   \n",
       "4           0  129.273727  1.8034  39.748993  47.898628          24.019178   \n",
       "...       ...         ...     ...        ...        ...                ...   \n",
       "61825       3   95.254318  1.8796  26.962107  28.726027           0.063014   \n",
       "61826       3   95.254318  1.8796  26.962107  28.728767           0.065753   \n",
       "61827       3   95.254318  1.8796  26.962107  28.731506           0.068493   \n",
       "61828       3   95.254318  1.8796  26.962107  28.734247           0.071233   \n",
       "61829       3   95.254318  1.8796  26.962107  28.736986           0.073973   \n",
       "\n",
       "       playerDebutAge  TimeSinceLastRoster  numberOfFollowers  \n",
       "0           23.879452                  NaN                NaN  \n",
       "1           23.879452                  NaN                NaN  \n",
       "2           23.879452                  NaN                NaN  \n",
       "3           23.879452                  NaN                NaN  \n",
       "4           23.879452                  NaN                NaN  \n",
       "...               ...                  ...                ...  \n",
       "61825       28.663013                  0.0                NaN  \n",
       "61826       28.663013                  0.0                NaN  \n",
       "61827       28.663013                  0.0                NaN  \n",
       "61828       28.663013                  0.0                NaN  \n",
       "61829       28.663013                  0.0                NaN  \n",
       "\n",
       "[61830 rows x 14 columns], target=        target1    target2   target3    target4\n",
       "0      0.001500   0.598671  0.067248  17.900083\n",
       "1      0.002425   0.215853  0.032018  12.451437\n",
       "2      0.002840   0.190819  0.014274   3.089358\n",
       "3      0.002979   0.293459  0.009101   4.772106\n",
       "4      0.002566   0.443860  0.029184   8.206560\n",
       "...         ...        ...       ...        ...\n",
       "61825  0.044617   1.224728  0.009437   0.737463\n",
       "61826  0.019123   1.178880  0.013161   0.790301\n",
       "61827  0.015799   4.323489  0.002350   0.970273\n",
       "61828  0.018770  31.946021  0.305491   5.938273\n",
       "61829  0.014727   6.607196  1.851336   2.014339\n",
       "\n",
       "[61830 rows x 4 columns], prediction=None)"
      ]
     },
     "execution_count": 147,
     "metadata": {},
     "output_type": "execute_result"
    }
   ],
   "source": [
    "valid_data"
   ]
  },
  {
   "cell_type": "code",
   "execution_count": 148,
   "id": "ac07540e",
   "metadata": {},
   "outputs": [],
   "source": [
    "# modeling"
   ]
  },
  {
   "cell_type": "code",
   "execution_count": 149,
   "id": "92ac81ab",
   "metadata": {},
   "outputs": [],
   "source": [
    "from sklearn.ensemble import RandomForestRegressor\n",
    "from lightgbm import LGBMRegressor"
   ]
  },
  {
   "cell_type": "code",
   "execution_count": 150,
   "id": "28a1288f",
   "metadata": {},
   "outputs": [],
   "source": [
    "def fit_model(model,\n",
    "              train_data,\n",
    "              valid_data,\n",
    "              parameters={},\n",
    "              verbose=100):\n",
    "    models = {}\n",
    "    valid_features = valid_data.features.values\n",
    "    \n",
    "    for name, target in train_data.target.items():\n",
    "        _model = model(**parameters)\n",
    "        _model.fit(train_data.features.values, target,\n",
    "                   eval_set=[(valid_features, valid_data.target[name])],  \n",
    "                    early_stopping_rounds=verbose, \n",
    "                    verbose=verbose)\n",
    "        models[name] = _model\n",
    "    return models\n",
    "\n",
    "def predict(models, data):\n",
    "    prediction = {name.replace('target', 'yhat'): _model.predict(data.features.values)\n",
    "                  for name, _model in models.items()}\n",
    "    return pd.DataFrame(prediction)"
   ]
  },
  {
   "cell_type": "code",
   "execution_count": 151,
   "id": "a835dbb6",
   "metadata": {},
   "outputs": [],
   "source": [
    "model = LGBMRegressor"
   ]
  },
  {
   "cell_type": "code",
   "execution_count": 152,
   "id": "3ee891a4",
   "metadata": {},
   "outputs": [],
   "source": [
    "parameters = {\n",
    " 'objective':'mae',\n",
    " 'reg_alpha': 0.1,\n",
    " 'reg_lambda': 0.1, \n",
    " 'n_estimators': 100000,\n",
    " 'learning_rate': 0.1,\n",
    " 'random_state': 42,\n",
    "}"
   ]
  },
  {
   "cell_type": "code",
   "execution_count": 153,
   "id": "fc1d165b",
   "metadata": {},
   "outputs": [
    {
     "name": "stdout",
     "output_type": "stream",
     "text": [
      "Training until validation scores don't improve for 100 rounds\n",
      "[100]\tvalid_0's l1: 0.800002\n",
      "Early stopping, best iteration is:\n",
      "[75]\tvalid_0's l1: 0.800001\n",
      "Training until validation scores don't improve for 100 rounds\n",
      "[100]\tvalid_0's l1: 1.53397\n",
      "[200]\tvalid_0's l1: 1.51636\n",
      "[300]\tvalid_0's l1: 1.50585\n",
      "Early stopping, best iteration is:\n",
      "[290]\tvalid_0's l1: 1.50462\n",
      "Training until validation scores don't improve for 100 rounds\n",
      "[100]\tvalid_0's l1: 0.563805\n",
      "[200]\tvalid_0's l1: 0.563795\n",
      "[300]\tvalid_0's l1: 0.563795\n",
      "[400]\tvalid_0's l1: 0.563795\n",
      "Early stopping, best iteration is:\n",
      "[371]\tvalid_0's l1: 0.563795\n",
      "Training until validation scores don't improve for 100 rounds\n",
      "[100]\tvalid_0's l1: 1.25274\n",
      "[200]\tvalid_0's l1: 1.24116\n",
      "[300]\tvalid_0's l1: 1.21605\n",
      "[400]\tvalid_0's l1: 1.19594\n",
      "[500]\tvalid_0's l1: 1.18172\n",
      "[600]\tvalid_0's l1: 1.17634\n",
      "[700]\tvalid_0's l1: 1.17218\n",
      "[800]\tvalid_0's l1: 1.16945\n",
      "[900]\tvalid_0's l1: 1.1666\n",
      "[1000]\tvalid_0's l1: 1.16254\n",
      "[1100]\tvalid_0's l1: 1.15985\n",
      "[1200]\tvalid_0's l1: 1.15881\n",
      "[1300]\tvalid_0's l1: 1.16\n",
      "Early stopping, best iteration is:\n",
      "[1229]\tvalid_0's l1: 1.15865\n"
     ]
    }
   ],
   "source": [
    "models = fit_model(model, train_data,\n",
    "                   valid_data,\n",
    "                   parameters=parameters)"
   ]
  },
  {
   "cell_type": "code",
   "execution_count": 154,
   "id": "e64ceb5e",
   "metadata": {},
   "outputs": [
    {
     "data": {
      "text/plain": [
       "{'target1': LGBMRegressor(n_estimators=100000, objective='mae', random_state=42,\n",
       "               reg_alpha=0.1, reg_lambda=0.1),\n",
       " 'target2': LGBMRegressor(n_estimators=100000, objective='mae', random_state=42,\n",
       "               reg_alpha=0.1, reg_lambda=0.1),\n",
       " 'target3': LGBMRegressor(n_estimators=100000, objective='mae', random_state=42,\n",
       "               reg_alpha=0.1, reg_lambda=0.1),\n",
       " 'target4': LGBMRegressor(n_estimators=100000, objective='mae', random_state=42,\n",
       "               reg_alpha=0.1, reg_lambda=0.1)}"
      ]
     },
     "execution_count": 154,
     "metadata": {},
     "output_type": "execute_result"
    }
   ],
   "source": [
    "models"
   ]
  },
  {
   "cell_type": "code",
   "execution_count": 155,
   "id": "8c531f5e",
   "metadata": {},
   "outputs": [],
   "source": [
    "train_predicition = predict(models, train_data)"
   ]
  },
  {
   "cell_type": "code",
   "execution_count": 156,
   "id": "033ca0b9",
   "metadata": {},
   "outputs": [],
   "source": [
    "valid_predicition = predict(models, valid_data)"
   ]
  },
  {
   "cell_type": "code",
   "execution_count": 157,
   "id": "b04874fc",
   "metadata": {},
   "outputs": [],
   "source": [
    "for name, value in train_predicition.items():\n",
    "    train_df[name] = value"
   ]
  },
  {
   "cell_type": "code",
   "execution_count": 158,
   "id": "ce8d4d89",
   "metadata": {},
   "outputs": [],
   "source": [
    "for name, value in valid_predicition.items():\n",
    "    valid_df[name] = value"
   ]
  },
  {
   "cell_type": "code",
   "execution_count": 159,
   "id": "8cb311c9",
   "metadata": {},
   "outputs": [],
   "source": [
    "from evaluate.metrics import *"
   ]
  },
  {
   "cell_type": "code",
   "execution_count": 160,
   "id": "9312d4bf",
   "metadata": {},
   "outputs": [],
   "source": [
    "def feature_importance(features, model):\n",
    "    fi = pd.DataFrame({'feature': features, 'importance': model.feature_importances_})\n",
    "    fi.sort_values(by='importance', ascending=False, inplace=True)\n",
    "    return fi"
   ]
  },
  {
   "cell_type": "code",
   "execution_count": 161,
   "id": "3fa978ff",
   "metadata": {},
   "outputs": [
    {
     "data": {
      "text/plain": [
       "{'mae_mean': 0.9202258825086203,\n",
       " 'mae_1': 0.5524807266346736,\n",
       " 'mae_2': 1.6491507114958812,\n",
       " 'mae_3': 0.6841304679022371,\n",
       " 'mae_4': 0.7951416240016892}"
      ]
     },
     "execution_count": 161,
     "metadata": {},
     "output_type": "execute_result"
    }
   ],
   "source": [
    "compute_metrics(train_df)"
   ]
  },
  {
   "cell_type": "code",
   "execution_count": 162,
   "id": "e6535b42",
   "metadata": {},
   "outputs": [],
   "source": [
    "# compute_metrics(train_predicition.values, train_data.target.values)"
   ]
  },
  {
   "cell_type": "code",
   "execution_count": 172,
   "id": "78086fb2",
   "metadata": {},
   "outputs": [],
   "source": [
    "test_df = valid_df.query('player_in_test')"
   ]
  },
  {
   "cell_type": "code",
   "execution_count": 165,
   "id": "6ce0d9a5",
   "metadata": {},
   "outputs": [
    {
     "data": {
      "text/plain": [
       "{'mae_mean': 1.0067657468134854,\n",
       " 'mae_1': 0.8000014817881353,\n",
       " 'mae_2': 1.5046192357535177,\n",
       " 'mae_3': 0.5637950977305018,\n",
       " 'mae_4': 1.1586471719817866}"
      ]
     },
     "execution_count": 165,
     "metadata": {},
     "output_type": "execute_result"
    }
   ],
   "source": [
    "compute_metrics(valid_df)"
   ]
  },
  {
   "cell_type": "code",
   "execution_count": 173,
   "id": "de61a647",
   "metadata": {},
   "outputs": [
    {
     "data": {
      "text/plain": [
       "{'mae_mean': 1.6355978637428288,\n",
       " 'mae_1': 1.3855251205395642,\n",
       " 'mae_2': 2.5197092539069073,\n",
       " 'mae_3': 0.9666930404557607,\n",
       " 'mae_4': 1.6704640400690831}"
      ]
     },
     "execution_count": 173,
     "metadata": {},
     "output_type": "execute_result"
    }
   ],
   "source": [
    "compute_metrics(test_df)"
   ]
  },
  {
   "cell_type": "markdown",
   "id": "f7765f05",
   "metadata": {},
   "source": [
    "propagating into future\n",
    "{'mae_mean': 1.6467313247853896,\n",
    " 'mae_1': 1.3889683816462335,\n",
    " 'mae_2': 2.5448109017957328,\n",
    " 'mae_3': 0.9688891498581844,\n",
    " 'mae_4': 1.6842568658414077}"
   ]
  },
  {
   "cell_type": "markdown",
   "id": "9df44fe6",
   "metadata": {},
   "source": [
    "no propagating into future\n",
    "{'mae_mean': 1.6388842818762241,\n",
    " 'mae_1': 1.3858185915774184,\n",
    " 'mae_2': 2.5107284715785054,\n",
    " 'mae_3': 0.9686408407171874,\n",
    " 'mae_4': 1.6903492236317854}"
   ]
  },
  {
   "cell_type": "markdown",
   "id": "7be5652e",
   "metadata": {},
   "source": [
    "<!-- {'mae_mean': 1.0414010883800022,\n",
    " 'mae_1': 0.8002031829996328,\n",
    " 'mae_2': 1.6163019456575234,\n",
    " 'mae_3': 0.5693593076720336,\n",
    " 'mae_4': 1.1797399171908194}\n",
    " -->"
   ]
  },
  {
   "cell_type": "markdown",
   "id": "a3ffba6f",
   "metadata": {},
   "source": [
    "{'mae_mean': 1.70179431765903,\n",
    " 'mae_1': 1.3970160617017393,\n",
    " 'mae_2': 2.7710200305804054,\n",
    " 'mae_3': 0.9663210481188041,\n",
    " 'mae_4': 1.6728201302351717}"
   ]
  },
  {
   "cell_type": "code",
   "execution_count": 167,
   "id": "bf162fc9",
   "metadata": {},
   "outputs": [],
   "source": [
    "fi = [feature_importance(valid_data.features.columns, _model).assign(target=name)\n",
    "      for name, _model in models.items()]\n",
    "fi = pd.concat(fi)\n",
    "fi = fi.pivot('feature', 'target', 'importance')"
   ]
  },
  {
   "cell_type": "code",
   "execution_count": 168,
   "id": "72f2f0e0",
   "metadata": {},
   "outputs": [],
   "source": [
    "fi = fi * 100 / fi.sum()"
   ]
  },
  {
   "cell_type": "code",
   "execution_count": 169,
   "id": "b6700f6c",
   "metadata": {},
   "outputs": [],
   "source": [
    "fi['mean'] = fi.mean(axis=1)\n",
    "fi.sort_values(by='mean', ascending=False, inplace=True)"
   ]
  },
  {
   "cell_type": "code",
   "execution_count": 170,
   "id": "ac287a54",
   "metadata": {},
   "outputs": [
    {
     "data": {
      "text/html": [
       "<div>\n",
       "<style scoped>\n",
       "    .dataframe tbody tr th:only-of-type {\n",
       "        vertical-align: middle;\n",
       "    }\n",
       "\n",
       "    .dataframe tbody tr th {\n",
       "        vertical-align: top;\n",
       "    }\n",
       "\n",
       "    .dataframe thead th {\n",
       "        text-align: right;\n",
       "    }\n",
       "</style>\n",
       "<table border=\"1\" class=\"dataframe\">\n",
       "  <thead>\n",
       "    <tr style=\"text-align: right;\">\n",
       "      <th>target</th>\n",
       "      <th>target1</th>\n",
       "      <th>target2</th>\n",
       "      <th>target3</th>\n",
       "      <th>target4</th>\n",
       "      <th>mean</th>\n",
       "    </tr>\n",
       "    <tr>\n",
       "      <th>feature</th>\n",
       "      <th></th>\n",
       "      <th></th>\n",
       "      <th></th>\n",
       "      <th></th>\n",
       "      <th></th>\n",
       "    </tr>\n",
       "  </thead>\n",
       "  <tbody>\n",
       "    <tr>\n",
       "      <th>playerTSinceDebut</th>\n",
       "      <td>15.244444</td>\n",
       "      <td>13.402299</td>\n",
       "      <td>15.615454</td>\n",
       "      <td>14.396528</td>\n",
       "      <td>14.664681</td>\n",
       "    </tr>\n",
       "    <tr>\n",
       "      <th>playerDebutAge</th>\n",
       "      <td>14.666667</td>\n",
       "      <td>10.643678</td>\n",
       "      <td>15.148248</td>\n",
       "      <td>11.950095</td>\n",
       "      <td>13.102172</td>\n",
       "    </tr>\n",
       "    <tr>\n",
       "      <th>numberOfFollowers</th>\n",
       "      <td>12.800000</td>\n",
       "      <td>8.758621</td>\n",
       "      <td>19.775382</td>\n",
       "      <td>5.587198</td>\n",
       "      <td>11.730300</td>\n",
       "    </tr>\n",
       "    <tr>\n",
       "      <th>playerId</th>\n",
       "      <td>2.311111</td>\n",
       "      <td>9.804598</td>\n",
       "      <td>15.247080</td>\n",
       "      <td>13.135340</td>\n",
       "      <td>10.124532</td>\n",
       "    </tr>\n",
       "    <tr>\n",
       "      <th>primaryPositionName</th>\n",
       "      <td>21.600000</td>\n",
       "      <td>7.390805</td>\n",
       "      <td>6.352201</td>\n",
       "      <td>4.670464</td>\n",
       "      <td>10.003367</td>\n",
       "    </tr>\n",
       "    <tr>\n",
       "      <th>playerAge</th>\n",
       "      <td>3.866667</td>\n",
       "      <td>8.114943</td>\n",
       "      <td>6.190476</td>\n",
       "      <td>13.588283</td>\n",
       "      <td>7.940092</td>\n",
       "    </tr>\n",
       "    <tr>\n",
       "      <th>seasonPart</th>\n",
       "      <td>6.977778</td>\n",
       "      <td>10.770115</td>\n",
       "      <td>0.521114</td>\n",
       "      <td>6.403580</td>\n",
       "      <td>6.168147</td>\n",
       "    </tr>\n",
       "    <tr>\n",
       "      <th>playerBMI</th>\n",
       "      <td>3.822222</td>\n",
       "      <td>7.068966</td>\n",
       "      <td>4.438455</td>\n",
       "      <td>9.292107</td>\n",
       "      <td>6.155437</td>\n",
       "    </tr>\n",
       "    <tr>\n",
       "      <th>weight</th>\n",
       "      <td>6.444444</td>\n",
       "      <td>6.436782</td>\n",
       "      <td>3.459119</td>\n",
       "      <td>7.914293</td>\n",
       "      <td>6.063660</td>\n",
       "    </tr>\n",
       "    <tr>\n",
       "      <th>height</th>\n",
       "      <td>4.044444</td>\n",
       "      <td>4.137931</td>\n",
       "      <td>3.126685</td>\n",
       "      <td>4.716572</td>\n",
       "      <td>4.006408</td>\n",
       "    </tr>\n",
       "    <tr>\n",
       "      <th>teamId</th>\n",
       "      <td>3.066667</td>\n",
       "      <td>6.712644</td>\n",
       "      <td>3.522013</td>\n",
       "      <td>2.636290</td>\n",
       "      <td>3.984403</td>\n",
       "    </tr>\n",
       "    <tr>\n",
       "      <th>birthCountry</th>\n",
       "      <td>0.355556</td>\n",
       "      <td>3.264368</td>\n",
       "      <td>3.171608</td>\n",
       "      <td>4.445349</td>\n",
       "      <td>2.809220</td>\n",
       "    </tr>\n",
       "    <tr>\n",
       "      <th>TimeSinceLastRoster</th>\n",
       "      <td>3.644444</td>\n",
       "      <td>1.252874</td>\n",
       "      <td>3.216532</td>\n",
       "      <td>0.772986</td>\n",
       "      <td>2.221709</td>\n",
       "    </tr>\n",
       "    <tr>\n",
       "      <th>status</th>\n",
       "      <td>1.155556</td>\n",
       "      <td>2.241379</td>\n",
       "      <td>0.215633</td>\n",
       "      <td>0.490914</td>\n",
       "      <td>1.025871</td>\n",
       "    </tr>\n",
       "  </tbody>\n",
       "</table>\n",
       "</div>"
      ],
      "text/plain": [
       "target                 target1    target2    target3    target4       mean\n",
       "feature                                                                   \n",
       "playerTSinceDebut    15.244444  13.402299  15.615454  14.396528  14.664681\n",
       "playerDebutAge       14.666667  10.643678  15.148248  11.950095  13.102172\n",
       "numberOfFollowers    12.800000   8.758621  19.775382   5.587198  11.730300\n",
       "playerId              2.311111   9.804598  15.247080  13.135340  10.124532\n",
       "primaryPositionName  21.600000   7.390805   6.352201   4.670464  10.003367\n",
       "playerAge             3.866667   8.114943   6.190476  13.588283   7.940092\n",
       "seasonPart            6.977778  10.770115   0.521114   6.403580   6.168147\n",
       "playerBMI             3.822222   7.068966   4.438455   9.292107   6.155437\n",
       "weight                6.444444   6.436782   3.459119   7.914293   6.063660\n",
       "height                4.044444   4.137931   3.126685   4.716572   4.006408\n",
       "teamId                3.066667   6.712644   3.522013   2.636290   3.984403\n",
       "birthCountry          0.355556   3.264368   3.171608   4.445349   2.809220\n",
       "TimeSinceLastRoster   3.644444   1.252874   3.216532   0.772986   2.221709\n",
       "status                1.155556   2.241379   0.215633   0.490914   1.025871"
      ]
     },
     "execution_count": 170,
     "metadata": {},
     "output_type": "execute_result"
    }
   ],
   "source": [
    "fi.head(50)"
   ]
  },
  {
   "cell_type": "code",
   "execution_count": 200,
   "id": "c5fed0fe",
   "metadata": {},
   "outputs": [],
   "source": [
    "scores_pp = test_df.groupby('playerId').apply(lambda x: pd.Series(compute_metrics(x)))"
   ]
  },
  {
   "cell_type": "code",
   "execution_count": 203,
   "id": "056d1480",
   "metadata": {},
   "outputs": [],
   "source": [
    "scores_pp = scores_pp.sort_values(by='mae_mean', ascending=False).reset_index()"
   ]
  },
  {
   "cell_type": "code",
   "execution_count": 224,
   "id": "0a0775f1",
   "metadata": {},
   "outputs": [],
   "source": [
    "def plot_pred(df, playerId, index=1):\n",
    "    pdf = df.query(f'playerId == {playerId}')\n",
    "    \n",
    "    f, ax = plt.subplots(1, 1, figsize=(20, 5))\n",
    "    \n",
    "    tname = f'target{index}'\n",
    "    yhat_name = f'yhat{index}'\n",
    "    \n",
    "    sns.lineplot(x='date', y=tname, data=pdf, ax=ax, label=tname)\n",
    "    sns.lineplot(x='date', y=yhat_name, data=pdf, ax=ax, label=yhat_name)\n",
    "    \n",
    "    ax.legend()\n",
    "    "
   ]
  },
  {
   "cell_type": "code",
   "execution_count": 225,
   "id": "0ff1bb9b",
   "metadata": {},
   "outputs": [
    {
     "data": {
      "text/html": [
       "<div>\n",
       "<style scoped>\n",
       "    .dataframe tbody tr th:only-of-type {\n",
       "        vertical-align: middle;\n",
       "    }\n",
       "\n",
       "    .dataframe tbody tr th {\n",
       "        vertical-align: top;\n",
       "    }\n",
       "\n",
       "    .dataframe thead th {\n",
       "        text-align: right;\n",
       "    }\n",
       "</style>\n",
       "<table border=\"1\" class=\"dataframe\">\n",
       "  <thead>\n",
       "    <tr style=\"text-align: right;\">\n",
       "      <th></th>\n",
       "      <th>playerId</th>\n",
       "      <th>mae_mean</th>\n",
       "      <th>mae_1</th>\n",
       "      <th>mae_2</th>\n",
       "      <th>mae_3</th>\n",
       "      <th>mae_4</th>\n",
       "    </tr>\n",
       "  </thead>\n",
       "  <tbody>\n",
       "    <tr>\n",
       "      <th>0</th>\n",
       "      <td>660271</td>\n",
       "      <td>34.763741</td>\n",
       "      <td>25.469788</td>\n",
       "      <td>43.852516</td>\n",
       "      <td>33.224451</td>\n",
       "      <td>36.508210</td>\n",
       "    </tr>\n",
       "    <tr>\n",
       "      <th>1</th>\n",
       "      <td>665487</td>\n",
       "      <td>23.450263</td>\n",
       "      <td>24.076648</td>\n",
       "      <td>13.396451</td>\n",
       "      <td>24.674266</td>\n",
       "      <td>31.653685</td>\n",
       "    </tr>\n",
       "    <tr>\n",
       "      <th>2</th>\n",
       "      <td>594798</td>\n",
       "      <td>21.319882</td>\n",
       "      <td>13.779135</td>\n",
       "      <td>34.385407</td>\n",
       "      <td>12.050137</td>\n",
       "      <td>25.064851</td>\n",
       "    </tr>\n",
       "    <tr>\n",
       "      <th>3</th>\n",
       "      <td>660670</td>\n",
       "      <td>21.028008</td>\n",
       "      <td>29.182822</td>\n",
       "      <td>20.840512</td>\n",
       "      <td>21.490734</td>\n",
       "      <td>12.597964</td>\n",
       "    </tr>\n",
       "    <tr>\n",
       "      <th>4</th>\n",
       "      <td>606213</td>\n",
       "      <td>19.611009</td>\n",
       "      <td>9.616790</td>\n",
       "      <td>38.976482</td>\n",
       "      <td>16.217177</td>\n",
       "      <td>13.633585</td>\n",
       "    </tr>\n",
       "  </tbody>\n",
       "</table>\n",
       "</div>"
      ],
      "text/plain": [
       "   playerId   mae_mean      mae_1      mae_2      mae_3      mae_4\n",
       "0    660271  34.763741  25.469788  43.852516  33.224451  36.508210\n",
       "1    665487  23.450263  24.076648  13.396451  24.674266  31.653685\n",
       "2    594798  21.319882  13.779135  34.385407  12.050137  25.064851\n",
       "3    660670  21.028008  29.182822  20.840512  21.490734  12.597964\n",
       "4    606213  19.611009   9.616790  38.976482  16.217177  13.633585"
      ]
     },
     "execution_count": 225,
     "metadata": {},
     "output_type": "execute_result"
    }
   ],
   "source": [
    "scores_pp.head()"
   ]
  },
  {
   "cell_type": "code",
   "execution_count": 227,
   "id": "e826d5cc",
   "metadata": {},
   "outputs": [
    {
     "data": {
      "text/html": [
       "<div>\n",
       "<style scoped>\n",
       "    .dataframe tbody tr th:only-of-type {\n",
       "        vertical-align: middle;\n",
       "    }\n",
       "\n",
       "    .dataframe tbody tr th {\n",
       "        vertical-align: top;\n",
       "    }\n",
       "\n",
       "    .dataframe thead th {\n",
       "        text-align: right;\n",
       "    }\n",
       "</style>\n",
       "<table border=\"1\" class=\"dataframe\">\n",
       "  <thead>\n",
       "    <tr style=\"text-align: right;\">\n",
       "      <th></th>\n",
       "      <th>playerId</th>\n",
       "      <th>mae_mean</th>\n",
       "      <th>mae_1</th>\n",
       "      <th>mae_2</th>\n",
       "      <th>mae_3</th>\n",
       "      <th>mae_4</th>\n",
       "    </tr>\n",
       "  </thead>\n",
       "  <tbody>\n",
       "    <tr>\n",
       "      <th>1182</th>\n",
       "      <td>641561</td>\n",
       "      <td>0.004791</td>\n",
       "      <td>2.487866e-05</td>\n",
       "      <td>0.012665</td>\n",
       "      <td>1.762949e-20</td>\n",
       "      <td>0.006474</td>\n",
       "    </tr>\n",
       "    <tr>\n",
       "      <th>1183</th>\n",
       "      <td>608422</td>\n",
       "      <td>0.004169</td>\n",
       "      <td>4.228609e-05</td>\n",
       "      <td>0.012111</td>\n",
       "      <td>8.731858e-05</td>\n",
       "      <td>0.004435</td>\n",
       "    </tr>\n",
       "    <tr>\n",
       "      <th>1184</th>\n",
       "      <td>621248</td>\n",
       "      <td>0.003848</td>\n",
       "      <td>3.978499e-07</td>\n",
       "      <td>0.015316</td>\n",
       "      <td>1.762949e-20</td>\n",
       "      <td>0.000076</td>\n",
       "    </tr>\n",
       "    <tr>\n",
       "      <th>1185</th>\n",
       "      <td>547001</td>\n",
       "      <td>0.003417</td>\n",
       "      <td>3.978499e-07</td>\n",
       "      <td>0.007535</td>\n",
       "      <td>1.762949e-20</td>\n",
       "      <td>0.006132</td>\n",
       "    </tr>\n",
       "    <tr>\n",
       "      <th>1186</th>\n",
       "      <td>667297</td>\n",
       "      <td>0.003010</td>\n",
       "      <td>3.978499e-07</td>\n",
       "      <td>0.009347</td>\n",
       "      <td>1.762949e-20</td>\n",
       "      <td>0.002691</td>\n",
       "    </tr>\n",
       "  </tbody>\n",
       "</table>\n",
       "</div>"
      ],
      "text/plain": [
       "      playerId  mae_mean         mae_1     mae_2         mae_3     mae_4\n",
       "1182    641561  0.004791  2.487866e-05  0.012665  1.762949e-20  0.006474\n",
       "1183    608422  0.004169  4.228609e-05  0.012111  8.731858e-05  0.004435\n",
       "1184    621248  0.003848  3.978499e-07  0.015316  1.762949e-20  0.000076\n",
       "1185    547001  0.003417  3.978499e-07  0.007535  1.762949e-20  0.006132\n",
       "1186    667297  0.003010  3.978499e-07  0.009347  1.762949e-20  0.002691"
      ]
     },
     "execution_count": 227,
     "metadata": {},
     "output_type": "execute_result"
    }
   ],
   "source": [
    "scores_pp.tail()"
   ]
  },
  {
   "cell_type": "code",
   "execution_count": 235,
   "id": "b0522a93",
   "metadata": {},
   "outputs": [
    {
     "data": {
      "text/html": [
       "<div>\n",
       "<style scoped>\n",
       "    .dataframe tbody tr th:only-of-type {\n",
       "        vertical-align: middle;\n",
       "    }\n",
       "\n",
       "    .dataframe tbody tr th {\n",
       "        vertical-align: top;\n",
       "    }\n",
       "\n",
       "    .dataframe thead th {\n",
       "        text-align: right;\n",
       "    }\n",
       "</style>\n",
       "<table border=\"1\" class=\"dataframe\">\n",
       "  <thead>\n",
       "    <tr style=\"text-align: right;\">\n",
       "      <th></th>\n",
       "      <th>yhat1</th>\n",
       "      <th>yhat2</th>\n",
       "      <th>yhat3</th>\n",
       "      <th>yhat4</th>\n",
       "    </tr>\n",
       "    <tr>\n",
       "      <th>playerId</th>\n",
       "      <th></th>\n",
       "      <th></th>\n",
       "      <th></th>\n",
       "      <th></th>\n",
       "    </tr>\n",
       "  </thead>\n",
       "  <tbody>\n",
       "    <tr>\n",
       "      <th>405395</th>\n",
       "      <td>0.000000</td>\n",
       "      <td>0.000000</td>\n",
       "      <td>0.000000</td>\n",
       "      <td>0.000000</td>\n",
       "    </tr>\n",
       "    <tr>\n",
       "      <th>408234</th>\n",
       "      <td>0.092807</td>\n",
       "      <td>3.102377</td>\n",
       "      <td>0.000000</td>\n",
       "      <td>0.272711</td>\n",
       "    </tr>\n",
       "    <tr>\n",
       "      <th>424144</th>\n",
       "      <td>0.002743</td>\n",
       "      <td>0.306147</td>\n",
       "      <td>0.000000</td>\n",
       "      <td>0.069031</td>\n",
       "    </tr>\n",
       "    <tr>\n",
       "      <th>425772</th>\n",
       "      <td>0.000000</td>\n",
       "      <td>0.000000</td>\n",
       "      <td>0.000000</td>\n",
       "      <td>0.000000</td>\n",
       "    </tr>\n",
       "    <tr>\n",
       "      <th>425784</th>\n",
       "      <td>0.000000</td>\n",
       "      <td>0.131797</td>\n",
       "      <td>0.000000</td>\n",
       "      <td>0.006026</td>\n",
       "    </tr>\n",
       "    <tr>\n",
       "      <th>...</th>\n",
       "      <td>...</td>\n",
       "      <td>...</td>\n",
       "      <td>...</td>\n",
       "      <td>...</td>\n",
       "    </tr>\n",
       "    <tr>\n",
       "      <th>680963</th>\n",
       "      <td>0.047638</td>\n",
       "      <td>1.303313</td>\n",
       "      <td>0.005665</td>\n",
       "      <td>0.249873</td>\n",
       "    </tr>\n",
       "    <tr>\n",
       "      <th>681911</th>\n",
       "      <td>0.000806</td>\n",
       "      <td>0.365509</td>\n",
       "      <td>0.001584</td>\n",
       "      <td>0.055839</td>\n",
       "    </tr>\n",
       "    <tr>\n",
       "      <th>683232</th>\n",
       "      <td>0.000000</td>\n",
       "      <td>0.000000</td>\n",
       "      <td>0.000000</td>\n",
       "      <td>0.061743</td>\n",
       "    </tr>\n",
       "    <tr>\n",
       "      <th>683734</th>\n",
       "      <td>0.025866</td>\n",
       "      <td>0.887634</td>\n",
       "      <td>0.007281</td>\n",
       "      <td>0.117062</td>\n",
       "    </tr>\n",
       "    <tr>\n",
       "      <th>685503</th>\n",
       "      <td>0.000217</td>\n",
       "      <td>0.473400</td>\n",
       "      <td>0.000000</td>\n",
       "      <td>0.033293</td>\n",
       "    </tr>\n",
       "  </tbody>\n",
       "</table>\n",
       "<p>1187 rows × 4 columns</p>\n",
       "</div>"
      ],
      "text/plain": [
       "             yhat1     yhat2     yhat3     yhat4\n",
       "playerId                                        \n",
       "405395    0.000000  0.000000  0.000000  0.000000\n",
       "408234    0.092807  3.102377  0.000000  0.272711\n",
       "424144    0.002743  0.306147  0.000000  0.069031\n",
       "425772    0.000000  0.000000  0.000000  0.000000\n",
       "425784    0.000000  0.131797  0.000000  0.006026\n",
       "...            ...       ...       ...       ...\n",
       "680963    0.047638  1.303313  0.005665  0.249873\n",
       "681911    0.000806  0.365509  0.001584  0.055839\n",
       "683232    0.000000  0.000000  0.000000  0.061743\n",
       "683734    0.025866  0.887634  0.007281  0.117062\n",
       "685503    0.000217  0.473400  0.000000  0.033293\n",
       "\n",
       "[1187 rows x 4 columns]"
      ]
     },
     "execution_count": 235,
     "metadata": {},
     "output_type": "execute_result"
    }
   ],
   "source": [
    "test_df.groupby('playerId')[['yhat1', 'yhat2', 'yhat3', 'yhat4']].std()"
   ]
  },
  {
   "cell_type": "code",
   "execution_count": 238,
   "id": "f6400b98",
   "metadata": {},
   "outputs": [
    {
     "data": {
      "image/png": "[encoded data removed]",
      "text/plain": [
       "<Figure size 1440x360 with 1 Axes>"
      ]
     },
     "metadata": {
      "needs_background": "light"
     },
     "output_type": "display_data"
    },
    {
     "data": {
      "image/png": "[encoded data removed]",
      "text/plain": [
       "<Figure size 1440x360 with 1 Axes>"
      ]
     },
     "metadata": {
      "needs_background": "light"
     },
     "output_type": "display_data"
    },
    {
     "data": {
      "image/png": "[encoded data removed]",
      "text/plain": [
       "<Figure size 1440x360 with 1 Axes>"
      ]
     },
     "metadata": {
      "needs_background": "light"
     },
     "output_type": "display_data"
    },
    {
     "data": {
      "image/png": "[encoded data removed]",
      "text/plain": [
       "<Figure size 1440x360 with 1 Axes>"
      ]
     },
     "metadata": {
      "needs_background": "light"
     },
     "output_type": "display_data"
    }
   ],
   "source": [
    "for index in range(1, 5):\n",
    "    plot_pred(test_df, playerId=660271, index=index)"
   ]
  },
  {
   "cell_type": "code",
   "execution_count": null,
   "id": "c6215880",
   "metadata": {},
   "outputs": [],
   "source": []
  }
 ],
 "metadata": {
  "kernelspec": {
   "display_name": "Python 3",
   "language": "python",
   "name": "python3"
  },
  "language_info": {
   "codemirror_mode": {
    "name": "ipython",
    "version": 3
   },
   "file_extension": ".py",
   "mimetype": "text/x-python",
   "name": "python",
   "nbconvert_exporter": "python",
   "pygments_lexer": "ipython3",
   "version": "3.8.8"
  }
 },
 "nbformat": 4,
 "nbformat_minor": 5
}
