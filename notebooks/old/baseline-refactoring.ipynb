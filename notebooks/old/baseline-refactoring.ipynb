{
 "cells": [
  {
   "cell_type": "code",
   "execution_count": 1,
   "id": "c2ce35ff",
   "metadata": {},
   "outputs": [],
   "source": [
    "%load_ext autoreload\n",
    "%autoreload 2"
   ]
  },
  {
   "cell_type": "code",
   "execution_count": 2,
   "id": "200bd975",
   "metadata": {},
   "outputs": [],
   "source": [
    "import pandas as pd\n",
    "import numpy as np\n",
    "from matplotlib import pyplot as plt\n",
    "from pathlib import Path\n",
    "import seaborn as sns"
   ]
  },
  {
   "cell_type": "code",
   "execution_count": 3,
   "id": "98b21c10",
   "metadata": {},
   "outputs": [],
   "source": [
    "import os\n",
    "import sys"
   ]
  },
  {
   "cell_type": "code",
   "execution_count": 4,
   "id": "83088198",
   "metadata": {},
   "outputs": [],
   "source": [
    "# chaging directory"
   ]
  },
  {
   "cell_type": "code",
   "execution_count": 5,
   "id": "63a6bace",
   "metadata": {},
   "outputs": [],
   "source": [
    "root, *_ = !pwd"
   ]
  },
  {
   "cell_type": "code",
   "execution_count": 6,
   "id": "0401546d",
   "metadata": {},
   "outputs": [],
   "source": [
    "if root.endswith('notebooks'):\n",
    "    os.chdir('../')\n",
    "    root, *_ = !pwd\n",
    "    sys.path.append('src/')"
   ]
  },
  {
   "cell_type": "code",
   "execution_count": 7,
   "id": "29d6b9f8",
   "metadata": {},
   "outputs": [],
   "source": [
    "from pipeline.core import *"
   ]
  },
  {
   "cell_type": "code",
   "execution_count": 8,
   "id": "c94d5f75",
   "metadata": {},
   "outputs": [
    {
     "data": {
      "text/plain": [
       "'/home/med/projects/competitions/mlb-kaggle'"
      ]
     },
     "execution_count": 8,
     "metadata": {},
     "output_type": "execute_result"
    }
   ],
   "source": [
    "os.getcwd()"
   ]
  },
  {
   "cell_type": "code",
   "execution_count": 9,
   "id": "bf93f65f",
   "metadata": {},
   "outputs": [
    {
     "data": {
      "text/plain": [
       "True"
      ]
     },
     "execution_count": 9,
     "metadata": {},
     "output_type": "execute_result"
    }
   ],
   "source": [
    "from dotenv import load_dotenv\n",
    "load_dotenv()"
   ]
  },
  {
   "cell_type": "code",
   "execution_count": 10,
   "id": "a0936da3",
   "metadata": {},
   "outputs": [],
   "source": [
    "RAW_PATH = Path(os.environ['RAW_PATH'])"
   ]
  },
  {
   "cell_type": "code",
   "execution_count": 11,
   "id": "e0104b3d",
   "metadata": {},
   "outputs": [
    {
     "data": {
      "text/plain": [
       "['seasons.csv',\n",
       " 'teams.csv',\n",
       " 'example_sample_submission.csv',\n",
       " 'train.csv',\n",
       " 'mlb-player-digital-engagement-forecasting.zip',\n",
       " 'awards.csv',\n",
       " 'players.csv',\n",
       " 'example_test.csv',\n",
       " 'mlb']"
      ]
     },
     "execution_count": 11,
     "metadata": {},
     "output_type": "execute_result"
    }
   ],
   "source": [
    "os.listdir(RAW_PATH)"
   ]
  },
  {
   "cell_type": "code",
   "execution_count": 12,
   "id": "dc5d2beb",
   "metadata": {},
   "outputs": [],
   "source": [
    "train_data = pd.read_csv(RAW_PATH / 'train.csv', parse_dates=['date'])"
   ]
  },
  {
   "cell_type": "code",
   "execution_count": 13,
   "id": "3d014845",
   "metadata": {},
   "outputs": [
    {
     "data": {
      "text/html": [
       "<div>\n",
       "<style scoped>\n",
       "    .dataframe tbody tr th:only-of-type {\n",
       "        vertical-align: middle;\n",
       "    }\n",
       "\n",
       "    .dataframe tbody tr th {\n",
       "        vertical-align: top;\n",
       "    }\n",
       "\n",
       "    .dataframe thead th {\n",
       "        text-align: right;\n",
       "    }\n",
       "</style>\n",
       "<table border=\"1\" class=\"dataframe\">\n",
       "  <thead>\n",
       "    <tr style=\"text-align: right;\">\n",
       "      <th></th>\n",
       "      <th>date</th>\n",
       "      <th>nextDayPlayerEngagement</th>\n",
       "      <th>games</th>\n",
       "      <th>rosters</th>\n",
       "      <th>playerBoxScores</th>\n",
       "      <th>teamBoxScores</th>\n",
       "      <th>transactions</th>\n",
       "      <th>standings</th>\n",
       "      <th>awards</th>\n",
       "      <th>events</th>\n",
       "      <th>playerTwitterFollowers</th>\n",
       "      <th>teamTwitterFollowers</th>\n",
       "    </tr>\n",
       "  </thead>\n",
       "  <tbody>\n",
       "    <tr>\n",
       "      <th>0</th>\n",
       "      <td>2018-01-01</td>\n",
       "      <td>[{\"engagementMetricsDate\":\"2018-01-02\",\"player...</td>\n",
       "      <td>NaN</td>\n",
       "      <td>[{\"playerId\":400121,\"gameDate\":\"2018-01-01\",\"t...</td>\n",
       "      <td>NaN</td>\n",
       "      <td>NaN</td>\n",
       "      <td>[{\"transactionId\":340732,\"playerId\":547348,\"pl...</td>\n",
       "      <td>NaN</td>\n",
       "      <td>NaN</td>\n",
       "      <td>NaN</td>\n",
       "      <td>[{\"date\":\"2018-01-01\",\"playerId\":545361,\"playe...</td>\n",
       "      <td>[{\"date\":\"2018-01-01\",\"teamId\":147,\"teamName\":...</td>\n",
       "    </tr>\n",
       "    <tr>\n",
       "      <th>1</th>\n",
       "      <td>2018-01-02</td>\n",
       "      <td>[{\"engagementMetricsDate\":\"2018-01-03\",\"player...</td>\n",
       "      <td>NaN</td>\n",
       "      <td>[{\"playerId\":134181,\"gameDate\":\"2018-01-02\",\"t...</td>\n",
       "      <td>NaN</td>\n",
       "      <td>NaN</td>\n",
       "      <td>[{\"transactionId\":339458,\"playerId\":621173,\"pl...</td>\n",
       "      <td>NaN</td>\n",
       "      <td>NaN</td>\n",
       "      <td>NaN</td>\n",
       "      <td>NaN</td>\n",
       "      <td>NaN</td>\n",
       "    </tr>\n",
       "    <tr>\n",
       "      <th>2</th>\n",
       "      <td>2018-01-03</td>\n",
       "      <td>[{\"engagementMetricsDate\":\"2018-01-04\",\"player...</td>\n",
       "      <td>NaN</td>\n",
       "      <td>[{\"playerId\":425492,\"gameDate\":\"2018-01-03\",\"t...</td>\n",
       "      <td>NaN</td>\n",
       "      <td>NaN</td>\n",
       "      <td>[{\"transactionId\":347527,\"playerId\":572389,\"pl...</td>\n",
       "      <td>NaN</td>\n",
       "      <td>NaN</td>\n",
       "      <td>NaN</td>\n",
       "      <td>NaN</td>\n",
       "      <td>NaN</td>\n",
       "    </tr>\n",
       "    <tr>\n",
       "      <th>3</th>\n",
       "      <td>2018-01-04</td>\n",
       "      <td>[{\"engagementMetricsDate\":\"2018-01-05\",\"player...</td>\n",
       "      <td>NaN</td>\n",
       "      <td>[{\"playerId\":282332,\"gameDate\":\"2018-01-04\",\"t...</td>\n",
       "      <td>NaN</td>\n",
       "      <td>NaN</td>\n",
       "      <td>[{\"transactionId\":339549,\"playerId\":545343,\"pl...</td>\n",
       "      <td>NaN</td>\n",
       "      <td>NaN</td>\n",
       "      <td>NaN</td>\n",
       "      <td>NaN</td>\n",
       "      <td>NaN</td>\n",
       "    </tr>\n",
       "    <tr>\n",
       "      <th>4</th>\n",
       "      <td>2018-01-05</td>\n",
       "      <td>[{\"engagementMetricsDate\":\"2018-01-06\",\"player...</td>\n",
       "      <td>NaN</td>\n",
       "      <td>[{\"playerId\":282332,\"gameDate\":\"2018-01-05\",\"t...</td>\n",
       "      <td>NaN</td>\n",
       "      <td>NaN</td>\n",
       "      <td>[{\"transactionId\":341195,\"playerId\":628336,\"pl...</td>\n",
       "      <td>NaN</td>\n",
       "      <td>NaN</td>\n",
       "      <td>NaN</td>\n",
       "      <td>NaN</td>\n",
       "      <td>NaN</td>\n",
       "    </tr>\n",
       "  </tbody>\n",
       "</table>\n",
       "</div>"
      ],
      "text/plain": [
       "        date                            nextDayPlayerEngagement games  \\\n",
       "0 2018-01-01  [{\"engagementMetricsDate\":\"2018-01-02\",\"player...   NaN   \n",
       "1 2018-01-02  [{\"engagementMetricsDate\":\"2018-01-03\",\"player...   NaN   \n",
       "2 2018-01-03  [{\"engagementMetricsDate\":\"2018-01-04\",\"player...   NaN   \n",
       "3 2018-01-04  [{\"engagementMetricsDate\":\"2018-01-05\",\"player...   NaN   \n",
       "4 2018-01-05  [{\"engagementMetricsDate\":\"2018-01-06\",\"player...   NaN   \n",
       "\n",
       "                                             rosters playerBoxScores  \\\n",
       "0  [{\"playerId\":400121,\"gameDate\":\"2018-01-01\",\"t...             NaN   \n",
       "1  [{\"playerId\":134181,\"gameDate\":\"2018-01-02\",\"t...             NaN   \n",
       "2  [{\"playerId\":425492,\"gameDate\":\"2018-01-03\",\"t...             NaN   \n",
       "3  [{\"playerId\":282332,\"gameDate\":\"2018-01-04\",\"t...             NaN   \n",
       "4  [{\"playerId\":282332,\"gameDate\":\"2018-01-05\",\"t...             NaN   \n",
       "\n",
       "  teamBoxScores                                       transactions standings  \\\n",
       "0           NaN  [{\"transactionId\":340732,\"playerId\":547348,\"pl...       NaN   \n",
       "1           NaN  [{\"transactionId\":339458,\"playerId\":621173,\"pl...       NaN   \n",
       "2           NaN  [{\"transactionId\":347527,\"playerId\":572389,\"pl...       NaN   \n",
       "3           NaN  [{\"transactionId\":339549,\"playerId\":545343,\"pl...       NaN   \n",
       "4           NaN  [{\"transactionId\":341195,\"playerId\":628336,\"pl...       NaN   \n",
       "\n",
       "  awards events                             playerTwitterFollowers  \\\n",
       "0    NaN    NaN  [{\"date\":\"2018-01-01\",\"playerId\":545361,\"playe...   \n",
       "1    NaN    NaN                                                NaN   \n",
       "2    NaN    NaN                                                NaN   \n",
       "3    NaN    NaN                                                NaN   \n",
       "4    NaN    NaN                                                NaN   \n",
       "\n",
       "                                teamTwitterFollowers  \n",
       "0  [{\"date\":\"2018-01-01\",\"teamId\":147,\"teamName\":...  \n",
       "1                                                NaN  \n",
       "2                                                NaN  \n",
       "3                                                NaN  \n",
       "4                                                NaN  "
      ]
     },
     "execution_count": 13,
     "metadata": {},
     "output_type": "execute_result"
    }
   ],
   "source": [
    "train_data.head()"
   ]
  },
  {
   "cell_type": "code",
   "execution_count": 14,
   "id": "ca651a05",
   "metadata": {},
   "outputs": [],
   "source": [
    "train_data = train_data.set_index('date')"
   ]
  },
  {
   "cell_type": "markdown",
   "id": "f70d340b",
   "metadata": {},
   "source": [
    "### calculating mean "
   ]
  },
  {
   "cell_type": "code",
   "execution_count": 15,
   "id": "12fb6acb",
   "metadata": {},
   "outputs": [],
   "source": [
    "# transforming"
   ]
  },
  {
   "cell_type": "code",
   "execution_count": 16,
   "id": "4b8dc96c",
   "metadata": {},
   "outputs": [],
   "source": [
    "# this has to be replace for the .py code\n",
    "from pipeline.core import *"
   ]
  },
  {
   "cell_type": "code",
   "execution_count": 17,
   "id": "b8072875",
   "metadata": {},
   "outputs": [],
   "source": [
    "target_name = 'nextDayPlayerEngagement'"
   ]
  },
  {
   "cell_type": "code",
   "execution_count": 18,
   "id": "832a72c8",
   "metadata": {},
   "outputs": [],
   "source": [
    "unpack_target_tmf = make_unpack_tmf('nextDayPlayerEngagement')"
   ]
  },
  {
   "cell_type": "code",
   "execution_count": 19,
   "id": "c38a4e8f",
   "metadata": {},
   "outputs": [
    {
     "data": {
      "text/plain": [
       "PdColumnTransformer(transformers=[('FunctionTransformer',\n",
       "                                   FunctionTransformer(func=<function unpack_column at 0x7f13d90fe670>),\n",
       "                                   'nextDayPlayerEngagement')])"
      ]
     },
     "execution_count": 19,
     "metadata": {},
     "output_type": "execute_result"
    }
   ],
   "source": [
    "unpack_target_tmf"
   ]
  },
  {
   "cell_type": "code",
   "execution_count": 20,
   "id": "fa466691",
   "metadata": {},
   "outputs": [],
   "source": [
    "target = unpack_target_tmf.fit_transform(train_data)"
   ]
  },
  {
   "cell_type": "code",
   "execution_count": 21,
   "id": "3eb9afd7",
   "metadata": {},
   "outputs": [
    {
     "data": {
      "text/html": [
       "<div>\n",
       "<style scoped>\n",
       "    .dataframe tbody tr th:only-of-type {\n",
       "        vertical-align: middle;\n",
       "    }\n",
       "\n",
       "    .dataframe tbody tr th {\n",
       "        vertical-align: top;\n",
       "    }\n",
       "\n",
       "    .dataframe thead th {\n",
       "        text-align: right;\n",
       "    }\n",
       "</style>\n",
       "<table border=\"1\" class=\"dataframe\">\n",
       "  <thead>\n",
       "    <tr style=\"text-align: right;\">\n",
       "      <th></th>\n",
       "      <th>engagementMetricsDate</th>\n",
       "      <th>playerId</th>\n",
       "      <th>target1</th>\n",
       "      <th>target2</th>\n",
       "      <th>target3</th>\n",
       "      <th>target4</th>\n",
       "      <th>date</th>\n",
       "    </tr>\n",
       "  </thead>\n",
       "  <tbody>\n",
       "    <tr>\n",
       "      <th>0</th>\n",
       "      <td>2018-01-02</td>\n",
       "      <td>628317</td>\n",
       "      <td>0.011167</td>\n",
       "      <td>4.474708</td>\n",
       "      <td>0.005168</td>\n",
       "      <td>5.735294</td>\n",
       "      <td>2018-01-01</td>\n",
       "    </tr>\n",
       "    <tr>\n",
       "      <th>1</th>\n",
       "      <td>2018-01-02</td>\n",
       "      <td>547989</td>\n",
       "      <td>0.042993</td>\n",
       "      <td>5.593385</td>\n",
       "      <td>0.045033</td>\n",
       "      <td>2.794118</td>\n",
       "      <td>2018-01-01</td>\n",
       "    </tr>\n",
       "    <tr>\n",
       "      <th>2</th>\n",
       "      <td>2018-01-02</td>\n",
       "      <td>519317</td>\n",
       "      <td>0.974327</td>\n",
       "      <td>56.177043</td>\n",
       "      <td>13.693746</td>\n",
       "      <td>64.166667</td>\n",
       "      <td>2018-01-01</td>\n",
       "    </tr>\n",
       "    <tr>\n",
       "      <th>3</th>\n",
       "      <td>2018-01-02</td>\n",
       "      <td>607625</td>\n",
       "      <td>0.006700</td>\n",
       "      <td>2.675097</td>\n",
       "      <td>0.005168</td>\n",
       "      <td>1.862745</td>\n",
       "      <td>2018-01-01</td>\n",
       "    </tr>\n",
       "    <tr>\n",
       "      <th>4</th>\n",
       "      <td>2018-01-02</td>\n",
       "      <td>592547</td>\n",
       "      <td>0.001117</td>\n",
       "      <td>0.632296</td>\n",
       "      <td>0.002953</td>\n",
       "      <td>0.931373</td>\n",
       "      <td>2018-01-01</td>\n",
       "    </tr>\n",
       "    <tr>\n",
       "      <th>...</th>\n",
       "      <td>...</td>\n",
       "      <td>...</td>\n",
       "      <td>...</td>\n",
       "      <td>...</td>\n",
       "      <td>...</td>\n",
       "      <td>...</td>\n",
       "      <td>...</td>\n",
       "    </tr>\n",
       "    <tr>\n",
       "      <th>2506171</th>\n",
       "      <td>2021-05-01</td>\n",
       "      <td>451661</td>\n",
       "      <td>0.000000</td>\n",
       "      <td>0.013314</td>\n",
       "      <td>0.000000</td>\n",
       "      <td>0.625925</td>\n",
       "      <td>2021-04-30</td>\n",
       "    </tr>\n",
       "    <tr>\n",
       "      <th>2506172</th>\n",
       "      <td>2021-05-01</td>\n",
       "      <td>519301</td>\n",
       "      <td>0.000131</td>\n",
       "      <td>0.003329</td>\n",
       "      <td>0.000000</td>\n",
       "      <td>0.216229</td>\n",
       "      <td>2021-04-30</td>\n",
       "    </tr>\n",
       "    <tr>\n",
       "      <th>2506173</th>\n",
       "      <td>2021-05-01</td>\n",
       "      <td>527055</td>\n",
       "      <td>0.000000</td>\n",
       "      <td>0.019971</td>\n",
       "      <td>0.000000</td>\n",
       "      <td>0.273131</td>\n",
       "      <td>2021-04-30</td>\n",
       "    </tr>\n",
       "    <tr>\n",
       "      <th>2506174</th>\n",
       "      <td>2021-05-01</td>\n",
       "      <td>543484</td>\n",
       "      <td>0.000131</td>\n",
       "      <td>0.056586</td>\n",
       "      <td>0.000000</td>\n",
       "      <td>1.024240</td>\n",
       "      <td>2021-04-30</td>\n",
       "    </tr>\n",
       "    <tr>\n",
       "      <th>2506175</th>\n",
       "      <td>2021-05-01</td>\n",
       "      <td>605525</td>\n",
       "      <td>0.000131</td>\n",
       "      <td>0.499284</td>\n",
       "      <td>0.000000</td>\n",
       "      <td>0.386935</td>\n",
       "      <td>2021-04-30</td>\n",
       "    </tr>\n",
       "  </tbody>\n",
       "</table>\n",
       "<p>2506176 rows × 7 columns</p>\n",
       "</div>"
      ],
      "text/plain": [
       "        engagementMetricsDate  playerId   target1    target2    target3  \\\n",
       "0                  2018-01-02    628317  0.011167   4.474708   0.005168   \n",
       "1                  2018-01-02    547989  0.042993   5.593385   0.045033   \n",
       "2                  2018-01-02    519317  0.974327  56.177043  13.693746   \n",
       "3                  2018-01-02    607625  0.006700   2.675097   0.005168   \n",
       "4                  2018-01-02    592547  0.001117   0.632296   0.002953   \n",
       "...                       ...       ...       ...        ...        ...   \n",
       "2506171            2021-05-01    451661  0.000000   0.013314   0.000000   \n",
       "2506172            2021-05-01    519301  0.000131   0.003329   0.000000   \n",
       "2506173            2021-05-01    527055  0.000000   0.019971   0.000000   \n",
       "2506174            2021-05-01    543484  0.000131   0.056586   0.000000   \n",
       "2506175            2021-05-01    605525  0.000131   0.499284   0.000000   \n",
       "\n",
       "           target4       date  \n",
       "0         5.735294 2018-01-01  \n",
       "1         2.794118 2018-01-01  \n",
       "2        64.166667 2018-01-01  \n",
       "3         1.862745 2018-01-01  \n",
       "4         0.931373 2018-01-01  \n",
       "...            ...        ...  \n",
       "2506171   0.625925 2021-04-30  \n",
       "2506172   0.216229 2021-04-30  \n",
       "2506173   0.273131 2021-04-30  \n",
       "2506174   1.024240 2021-04-30  \n",
       "2506175   0.386935 2021-04-30  \n",
       "\n",
       "[2506176 rows x 7 columns]"
      ]
     },
     "execution_count": 21,
     "metadata": {},
     "output_type": "execute_result"
    }
   ],
   "source": [
    "target"
   ]
  },
  {
   "cell_type": "code",
   "execution_count": 22,
   "id": "0e481937",
   "metadata": {},
   "outputs": [],
   "source": [
    "from evaluate.metrics import *"
   ]
  },
  {
   "cell_type": "code",
   "execution_count": 23,
   "id": "833273c2",
   "metadata": {},
   "outputs": [],
   "source": [
    "from data.split import SplitData"
   ]
  },
  {
   "cell_type": "code",
   "execution_count": 24,
   "id": "71edd851",
   "metadata": {},
   "outputs": [],
   "source": [
    "sp = SplitData(\"2021-04-01\", train_days=120)"
   ]
  },
  {
   "cell_type": "code",
   "execution_count": 25,
   "id": "72616949",
   "metadata": {},
   "outputs": [],
   "source": [
    "train_df = sp.train(target)\n",
    "valid_df = sp.valid(target)"
   ]
  },
  {
   "cell_type": "code",
   "execution_count": 26,
   "id": "a7151a2f",
   "metadata": {},
   "outputs": [
    {
     "data": {
      "text/plain": [
       "min   2020-12-02\n",
       "max   2021-03-31\n",
       "Name: date, dtype: datetime64[ns]"
      ]
     },
     "execution_count": 26,
     "metadata": {},
     "output_type": "execute_result"
    }
   ],
   "source": [
    "train_df.date.agg(('min', 'max'))"
   ]
  },
  {
   "cell_type": "code",
   "execution_count": 27,
   "id": "9e57f97b",
   "metadata": {},
   "outputs": [
    {
     "data": {
      "text/plain": [
       "min   2021-04-01\n",
       "max   2021-04-30\n",
       "Name: date, dtype: datetime64[ns]"
      ]
     },
     "execution_count": 27,
     "metadata": {},
     "output_type": "execute_result"
    }
   ],
   "source": [
    "valid_df.date.agg(('min', 'max'))"
   ]
  },
  {
   "cell_type": "code",
   "execution_count": 28,
   "id": "89771815",
   "metadata": {},
   "outputs": [
    {
     "data": {
      "text/plain": [
       "(['target1', 'target2', 'target3', 'target4'], ['date', 'playerId'])"
      ]
     },
     "execution_count": 28,
     "metadata": {},
     "output_type": "execute_result"
    }
   ],
   "source": [
    "target_cols = [f'target{i}' for i in range(1, 5)];\n",
    "index_cols = ['date', 'playerId'] \n",
    "target_cols, index_cols"
   ]
  },
  {
   "cell_type": "code",
   "execution_count": 29,
   "id": "0b36341b",
   "metadata": {},
   "outputs": [],
   "source": [
    "class MeanEncoding(BaseEstimator, TransformerMixin):\n",
    "    def __init__(self, ids: str = ['playerId'],\n",
    "                 features: str = ['target1', 'target2',\n",
    "                                  'target3', 'target4']):\n",
    "        self.ids = ids\n",
    "        self.features = features\n",
    "    \n",
    "    def fit(self, X: pd.DataFrame, y=None):\n",
    "        self.mean = X.groupby(self.ids)[self.features].median().reset_index()\n",
    "    \n",
    "    def predict(self, X):\n",
    "        \n",
    "        drop_features = [feature for feature in self.features\n",
    "                         if feature in X.columns]\n",
    "        X = X.drop(drop_features, axis=1)\n",
    "        output = X.merge(self.mean, on=self.ids)\n",
    "        output = output[self.features]\n",
    "        output.columns = output.columns.str.replace('target', 'yhat')\n",
    "        return output"
   ]
  },
  {
   "cell_type": "code",
   "execution_count": 30,
   "id": "cb228ca7",
   "metadata": {},
   "outputs": [],
   "source": [
    "model= MeanEncoding()"
   ]
  },
  {
   "cell_type": "code",
   "execution_count": 31,
   "id": "80b7a991",
   "metadata": {},
   "outputs": [],
   "source": [
    "model.fit(train_df)"
   ]
  },
  {
   "cell_type": "code",
   "execution_count": 32,
   "id": "c3d94748",
   "metadata": {},
   "outputs": [],
   "source": [
    "valid_prediction = model.predict(valid_df)"
   ]
  },
  {
   "cell_type": "code",
   "execution_count": 33,
   "id": "69a20684",
   "metadata": {},
   "outputs": [],
   "source": [
    "for name, value in valid_prediction.items():\n",
    "    valid_df[name] = value"
   ]
  },
  {
   "cell_type": "code",
   "execution_count": 34,
   "id": "8b3564c0",
   "metadata": {},
   "outputs": [
    {
     "data": {
      "text/plain": [
       "{'mae_mean': 1.449488128580136,\n",
       " 'mae_1': 0.8568508711370514,\n",
       " 'mae_2': 2.4792356236716744,\n",
       " 'mae_3': 0.6010446554564337,\n",
       " 'mae_4': 1.8608213640553846}"
      ]
     },
     "execution_count": 34,
     "metadata": {},
     "output_type": "execute_result"
    }
   ],
   "source": [
    "compute_metrics(valid_df)"
   ]
  },
  {
   "cell_type": "code",
   "execution_count": 35,
   "id": "9f1970f0",
   "metadata": {},
   "outputs": [
    {
     "ename": "KeyError",
     "evalue": "\"None of [Index(['target1', 'target2', 'target3', 'target4'], dtype='object')] are in the [columns]\"",
     "output_type": "error",
     "traceback": [
      "\u001b[0;31m---------------------------------------------------------------------------\u001b[0m",
      "\u001b[0;31mKeyError\u001b[0m                                  Traceback (most recent call last)",
      "\u001b[0;32m<ipython-input-35-eff72826c387>\u001b[0m in \u001b[0;36m<module>\u001b[0;34m\u001b[0m\n\u001b[0;32m----> 1\u001b[0;31m compute_metrics(valid_prediction[target_cols].values,\n\u001b[0m\u001b[1;32m      2\u001b[0m                 valid_df[target_cols].values)\n",
      "\u001b[0;32m~/anaconda3/envs/mlb/lib/python3.8/site-packages/pandas/core/frame.py\u001b[0m in \u001b[0;36m__getitem__\u001b[0;34m(self, key)\u001b[0m\n\u001b[1;32m   3028\u001b[0m             \u001b[0;32mif\u001b[0m \u001b[0mis_iterator\u001b[0m\u001b[0;34m(\u001b[0m\u001b[0mkey\u001b[0m\u001b[0;34m)\u001b[0m\u001b[0;34m:\u001b[0m\u001b[0;34m\u001b[0m\u001b[0;34m\u001b[0m\u001b[0m\n\u001b[1;32m   3029\u001b[0m                 \u001b[0mkey\u001b[0m \u001b[0;34m=\u001b[0m \u001b[0mlist\u001b[0m\u001b[0;34m(\u001b[0m\u001b[0mkey\u001b[0m\u001b[0;34m)\u001b[0m\u001b[0;34m\u001b[0m\u001b[0;34m\u001b[0m\u001b[0m\n\u001b[0;32m-> 3030\u001b[0;31m             \u001b[0mindexer\u001b[0m \u001b[0;34m=\u001b[0m \u001b[0mself\u001b[0m\u001b[0;34m.\u001b[0m\u001b[0mloc\u001b[0m\u001b[0;34m.\u001b[0m\u001b[0m_get_listlike_indexer\u001b[0m\u001b[0;34m(\u001b[0m\u001b[0mkey\u001b[0m\u001b[0;34m,\u001b[0m \u001b[0maxis\u001b[0m\u001b[0;34m=\u001b[0m\u001b[0;36m1\u001b[0m\u001b[0;34m,\u001b[0m \u001b[0mraise_missing\u001b[0m\u001b[0;34m=\u001b[0m\u001b[0;32mTrue\u001b[0m\u001b[0;34m)\u001b[0m\u001b[0;34m[\u001b[0m\u001b[0;36m1\u001b[0m\u001b[0;34m]\u001b[0m\u001b[0;34m\u001b[0m\u001b[0;34m\u001b[0m\u001b[0m\n\u001b[0m\u001b[1;32m   3031\u001b[0m \u001b[0;34m\u001b[0m\u001b[0m\n\u001b[1;32m   3032\u001b[0m         \u001b[0;31m# take() does not accept boolean indexers\u001b[0m\u001b[0;34m\u001b[0m\u001b[0;34m\u001b[0m\u001b[0;34m\u001b[0m\u001b[0m\n",
      "\u001b[0;32m~/anaconda3/envs/mlb/lib/python3.8/site-packages/pandas/core/indexing.py\u001b[0m in \u001b[0;36m_get_listlike_indexer\u001b[0;34m(self, key, axis, raise_missing)\u001b[0m\n\u001b[1;32m   1264\u001b[0m             \u001b[0mkeyarr\u001b[0m\u001b[0;34m,\u001b[0m \u001b[0mindexer\u001b[0m\u001b[0;34m,\u001b[0m \u001b[0mnew_indexer\u001b[0m \u001b[0;34m=\u001b[0m \u001b[0max\u001b[0m\u001b[0;34m.\u001b[0m\u001b[0m_reindex_non_unique\u001b[0m\u001b[0;34m(\u001b[0m\u001b[0mkeyarr\u001b[0m\u001b[0;34m)\u001b[0m\u001b[0;34m\u001b[0m\u001b[0;34m\u001b[0m\u001b[0m\n\u001b[1;32m   1265\u001b[0m \u001b[0;34m\u001b[0m\u001b[0m\n\u001b[0;32m-> 1266\u001b[0;31m         \u001b[0mself\u001b[0m\u001b[0;34m.\u001b[0m\u001b[0m_validate_read_indexer\u001b[0m\u001b[0;34m(\u001b[0m\u001b[0mkeyarr\u001b[0m\u001b[0;34m,\u001b[0m \u001b[0mindexer\u001b[0m\u001b[0;34m,\u001b[0m \u001b[0maxis\u001b[0m\u001b[0;34m,\u001b[0m \u001b[0mraise_missing\u001b[0m\u001b[0;34m=\u001b[0m\u001b[0mraise_missing\u001b[0m\u001b[0;34m)\u001b[0m\u001b[0;34m\u001b[0m\u001b[0;34m\u001b[0m\u001b[0m\n\u001b[0m\u001b[1;32m   1267\u001b[0m         \u001b[0;32mreturn\u001b[0m \u001b[0mkeyarr\u001b[0m\u001b[0;34m,\u001b[0m \u001b[0mindexer\u001b[0m\u001b[0;34m\u001b[0m\u001b[0;34m\u001b[0m\u001b[0m\n\u001b[1;32m   1268\u001b[0m \u001b[0;34m\u001b[0m\u001b[0m\n",
      "\u001b[0;32m~/anaconda3/envs/mlb/lib/python3.8/site-packages/pandas/core/indexing.py\u001b[0m in \u001b[0;36m_validate_read_indexer\u001b[0;34m(self, key, indexer, axis, raise_missing)\u001b[0m\n\u001b[1;32m   1306\u001b[0m             \u001b[0;32mif\u001b[0m \u001b[0mmissing\u001b[0m \u001b[0;34m==\u001b[0m \u001b[0mlen\u001b[0m\u001b[0;34m(\u001b[0m\u001b[0mindexer\u001b[0m\u001b[0;34m)\u001b[0m\u001b[0;34m:\u001b[0m\u001b[0;34m\u001b[0m\u001b[0;34m\u001b[0m\u001b[0m\n\u001b[1;32m   1307\u001b[0m                 \u001b[0maxis_name\u001b[0m \u001b[0;34m=\u001b[0m \u001b[0mself\u001b[0m\u001b[0;34m.\u001b[0m\u001b[0mobj\u001b[0m\u001b[0;34m.\u001b[0m\u001b[0m_get_axis_name\u001b[0m\u001b[0;34m(\u001b[0m\u001b[0maxis\u001b[0m\u001b[0;34m)\u001b[0m\u001b[0;34m\u001b[0m\u001b[0;34m\u001b[0m\u001b[0m\n\u001b[0;32m-> 1308\u001b[0;31m                 \u001b[0;32mraise\u001b[0m \u001b[0mKeyError\u001b[0m\u001b[0;34m(\u001b[0m\u001b[0;34mf\"None of [{key}] are in the [{axis_name}]\"\u001b[0m\u001b[0;34m)\u001b[0m\u001b[0;34m\u001b[0m\u001b[0;34m\u001b[0m\u001b[0m\n\u001b[0m\u001b[1;32m   1309\u001b[0m \u001b[0;34m\u001b[0m\u001b[0m\n\u001b[1;32m   1310\u001b[0m             \u001b[0max\u001b[0m \u001b[0;34m=\u001b[0m \u001b[0mself\u001b[0m\u001b[0;34m.\u001b[0m\u001b[0mobj\u001b[0m\u001b[0;34m.\u001b[0m\u001b[0m_get_axis\u001b[0m\u001b[0;34m(\u001b[0m\u001b[0maxis\u001b[0m\u001b[0;34m)\u001b[0m\u001b[0;34m\u001b[0m\u001b[0;34m\u001b[0m\u001b[0m\n",
      "\u001b[0;31mKeyError\u001b[0m: \"None of [Index(['target1', 'target2', 'target3', 'target4'], dtype='object')] are in the [columns]\""
     ]
    }
   ],
   "source": [
    "compute_metrics(valid_prediction[target_cols].values,\n",
    "                valid_df[target_cols].values)"
   ]
  },
  {
   "cell_type": "code",
   "execution_count": null,
   "id": "55cac607",
   "metadata": {},
   "outputs": [],
   "source": []
  }
 ],
 "metadata": {
  "kernelspec": {
   "display_name": "Python 3",
   "language": "python",
   "name": "python3"
  },
  "language_info": {
   "codemirror_mode": {
    "name": "ipython",
    "version": 3
   },
   "file_extension": ".py",
   "mimetype": "text/x-python",
   "name": "python",
   "nbconvert_exporter": "python",
   "pygments_lexer": "ipython3",
   "version": "3.8.8"
  }
 },
 "nbformat": 4,
 "nbformat_minor": 5
}
