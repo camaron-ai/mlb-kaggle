{
 "cells": [
  {
   "cell_type": "code",
   "execution_count": 1,
   "id": "200bd975",
   "metadata": {},
   "outputs": [],
   "source": [
    "import pandas as pd\n",
    "import numpy as np\n",
    "from matplotlib import pyplot as plt\n",
    "from pathlib import Path\n",
    "import seaborn as sns"
   ]
  },
  {
   "cell_type": "code",
   "execution_count": 2,
   "id": "98b21c10",
   "metadata": {},
   "outputs": [],
   "source": [
    "import os\n",
    "import sys"
   ]
  },
  {
   "cell_type": "code",
   "execution_count": 3,
   "id": "83088198",
   "metadata": {},
   "outputs": [],
   "source": [
    "# chaging directory"
   ]
  },
  {
   "cell_type": "code",
   "execution_count": 4,
   "id": "63a6bace",
   "metadata": {},
   "outputs": [],
   "source": [
    "\n",
    "root, *_ = !pwd"
   ]
  },
  {
   "cell_type": "code",
   "execution_count": 5,
   "id": "0401546d",
   "metadata": {},
   "outputs": [],
   "source": [
    "if root.endswith('notebooks'):\n",
    "    os.chdir('../')\n",
    "    root, *_ = !pwd"
   ]
  },
  {
   "cell_type": "code",
   "execution_count": 6,
   "id": "c94d5f75",
   "metadata": {},
   "outputs": [
    {
     "data": {
      "text/plain": [
       "'/home/med/projects/competitions/mlb-kaggle'"
      ]
     },
     "execution_count": 6,
     "metadata": {},
     "output_type": "execute_result"
    }
   ],
   "source": [
    "os.getcwd()"
   ]
  },
  {
   "cell_type": "code",
   "execution_count": 7,
   "id": "bf93f65f",
   "metadata": {},
   "outputs": [
    {
     "data": {
      "text/plain": [
       "True"
      ]
     },
     "execution_count": 7,
     "metadata": {},
     "output_type": "execute_result"
    }
   ],
   "source": [
    "from dotenv import load_dotenv\n",
    "load_dotenv()"
   ]
  },
  {
   "cell_type": "code",
   "execution_count": 8,
   "id": "a0936da3",
   "metadata": {},
   "outputs": [],
   "source": [
    "RAW_PATH = Path(os.environ['RAW_PATH'])"
   ]
  },
  {
   "cell_type": "code",
   "execution_count": 9,
   "id": "e0104b3d",
   "metadata": {},
   "outputs": [
    {
     "data": {
      "text/plain": [
       "['seasons.csv',\n",
       " 'teams.csv',\n",
       " 'example_sample_submission.csv',\n",
       " 'train.csv',\n",
       " 'mlb-player-digital-engagement-forecasting.zip',\n",
       " 'awards.csv',\n",
       " 'players.csv',\n",
       " 'example_test.csv',\n",
       " 'mlb']"
      ]
     },
     "execution_count": 9,
     "metadata": {},
     "output_type": "execute_result"
    }
   ],
   "source": [
    "os.listdir(RAW_PATH)"
   ]
  },
  {
   "cell_type": "code",
   "execution_count": 10,
   "id": "dc5d2beb",
   "metadata": {},
   "outputs": [],
   "source": [
    "train_data = pd.read_csv(RAW_PATH / 'train.csv', parse_dates=['date'])\n",
    "train_data = train_data.set_index('date')"
   ]
  },
  {
   "cell_type": "code",
   "execution_count": 11,
   "id": "3d014845",
   "metadata": {},
   "outputs": [
    {
     "data": {
      "text/html": [
       "<div>\n",
       "<style scoped>\n",
       "    .dataframe tbody tr th:only-of-type {\n",
       "        vertical-align: middle;\n",
       "    }\n",
       "\n",
       "    .dataframe tbody tr th {\n",
       "        vertical-align: top;\n",
       "    }\n",
       "\n",
       "    .dataframe thead th {\n",
       "        text-align: right;\n",
       "    }\n",
       "</style>\n",
       "<table border=\"1\" class=\"dataframe\">\n",
       "  <thead>\n",
       "    <tr style=\"text-align: right;\">\n",
       "      <th></th>\n",
       "      <th>nextDayPlayerEngagement</th>\n",
       "      <th>games</th>\n",
       "      <th>rosters</th>\n",
       "      <th>playerBoxScores</th>\n",
       "      <th>teamBoxScores</th>\n",
       "      <th>transactions</th>\n",
       "      <th>standings</th>\n",
       "      <th>awards</th>\n",
       "      <th>events</th>\n",
       "      <th>playerTwitterFollowers</th>\n",
       "      <th>teamTwitterFollowers</th>\n",
       "    </tr>\n",
       "    <tr>\n",
       "      <th>date</th>\n",
       "      <th></th>\n",
       "      <th></th>\n",
       "      <th></th>\n",
       "      <th></th>\n",
       "      <th></th>\n",
       "      <th></th>\n",
       "      <th></th>\n",
       "      <th></th>\n",
       "      <th></th>\n",
       "      <th></th>\n",
       "      <th></th>\n",
       "    </tr>\n",
       "  </thead>\n",
       "  <tbody>\n",
       "    <tr>\n",
       "      <th>2018-01-01</th>\n",
       "      <td>[{\"engagementMetricsDate\":\"2018-01-02\",\"player...</td>\n",
       "      <td>NaN</td>\n",
       "      <td>[{\"playerId\":400121,\"gameDate\":\"2018-01-01\",\"t...</td>\n",
       "      <td>NaN</td>\n",
       "      <td>NaN</td>\n",
       "      <td>[{\"transactionId\":340732,\"playerId\":547348,\"pl...</td>\n",
       "      <td>NaN</td>\n",
       "      <td>NaN</td>\n",
       "      <td>NaN</td>\n",
       "      <td>[{\"date\":\"2018-01-01\",\"playerId\":545361,\"playe...</td>\n",
       "      <td>[{\"date\":\"2018-01-01\",\"teamId\":147,\"teamName\":...</td>\n",
       "    </tr>\n",
       "    <tr>\n",
       "      <th>2018-01-02</th>\n",
       "      <td>[{\"engagementMetricsDate\":\"2018-01-03\",\"player...</td>\n",
       "      <td>NaN</td>\n",
       "      <td>[{\"playerId\":134181,\"gameDate\":\"2018-01-02\",\"t...</td>\n",
       "      <td>NaN</td>\n",
       "      <td>NaN</td>\n",
       "      <td>[{\"transactionId\":339458,\"playerId\":621173,\"pl...</td>\n",
       "      <td>NaN</td>\n",
       "      <td>NaN</td>\n",
       "      <td>NaN</td>\n",
       "      <td>NaN</td>\n",
       "      <td>NaN</td>\n",
       "    </tr>\n",
       "    <tr>\n",
       "      <th>2018-01-03</th>\n",
       "      <td>[{\"engagementMetricsDate\":\"2018-01-04\",\"player...</td>\n",
       "      <td>NaN</td>\n",
       "      <td>[{\"playerId\":425492,\"gameDate\":\"2018-01-03\",\"t...</td>\n",
       "      <td>NaN</td>\n",
       "      <td>NaN</td>\n",
       "      <td>[{\"transactionId\":347527,\"playerId\":572389,\"pl...</td>\n",
       "      <td>NaN</td>\n",
       "      <td>NaN</td>\n",
       "      <td>NaN</td>\n",
       "      <td>NaN</td>\n",
       "      <td>NaN</td>\n",
       "    </tr>\n",
       "    <tr>\n",
       "      <th>2018-01-04</th>\n",
       "      <td>[{\"engagementMetricsDate\":\"2018-01-05\",\"player...</td>\n",
       "      <td>NaN</td>\n",
       "      <td>[{\"playerId\":282332,\"gameDate\":\"2018-01-04\",\"t...</td>\n",
       "      <td>NaN</td>\n",
       "      <td>NaN</td>\n",
       "      <td>[{\"transactionId\":339549,\"playerId\":545343,\"pl...</td>\n",
       "      <td>NaN</td>\n",
       "      <td>NaN</td>\n",
       "      <td>NaN</td>\n",
       "      <td>NaN</td>\n",
       "      <td>NaN</td>\n",
       "    </tr>\n",
       "    <tr>\n",
       "      <th>2018-01-05</th>\n",
       "      <td>[{\"engagementMetricsDate\":\"2018-01-06\",\"player...</td>\n",
       "      <td>NaN</td>\n",
       "      <td>[{\"playerId\":282332,\"gameDate\":\"2018-01-05\",\"t...</td>\n",
       "      <td>NaN</td>\n",
       "      <td>NaN</td>\n",
       "      <td>[{\"transactionId\":341195,\"playerId\":628336,\"pl...</td>\n",
       "      <td>NaN</td>\n",
       "      <td>NaN</td>\n",
       "      <td>NaN</td>\n",
       "      <td>NaN</td>\n",
       "      <td>NaN</td>\n",
       "    </tr>\n",
       "  </tbody>\n",
       "</table>\n",
       "</div>"
      ],
      "text/plain": [
       "                                      nextDayPlayerEngagement games  \\\n",
       "date                                                                  \n",
       "2018-01-01  [{\"engagementMetricsDate\":\"2018-01-02\",\"player...   NaN   \n",
       "2018-01-02  [{\"engagementMetricsDate\":\"2018-01-03\",\"player...   NaN   \n",
       "2018-01-03  [{\"engagementMetricsDate\":\"2018-01-04\",\"player...   NaN   \n",
       "2018-01-04  [{\"engagementMetricsDate\":\"2018-01-05\",\"player...   NaN   \n",
       "2018-01-05  [{\"engagementMetricsDate\":\"2018-01-06\",\"player...   NaN   \n",
       "\n",
       "                                                      rosters playerBoxScores  \\\n",
       "date                                                                            \n",
       "2018-01-01  [{\"playerId\":400121,\"gameDate\":\"2018-01-01\",\"t...             NaN   \n",
       "2018-01-02  [{\"playerId\":134181,\"gameDate\":\"2018-01-02\",\"t...             NaN   \n",
       "2018-01-03  [{\"playerId\":425492,\"gameDate\":\"2018-01-03\",\"t...             NaN   \n",
       "2018-01-04  [{\"playerId\":282332,\"gameDate\":\"2018-01-04\",\"t...             NaN   \n",
       "2018-01-05  [{\"playerId\":282332,\"gameDate\":\"2018-01-05\",\"t...             NaN   \n",
       "\n",
       "           teamBoxScores                                       transactions  \\\n",
       "date                                                                          \n",
       "2018-01-01           NaN  [{\"transactionId\":340732,\"playerId\":547348,\"pl...   \n",
       "2018-01-02           NaN  [{\"transactionId\":339458,\"playerId\":621173,\"pl...   \n",
       "2018-01-03           NaN  [{\"transactionId\":347527,\"playerId\":572389,\"pl...   \n",
       "2018-01-04           NaN  [{\"transactionId\":339549,\"playerId\":545343,\"pl...   \n",
       "2018-01-05           NaN  [{\"transactionId\":341195,\"playerId\":628336,\"pl...   \n",
       "\n",
       "           standings awards events  \\\n",
       "date                                 \n",
       "2018-01-01       NaN    NaN    NaN   \n",
       "2018-01-02       NaN    NaN    NaN   \n",
       "2018-01-03       NaN    NaN    NaN   \n",
       "2018-01-04       NaN    NaN    NaN   \n",
       "2018-01-05       NaN    NaN    NaN   \n",
       "\n",
       "                                       playerTwitterFollowers  \\\n",
       "date                                                            \n",
       "2018-01-01  [{\"date\":\"2018-01-01\",\"playerId\":545361,\"playe...   \n",
       "2018-01-02                                                NaN   \n",
       "2018-01-03                                                NaN   \n",
       "2018-01-04                                                NaN   \n",
       "2018-01-05                                                NaN   \n",
       "\n",
       "                                         teamTwitterFollowers  \n",
       "date                                                           \n",
       "2018-01-01  [{\"date\":\"2018-01-01\",\"teamId\":147,\"teamName\":...  \n",
       "2018-01-02                                                NaN  \n",
       "2018-01-03                                                NaN  \n",
       "2018-01-04                                                NaN  \n",
       "2018-01-05                                                NaN  "
      ]
     },
     "execution_count": 11,
     "metadata": {},
     "output_type": "execute_result"
    }
   ],
   "source": [
    "train_data.head()"
   ]
  },
  {
   "cell_type": "code",
   "execution_count": 12,
   "id": "3ce3cefa",
   "metadata": {},
   "outputs": [],
   "source": [
    "# train_data = train_data[train_data.index > '2021-01-01']"
   ]
  },
  {
   "cell_type": "code",
   "execution_count": 13,
   "id": "d1e72e8e",
   "metadata": {},
   "outputs": [],
   "source": [
    "from sklearn.pipeline import FeatureUnion, Pipeline\n",
    "from sklearn.compose import ColumnTransformer\n",
    "from sklearn.preprocessing import FunctionTransformer\n",
    "from sklearn.base import BaseEstimator, TransformerMixin\n",
    "import pandas as pd\n",
    "\n",
    "\n",
    "def pandas_hstack(Xs):\n",
    "    return pd.concat([X.reset_index(drop=True) for X in Xs], axis=1)\n",
    "\n",
    "class PdColumnTransformer(ColumnTransformer):\n",
    "    def _hstack(self, Xs):\n",
    "        return pandas_hstack(Xs)\n",
    "\n",
    "class PdFeatureUnion(FeatureUnion):\n",
    "    def _hstack(self, Xs):\n",
    "        return pandas_hstack(Xs)\n",
    "\n",
    "def unpack_json(json_str):\n",
    "    return np.nan if pd.isna(json_str) else pd.read_json(json_str)\n",
    "\n",
    "def unpack_column(series: pd.DataFrame) -> pd.DataFrame:\n",
    "    def _unpack_row(index, row):\n",
    "        out_df = unpack_json(row)\n",
    "        out_df = out_df.assign(date=index)\n",
    "        return out_df\n",
    "    \n",
    "    return pd.concat([_unpack_row(index, row)\n",
    "                      for index, row in series.iteritems()\n",
    "                      if pd.notna(row)], ignore_index=True)\n",
    "\n",
    "def make_unpack_tmf(column_name):\n",
    "    return PdColumnTransformer([(column_name, FunctionTransformer(unpack_column), column_name,\n",
    "                                        )])"
   ]
  },
  {
   "cell_type": "markdown",
   "id": "d01747e8",
   "metadata": {},
   "source": [
    "### rosters "
   ]
  },
  {
   "cell_type": "code",
   "execution_count": 14,
   "id": "0edf5501",
   "metadata": {},
   "outputs": [],
   "source": [
    "unpack_rosters = make_unpack_tmf('rosters')"
   ]
  },
  {
   "cell_type": "code",
   "execution_count": 15,
   "id": "51e48cd3",
   "metadata": {},
   "outputs": [],
   "source": [
    "rosters = unpack_rosters.fit_transform(train_data)"
   ]
  },
  {
   "cell_type": "code",
   "execution_count": 16,
   "id": "f4c2bf93",
   "metadata": {},
   "outputs": [
    {
     "data": {
      "text/html": [
       "<div>\n",
       "<style scoped>\n",
       "    .dataframe tbody tr th:only-of-type {\n",
       "        vertical-align: middle;\n",
       "    }\n",
       "\n",
       "    .dataframe tbody tr th {\n",
       "        vertical-align: top;\n",
       "    }\n",
       "\n",
       "    .dataframe thead th {\n",
       "        text-align: right;\n",
       "    }\n",
       "</style>\n",
       "<table border=\"1\" class=\"dataframe\">\n",
       "  <thead>\n",
       "    <tr style=\"text-align: right;\">\n",
       "      <th></th>\n",
       "      <th>playerId</th>\n",
       "      <th>gameDate</th>\n",
       "      <th>teamId</th>\n",
       "      <th>statusCode</th>\n",
       "      <th>status</th>\n",
       "      <th>date</th>\n",
       "    </tr>\n",
       "  </thead>\n",
       "  <tbody>\n",
       "    <tr>\n",
       "      <th>0</th>\n",
       "      <td>400121</td>\n",
       "      <td>2018-01-01</td>\n",
       "      <td>116</td>\n",
       "      <td>A</td>\n",
       "      <td>Active</td>\n",
       "      <td>2018-01-01</td>\n",
       "    </tr>\n",
       "    <tr>\n",
       "      <th>1</th>\n",
       "      <td>408045</td>\n",
       "      <td>2018-01-01</td>\n",
       "      <td>142</td>\n",
       "      <td>A</td>\n",
       "      <td>Active</td>\n",
       "      <td>2018-01-01</td>\n",
       "    </tr>\n",
       "    <tr>\n",
       "      <th>2</th>\n",
       "      <td>425492</td>\n",
       "      <td>2018-01-01</td>\n",
       "      <td>120</td>\n",
       "      <td>A</td>\n",
       "      <td>Active</td>\n",
       "      <td>2018-01-01</td>\n",
       "    </tr>\n",
       "    <tr>\n",
       "      <th>3</th>\n",
       "      <td>429664</td>\n",
       "      <td>2018-01-01</td>\n",
       "      <td>136</td>\n",
       "      <td>A</td>\n",
       "      <td>Active</td>\n",
       "      <td>2018-01-01</td>\n",
       "    </tr>\n",
       "    <tr>\n",
       "      <th>4</th>\n",
       "      <td>431151</td>\n",
       "      <td>2018-01-01</td>\n",
       "      <td>121</td>\n",
       "      <td>A</td>\n",
       "      <td>Active</td>\n",
       "      <td>2018-01-01</td>\n",
       "    </tr>\n",
       "  </tbody>\n",
       "</table>\n",
       "</div>"
      ],
      "text/plain": [
       "   playerId    gameDate  teamId statusCode  status       date\n",
       "0    400121  2018-01-01     116          A  Active 2018-01-01\n",
       "1    408045  2018-01-01     142          A  Active 2018-01-01\n",
       "2    425492  2018-01-01     120          A  Active 2018-01-01\n",
       "3    429664  2018-01-01     136          A  Active 2018-01-01\n",
       "4    431151  2018-01-01     121          A  Active 2018-01-01"
      ]
     },
     "execution_count": 16,
     "metadata": {},
     "output_type": "execute_result"
    }
   ],
   "source": [
    "rosters.head()"
   ]
  },
  {
   "cell_type": "markdown",
   "id": "5b6981bb",
   "metadata": {},
   "source": [
    "### players stats boxscores "
   ]
  },
  {
   "cell_type": "code",
   "execution_count": 17,
   "id": "f28cb288",
   "metadata": {},
   "outputs": [],
   "source": [
    "unpack_boxscores = make_unpack_tmf('playerBoxScores')"
   ]
  },
  {
   "cell_type": "code",
   "execution_count": 18,
   "id": "0d11a7a9",
   "metadata": {},
   "outputs": [],
   "source": [
    "def player_stats_preprocessing(df: pd.DataFrame) -> pd.DataFrame:\n",
    "    to_keep = ['date', 'teamId', 'playerId', 'teamName', 'gameDate']\n",
    "    return (df[to_keep].drop_duplicates().\n",
    "            reset_index(drop=True))"
   ]
  },
  {
   "cell_type": "code",
   "execution_count": 19,
   "id": "45aba66e",
   "metadata": {},
   "outputs": [],
   "source": [
    "unpack_boxscores = make_unpack_tmf('playerBoxScores')\n",
    "player_game_stats_pipeline = Pipeline([('unpack', unpack_boxscores),\n",
    "                                       ('preprocessing', FunctionTransformer(player_stats_preprocessing))])"
   ]
  },
  {
   "cell_type": "code",
   "execution_count": 20,
   "id": "e733eebc",
   "metadata": {},
   "outputs": [
    {
     "data": {
      "text/plain": [
       "Pipeline(steps=[('unpack',\n",
       "                 PdColumnTransformer(transformers=[('playerBoxScores',\n",
       "                                                    FunctionTransformer(func=<function unpack_column at 0x7f79cdcb8f70>),\n",
       "                                                    'playerBoxScores')])),\n",
       "                ('preprocessing',\n",
       "                 FunctionTransformer(func=<function player_stats_preprocessing at 0x7f79ce3de940>))])"
      ]
     },
     "execution_count": 20,
     "metadata": {},
     "output_type": "execute_result"
    }
   ],
   "source": [
    "player_game_stats = player_game_stats_pipeline.fit_transform(train_data)\n",
    "\n",
    "player_game_stats_pipeline"
   ]
  },
  {
   "cell_type": "code",
   "execution_count": 28,
   "id": "d8a4e31a",
   "metadata": {},
   "outputs": [],
   "source": [
    "test_players = pp.query('player_in_test')"
   ]
  },
  {
   "cell_type": "code",
   "execution_count": 38,
   "id": "306193ec",
   "metadata": {},
   "outputs": [
    {
     "data": {
      "text/plain": [
       "0.9612468407750632"
      ]
     },
     "execution_count": 38,
     "metadata": {},
     "output_type": "execute_result"
    }
   ],
   "source": [
    "test_players['playerId'].isin(player_game_stats['playerId'].unique()).mean()"
   ]
  },
  {
   "cell_type": "code",
   "execution_count": 33,
   "id": "adb4005d",
   "metadata": {},
   "outputs": [
    {
     "data": {
      "text/plain": [
       "2004"
      ]
     },
     "execution_count": 33,
     "metadata": {},
     "output_type": "execute_result"
    }
   ],
   "source": [
    "player_game_stats['playerId'].nunique()"
   ]
  },
  {
   "cell_type": "code",
   "execution_count": 42,
   "id": "c7dd045b",
   "metadata": {},
   "outputs": [
    {
     "data": {
      "text/plain": [
       "0.9814658803706824"
      ]
     },
     "execution_count": 42,
     "metadata": {},
     "output_type": "execute_result"
    }
   ],
   "source": [
    "test_players['playerId'].isin(rosters.playerId.unique()).mean()"
   ]
  },
  {
   "cell_type": "code",
   "execution_count": 35,
   "id": "e4b2debd",
   "metadata": {},
   "outputs": [
    {
     "data": {
      "text/plain": [
       "1187"
      ]
     },
     "execution_count": 35,
     "metadata": {},
     "output_type": "execute_result"
    }
   ],
   "source": [
    "test_players['playerId'].nunique()"
   ]
  },
  {
   "cell_type": "markdown",
   "id": "c6320bf7",
   "metadata": {},
   "source": [
    "### season"
   ]
  },
  {
   "cell_type": "code",
   "execution_count": 20,
   "id": "729f3d85",
   "metadata": {},
   "outputs": [],
   "source": [
    "from typing import List\n",
    "\n",
    "\n",
    "def date_preprocessing(df,\n",
    "                       path_to_season: str,\n",
    "                       dt_col: str = 'date',\n",
    "                       date_attr: List[str] = ['year', 'month']):\n",
    "    assert 'year' in date_attr, \\\n",
    "            'year attr must be on the date_attr list'\n",
    "    seasons = pd.read_csv(path_to_season)\n",
    "    \n",
    "    # adding date attr\n",
    "    for attr in date_attr:\n",
    "        attr = attr.lower()\n",
    "        df[attr] = getattr(df[dt_col].dt, attr)\n",
    "\n",
    "    season_df = pd.merge(df, seasons, left_on='year', right_on='seasonId')\n",
    "\n",
    "    season_df['inSeason'] = (season_df['date'].between(\n",
    "                                    season_df['regularSeasonStartDate'],\n",
    "                                    season_df['postSeasonEndDate'],\n",
    "                                    inclusive = True\n",
    "                                    )\n",
    "                                  )\n",
    "\n",
    "    season_df['seasonPart'] = np.select(\n",
    "      [\n",
    "        season_df['date'] < season_df['preSeasonStartDate'], \n",
    "        season_df['date'] < season_df['regularSeasonStartDate'],\n",
    "        season_df['date'] <= season_df['lastDate1stHalf'],\n",
    "        season_df['date'] < season_df['firstDate2ndHalf'],\n",
    "        season_df['date'] <= season_df['regularSeasonEndDate'],\n",
    "        season_df['date'] < season_df['postSeasonStartDate'],\n",
    "        season_df['date'] <= season_df['postSeasonEndDate'],\n",
    "        season_df['date'] > season_df['postSeasonEndDate']\n",
    "      ], \n",
    "      [\n",
    "        'Offseason',\n",
    "        'Preseason',\n",
    "        'Reg Season 1st Half',\n",
    "        'All-Star Break',\n",
    "        'Reg Season 2nd Half',\n",
    "        'Between Reg and Postseason',\n",
    "        'Postseason',\n",
    "        'Offseason'\n",
    "      ], \n",
    "      default = np.nan\n",
    "      )\n",
    "\n",
    "    season_df.drop(seasons.columns, axis=1, inplace=True)\n",
    "    \n",
    "    return season_df"
   ]
  },
  {
   "cell_type": "code",
   "execution_count": 21,
   "id": "4a224f9f",
   "metadata": {},
   "outputs": [],
   "source": [
    "### template"
   ]
  },
  {
   "cell_type": "code",
   "execution_count": 22,
   "id": "e74ec068",
   "metadata": {},
   "outputs": [],
   "source": [
    "dates = train_data.reset_index()[['date']]"
   ]
  },
  {
   "cell_type": "code",
   "execution_count": 23,
   "id": "dd9d6d72",
   "metadata": {},
   "outputs": [
    {
     "name": "stderr",
     "output_type": "stream",
     "text": [
      "<ipython-input-20-cf85cdc2b8d2>:15: FutureWarning: Series.dt.weekofyear and Series.dt.week have been deprecated.  Please use Series.dt.isocalendar().week instead.\n",
      "  df[attr] = getattr(df[dt_col].dt, attr)\n"
     ]
    }
   ],
   "source": [
    "dates = date_preprocessing(dates, RAW_PATH / 'seasons.csv',\n",
    "                   date_attr=['year', 'month', 'week'])"
   ]
  },
  {
   "cell_type": "code",
   "execution_count": 24,
   "id": "44610f8a",
   "metadata": {},
   "outputs": [
    {
     "data": {
      "text/html": [
       "<div>\n",
       "<style scoped>\n",
       "    .dataframe tbody tr th:only-of-type {\n",
       "        vertical-align: middle;\n",
       "    }\n",
       "\n",
       "    .dataframe tbody tr th {\n",
       "        vertical-align: top;\n",
       "    }\n",
       "\n",
       "    .dataframe thead th {\n",
       "        text-align: right;\n",
       "    }\n",
       "</style>\n",
       "<table border=\"1\" class=\"dataframe\">\n",
       "  <thead>\n",
       "    <tr style=\"text-align: right;\">\n",
       "      <th></th>\n",
       "      <th>date</th>\n",
       "      <th>year</th>\n",
       "      <th>month</th>\n",
       "      <th>week</th>\n",
       "      <th>inSeason</th>\n",
       "      <th>seasonPart</th>\n",
       "    </tr>\n",
       "  </thead>\n",
       "  <tbody>\n",
       "    <tr>\n",
       "      <th>0</th>\n",
       "      <td>2018-01-01</td>\n",
       "      <td>2018</td>\n",
       "      <td>1</td>\n",
       "      <td>1</td>\n",
       "      <td>False</td>\n",
       "      <td>Offseason</td>\n",
       "    </tr>\n",
       "    <tr>\n",
       "      <th>1</th>\n",
       "      <td>2018-01-02</td>\n",
       "      <td>2018</td>\n",
       "      <td>1</td>\n",
       "      <td>1</td>\n",
       "      <td>False</td>\n",
       "      <td>Offseason</td>\n",
       "    </tr>\n",
       "    <tr>\n",
       "      <th>2</th>\n",
       "      <td>2018-01-03</td>\n",
       "      <td>2018</td>\n",
       "      <td>1</td>\n",
       "      <td>1</td>\n",
       "      <td>False</td>\n",
       "      <td>Offseason</td>\n",
       "    </tr>\n",
       "    <tr>\n",
       "      <th>3</th>\n",
       "      <td>2018-01-04</td>\n",
       "      <td>2018</td>\n",
       "      <td>1</td>\n",
       "      <td>1</td>\n",
       "      <td>False</td>\n",
       "      <td>Offseason</td>\n",
       "    </tr>\n",
       "    <tr>\n",
       "      <th>4</th>\n",
       "      <td>2018-01-05</td>\n",
       "      <td>2018</td>\n",
       "      <td>1</td>\n",
       "      <td>1</td>\n",
       "      <td>False</td>\n",
       "      <td>Offseason</td>\n",
       "    </tr>\n",
       "    <tr>\n",
       "      <th>...</th>\n",
       "      <td>...</td>\n",
       "      <td>...</td>\n",
       "      <td>...</td>\n",
       "      <td>...</td>\n",
       "      <td>...</td>\n",
       "      <td>...</td>\n",
       "    </tr>\n",
       "    <tr>\n",
       "      <th>1211</th>\n",
       "      <td>2021-04-26</td>\n",
       "      <td>2021</td>\n",
       "      <td>4</td>\n",
       "      <td>17</td>\n",
       "      <td>True</td>\n",
       "      <td>Reg Season 1st Half</td>\n",
       "    </tr>\n",
       "    <tr>\n",
       "      <th>1212</th>\n",
       "      <td>2021-04-27</td>\n",
       "      <td>2021</td>\n",
       "      <td>4</td>\n",
       "      <td>17</td>\n",
       "      <td>True</td>\n",
       "      <td>Reg Season 1st Half</td>\n",
       "    </tr>\n",
       "    <tr>\n",
       "      <th>1213</th>\n",
       "      <td>2021-04-28</td>\n",
       "      <td>2021</td>\n",
       "      <td>4</td>\n",
       "      <td>17</td>\n",
       "      <td>True</td>\n",
       "      <td>Reg Season 1st Half</td>\n",
       "    </tr>\n",
       "    <tr>\n",
       "      <th>1214</th>\n",
       "      <td>2021-04-29</td>\n",
       "      <td>2021</td>\n",
       "      <td>4</td>\n",
       "      <td>17</td>\n",
       "      <td>True</td>\n",
       "      <td>Reg Season 1st Half</td>\n",
       "    </tr>\n",
       "    <tr>\n",
       "      <th>1215</th>\n",
       "      <td>2021-04-30</td>\n",
       "      <td>2021</td>\n",
       "      <td>4</td>\n",
       "      <td>17</td>\n",
       "      <td>True</td>\n",
       "      <td>Reg Season 1st Half</td>\n",
       "    </tr>\n",
       "  </tbody>\n",
       "</table>\n",
       "<p>1216 rows × 6 columns</p>\n",
       "</div>"
      ],
      "text/plain": [
       "           date  year  month  week  inSeason           seasonPart\n",
       "0    2018-01-01  2018      1     1     False            Offseason\n",
       "1    2018-01-02  2018      1     1     False            Offseason\n",
       "2    2018-01-03  2018      1     1     False            Offseason\n",
       "3    2018-01-04  2018      1     1     False            Offseason\n",
       "4    2018-01-05  2018      1     1     False            Offseason\n",
       "...         ...   ...    ...   ...       ...                  ...\n",
       "1211 2021-04-26  2021      4    17      True  Reg Season 1st Half\n",
       "1212 2021-04-27  2021      4    17      True  Reg Season 1st Half\n",
       "1213 2021-04-28  2021      4    17      True  Reg Season 1st Half\n",
       "1214 2021-04-29  2021      4    17      True  Reg Season 1st Half\n",
       "1215 2021-04-30  2021      4    17      True  Reg Season 1st Half\n",
       "\n",
       "[1216 rows x 6 columns]"
      ]
     },
     "execution_count": 24,
     "metadata": {},
     "output_type": "execute_result"
    }
   ],
   "source": [
    "dates"
   ]
  },
  {
   "cell_type": "markdown",
   "id": "88721839",
   "metadata": {},
   "source": [
    "### teams"
   ]
  },
  {
   "cell_type": "code",
   "execution_count": 21,
   "id": "c8b2ede2",
   "metadata": {},
   "outputs": [],
   "source": [
    "from datetime import datetime as dt"
   ]
  },
  {
   "cell_type": "code",
   "execution_count": 22,
   "id": "78d7635e",
   "metadata": {},
   "outputs": [],
   "source": [
    "players = pd.read_csv(RAW_PATH / 'players.csv', parse_dates=['DOB', 'mlbDebutDate'])"
   ]
  },
  {
   "cell_type": "code",
   "execution_count": 23,
   "id": "251e4fff",
   "metadata": {},
   "outputs": [],
   "source": [
    "def player_preprocessing(players: pd.DataFrame) -> pd.DataFrame:\n",
    "    players.rename(columns={'playerForTestSetAndFuturePreds': 'player_in_test'}, inplace=True)\n",
    "    # fill nan values with false\n",
    "    players['player_in_test'] = players['player_in_test'].fillna(False)\n",
    "    \n",
    "    #should be dt.now() but fow now lets fix it\n",
    "    current_date = pd.to_datetime('2021-06-14')\n",
    "#     players['playerAge'] =  (current_date - players['DOB']).dt.total_seconds()\n",
    "#     players['playerTimeSinceDebut'] = (current_date - players['mlbDebutDate']).dt.total_seconds()\n",
    "#     players['playerDebutAge'] = (players['mlbDebutDate'] - players['DOB']).dt.total_seconds()\n",
    "#     # seconds to year\n",
    "#     players[['playerAge', 'playerTimeSinceDebut', 'playerDebutAge']] /= 60 * 60 * 24 * 365\n",
    "    # weight to kg and height to cm\n",
    "    players['weight'] *= 0.453592\n",
    "    players['height'] = players['heightInches'] * 2.54 / 100\n",
    "    players['playerBMI'] = players['weight'] / np.power(players['height'], 2)\n",
    "    \n",
    "    # drop unnecessary features\n",
    "    to_drop = ['birthCity', 'heightInches',\n",
    "               'birthStateProvince',\n",
    "               'primaryPositionCode', 'playerName']\n",
    "    players.drop(to_drop, inplace=True, axis=1)\n",
    "    return players"
   ]
  },
  {
   "cell_type": "code",
   "execution_count": 24,
   "id": "42c28043",
   "metadata": {},
   "outputs": [
    {
     "data": {
      "text/plain": [
       "playerId                          0.000000\n",
       "playerName                        0.000000\n",
       "DOB                               0.000000\n",
       "mlbDebutDate                      0.017467\n",
       "birthCity                         0.000000\n",
       "birthStateProvince                0.264435\n",
       "birthCountry                      0.000000\n",
       "heightInches                      0.000000\n",
       "weight                            0.000000\n",
       "primaryPositionCode               0.000000\n",
       "primaryPositionName               0.000000\n",
       "playerForTestSetAndFuturePreds    0.001941\n",
       "dtype: float64"
      ]
     },
     "execution_count": 24,
     "metadata": {},
     "output_type": "execute_result"
    }
   ],
   "source": [
    "players.isna().mean()"
   ]
  },
  {
   "cell_type": "code",
   "execution_count": 25,
   "id": "6adf85fc",
   "metadata": {},
   "outputs": [],
   "source": [
    "pp = player_preprocessing(players)"
   ]
  },
  {
   "cell_type": "code",
   "execution_count": 26,
   "id": "4421fc12",
   "metadata": {},
   "outputs": [
    {
     "data": {
      "text/plain": [
       "playerId               0.000000\n",
       "DOB                    0.000000\n",
       "mlbDebutDate           0.017467\n",
       "birthCountry           0.000000\n",
       "weight                 0.000000\n",
       "primaryPositionName    0.000000\n",
       "player_in_test         0.000000\n",
       "height                 0.000000\n",
       "playerBMI              0.000000\n",
       "dtype: float64"
      ]
     },
     "execution_count": 26,
     "metadata": {},
     "output_type": "execute_result"
    }
   ],
   "source": [
    "pp.isna().mean()"
   ]
  },
  {
   "cell_type": "markdown",
   "id": "f70d340b",
   "metadata": {},
   "source": [
    "### target "
   ]
  },
  {
   "cell_type": "code",
   "execution_count": 31,
   "id": "68376c45",
   "metadata": {},
   "outputs": [],
   "source": [
    "# transforming\n",
    "def target_preprocessing(target: pd.DataFrame) -> pd.DataFrame:\n",
    "    target.drop('engagementMetricsDate', axis=1, inplace=True)\n",
    "    target['target_avg'] = target[[f'target{i}' for i in range(1, 5)]].mean(axis=1)\n",
    "    return target"
   ]
  },
  {
   "cell_type": "code",
   "execution_count": 32,
   "id": "8a57480a",
   "metadata": {},
   "outputs": [],
   "source": [
    "unpack_target_tmf = make_unpack_tmf('nextDayPlayerEngagement')\n",
    "\n",
    "target_pipeline = Pipeline([('unpack_target', unpack_target_tmf),\n",
    "                            ('preprocessing', FunctionTransformer(target_preprocessing))])"
   ]
  },
  {
   "cell_type": "code",
   "execution_count": 33,
   "id": "25746443",
   "metadata": {},
   "outputs": [
    {
     "data": {
      "text/plain": [
       "Pipeline(steps=[('unpack_target',\n",
       "                 PdColumnTransformer(transformers=[('nextDayPlayerEngagement',\n",
       "                                                    FunctionTransformer(func=<function unpack_column at 0x7f59dae74f70>),\n",
       "                                                    'nextDayPlayerEngagement')])),\n",
       "                ('preprocessing',\n",
       "                 FunctionTransformer(func=<function target_preprocessing at 0x7f593b6a95e0>))])"
      ]
     },
     "execution_count": 33,
     "metadata": {},
     "output_type": "execute_result"
    }
   ],
   "source": [
    "target_pipeline"
   ]
  },
  {
   "cell_type": "code",
   "execution_count": 34,
   "id": "c7236a63",
   "metadata": {},
   "outputs": [
    {
     "name": "stdout",
     "output_type": "stream",
     "text": [
      "CPU times: user 16 s, sys: 248 ms, total: 16.3 s\n",
      "Wall time: 16.3 s\n"
     ]
    }
   ],
   "source": [
    "%time target = target_pipeline.fit_transform(train_data)"
   ]
  },
  {
   "cell_type": "code",
   "execution_count": 35,
   "id": "3022300a",
   "metadata": {},
   "outputs": [
    {
     "data": {
      "text/html": [
       "<div>\n",
       "<style scoped>\n",
       "    .dataframe tbody tr th:only-of-type {\n",
       "        vertical-align: middle;\n",
       "    }\n",
       "\n",
       "    .dataframe tbody tr th {\n",
       "        vertical-align: top;\n",
       "    }\n",
       "\n",
       "    .dataframe thead th {\n",
       "        text-align: right;\n",
       "    }\n",
       "</style>\n",
       "<table border=\"1\" class=\"dataframe\">\n",
       "  <thead>\n",
       "    <tr style=\"text-align: right;\">\n",
       "      <th></th>\n",
       "      <th>playerId</th>\n",
       "      <th>target1</th>\n",
       "      <th>target2</th>\n",
       "      <th>target3</th>\n",
       "      <th>target4</th>\n",
       "      <th>date</th>\n",
       "      <th>target_avg</th>\n",
       "    </tr>\n",
       "  </thead>\n",
       "  <tbody>\n",
       "    <tr>\n",
       "      <th>0</th>\n",
       "      <td>628317</td>\n",
       "      <td>0.011167</td>\n",
       "      <td>4.474708</td>\n",
       "      <td>0.005168</td>\n",
       "      <td>5.735294</td>\n",
       "      <td>2018-01-01</td>\n",
       "      <td>2.556584</td>\n",
       "    </tr>\n",
       "    <tr>\n",
       "      <th>1</th>\n",
       "      <td>547989</td>\n",
       "      <td>0.042993</td>\n",
       "      <td>5.593385</td>\n",
       "      <td>0.045033</td>\n",
       "      <td>2.794118</td>\n",
       "      <td>2018-01-01</td>\n",
       "      <td>2.118882</td>\n",
       "    </tr>\n",
       "    <tr>\n",
       "      <th>2</th>\n",
       "      <td>519317</td>\n",
       "      <td>0.974327</td>\n",
       "      <td>56.177043</td>\n",
       "      <td>13.693746</td>\n",
       "      <td>64.166667</td>\n",
       "      <td>2018-01-01</td>\n",
       "      <td>33.752945</td>\n",
       "    </tr>\n",
       "    <tr>\n",
       "      <th>3</th>\n",
       "      <td>607625</td>\n",
       "      <td>0.006700</td>\n",
       "      <td>2.675097</td>\n",
       "      <td>0.005168</td>\n",
       "      <td>1.862745</td>\n",
       "      <td>2018-01-01</td>\n",
       "      <td>1.137428</td>\n",
       "    </tr>\n",
       "    <tr>\n",
       "      <th>4</th>\n",
       "      <td>592547</td>\n",
       "      <td>0.001117</td>\n",
       "      <td>0.632296</td>\n",
       "      <td>0.002953</td>\n",
       "      <td>0.931373</td>\n",
       "      <td>2018-01-01</td>\n",
       "      <td>0.391934</td>\n",
       "    </tr>\n",
       "  </tbody>\n",
       "</table>\n",
       "</div>"
      ],
      "text/plain": [
       "   playerId   target1    target2    target3    target4       date  target_avg\n",
       "0    628317  0.011167   4.474708   0.005168   5.735294 2018-01-01    2.556584\n",
       "1    547989  0.042993   5.593385   0.045033   2.794118 2018-01-01    2.118882\n",
       "2    519317  0.974327  56.177043  13.693746  64.166667 2018-01-01   33.752945\n",
       "3    607625  0.006700   2.675097   0.005168   1.862745 2018-01-01    1.137428\n",
       "4    592547  0.001117   0.632296   0.002953   0.931373 2018-01-01    0.391934"
      ]
     },
     "execution_count": 35,
     "metadata": {},
     "output_type": "execute_result"
    }
   ],
   "source": [
    "target.head()"
   ]
  },
  {
   "cell_type": "markdown",
   "id": "2cd42319",
   "metadata": {},
   "source": [
    "### standings"
   ]
  },
  {
   "cell_type": "code",
   "execution_count": 36,
   "id": "bf7d0329",
   "metadata": {},
   "outputs": [],
   "source": [
    "# def get_feature_by_dtype(df: pd.DataFrame, dtype: np.dtype):\n",
    "#     return [feature for feature, value in df.items()\n",
    "#             if value.dtype == dtype]\n",
    "\n",
    "# def standing_preprocessing(df: pd.DataFrame) -> pd.DataFrame:\n",
    "#     def _streak(df: pd.DataFrame):\n",
    "#         df['streakCode'] = df['streakCode'].fillna('W0')\n",
    "#         winning_idx = df['streakCode'].str.startswith('W')\n",
    "#         game_streak = df['streakCode'].apply(lambda x: x[1:]).astype(np.float32)        \n",
    "#         # double column\n",
    "# #         df.loc[winning_idx, 'winStreak'] = streak[winning_idx]\n",
    "# #         df.loc[~winning_idx, 'loseStreak'] = streak[~winning_idx]\n",
    "# #         df.fillna(0, subset=['winStreak', 'loseStreak'], inplace=True)\n",
    "#         # one column\n",
    "#         df['gameStreak'] = game_streak * np.where(winning_idx, 1, -1)\n",
    "        \n",
    "#         df.drop('streakCode', axis=1, inplace=True)\n",
    "#         return df\n",
    "\n",
    "#     # streak\n",
    "#     df = _streak(df)\n",
    "#     # min value set to 0\n",
    "#     df.loc[:, 'divisionRank'] -= 1\n",
    "#     # normalize from 0 to 1\n",
    "#     df.loc[:, 'leagueRank'] /= 15\n",
    "#     # normalize from 0 to 1 and set nan values to 0.5\n",
    "#     df.loc[:, 'wildCardRank'] = np.where(pd.notna(df['wildCardRank']),\n",
    "#                                   df['wildCardRank'] / 15,\n",
    "#                                   0.5)\n",
    "\n",
    "#     # columns with nan as - or none\n",
    "#     nan_as_tokens = ['leagueGamesBack',\n",
    "#                   'sportGamesBack',\n",
    "#                   'divisionGamesBack',\n",
    "#                   'eliminationNumber',\n",
    "#                   'wildCardEliminationNumber',\n",
    "#                   'wildCardLeader']\n",
    "#     df.loc[:, nan_as_tokens] = df.loc[:, nan_as_tokens].replace({'-': np.nan, None: np.nan})\n",
    "\n",
    "#     # games back\n",
    "#     games_back_cols = ['leagueGamesBack', 'divisionGamesBack']\n",
    "#     # filling nan values as 0\n",
    "#     df.loc[:, games_back_cols] = df[games_back_cols].astype(np.float32).fillna(0)\n",
    "#     # sportGamesBack == leagueGamesBack, removing redundancy\n",
    "#     df.drop('sportGamesBack', axis=1, inplace=True)\n",
    "\n",
    "    \n",
    "#     # elimination games,  for the moment lets fill na with -1\n",
    "#     elimination_cols = ['eliminationNumber',\n",
    "#                         'wildCardEliminationNumber']\n",
    "#     df.loc[:, elimination_cols] = (df.loc[:, elimination_cols].replace({'E': -1}).\n",
    "#                                    astype(np.float32).fillna(-1))\n",
    "    \n",
    "#     # to boolean and fill na with false\n",
    "#     df.loc[:, 'wildCardLeader'] = df['wildCardLeader'].fillna(False).astype(np.bool_)\n",
    "    \n",
    "#     # boolean to float32\n",
    "#     boolean_features = get_feature_by_dtype(df, np.bool_)\n",
    "#     df.loc[:, boolean_features] = df[boolean_features].astype(np.float32)\n",
    "    \n",
    "#     # fillna with -1\n",
    "#     al_nl_cols = ['alWins', 'alLosses', 'nlWins', 'nlLosses']\n",
    "#     df.loc[:, al_nl_cols] = df[al_nl_cols].fillna(-1)\n",
    "    \n",
    "# #     # dropping gameDate \n",
    "# #     to_drop = ['gameDate', 'divisionId', 'teamName',\n",
    "# #                 'divisionChamp', 'season', \n",
    "# #                 'turfWins', 'turfLosses',\n",
    "# #                 'grassWins', 'grassLosses',\n",
    "# #                 'dayWins', 'dayLosses', \n",
    "# #                 'nightWins', 'nightLosses', \n",
    "# #                 'oneRunWins', 'oneRunLosses',\n",
    "# #                 'eliminationNumber', 'wildCardEliminationNumber',\n",
    "# #                 'leagueGamesBack',\n",
    "# #                 'sportGamesBack',\n",
    "# #                 'divisionGamesBack',\n",
    "# #                 'extraInningWins',\n",
    "# #                 'extraInningLosses',\n",
    "# #                'oneRunWins', 'oneRunLosses'\n",
    "# #                 'wildCardLeader']\n",
    "\n",
    "#     df.rename(columns={'pct': 'winPct'}, inplace=True)\n",
    "#     df['total_games'] = df[['wins', 'losses']].sum()\n",
    "#     df['HomeWinPct'] = (df['homeWins'] / df[['homeWins', 'homeLosses']].sum())\n",
    "#     df['AwayWinPct'] = (df['awayWins'] / df[['awayWins', 'awayLosses']].sum())\n",
    "#     df['lastTenWinsPct'] = df['lastTenWins'] / 10\n",
    "    \n",
    "    \n",
    "    \n",
    "#     df.drop(to_drop,\n",
    "#              axis=1, inplace=True)\n",
    "    \n",
    "#     rename_columns = df.columns.drop(['teamId', 'date'])\n",
    "    \n",
    "#     df.rename(columns={f: f'{f}Team' for f in rename_columns}, inplace=True)\n",
    "#     return df"
   ]
  },
  {
   "cell_type": "code",
   "execution_count": 37,
   "id": "e11cc14a",
   "metadata": {},
   "outputs": [],
   "source": [
    "def get_feature_by_dtype(df: pd.DataFrame, dtype: np.dtype):\n",
    "    return [feature for feature, value in df.items()\n",
    "            if value.dtype == dtype]\n",
    "\n",
    "def divide(x, y):\n",
    "    y[y==0] = 1\n",
    "    return x / (y)\n",
    "\n",
    "def standing_preprocessing(df: pd.DataFrame) -> pd.DataFrame:\n",
    "    def _streak(df: pd.DataFrame):\n",
    "        df['streakCode'] = df['streakCode'].fillna('W0')\n",
    "        winning_idx = df['streakCode'].str.startswith('W')\n",
    "        game_streak = df['streakCode'].apply(lambda x: x[1:]).astype(np.float32)        \n",
    "        # double column\n",
    "#         df.loc[winning_idx, 'winStreak'] = streak[winning_idx]\n",
    "#         df.loc[~winning_idx, 'loseStreak'] = streak[~winning_idx]\n",
    "#         df.fillna(0, subset=['winStreak', 'loseStreak'], inplace=True)\n",
    "        # one column\n",
    "        df['gameStreak'] = game_streak * np.where(winning_idx, 1, -1)\n",
    "        \n",
    "        df.drop('streakCode', axis=1, inplace=True)\n",
    "        return df\n",
    "\n",
    "    # streak\n",
    "    df = _streak(df)\n",
    "    # normalize from 0 to 1\n",
    "    df.loc[:, 'leagueRank'] /= 15\n",
    "\n",
    "    df.rename(columns={'pct': 'winPct'}, inplace=True)\n",
    "    df['gamesSoFar'] = df[['wins', 'losses']].sum(axis=1)\n",
    "    df['homeWinPct'] = df['homeWins'] / df[['homeWins', 'homeLosses']].sum(axis=1)\n",
    "    df['awayWinPct'] = df['awayWins'] / df[['awayWins', 'awayLosses']].sum(axis=1)\n",
    "    df['lastTenWinsPct'] = df['lastTenWins'] / 10\n",
    "    df['runsPct'] = divide(df['runsScored'], df[['runsScored', 'runsAllowed']].sum(axis=1))\n",
    "    \n",
    "    # make sure if any div by 0 was occured\n",
    "    pct_columns = [f for f in df.columns\n",
    "                   if f.lower().endswith('pct')]\n",
    "    df[pct_columns] = df[pct_columns].fillna(0)\n",
    "    \n",
    "    \n",
    "    to_keep = ['gamesSoFar', 'homeWinPct', 'awayWinPct', \n",
    "               'lastTenWinsPct', 'winPct', 'leagueRank',\n",
    "               'xWinLossPct', 'runsScored',\n",
    "               'runsAllowed', 'runsPct']\n",
    "    \n",
    "    df = df.loc[:, to_keep + ['teamId', 'date']]\n",
    "    \n",
    "    rename_columns = df.columns.drop(['teamId', 'date'])\n",
    "    \n",
    "    df.rename(columns={f: f'{f}Team' for f in rename_columns}, inplace=True)\n",
    "    return df"
   ]
  },
  {
   "cell_type": "code",
   "execution_count": 38,
   "id": "fd97d57e",
   "metadata": {},
   "outputs": [],
   "source": [
    "standing_pipeline = Pipeline([('unpack', make_unpack_tmf('standings')),\n",
    "                              ('preprocessing', FunctionTransformer(standing_preprocessing))])"
   ]
  },
  {
   "cell_type": "code",
   "execution_count": 39,
   "id": "b6afaa19",
   "metadata": {},
   "outputs": [
    {
     "data": {
      "text/plain": [
       "Pipeline(steps=[('unpack',\n",
       "                 PdColumnTransformer(transformers=[('standings',\n",
       "                                                    FunctionTransformer(func=<function unpack_column at 0x7f59dae74f70>),\n",
       "                                                    'standings')])),\n",
       "                ('preprocessing',\n",
       "                 FunctionTransformer(func=<function standing_preprocessing at 0x7f593c54dd30>))])"
      ]
     },
     "execution_count": 39,
     "metadata": {},
     "output_type": "execute_result"
    }
   ],
   "source": [
    "standing_pipeline"
   ]
  },
  {
   "cell_type": "code",
   "execution_count": 40,
   "id": "78794c57",
   "metadata": {},
   "outputs": [
    {
     "name": "stdout",
     "output_type": "stream",
     "text": [
      "CPU times: user 8.33 s, sys: 9.13 ms, total: 8.34 s\n",
      "Wall time: 8.33 s\n"
     ]
    }
   ],
   "source": [
    "%%time\n",
    "standings = standing_pipeline.fit_transform(train_data) "
   ]
  },
  {
   "cell_type": "code",
   "execution_count": 41,
   "id": "c8546872",
   "metadata": {},
   "outputs": [
    {
     "data": {
      "text/plain": [
       "Index(['gamesSoFarTeam', 'homeWinPctTeam', 'awayWinPctTeam',\n",
       "       'lastTenWinsPctTeam', 'winPctTeam', 'leagueRankTeam', 'xWinLossPctTeam',\n",
       "       'runsScoredTeam', 'runsAllowedTeam', 'runsPctTeam', 'teamId', 'date'],\n",
       "      dtype='object')"
      ]
     },
     "execution_count": 41,
     "metadata": {},
     "output_type": "execute_result"
    }
   ],
   "source": [
    "standings.columns"
   ]
  },
  {
   "cell_type": "code",
   "execution_count": 42,
   "id": "03c98e08",
   "metadata": {},
   "outputs": [
    {
     "data": {
      "text/plain": [
       "gamesSoFarTeam        0.0\n",
       "homeWinPctTeam        0.0\n",
       "awayWinPctTeam        0.0\n",
       "lastTenWinsPctTeam    0.0\n",
       "winPctTeam            0.0\n",
       "leagueRankTeam        0.0\n",
       "xWinLossPctTeam       0.0\n",
       "runsScoredTeam        0.0\n",
       "runsAllowedTeam       0.0\n",
       "runsPctTeam           0.0\n",
       "teamId                0.0\n",
       "date                  0.0\n",
       "dtype: float64"
      ]
     },
     "execution_count": 42,
     "metadata": {},
     "output_type": "execute_result"
    }
   ],
   "source": [
    "standings.isna().mean()"
   ]
  },
  {
   "cell_type": "code",
   "execution_count": 43,
   "id": "9def84db",
   "metadata": {},
   "outputs": [
    {
     "data": {
      "text/html": [
       "<div>\n",
       "<style scoped>\n",
       "    .dataframe tbody tr th:only-of-type {\n",
       "        vertical-align: middle;\n",
       "    }\n",
       "\n",
       "    .dataframe tbody tr th {\n",
       "        vertical-align: top;\n",
       "    }\n",
       "\n",
       "    .dataframe thead th {\n",
       "        text-align: right;\n",
       "    }\n",
       "</style>\n",
       "<table border=\"1\" class=\"dataframe\">\n",
       "  <thead>\n",
       "    <tr style=\"text-align: right;\">\n",
       "      <th></th>\n",
       "      <th>gamesSoFarTeam</th>\n",
       "      <th>homeWinPctTeam</th>\n",
       "      <th>awayWinPctTeam</th>\n",
       "      <th>lastTenWinsPctTeam</th>\n",
       "      <th>winPctTeam</th>\n",
       "      <th>leagueRankTeam</th>\n",
       "      <th>xWinLossPctTeam</th>\n",
       "      <th>runsScoredTeam</th>\n",
       "      <th>runsAllowedTeam</th>\n",
       "      <th>runsPctTeam</th>\n",
       "      <th>teamId</th>\n",
       "      <th>date</th>\n",
       "    </tr>\n",
       "  </thead>\n",
       "  <tbody>\n",
       "    <tr>\n",
       "      <th>0</th>\n",
       "      <td>1</td>\n",
       "      <td>0.0</td>\n",
       "      <td>1.0</td>\n",
       "      <td>0.1</td>\n",
       "      <td>1.0</td>\n",
       "      <td>0.200000</td>\n",
       "      <td>0.0</td>\n",
       "      <td>8</td>\n",
       "      <td>4</td>\n",
       "      <td>0.666667</td>\n",
       "      <td>112</td>\n",
       "      <td>2018-03-29</td>\n",
       "    </tr>\n",
       "    <tr>\n",
       "      <th>1</th>\n",
       "      <td>1</td>\n",
       "      <td>0.0</td>\n",
       "      <td>0.0</td>\n",
       "      <td>0.0</td>\n",
       "      <td>0.0</td>\n",
       "      <td>0.800000</td>\n",
       "      <td>0.0</td>\n",
       "      <td>4</td>\n",
       "      <td>8</td>\n",
       "      <td>0.333333</td>\n",
       "      <td>146</td>\n",
       "      <td>2018-03-29</td>\n",
       "    </tr>\n",
       "    <tr>\n",
       "      <th>2</th>\n",
       "      <td>1</td>\n",
       "      <td>1.0</td>\n",
       "      <td>0.0</td>\n",
       "      <td>0.1</td>\n",
       "      <td>1.0</td>\n",
       "      <td>0.333333</td>\n",
       "      <td>1.0</td>\n",
       "      <td>9</td>\n",
       "      <td>4</td>\n",
       "      <td>0.692308</td>\n",
       "      <td>121</td>\n",
       "      <td>2018-03-29</td>\n",
       "    </tr>\n",
       "    <tr>\n",
       "      <th>3</th>\n",
       "      <td>1</td>\n",
       "      <td>0.0</td>\n",
       "      <td>0.0</td>\n",
       "      <td>0.0</td>\n",
       "      <td>0.0</td>\n",
       "      <td>0.933333</td>\n",
       "      <td>0.0</td>\n",
       "      <td>1</td>\n",
       "      <td>4</td>\n",
       "      <td>0.200000</td>\n",
       "      <td>140</td>\n",
       "      <td>2018-03-29</td>\n",
       "    </tr>\n",
       "    <tr>\n",
       "      <th>4</th>\n",
       "      <td>1</td>\n",
       "      <td>1.0</td>\n",
       "      <td>0.0</td>\n",
       "      <td>0.1</td>\n",
       "      <td>1.0</td>\n",
       "      <td>0.133333</td>\n",
       "      <td>0.0</td>\n",
       "      <td>8</td>\n",
       "      <td>5</td>\n",
       "      <td>0.615385</td>\n",
       "      <td>144</td>\n",
       "      <td>2018-03-29</td>\n",
       "    </tr>\n",
       "  </tbody>\n",
       "</table>\n",
       "</div>"
      ],
      "text/plain": [
       "   gamesSoFarTeam  homeWinPctTeam  awayWinPctTeam  lastTenWinsPctTeam  \\\n",
       "0               1             0.0             1.0                 0.1   \n",
       "1               1             0.0             0.0                 0.0   \n",
       "2               1             1.0             0.0                 0.1   \n",
       "3               1             0.0             0.0                 0.0   \n",
       "4               1             1.0             0.0                 0.1   \n",
       "\n",
       "   winPctTeam  leagueRankTeam  xWinLossPctTeam  runsScoredTeam  \\\n",
       "0         1.0        0.200000              0.0               8   \n",
       "1         0.0        0.800000              0.0               4   \n",
       "2         1.0        0.333333              1.0               9   \n",
       "3         0.0        0.933333              0.0               1   \n",
       "4         1.0        0.133333              0.0               8   \n",
       "\n",
       "   runsAllowedTeam  runsPctTeam  teamId       date  \n",
       "0                4     0.666667     112 2018-03-29  \n",
       "1                8     0.333333     146 2018-03-29  \n",
       "2                4     0.692308     121 2018-03-29  \n",
       "3                4     0.200000     140 2018-03-29  \n",
       "4                5     0.615385     144 2018-03-29  "
      ]
     },
     "execution_count": 43,
     "metadata": {},
     "output_type": "execute_result"
    }
   ],
   "source": [
    "standings.head()"
   ]
  },
  {
   "cell_type": "markdown",
   "id": "5f545ccb",
   "metadata": {},
   "source": [
    "### merge "
   ]
  },
  {
   "cell_type": "code",
   "execution_count": 44,
   "id": "d96f9514",
   "metadata": {},
   "outputs": [],
   "source": [
    "# import gc\n",
    "# del train_data\n",
    "# gc.collect()"
   ]
  },
  {
   "cell_type": "code",
   "execution_count": 45,
   "id": "60b10173",
   "metadata": {},
   "outputs": [],
   "source": [
    "def ffill_forward(df, features, id_feats = ['playerId']):\n",
    "    ff_df = df.groupby(id_feats)[features].ffill()\n",
    "    df.update(ff_df)\n",
    "    return df"
   ]
  },
  {
   "cell_type": "code",
   "execution_count": 46,
   "id": "1fbc25b9",
   "metadata": {},
   "outputs": [],
   "source": [
    "df = target.copy()"
   ]
  },
  {
   "cell_type": "code",
   "execution_count": 47,
   "id": "44aec078",
   "metadata": {},
   "outputs": [],
   "source": [
    "df.sort_values(by=['playerId', 'date'], inplace=True)"
   ]
  },
  {
   "cell_type": "code",
   "execution_count": 48,
   "id": "e36ff50a",
   "metadata": {},
   "outputs": [],
   "source": [
    "df = df.merge(dates, on=['date'], how='left')"
   ]
  },
  {
   "cell_type": "code",
   "execution_count": 49,
   "id": "bae18b83",
   "metadata": {},
   "outputs": [
    {
     "data": {
      "text/html": [
       "<div>\n",
       "<style scoped>\n",
       "    .dataframe tbody tr th:only-of-type {\n",
       "        vertical-align: middle;\n",
       "    }\n",
       "\n",
       "    .dataframe tbody tr th {\n",
       "        vertical-align: top;\n",
       "    }\n",
       "\n",
       "    .dataframe thead th {\n",
       "        text-align: right;\n",
       "    }\n",
       "</style>\n",
       "<table border=\"1\" class=\"dataframe\">\n",
       "  <thead>\n",
       "    <tr style=\"text-align: right;\">\n",
       "      <th></th>\n",
       "      <th>playerId</th>\n",
       "      <th>target1</th>\n",
       "      <th>target2</th>\n",
       "      <th>target3</th>\n",
       "      <th>target4</th>\n",
       "      <th>date</th>\n",
       "      <th>target_avg</th>\n",
       "      <th>year</th>\n",
       "      <th>month</th>\n",
       "      <th>week</th>\n",
       "      <th>inSeason</th>\n",
       "      <th>seasonPart</th>\n",
       "    </tr>\n",
       "  </thead>\n",
       "  <tbody>\n",
       "    <tr>\n",
       "      <th>0</th>\n",
       "      <td>112526</td>\n",
       "      <td>0.055277</td>\n",
       "      <td>5.496109</td>\n",
       "      <td>0.025839</td>\n",
       "      <td>16.176471</td>\n",
       "      <td>2018-01-01</td>\n",
       "      <td>5.438424</td>\n",
       "      <td>2018</td>\n",
       "      <td>1</td>\n",
       "      <td>1</td>\n",
       "      <td>False</td>\n",
       "      <td>Offseason</td>\n",
       "    </tr>\n",
       "    <tr>\n",
       "      <th>1</th>\n",
       "      <td>112526</td>\n",
       "      <td>0.060625</td>\n",
       "      <td>3.252914</td>\n",
       "      <td>0.030486</td>\n",
       "      <td>8.541353</td>\n",
       "      <td>2018-01-02</td>\n",
       "      <td>2.971345</td>\n",
       "      <td>2018</td>\n",
       "      <td>1</td>\n",
       "      <td>1</td>\n",
       "      <td>False</td>\n",
       "      <td>Offseason</td>\n",
       "    </tr>\n",
       "    <tr>\n",
       "      <th>2</th>\n",
       "      <td>112526</td>\n",
       "      <td>0.029341</td>\n",
       "      <td>1.648352</td>\n",
       "      <td>0.032613</td>\n",
       "      <td>10.490112</td>\n",
       "      <td>2018-01-03</td>\n",
       "      <td>3.050104</td>\n",
       "      <td>2018</td>\n",
       "      <td>1</td>\n",
       "      <td>1</td>\n",
       "      <td>False</td>\n",
       "      <td>Offseason</td>\n",
       "    </tr>\n",
       "    <tr>\n",
       "      <th>3</th>\n",
       "      <td>112526</td>\n",
       "      <td>0.014799</td>\n",
       "      <td>2.665894</td>\n",
       "      <td>0.087422</td>\n",
       "      <td>19.091467</td>\n",
       "      <td>2018-01-04</td>\n",
       "      <td>5.464896</td>\n",
       "      <td>2018</td>\n",
       "      <td>1</td>\n",
       "      <td>1</td>\n",
       "      <td>False</td>\n",
       "      <td>Offseason</td>\n",
       "    </tr>\n",
       "    <tr>\n",
       "      <th>4</th>\n",
       "      <td>112526</td>\n",
       "      <td>0.083916</td>\n",
       "      <td>1.161002</td>\n",
       "      <td>0.024759</td>\n",
       "      <td>6.643880</td>\n",
       "      <td>2018-01-05</td>\n",
       "      <td>1.978389</td>\n",
       "      <td>2018</td>\n",
       "      <td>1</td>\n",
       "      <td>1</td>\n",
       "      <td>False</td>\n",
       "      <td>Offseason</td>\n",
       "    </tr>\n",
       "  </tbody>\n",
       "</table>\n",
       "</div>"
      ],
      "text/plain": [
       "   playerId   target1   target2   target3    target4       date  target_avg  \\\n",
       "0    112526  0.055277  5.496109  0.025839  16.176471 2018-01-01    5.438424   \n",
       "1    112526  0.060625  3.252914  0.030486   8.541353 2018-01-02    2.971345   \n",
       "2    112526  0.029341  1.648352  0.032613  10.490112 2018-01-03    3.050104   \n",
       "3    112526  0.014799  2.665894  0.087422  19.091467 2018-01-04    5.464896   \n",
       "4    112526  0.083916  1.161002  0.024759   6.643880 2018-01-05    1.978389   \n",
       "\n",
       "   year  month  week  inSeason seasonPart  \n",
       "0  2018      1     1     False  Offseason  \n",
       "1  2018      1     1     False  Offseason  \n",
       "2  2018      1     1     False  Offseason  \n",
       "3  2018      1     1     False  Offseason  \n",
       "4  2018      1     1     False  Offseason  "
      ]
     },
     "execution_count": 49,
     "metadata": {},
     "output_type": "execute_result"
    }
   ],
   "source": [
    "df.head()"
   ]
  },
  {
   "cell_type": "code",
   "execution_count": 50,
   "id": "c693ef24",
   "metadata": {},
   "outputs": [
    {
     "data": {
      "text/plain": [
       "playerId      0.0\n",
       "target1       0.0\n",
       "target2       0.0\n",
       "target3       0.0\n",
       "target4       0.0\n",
       "date          0.0\n",
       "target_avg    0.0\n",
       "year          0.0\n",
       "month         0.0\n",
       "week          0.0\n",
       "inSeason      0.0\n",
       "seasonPart    0.0\n",
       "dtype: float64"
      ]
     },
     "execution_count": 50,
     "metadata": {},
     "output_type": "execute_result"
    }
   ],
   "source": [
    "df.isna().mean()"
   ]
  },
  {
   "cell_type": "code",
   "execution_count": 51,
   "id": "37de4d3e",
   "metadata": {},
   "outputs": [],
   "source": [
    "df = df.merge(pp, on=['playerId'], how='left')"
   ]
  },
  {
   "cell_type": "code",
   "execution_count": 52,
   "id": "b9920aea",
   "metadata": {},
   "outputs": [
    {
     "data": {
      "text/plain": [
       "playerId               0.000000\n",
       "target1                0.000000\n",
       "target2                0.000000\n",
       "target3                0.000000\n",
       "target4                0.000000\n",
       "date                   0.000000\n",
       "target_avg             0.000000\n",
       "year                   0.000000\n",
       "month                  0.000000\n",
       "week                   0.000000\n",
       "inSeason               0.000000\n",
       "seasonPart             0.000000\n",
       "DOB                    0.000000\n",
       "mlbDebutDate           0.017467\n",
       "birthCountry           0.000000\n",
       "weight                 0.000000\n",
       "primaryPositionName    0.000000\n",
       "player_in_test         0.000000\n",
       "height                 0.000000\n",
       "playerBMI              0.000000\n",
       "dtype: float64"
      ]
     },
     "execution_count": 52,
     "metadata": {},
     "output_type": "execute_result"
    }
   ],
   "source": [
    "df.isna().mean()"
   ]
  },
  {
   "cell_type": "code",
   "execution_count": 53,
   "id": "190230a9",
   "metadata": {},
   "outputs": [],
   "source": [
    "# # merging game stats\n",
    "# df = df.merge(player_game_stats,\n",
    "#               on=['date', 'playerId'],\n",
    "#               how='left')\n",
    "df = df.merge(rosters, on=['date', 'playerId'], how='left')"
   ]
  },
  {
   "cell_type": "code",
   "execution_count": 55,
   "id": "32d443da",
   "metadata": {},
   "outputs": [
    {
     "data": {
      "text/plain": [
       "playerId               0.000000\n",
       "target1                0.000000\n",
       "target2                0.000000\n",
       "target3                0.000000\n",
       "target4                0.000000\n",
       "date                   0.000000\n",
       "target_avg             0.000000\n",
       "year                   0.000000\n",
       "month                  0.000000\n",
       "week                   0.000000\n",
       "inSeason               0.000000\n",
       "seasonPart             0.000000\n",
       "DOB                    0.000000\n",
       "mlbDebutDate           0.017467\n",
       "birthCountry           0.000000\n",
       "weight                 0.000000\n",
       "primaryPositionName    0.000000\n",
       "player_in_test         0.000000\n",
       "height                 0.000000\n",
       "playerBMI              0.000000\n",
       "gameDate               0.427582\n",
       "teamId                 0.427582\n",
       "statusCode             0.427582\n",
       "status                 0.427582\n",
       "dtype: float64"
      ]
     },
     "execution_count": 55,
     "metadata": {},
     "output_type": "execute_result"
    }
   ],
   "source": [
    "df.isna().mean()"
   ]
  },
  {
   "cell_type": "code",
   "execution_count": 57,
   "id": "7b5c6448",
   "metadata": {},
   "outputs": [],
   "source": [
    "df = ffill_forward(df, features=rosters.columns.drop('date'))"
   ]
  },
  {
   "cell_type": "code",
   "execution_count": 63,
   "id": "9f300aa7",
   "metadata": {},
   "outputs": [
    {
     "data": {
      "text/plain": [
       "playerId               0.000000\n",
       "target1                0.000000\n",
       "target2                0.000000\n",
       "target3                0.000000\n",
       "target4                0.000000\n",
       "date                   0.000000\n",
       "target_avg             0.000000\n",
       "year                   0.000000\n",
       "month                  0.000000\n",
       "week                   0.000000\n",
       "inSeason               0.000000\n",
       "seasonPart             0.000000\n",
       "DOB                    0.000000\n",
       "mlbDebutDate           0.017467\n",
       "birthCountry           0.000000\n",
       "weight                 0.000000\n",
       "primaryPositionName    0.000000\n",
       "player_in_test         0.000000\n",
       "height                 0.000000\n",
       "playerBMI              0.000000\n",
       "gameDate               0.188572\n",
       "teamId                 0.188572\n",
       "statusCode             0.188572\n",
       "status                 0.188572\n",
       "dtype: float64"
      ]
     },
     "execution_count": 63,
     "metadata": {},
     "output_type": "execute_result"
    }
   ],
   "source": [
    "df.isna().mean()"
   ]
  },
  {
   "cell_type": "code",
   "execution_count": 64,
   "id": "b13bb4e1",
   "metadata": {},
   "outputs": [],
   "source": [
    "dfsp = df.copy()"
   ]
  },
  {
   "cell_type": "code",
   "execution_count": 65,
   "id": "a153932d",
   "metadata": {},
   "outputs": [],
   "source": [
    "dfsp['nan'] = dfsp['teamId'].isna()"
   ]
  },
  {
   "cell_type": "code",
   "execution_count": 68,
   "id": "f9f16c81",
   "metadata": {},
   "outputs": [
    {
     "data": {
      "text/plain": [
       "date\n",
       "2018-01-01    969\n",
       "2018-01-02    969\n",
       "2018-01-03    969\n",
       "2018-01-04    968\n",
       "2018-01-05    968\n",
       "             ... \n",
       "2021-04-26     25\n",
       "2021-04-27     23\n",
       "2021-04-28     23\n",
       "2021-04-29     23\n",
       "2021-04-30     23\n",
       "Name: nan, Length: 1216, dtype: int64"
      ]
     },
     "execution_count": 68,
     "metadata": {},
     "output_type": "execute_result"
    }
   ],
   "source": [
    "dfsp.groupby(['date'])['nan'].sum()"
   ]
  },
  {
   "cell_type": "code",
   "execution_count": 174,
   "id": "4aee6a96",
   "metadata": {},
   "outputs": [],
   "source": [
    "# merging standing stats\n",
    "df = df.merge(standings, on=['date', 'teamId'], how='left')\n",
    "# df[standings.columns] = "
   ]
  },
  {
   "cell_type": "code",
   "execution_count": 175,
   "id": "31887a23",
   "metadata": {},
   "outputs": [
    {
     "data": {
      "text/html": [
       "<div>\n",
       "<style scoped>\n",
       "    .dataframe tbody tr th:only-of-type {\n",
       "        vertical-align: middle;\n",
       "    }\n",
       "\n",
       "    .dataframe tbody tr th {\n",
       "        vertical-align: top;\n",
       "    }\n",
       "\n",
       "    .dataframe thead th {\n",
       "        text-align: right;\n",
       "    }\n",
       "</style>\n",
       "<table border=\"1\" class=\"dataframe\">\n",
       "  <thead>\n",
       "    <tr style=\"text-align: right;\">\n",
       "      <th></th>\n",
       "      <th>playerId</th>\n",
       "      <th>target1</th>\n",
       "      <th>target2</th>\n",
       "      <th>target3</th>\n",
       "      <th>target4</th>\n",
       "      <th>date</th>\n",
       "      <th>target_avg</th>\n",
       "      <th>year</th>\n",
       "      <th>month</th>\n",
       "      <th>week</th>\n",
       "      <th>...</th>\n",
       "      <th>gamesSoFarTeam</th>\n",
       "      <th>homeWinPctTeam</th>\n",
       "      <th>awayWinPctTeam</th>\n",
       "      <th>lastTenWinsPctTeam</th>\n",
       "      <th>winPctTeam</th>\n",
       "      <th>leagueRankTeam</th>\n",
       "      <th>xWinLossPctTeam</th>\n",
       "      <th>runsScoredTeam</th>\n",
       "      <th>runsAllowedTeam</th>\n",
       "      <th>runsPctTeam</th>\n",
       "    </tr>\n",
       "  </thead>\n",
       "  <tbody>\n",
       "    <tr>\n",
       "      <th>0</th>\n",
       "      <td>112526</td>\n",
       "      <td>0.055277</td>\n",
       "      <td>5.496109</td>\n",
       "      <td>0.025839</td>\n",
       "      <td>16.176471</td>\n",
       "      <td>2018-01-01</td>\n",
       "      <td>5.438424</td>\n",
       "      <td>2018</td>\n",
       "      <td>1</td>\n",
       "      <td>1</td>\n",
       "      <td>...</td>\n",
       "      <td>NaN</td>\n",
       "      <td>NaN</td>\n",
       "      <td>NaN</td>\n",
       "      <td>NaN</td>\n",
       "      <td>NaN</td>\n",
       "      <td>NaN</td>\n",
       "      <td>NaN</td>\n",
       "      <td>NaN</td>\n",
       "      <td>NaN</td>\n",
       "      <td>NaN</td>\n",
       "    </tr>\n",
       "    <tr>\n",
       "      <th>1</th>\n",
       "      <td>112526</td>\n",
       "      <td>0.060625</td>\n",
       "      <td>3.252914</td>\n",
       "      <td>0.030486</td>\n",
       "      <td>8.541353</td>\n",
       "      <td>2018-01-02</td>\n",
       "      <td>2.971345</td>\n",
       "      <td>2018</td>\n",
       "      <td>1</td>\n",
       "      <td>1</td>\n",
       "      <td>...</td>\n",
       "      <td>NaN</td>\n",
       "      <td>NaN</td>\n",
       "      <td>NaN</td>\n",
       "      <td>NaN</td>\n",
       "      <td>NaN</td>\n",
       "      <td>NaN</td>\n",
       "      <td>NaN</td>\n",
       "      <td>NaN</td>\n",
       "      <td>NaN</td>\n",
       "      <td>NaN</td>\n",
       "    </tr>\n",
       "    <tr>\n",
       "      <th>2</th>\n",
       "      <td>112526</td>\n",
       "      <td>0.029341</td>\n",
       "      <td>1.648352</td>\n",
       "      <td>0.032613</td>\n",
       "      <td>10.490112</td>\n",
       "      <td>2018-01-03</td>\n",
       "      <td>3.050104</td>\n",
       "      <td>2018</td>\n",
       "      <td>1</td>\n",
       "      <td>1</td>\n",
       "      <td>...</td>\n",
       "      <td>NaN</td>\n",
       "      <td>NaN</td>\n",
       "      <td>NaN</td>\n",
       "      <td>NaN</td>\n",
       "      <td>NaN</td>\n",
       "      <td>NaN</td>\n",
       "      <td>NaN</td>\n",
       "      <td>NaN</td>\n",
       "      <td>NaN</td>\n",
       "      <td>NaN</td>\n",
       "    </tr>\n",
       "    <tr>\n",
       "      <th>3</th>\n",
       "      <td>112526</td>\n",
       "      <td>0.014799</td>\n",
       "      <td>2.665894</td>\n",
       "      <td>0.087422</td>\n",
       "      <td>19.091467</td>\n",
       "      <td>2018-01-04</td>\n",
       "      <td>5.464896</td>\n",
       "      <td>2018</td>\n",
       "      <td>1</td>\n",
       "      <td>1</td>\n",
       "      <td>...</td>\n",
       "      <td>NaN</td>\n",
       "      <td>NaN</td>\n",
       "      <td>NaN</td>\n",
       "      <td>NaN</td>\n",
       "      <td>NaN</td>\n",
       "      <td>NaN</td>\n",
       "      <td>NaN</td>\n",
       "      <td>NaN</td>\n",
       "      <td>NaN</td>\n",
       "      <td>NaN</td>\n",
       "    </tr>\n",
       "    <tr>\n",
       "      <th>4</th>\n",
       "      <td>112526</td>\n",
       "      <td>0.083916</td>\n",
       "      <td>1.161002</td>\n",
       "      <td>0.024759</td>\n",
       "      <td>6.643880</td>\n",
       "      <td>2018-01-05</td>\n",
       "      <td>1.978389</td>\n",
       "      <td>2018</td>\n",
       "      <td>1</td>\n",
       "      <td>1</td>\n",
       "      <td>...</td>\n",
       "      <td>NaN</td>\n",
       "      <td>NaN</td>\n",
       "      <td>NaN</td>\n",
       "      <td>NaN</td>\n",
       "      <td>NaN</td>\n",
       "      <td>NaN</td>\n",
       "      <td>NaN</td>\n",
       "      <td>NaN</td>\n",
       "      <td>NaN</td>\n",
       "      <td>NaN</td>\n",
       "    </tr>\n",
       "  </tbody>\n",
       "</table>\n",
       "<p>5 rows × 33 columns</p>\n",
       "</div>"
      ],
      "text/plain": [
       "   playerId   target1   target2   target3    target4       date  target_avg  \\\n",
       "0    112526  0.055277  5.496109  0.025839  16.176471 2018-01-01    5.438424   \n",
       "1    112526  0.060625  3.252914  0.030486   8.541353 2018-01-02    2.971345   \n",
       "2    112526  0.029341  1.648352  0.032613  10.490112 2018-01-03    3.050104   \n",
       "3    112526  0.014799  2.665894  0.087422  19.091467 2018-01-04    5.464896   \n",
       "4    112526  0.083916  1.161002  0.024759   6.643880 2018-01-05    1.978389   \n",
       "\n",
       "   year  month  week  ...  gamesSoFarTeam homeWinPctTeam awayWinPctTeam  \\\n",
       "0  2018      1     1  ...             NaN            NaN            NaN   \n",
       "1  2018      1     1  ...             NaN            NaN            NaN   \n",
       "2  2018      1     1  ...             NaN            NaN            NaN   \n",
       "3  2018      1     1  ...             NaN            NaN            NaN   \n",
       "4  2018      1     1  ...             NaN            NaN            NaN   \n",
       "\n",
       "  lastTenWinsPctTeam winPctTeam  leagueRankTeam xWinLossPctTeam  \\\n",
       "0                NaN        NaN             NaN             NaN   \n",
       "1                NaN        NaN             NaN             NaN   \n",
       "2                NaN        NaN             NaN             NaN   \n",
       "3                NaN        NaN             NaN             NaN   \n",
       "4                NaN        NaN             NaN             NaN   \n",
       "\n",
       "   runsScoredTeam  runsAllowedTeam  runsPctTeam  \n",
       "0             NaN              NaN          NaN  \n",
       "1             NaN              NaN          NaN  \n",
       "2             NaN              NaN          NaN  \n",
       "3             NaN              NaN          NaN  \n",
       "4             NaN              NaN          NaN  \n",
       "\n",
       "[5 rows x 33 columns]"
      ]
     },
     "execution_count": 175,
     "metadata": {},
     "output_type": "execute_result"
    }
   ],
   "source": [
    "df.head()"
   ]
  },
  {
   "cell_type": "code",
   "execution_count": 176,
   "id": "33824a48",
   "metadata": {},
   "outputs": [
    {
     "data": {
      "text/plain": [
       "Index(['playerId', 'target1', 'target2', 'target3', 'target4', 'date',\n",
       "       'target_avg', 'year', 'month', 'week', 'inSeason', 'seasonPart', 'DOB',\n",
       "       'mlbDebutDate', 'birthCountry', 'weight', 'primaryPositionName',\n",
       "       'player_in_test', 'height', 'playerBMI', 'teamId', 'teamName',\n",
       "       'gameDate', 'gamesSoFarTeam', 'homeWinPctTeam', 'awayWinPctTeam',\n",
       "       'lastTenWinsPctTeam', 'winPctTeam', 'leagueRankTeam', 'xWinLossPctTeam',\n",
       "       'runsScoredTeam', 'runsAllowedTeam', 'runsPctTeam'],\n",
       "      dtype='object')"
      ]
     },
     "execution_count": 176,
     "metadata": {},
     "output_type": "execute_result"
    }
   ],
   "source": [
    "df.columns"
   ]
  },
  {
   "cell_type": "code",
   "execution_count": 88,
   "id": "c38489d7",
   "metadata": {},
   "outputs": [],
   "source": [
    "# lets work just with in season data"
   ]
  },
  {
   "cell_type": "code",
   "execution_count": 89,
   "id": "be317233",
   "metadata": {},
   "outputs": [],
   "source": [
    "df = df.query('inSeason')"
   ]
  },
  {
   "cell_type": "code",
   "execution_count": 90,
   "id": "d401bd23",
   "metadata": {},
   "outputs": [
    {
     "data": {
      "text/html": [
       "<div>\n",
       "<style scoped>\n",
       "    .dataframe tbody tr th:only-of-type {\n",
       "        vertical-align: middle;\n",
       "    }\n",
       "\n",
       "    .dataframe tbody tr th {\n",
       "        vertical-align: top;\n",
       "    }\n",
       "\n",
       "    .dataframe thead th {\n",
       "        text-align: right;\n",
       "    }\n",
       "</style>\n",
       "<table border=\"1\" class=\"dataframe\">\n",
       "  <thead>\n",
       "    <tr style=\"text-align: right;\">\n",
       "      <th></th>\n",
       "      <th>playerId</th>\n",
       "      <th>target1</th>\n",
       "      <th>target2</th>\n",
       "      <th>target3</th>\n",
       "      <th>target4</th>\n",
       "      <th>date</th>\n",
       "      <th>target_avg</th>\n",
       "      <th>year</th>\n",
       "      <th>month</th>\n",
       "      <th>week</th>\n",
       "      <th>...</th>\n",
       "      <th>gamesSoFarTeam</th>\n",
       "      <th>homeWinPctTeam</th>\n",
       "      <th>awayWinPctTeam</th>\n",
       "      <th>lastTenWinsPctTeam</th>\n",
       "      <th>winPctTeam</th>\n",
       "      <th>leagueRankTeam</th>\n",
       "      <th>xWinLossPctTeam</th>\n",
       "      <th>runsScoredTeam</th>\n",
       "      <th>runsAllowedTeam</th>\n",
       "      <th>runsPctTeam</th>\n",
       "    </tr>\n",
       "  </thead>\n",
       "  <tbody>\n",
       "    <tr>\n",
       "      <th>87</th>\n",
       "      <td>112526</td>\n",
       "      <td>0.031761</td>\n",
       "      <td>2.731418</td>\n",
       "      <td>0.388556</td>\n",
       "      <td>6.349412</td>\n",
       "      <td>2018-03-29</td>\n",
       "      <td>2.375287</td>\n",
       "      <td>2018</td>\n",
       "      <td>3</td>\n",
       "      <td>13</td>\n",
       "      <td>...</td>\n",
       "      <td>1.0</td>\n",
       "      <td>0.000000</td>\n",
       "      <td>0.0</td>\n",
       "      <td>0.0</td>\n",
       "      <td>0.000</td>\n",
       "      <td>0.933333</td>\n",
       "      <td>0.0</td>\n",
       "      <td>1.0</td>\n",
       "      <td>4.0</td>\n",
       "      <td>0.200000</td>\n",
       "    </tr>\n",
       "    <tr>\n",
       "      <th>88</th>\n",
       "      <td>112526</td>\n",
       "      <td>0.025906</td>\n",
       "      <td>4.622162</td>\n",
       "      <td>0.408017</td>\n",
       "      <td>11.508375</td>\n",
       "      <td>2018-03-30</td>\n",
       "      <td>4.141115</td>\n",
       "      <td>2018</td>\n",
       "      <td>3</td>\n",
       "      <td>13</td>\n",
       "      <td>...</td>\n",
       "      <td>2.0</td>\n",
       "      <td>0.500000</td>\n",
       "      <td>0.0</td>\n",
       "      <td>0.1</td>\n",
       "      <td>0.500</td>\n",
       "      <td>0.666667</td>\n",
       "      <td>0.0</td>\n",
       "      <td>6.0</td>\n",
       "      <td>5.0</td>\n",
       "      <td>0.545455</td>\n",
       "    </tr>\n",
       "    <tr>\n",
       "      <th>89</th>\n",
       "      <td>112526</td>\n",
       "      <td>0.053185</td>\n",
       "      <td>4.767842</td>\n",
       "      <td>0.275408</td>\n",
       "      <td>14.600851</td>\n",
       "      <td>2018-03-31</td>\n",
       "      <td>4.924321</td>\n",
       "      <td>2018</td>\n",
       "      <td>3</td>\n",
       "      <td>13</td>\n",
       "      <td>...</td>\n",
       "      <td>3.0</td>\n",
       "      <td>0.333333</td>\n",
       "      <td>0.0</td>\n",
       "      <td>0.1</td>\n",
       "      <td>0.333</td>\n",
       "      <td>0.800000</td>\n",
       "      <td>0.0</td>\n",
       "      <td>9.0</td>\n",
       "      <td>14.0</td>\n",
       "      <td>0.391304</td>\n",
       "    </tr>\n",
       "    <tr>\n",
       "      <th>90</th>\n",
       "      <td>112526</td>\n",
       "      <td>0.771100</td>\n",
       "      <td>63.601677</td>\n",
       "      <td>7.566316</td>\n",
       "      <td>100.000000</td>\n",
       "      <td>2018-04-01</td>\n",
       "      <td>42.984773</td>\n",
       "      <td>2018</td>\n",
       "      <td>4</td>\n",
       "      <td>13</td>\n",
       "      <td>...</td>\n",
       "      <td>4.0</td>\n",
       "      <td>0.250000</td>\n",
       "      <td>0.0</td>\n",
       "      <td>0.1</td>\n",
       "      <td>0.250</td>\n",
       "      <td>0.866667</td>\n",
       "      <td>0.0</td>\n",
       "      <td>11.0</td>\n",
       "      <td>22.0</td>\n",
       "      <td>0.333333</td>\n",
       "    </tr>\n",
       "    <tr>\n",
       "      <th>91</th>\n",
       "      <td>112526</td>\n",
       "      <td>5.957846</td>\n",
       "      <td>22.427930</td>\n",
       "      <td>33.900803</td>\n",
       "      <td>38.857939</td>\n",
       "      <td>2018-04-02</td>\n",
       "      <td>25.286130</td>\n",
       "      <td>2018</td>\n",
       "      <td>4</td>\n",
       "      <td>14</td>\n",
       "      <td>...</td>\n",
       "      <td>5.0</td>\n",
       "      <td>0.250000</td>\n",
       "      <td>0.0</td>\n",
       "      <td>0.1</td>\n",
       "      <td>0.200</td>\n",
       "      <td>0.933333</td>\n",
       "      <td>0.0</td>\n",
       "      <td>12.0</td>\n",
       "      <td>25.0</td>\n",
       "      <td>0.324324</td>\n",
       "    </tr>\n",
       "  </tbody>\n",
       "</table>\n",
       "<p>5 rows × 33 columns</p>\n",
       "</div>"
      ],
      "text/plain": [
       "    playerId   target1    target2    target3     target4       date  \\\n",
       "87    112526  0.031761   2.731418   0.388556    6.349412 2018-03-29   \n",
       "88    112526  0.025906   4.622162   0.408017   11.508375 2018-03-30   \n",
       "89    112526  0.053185   4.767842   0.275408   14.600851 2018-03-31   \n",
       "90    112526  0.771100  63.601677   7.566316  100.000000 2018-04-01   \n",
       "91    112526  5.957846  22.427930  33.900803   38.857939 2018-04-02   \n",
       "\n",
       "    target_avg  year  month  week  ...  gamesSoFarTeam homeWinPctTeam  \\\n",
       "87    2.375287  2018      3    13  ...             1.0       0.000000   \n",
       "88    4.141115  2018      3    13  ...             2.0       0.500000   \n",
       "89    4.924321  2018      3    13  ...             3.0       0.333333   \n",
       "90   42.984773  2018      4    13  ...             4.0       0.250000   \n",
       "91   25.286130  2018      4    14  ...             5.0       0.250000   \n",
       "\n",
       "   awayWinPctTeam lastTenWinsPctTeam winPctTeam  leagueRankTeam  \\\n",
       "87            0.0                0.0      0.000        0.933333   \n",
       "88            0.0                0.1      0.500        0.666667   \n",
       "89            0.0                0.1      0.333        0.800000   \n",
       "90            0.0                0.1      0.250        0.866667   \n",
       "91            0.0                0.1      0.200        0.933333   \n",
       "\n",
       "   xWinLossPctTeam  runsScoredTeam  runsAllowedTeam  runsPctTeam  \n",
       "87             0.0             1.0              4.0     0.200000  \n",
       "88             0.0             6.0              5.0     0.545455  \n",
       "89             0.0             9.0             14.0     0.391304  \n",
       "90             0.0            11.0             22.0     0.333333  \n",
       "91             0.0            12.0             25.0     0.324324  \n",
       "\n",
       "[5 rows x 33 columns]"
      ]
     },
     "execution_count": 90,
     "metadata": {},
     "output_type": "execute_result"
    }
   ],
   "source": [
    "df.head()"
   ]
  },
  {
   "cell_type": "code",
   "execution_count": 91,
   "id": "a7fefe71",
   "metadata": {},
   "outputs": [
    {
     "data": {
      "text/plain": [
       "playerId               0.000000\n",
       "target1                0.000000\n",
       "target2                0.000000\n",
       "target3                0.000000\n",
       "target4                0.000000\n",
       "date                   0.000000\n",
       "target_avg             0.000000\n",
       "year                   0.000000\n",
       "month                  0.000000\n",
       "week                   0.000000\n",
       "inSeason               0.000000\n",
       "seasonPart             0.000000\n",
       "DOB                    0.000000\n",
       "mlbDebutDate           0.017467\n",
       "birthCountry           0.000000\n",
       "weight                 0.000000\n",
       "primaryPositionName    0.000000\n",
       "player_in_test         0.000000\n",
       "height                 0.000000\n",
       "playerBMI              0.000000\n",
       "teamId                 0.000000\n",
       "teamName               0.000000\n",
       "gameDate               0.000000\n",
       "gamesSoFarTeam         0.063864\n",
       "homeWinPctTeam         0.063864\n",
       "awayWinPctTeam         0.063864\n",
       "lastTenWinsPctTeam     0.063864\n",
       "winPctTeam             0.063864\n",
       "leagueRankTeam         0.063864\n",
       "xWinLossPctTeam        0.063864\n",
       "runsScoredTeam         0.063864\n",
       "runsAllowedTeam        0.063864\n",
       "runsPctTeam            0.063864\n",
       "dtype: float64"
      ]
     },
     "execution_count": 91,
     "metadata": {},
     "output_type": "execute_result"
    }
   ],
   "source": [
    "df.isna().mean()"
   ]
  },
  {
   "cell_type": "code",
   "execution_count": 92,
   "id": "09832f46",
   "metadata": {},
   "outputs": [],
   "source": [
    "# some feature eng for the dates"
   ]
  },
  {
   "cell_type": "code",
   "execution_count": 96,
   "id": "67feb51e",
   "metadata": {},
   "outputs": [],
   "source": [
    "df['playerAge'] = (df['date'] - df['DOB']).dt.total_seconds()\n",
    "df['playerTSinceDebut'] = (df['date'] - df['mlbDebutDate']).dt.total_seconds()\n",
    "df['playerDebutAge'] = (df['mlbDebutDate'] - df['DOB']).dt.total_seconds()\n",
    "df['timeSinceLastGame'] = (df['date'] - pd.to_datetime(df['gameDate'])).dt.total_seconds()\n",
    "# normalize\n",
    "df[['playerAge', 'playerTSinceDebut', 'playerDebutAge']] /= 60 * 60 * 24 * 365\n",
    "df['timeSinceLastGame'] /= 60 * 60 * 24"
   ]
  },
  {
   "cell_type": "code",
   "execution_count": 97,
   "id": "d4f1e1d4",
   "metadata": {},
   "outputs": [],
   "source": [
    "agg_date = df.groupby('date').mean()"
   ]
  },
  {
   "cell_type": "code",
   "execution_count": 98,
   "id": "866a402c",
   "metadata": {},
   "outputs": [
    {
     "data": {
      "text/plain": [
       "count    567.000000\n",
       "mean     -98.005203\n",
       "std      223.829703\n",
       "min     -698.788937\n",
       "25%     -276.768802\n",
       "50%      -65.731198\n",
       "75%       21.237991\n",
       "max      322.476953\n",
       "Name: timeSinceLastGame, dtype: float64"
      ]
     },
     "execution_count": 98,
     "metadata": {},
     "output_type": "execute_result"
    }
   ],
   "source": [
    "agg_date['timeSinceLastGame'].describe()"
   ]
  },
  {
   "cell_type": "code",
   "execution_count": 99,
   "id": "d7ce503c",
   "metadata": {},
   "outputs": [
    {
     "data": {
      "text/plain": [
       "<seaborn.axisgrid.FacetGrid at 0x7fb004042850>"
      ]
     },
     "execution_count": 99,
     "metadata": {},
     "output_type": "execute_result"
    },
    {
     "data": {
      "image/png": "[encoded data removed]",
      "text/plain": [
       "<Figure size 360x360 with 1 Axes>"
      ]
     },
     "metadata": {
      "needs_background": "light"
     },
     "output_type": "display_data"
    }
   ],
   "source": [
    "sns.displot(x='timeSinceLastGame', data=agg_date)"
   ]
  },
  {
   "cell_type": "code",
   "execution_count": null,
   "id": "89dadcda",
   "metadata": {},
   "outputs": [],
   "source": []
  }
 ],
 "metadata": {
  "kernelspec": {
   "display_name": "Python 3",
   "language": "python",
   "name": "python3"
  },
  "language_info": {
   "codemirror_mode": {
    "name": "ipython",
    "version": 3
   },
   "file_extension": ".py",
   "mimetype": "text/x-python",
   "name": "python",
   "nbconvert_exporter": "python",
   "pygments_lexer": "ipython3",
   "version": "3.8.8"
  }
 },
 "nbformat": 4,
 "nbformat_minor": 5
}
