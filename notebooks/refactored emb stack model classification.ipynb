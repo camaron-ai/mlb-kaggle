{
 "cells": [
  {
   "cell_type": "code",
   "execution_count": 1,
   "id": "11a1984e",
   "metadata": {},
   "outputs": [],
   "source": [
    "%load_ext autoreload\n",
    "%autoreload 2\n"
   ]
  },
  {
   "cell_type": "code",
   "execution_count": 2,
   "id": "200bd975",
   "metadata": {},
   "outputs": [],
   "source": [
    "import pandas as pd\n",
    "import numpy as np\n",
    "from matplotlib import pyplot as plt\n",
    "from pathlib import Path\n",
    "import seaborn as sns"
   ]
  },
  {
   "cell_type": "code",
   "execution_count": 3,
   "id": "98b21c10",
   "metadata": {},
   "outputs": [],
   "source": [
    "import os\n",
    "import sys"
   ]
  },
  {
   "cell_type": "code",
   "execution_count": 4,
   "id": "83088198",
   "metadata": {},
   "outputs": [],
   "source": [
    "# chaging directory"
   ]
  },
  {
   "cell_type": "code",
   "execution_count": 5,
   "id": "63a6bace",
   "metadata": {},
   "outputs": [],
   "source": [
    "root, *_ = !pwd"
   ]
  },
  {
   "cell_type": "code",
   "execution_count": null,
   "id": "97f868b8",
   "metadata": {},
   "outputs": [],
   "source": []
  },
  {
   "cell_type": "code",
   "execution_count": 6,
   "id": "0401546d",
   "metadata": {},
   "outputs": [],
   "source": [
    "if root.endswith('notebooks'):\n",
    "    os.chdir('../')\n",
    "    root, *_ = !pwd\n",
    "    sys.path.append('src/')"
   ]
  },
  {
   "cell_type": "code",
   "execution_count": 7,
   "id": "c94d5f75",
   "metadata": {},
   "outputs": [
    {
     "data": {
      "text/plain": [
       "'/home/med/projects/competitions/mlb-kaggle'"
      ]
     },
     "execution_count": 7,
     "metadata": {},
     "output_type": "execute_result"
    }
   ],
   "source": [
    "os.getcwd()"
   ]
  },
  {
   "cell_type": "code",
   "execution_count": 8,
   "id": "bf93f65f",
   "metadata": {},
   "outputs": [
    {
     "data": {
      "text/plain": [
       "True"
      ]
     },
     "execution_count": 8,
     "metadata": {},
     "output_type": "execute_result"
    }
   ],
   "source": [
    "from dotenv import load_dotenv\n",
    "load_dotenv()"
   ]
  },
  {
   "cell_type": "code",
   "execution_count": 9,
   "id": "a0936da3",
   "metadata": {},
   "outputs": [],
   "source": [
    "RAW_PATH = Path(os.environ['RAW_PATH'])"
   ]
  },
  {
   "cell_type": "code",
   "execution_count": 10,
   "id": "9a1dfd08",
   "metadata": {},
   "outputs": [],
   "source": [
    "PROCESSED_PATH = Path(os.environ['ROOT_DIR']) / 'processed'"
   ]
  },
  {
   "cell_type": "code",
   "execution_count": 11,
   "id": "e0104b3d",
   "metadata": {},
   "outputs": [
    {
     "data": {
      "text/plain": [
       "['seasons.csv',\n",
       " 'teams.csv',\n",
       " 'example_sample_submission.csv',\n",
       " 'train_updated.csv',\n",
       " 'train.csv',\n",
       " 'mlb-player-digital-engagement-forecasting.zip',\n",
       " 'awards.csv',\n",
       " 'players.csv',\n",
       " 'example_test.csv',\n",
       " 'mlb',\n",
       " 'train_updated.csv.zip']"
      ]
     },
     "execution_count": 11,
     "metadata": {},
     "output_type": "execute_result"
    }
   ],
   "source": [
    "os.listdir(RAW_PATH)"
   ]
  },
  {
   "cell_type": "code",
   "execution_count": 12,
   "id": "89891462",
   "metadata": {},
   "outputs": [
    {
     "data": {
      "text/plain": [
       "['target.csv', 'context_raw_data.csv', 'raw_data.csv']"
      ]
     },
     "execution_count": 12,
     "metadata": {},
     "output_type": "execute_result"
    }
   ],
   "source": [
    "os.listdir(PROCESSED_PATH)"
   ]
  },
  {
   "cell_type": "code",
   "execution_count": 13,
   "id": "0891fdd2",
   "metadata": {},
   "outputs": [],
   "source": [
    "dates_cols = ['date', 'mlbDebutDate', 'DOB', 'rosterDate', 'pstatsDate']"
   ]
  },
  {
   "cell_type": "code",
   "execution_count": 14,
   "id": "4658463d",
   "metadata": {},
   "outputs": [],
   "source": [
    "df = pd.read_csv(PROCESSED_PATH / 'raw_data.csv',\n",
    "                 parse_dates=dates_cols)"
   ]
  },
  {
   "cell_type": "markdown",
   "id": "3ff122d8",
   "metadata": {},
   "source": [
    "### players data"
   ]
  },
  {
   "cell_type": "code",
   "execution_count": 15,
   "id": "8fb159df",
   "metadata": {},
   "outputs": [],
   "source": [
    "# not all players are in the private test set\n",
    "# the players in the test set are saved in the players.csv file"
   ]
  },
  {
   "cell_type": "code",
   "execution_count": 16,
   "id": "55437b97",
   "metadata": {},
   "outputs": [],
   "source": [
    "_players = pd.read_csv(RAW_PATH / 'players.csv')"
   ]
  },
  {
   "cell_type": "code",
   "execution_count": 17,
   "id": "227e12a5",
   "metadata": {},
   "outputs": [],
   "source": [
    "_players['playerForTestSetAndFuturePreds'].fillna(False, inplace=True)"
   ]
  },
  {
   "cell_type": "code",
   "execution_count": 18,
   "id": "b9b686dd",
   "metadata": {},
   "outputs": [],
   "source": [
    "player_in_test = _players.query('playerForTestSetAndFuturePreds')['playerId']"
   ]
  },
  {
   "cell_type": "code",
   "execution_count": 19,
   "id": "e1c545b8",
   "metadata": {},
   "outputs": [],
   "source": [
    "# player_in_test holds only the players in the test set"
   ]
  },
  {
   "cell_type": "markdown",
   "id": "f70d340b",
   "metadata": {},
   "source": [
    "### filter players"
   ]
  },
  {
   "cell_type": "code",
   "execution_count": 20,
   "id": "7280912f",
   "metadata": {},
   "outputs": [],
   "source": [
    "from data.util import filter_by_date, filter_by_id"
   ]
  },
  {
   "cell_type": "code",
   "execution_count": 21,
   "id": "432d8bb2",
   "metadata": {},
   "outputs": [],
   "source": [
    "# filter only test playersex\n",
    "df = filter_by_id(df, player_in_test)"
   ]
  },
  {
   "cell_type": "code",
   "execution_count": 22,
   "id": "379bc12b",
   "metadata": {},
   "outputs": [],
   "source": [
    "# if you want to run on a sample,\n",
    "# change sample_size to the number of players in the sample\n",
    "sample_size = 100"
   ]
  },
  {
   "cell_type": "code",
   "execution_count": 23,
   "id": "b57c5814",
   "metadata": {},
   "outputs": [],
   "source": [
    "if sample_size is not None and sample_size > 0:\n",
    "    df['target_avg'] = df[[f'target{i}' for i in range(1, 5)]].mean(axis=1)\n",
    "    playerList = df.groupby(['playerId'])['target_avg'].std().sort_values(ascending=False).reset_index()\n",
    "    df = filter_by_id(df, playerList['playerId'].head(sample_size))\n",
    "    df.drop('target_avg', axis=1, inplace=True)"
   ]
  },
  {
   "cell_type": "code",
   "execution_count": 24,
   "id": "c5afd925",
   "metadata": {},
   "outputs": [
    {
     "data": {
      "text/plain": [
       "1187"
      ]
     },
     "execution_count": 24,
     "metadata": {},
     "output_type": "execute_result"
    }
   ],
   "source": [
    "df.playerId.nunique()"
   ]
  },
  {
   "cell_type": "code",
   "execution_count": 25,
   "id": "6e3f8eb3",
   "metadata": {},
   "outputs": [
    {
     "data": {
      "text/html": [
       "<div>\n",
       "<style scoped>\n",
       "    .dataframe tbody tr th:only-of-type {\n",
       "        vertical-align: middle;\n",
       "    }\n",
       "\n",
       "    .dataframe tbody tr th {\n",
       "        vertical-align: top;\n",
       "    }\n",
       "\n",
       "    .dataframe thead th {\n",
       "        text-align: right;\n",
       "    }\n",
       "</style>\n",
       "<table border=\"1\" class=\"dataframe\">\n",
       "  <thead>\n",
       "    <tr style=\"text-align: right;\">\n",
       "      <th></th>\n",
       "      <th>playerId</th>\n",
       "      <th>target1</th>\n",
       "      <th>target2</th>\n",
       "      <th>target3</th>\n",
       "      <th>target4</th>\n",
       "      <th>date</th>\n",
       "      <th>home</th>\n",
       "      <th>pstatsDate</th>\n",
       "      <th>battingOrder__ptvf</th>\n",
       "      <th>groundOuts__ptvf</th>\n",
       "      <th>...</th>\n",
       "      <th>weekday</th>\n",
       "      <th>inSeason</th>\n",
       "      <th>seasonPart</th>\n",
       "      <th>DOB</th>\n",
       "      <th>mlbDebutDate</th>\n",
       "      <th>birthCountry</th>\n",
       "      <th>weight</th>\n",
       "      <th>primaryPositionName</th>\n",
       "      <th>height</th>\n",
       "      <th>playerBMI</th>\n",
       "    </tr>\n",
       "  </thead>\n",
       "  <tbody>\n",
       "    <tr>\n",
       "      <th>0</th>\n",
       "      <td>405395</td>\n",
       "      <td>0.151872</td>\n",
       "      <td>21.449416</td>\n",
       "      <td>0.112952</td>\n",
       "      <td>22.990196</td>\n",
       "      <td>2018-01-01</td>\n",
       "      <td>NaN</td>\n",
       "      <td>NaT</td>\n",
       "      <td>NaN</td>\n",
       "      <td>NaN</td>\n",
       "      <td>...</td>\n",
       "      <td>0</td>\n",
       "      <td>False</td>\n",
       "      <td>Offseason</td>\n",
       "      <td>1980-01-16</td>\n",
       "      <td>2001-04-02</td>\n",
       "      <td>Dominican Republic</td>\n",
       "      <td>106.59412</td>\n",
       "      <td>First Base</td>\n",
       "      <td>1.905</td>\n",
       "      <td>29.372661</td>\n",
       "    </tr>\n",
       "    <tr>\n",
       "      <th>1</th>\n",
       "      <td>405395</td>\n",
       "      <td>0.136406</td>\n",
       "      <td>10.978585</td>\n",
       "      <td>0.096403</td>\n",
       "      <td>15.669173</td>\n",
       "      <td>2018-01-02</td>\n",
       "      <td>NaN</td>\n",
       "      <td>NaT</td>\n",
       "      <td>NaN</td>\n",
       "      <td>NaN</td>\n",
       "      <td>...</td>\n",
       "      <td>1</td>\n",
       "      <td>False</td>\n",
       "      <td>Offseason</td>\n",
       "      <td>1980-01-16</td>\n",
       "      <td>2001-04-02</td>\n",
       "      <td>Dominican Republic</td>\n",
       "      <td>106.59412</td>\n",
       "      <td>First Base</td>\n",
       "      <td>1.905</td>\n",
       "      <td>29.372661</td>\n",
       "    </tr>\n",
       "    <tr>\n",
       "      <th>2</th>\n",
       "      <td>405395</td>\n",
       "      <td>0.064460</td>\n",
       "      <td>9.226190</td>\n",
       "      <td>0.101464</td>\n",
       "      <td>23.172829</td>\n",
       "      <td>2018-01-03</td>\n",
       "      <td>NaN</td>\n",
       "      <td>NaT</td>\n",
       "      <td>NaN</td>\n",
       "      <td>NaN</td>\n",
       "      <td>...</td>\n",
       "      <td>2</td>\n",
       "      <td>False</td>\n",
       "      <td>Offseason</td>\n",
       "      <td>1980-01-16</td>\n",
       "      <td>2001-04-02</td>\n",
       "      <td>Dominican Republic</td>\n",
       "      <td>106.59412</td>\n",
       "      <td>First Base</td>\n",
       "      <td>1.905</td>\n",
       "      <td>29.372661</td>\n",
       "    </tr>\n",
       "    <tr>\n",
       "      <th>3</th>\n",
       "      <td>405395</td>\n",
       "      <td>0.024217</td>\n",
       "      <td>10.170965</td>\n",
       "      <td>0.102448</td>\n",
       "      <td>35.359116</td>\n",
       "      <td>2018-01-04</td>\n",
       "      <td>NaN</td>\n",
       "      <td>NaT</td>\n",
       "      <td>NaN</td>\n",
       "      <td>NaN</td>\n",
       "      <td>...</td>\n",
       "      <td>3</td>\n",
       "      <td>False</td>\n",
       "      <td>Offseason</td>\n",
       "      <td>1980-01-16</td>\n",
       "      <td>2001-04-02</td>\n",
       "      <td>Dominican Republic</td>\n",
       "      <td>106.59412</td>\n",
       "      <td>First Base</td>\n",
       "      <td>1.905</td>\n",
       "      <td>29.372661</td>\n",
       "    </tr>\n",
       "    <tr>\n",
       "      <th>4</th>\n",
       "      <td>405395</td>\n",
       "      <td>0.157556</td>\n",
       "      <td>4.294307</td>\n",
       "      <td>0.046517</td>\n",
       "      <td>12.347789</td>\n",
       "      <td>2018-01-05</td>\n",
       "      <td>NaN</td>\n",
       "      <td>NaT</td>\n",
       "      <td>NaN</td>\n",
       "      <td>NaN</td>\n",
       "      <td>...</td>\n",
       "      <td>4</td>\n",
       "      <td>False</td>\n",
       "      <td>Offseason</td>\n",
       "      <td>1980-01-16</td>\n",
       "      <td>2001-04-02</td>\n",
       "      <td>Dominican Republic</td>\n",
       "      <td>106.59412</td>\n",
       "      <td>First Base</td>\n",
       "      <td>1.905</td>\n",
       "      <td>29.372661</td>\n",
       "    </tr>\n",
       "  </tbody>\n",
       "</table>\n",
       "<p>5 rows × 117 columns</p>\n",
       "</div>"
      ],
      "text/plain": [
       "   playerId   target1    target2   target3    target4       date  home  \\\n",
       "0    405395  0.151872  21.449416  0.112952  22.990196 2018-01-01   NaN   \n",
       "1    405395  0.136406  10.978585  0.096403  15.669173 2018-01-02   NaN   \n",
       "2    405395  0.064460   9.226190  0.101464  23.172829 2018-01-03   NaN   \n",
       "3    405395  0.024217  10.170965  0.102448  35.359116 2018-01-04   NaN   \n",
       "4    405395  0.157556   4.294307  0.046517  12.347789 2018-01-05   NaN   \n",
       "\n",
       "  pstatsDate  battingOrder__ptvf  groundOuts__ptvf  ...  weekday  inSeason  \\\n",
       "0        NaT                 NaN               NaN  ...        0     False   \n",
       "1        NaT                 NaN               NaN  ...        1     False   \n",
       "2        NaT                 NaN               NaN  ...        2     False   \n",
       "3        NaT                 NaN               NaN  ...        3     False   \n",
       "4        NaT                 NaN               NaN  ...        4     False   \n",
       "\n",
       "   seasonPart        DOB  mlbDebutDate        birthCountry     weight  \\\n",
       "0   Offseason 1980-01-16    2001-04-02  Dominican Republic  106.59412   \n",
       "1   Offseason 1980-01-16    2001-04-02  Dominican Republic  106.59412   \n",
       "2   Offseason 1980-01-16    2001-04-02  Dominican Republic  106.59412   \n",
       "3   Offseason 1980-01-16    2001-04-02  Dominican Republic  106.59412   \n",
       "4   Offseason 1980-01-16    2001-04-02  Dominican Republic  106.59412   \n",
       "\n",
       "   primaryPositionName  height  playerBMI  \n",
       "0           First Base   1.905  29.372661  \n",
       "1           First Base   1.905  29.372661  \n",
       "2           First Base   1.905  29.372661  \n",
       "3           First Base   1.905  29.372661  \n",
       "4           First Base   1.905  29.372661  \n",
       "\n",
       "[5 rows x 117 columns]"
      ]
     },
     "execution_count": 25,
     "metadata": {},
     "output_type": "execute_result"
    }
   ],
   "source": [
    "df.head()"
   ]
  },
  {
   "cell_type": "markdown",
   "id": "479877f4",
   "metadata": {},
   "source": [
    "### preprocessing with pipelines"
   ]
  },
  {
   "cell_type": "code",
   "execution_count": 26,
   "id": "52d60d7c",
   "metadata": {},
   "outputs": [],
   "source": [
    "from pipeline.core import FunctionTransformer, Pipeline, PdColumnTransformer, PdFeatureUnion\n",
    "from pipeline.continuous import PdScaleNorm, FilterContinuousFeatures, MedianFillNaN\n",
    "from pipeline.stats import StatisticGen, LagGen, FeaturesTable\n",
    "from pipeline.categories import Categorify\n",
    "from pipeline.season import join_season_info\n",
    "from pipeline.players import join_players_info\n",
    "from pipeline.core import forward_fill, gen_hardcoded_features, fillna"
   ]
  },
  {
   "cell_type": "code",
   "execution_count": 27,
   "id": "1a617f51",
   "metadata": {},
   "outputs": [],
   "source": [
    "inplace_ffill_features = ['numberOfFollowers',\n",
    "                          'teamFollowers',\n",
    "                          'status',\n",
    "                          'teamId',\n",
    "                          'rosterDate',\n",
    "                          'pstatsDate']"
   ]
  },
  {
   "cell_type": "code",
   "execution_count": 28,
   "id": "7f6d344a",
   "metadata": {},
   "outputs": [],
   "source": [
    "# transformer for filling nan values with past valid values\n",
    "# transformer for generating some hardcoded features\n",
    "inplace_fill_forward_tmf = FunctionTransformer(forward_fill,\n",
    "                                               kw_args={'features': inplace_ffill_features,\n",
    "                                                        'on': ['playerId', 'year']})\n",
    "harcoded_feat_tmf = FunctionTransformer(gen_hardcoded_features)"
   ]
  },
  {
   "cell_type": "code",
   "execution_count": 29,
   "id": "7bfcc3e5",
   "metadata": {},
   "outputs": [],
   "source": [
    "# creating pipeline\n",
    "ffill_and_gen_harcoded_feat = Pipeline([('inplace_fill_forward', inplace_fill_forward_tmf),\n",
    "                                        ('hardcoded_feat', harcoded_feat_tmf)])"
   ]
  },
  {
   "cell_type": "code",
   "execution_count": 30,
   "id": "312f6809",
   "metadata": {},
   "outputs": [],
   "source": [
    "# features to use for target preprocessing\n",
    "target_cols = ['target1', 'target2', 'target3', 'target4']\n",
    "index_cols = ['date', 'playerId']\n",
    "pp_cols = target_cols + index_cols"
   ]
  },
  {
   "cell_type": "code",
   "execution_count": 31,
   "id": "3f0f90ca",
   "metadata": {},
   "outputs": [],
   "source": [
    "# categories encoding\n",
    "categories = ['playerId', 'seasonPart', 'year',\n",
    "              'primaryPositionName',\n",
    "              'status', 'teamId', 'weekday',\n",
    "              'opponentTeamId', 'birthCountry']"
   ]
  },
  {
   "cell_type": "code",
   "execution_count": 32,
   "id": "0fdaf48b",
   "metadata": {},
   "outputs": [],
   "source": [
    "categories_tmf = PdColumnTransformer([(category, Categorify(add_nan=True), category)\n",
    "                                       for category in categories])"
   ]
  },
  {
   "cell_type": "code",
   "execution_count": 33,
   "id": "040ef61e",
   "metadata": {},
   "outputs": [
    {
     "data": {
      "text/html": [
       "<div>\n",
       "<style scoped>\n",
       "    .dataframe tbody tr th:only-of-type {\n",
       "        vertical-align: middle;\n",
       "    }\n",
       "\n",
       "    .dataframe tbody tr th {\n",
       "        vertical-align: top;\n",
       "    }\n",
       "\n",
       "    .dataframe thead th {\n",
       "        text-align: right;\n",
       "    }\n",
       "</style>\n",
       "<table border=\"1\" class=\"dataframe\">\n",
       "  <thead>\n",
       "    <tr style=\"text-align: right;\">\n",
       "      <th></th>\n",
       "      <th>playerId</th>\n",
       "      <th>date</th>\n",
       "      <th>target1__mean__30d</th>\n",
       "      <th>target1__median__30d</th>\n",
       "      <th>target1__std__30d</th>\n",
       "      <th>target2__mean__30d</th>\n",
       "      <th>target2__median__30d</th>\n",
       "      <th>target2__std__30d</th>\n",
       "      <th>target3__mean__30d</th>\n",
       "      <th>target3__median__30d</th>\n",
       "      <th>target3__std__30d</th>\n",
       "      <th>target4__mean__30d</th>\n",
       "      <th>target4__median__30d</th>\n",
       "      <th>target4__std__30d</th>\n",
       "    </tr>\n",
       "  </thead>\n",
       "  <tbody>\n",
       "    <tr>\n",
       "      <th>0</th>\n",
       "      <td>405395</td>\n",
       "      <td>2018-01-01</td>\n",
       "      <td>0.151872</td>\n",
       "      <td>0.151872</td>\n",
       "      <td>NaN</td>\n",
       "      <td>21.449417</td>\n",
       "      <td>21.449417</td>\n",
       "      <td>NaN</td>\n",
       "      <td>0.112952</td>\n",
       "      <td>0.112952</td>\n",
       "      <td>NaN</td>\n",
       "      <td>22.990196</td>\n",
       "      <td>22.990196</td>\n",
       "      <td>NaN</td>\n",
       "    </tr>\n",
       "    <tr>\n",
       "      <th>1</th>\n",
       "      <td>405395</td>\n",
       "      <td>2018-01-02</td>\n",
       "      <td>0.144139</td>\n",
       "      <td>0.144139</td>\n",
       "      <td>0.010936</td>\n",
       "      <td>16.214001</td>\n",
       "      <td>16.214001</td>\n",
       "      <td>7.403996</td>\n",
       "      <td>0.104677</td>\n",
       "      <td>0.104677</td>\n",
       "      <td>0.011702</td>\n",
       "      <td>19.329685</td>\n",
       "      <td>19.329685</td>\n",
       "      <td>5.176745</td>\n",
       "    </tr>\n",
       "    <tr>\n",
       "      <th>2</th>\n",
       "      <td>405395</td>\n",
       "      <td>2018-01-03</td>\n",
       "      <td>0.117580</td>\n",
       "      <td>0.136406</td>\n",
       "      <td>0.046648</td>\n",
       "      <td>13.884730</td>\n",
       "      <td>10.978585</td>\n",
       "      <td>6.609544</td>\n",
       "      <td>0.103606</td>\n",
       "      <td>0.101464</td>\n",
       "      <td>0.008480</td>\n",
       "      <td>20.610733</td>\n",
       "      <td>22.990196</td>\n",
       "      <td>4.280490</td>\n",
       "    </tr>\n",
       "    <tr>\n",
       "      <th>3</th>\n",
       "      <td>405395</td>\n",
       "      <td>2018-01-04</td>\n",
       "      <td>0.094239</td>\n",
       "      <td>0.100433</td>\n",
       "      <td>0.060248</td>\n",
       "      <td>12.956289</td>\n",
       "      <td>10.574775</td>\n",
       "      <td>5.707194</td>\n",
       "      <td>0.103317</td>\n",
       "      <td>0.101956</td>\n",
       "      <td>0.006948</td>\n",
       "      <td>24.297829</td>\n",
       "      <td>23.081512</td>\n",
       "      <td>8.160501</td>\n",
       "    </tr>\n",
       "    <tr>\n",
       "      <th>4</th>\n",
       "      <td>405395</td>\n",
       "      <td>2018-01-05</td>\n",
       "      <td>0.106902</td>\n",
       "      <td>0.136406</td>\n",
       "      <td>0.059365</td>\n",
       "      <td>11.223893</td>\n",
       "      <td>10.170965</td>\n",
       "      <td>6.279732</td>\n",
       "      <td>0.091957</td>\n",
       "      <td>0.101464</td>\n",
       "      <td>0.026104</td>\n",
       "      <td>21.907820</td>\n",
       "      <td>22.990196</td>\n",
       "      <td>8.860362</td>\n",
       "    </tr>\n",
       "  </tbody>\n",
       "</table>\n",
       "</div>"
      ],
      "text/plain": [
       "   playerId       date  target1__mean__30d  target1__median__30d  \\\n",
       "0    405395 2018-01-01            0.151872              0.151872   \n",
       "1    405395 2018-01-02            0.144139              0.144139   \n",
       "2    405395 2018-01-03            0.117580              0.136406   \n",
       "3    405395 2018-01-04            0.094239              0.100433   \n",
       "4    405395 2018-01-05            0.106902              0.136406   \n",
       "\n",
       "   target1__std__30d  target2__mean__30d  target2__median__30d  \\\n",
       "0                NaN           21.449417             21.449417   \n",
       "1           0.010936           16.214001             16.214001   \n",
       "2           0.046648           13.884730             10.978585   \n",
       "3           0.060248           12.956289             10.574775   \n",
       "4           0.059365           11.223893             10.170965   \n",
       "\n",
       "   target2__std__30d  target3__mean__30d  target3__median__30d  \\\n",
       "0                NaN            0.112952              0.112952   \n",
       "1           7.403996            0.104677              0.104677   \n",
       "2           6.609544            0.103606              0.101464   \n",
       "3           5.707194            0.103317              0.101956   \n",
       "4           6.279732            0.091957              0.101464   \n",
       "\n",
       "   target3__std__30d  target4__mean__30d  target4__median__30d  \\\n",
       "0                NaN           22.990196             22.990196   \n",
       "1           0.011702           19.329685             19.329685   \n",
       "2           0.008480           20.610733             22.990196   \n",
       "3           0.006948           24.297829             23.081512   \n",
       "4           0.026104           21.907820             22.990196   \n",
       "\n",
       "   target4__std__30d  \n",
       "0                NaN  \n",
       "1           5.176745  \n",
       "2           4.280490  \n",
       "3           8.160501  \n",
       "4           8.860362  "
      ]
     },
     "execution_count": 33,
     "metadata": {},
     "output_type": "execute_result"
    }
   ],
   "source": [
    "# for the statistics, we will compute them and then resuse them\n",
    "stats_gen_tmf = StatisticGen(stats=['mean', 'median', 'std'], windows=[30], drop_index=False)\n",
    "target_stats_tmf = PdColumnTransformer([('gen_stats', stats_gen_tmf, pp_cols)])\n",
    "target_stats_table = target_stats_tmf.fit_transform(df)\n",
    "\n",
    "\n",
    "target_stats_table.head()"
   ]
  },
  {
   "cell_type": "code",
   "execution_count": 34,
   "id": "19fa869d",
   "metadata": {},
   "outputs": [],
   "source": [
    "## merge computed statistics\n",
    "reuse_computed_stats = Pipeline([('merge_stats', FeaturesTable(target_stats_table, lags=[45], clip_max=True)),\n",
    "                                 ('fillnan', FunctionTransformer(fillna)),\n",
    "                                 ('normalize', PdScaleNorm())\n",
    "                                ])"
   ]
  },
  {
   "cell_type": "code",
   "execution_count": 35,
   "id": "cb7a4d33",
   "metadata": {},
   "outputs": [],
   "source": [
    "# for continuous features, we will filter them and then fill nan values and normalize them\n",
    "\n",
    "median_fillnan_columns = ['numberOfFollowers', 'teamFollowers',\n",
    "                          'playerDebutAge', 'playerAge', 'playerTSinceDebut']\n",
    "fillnan_median_tmf = MedianFillNaN(median_fillnan_columns)\n",
    "\n",
    "continuous_feat_tmf = Pipeline([('get_cont_feat', FilterContinuousFeatures(ignore_features=categories +\n",
    "                                                                           pp_cols +\n",
    "                                                                           ['target_avg'])),\n",
    "                                ('fillnan_median', fillnan_median_tmf),\n",
    "                                ('fillnan', FunctionTransformer(fillna)),\n",
    "                                ('normalize', PdScaleNorm())\n",
    "                               ])"
   ]
  },
  {
   "cell_type": "code",
   "execution_count": 36,
   "id": "860bf86a",
   "metadata": {},
   "outputs": [],
   "source": [
    "\n",
    "from pipeline.core import FilterFeatures"
   ]
  },
  {
   "cell_type": "code",
   "execution_count": 37,
   "id": "99a9274a",
   "metadata": {},
   "outputs": [],
   "source": [
    "player_tv_cont_features = FilterFeatures(['runsScored__ptvf', 'homeRuns__ptvf',\n",
    "                                          'hits__ptvf', 'SLG__ptvf',\n",
    "                                          'rbi__ptvf',\n",
    "                                          'plateAppearances__ptvf',\n",
    "                                          'runsPitching__ptvf',\n",
    "                                           'playerId', 'date']).fit(df)._features"
   ]
  },
  {
   "cell_type": "code",
   "execution_count": 38,
   "id": "c166f85b",
   "metadata": {},
   "outputs": [
    {
     "data": {
      "text/plain": [
       "['playerId',\n",
       " 'date',\n",
       " 'runsScored__ptvf',\n",
       " 'homeRuns__ptvf',\n",
       " 'hits__ptvf',\n",
       " 'plateAppearances__ptvf',\n",
       " 'rbi__ptvf',\n",
       " 'runsPitching__ptvf',\n",
       " 'SLG__ptvf']"
      ]
     },
     "execution_count": 38,
     "metadata": {},
     "output_type": "execute_result"
    }
   ],
   "source": [
    "player_tv_cont_features"
   ]
  },
  {
   "cell_type": "code",
   "execution_count": 39,
   "id": "a81498dd",
   "metadata": {},
   "outputs": [],
   "source": [
    "## moving stats for players stats\n",
    "# get the rest of the continuous features\n",
    "stats_gen_cont_features = StatisticGen(stats=['sum', 'max'],\n",
    "                             windows=[7],\n",
    "                             drop_index=True)\n",
    "_mov_cont_feat_tmf = Pipeline([('fillnan', FunctionTransformer(fillna)),\n",
    "                               ('cont_stats', stats_gen_cont_features),\n",
    "                                ('normalize', PdScaleNorm()),\n",
    "                                ])\n",
    "mov_cont_feat_tmf = PdColumnTransformer([('cont', _mov_cont_feat_tmf, player_tv_cont_features)]\n",
    "                                 )"
   ]
  },
  {
   "cell_type": "code",
   "execution_count": 40,
   "id": "bc199ff8",
   "metadata": {},
   "outputs": [],
   "source": [
    "# putting all features generation steps together\n",
    "all_features_tmf = PdFeatureUnion([('stats', reuse_computed_stats), \n",
    "                                   ('cont_feat', continuous_feat_tmf), \n",
    "                                   ('cats', categories_tmf),\n",
    "                                   ('mov_feat', mov_cont_feat_tmf),\n",
    "                                  ])"
   ]
  },
  {
   "cell_type": "code",
   "execution_count": 41,
   "id": "e6bcb4ad",
   "metadata": {},
   "outputs": [],
   "source": [
    "# main pipeline with all steps \n",
    "pipeline = Pipeline([('core_features', ffill_and_gen_harcoded_feat),\n",
    "                     ('features_generation', all_features_tmf)])"
   ]
  },
  {
   "cell_type": "code",
   "execution_count": 42,
   "id": "4955dfc9",
   "metadata": {
    "scrolled": true
   },
   "outputs": [
    {
     "data": {
      "text/plain": [
       "Pipeline(steps=[('core_features',\n",
       "                 Pipeline(steps=[('inplace_fill_forward',\n",
       "                                  FunctionTransformer(func=<function forward_fill at 0x7fe97dd01670>,\n",
       "                                                      kw_args={'features': ['numberOfFollowers',\n",
       "                                                                            'teamFollowers',\n",
       "                                                                            'status',\n",
       "                                                                            'teamId',\n",
       "                                                                            'rosterDate',\n",
       "                                                                            'pstatsDate'],\n",
       "                                                               'on': ['playerId',\n",
       "                                                                      'year']})),\n",
       "                                 ('hardcoded_feat',\n",
       "                                  FunctionTransformer(func=<function gen_hardcoded_features at 0x7fe97...\n",
       "                                                   PdColumnTransformer(transformers=[('cont',\n",
       "                                                                                      Pipeline(steps=[('fillnan',\n",
       "                                                                                                       FunctionTransformer(func=<function fillna at 0x7fe97dd01790>)),\n",
       "                                                                                                      ('cont_stats',\n",
       "                                                                                                       StatisticGen(stats=['sum',\n",
       "                                                                                                                           'max'],\n",
       "                                                                                                                    windows=[7])),\n",
       "                                                                                                      ('normalize',\n",
       "                                                                                                       PdScaleNorm())]),\n",
       "                                                                                      ['playerId',\n",
       "                                                                                       'date',\n",
       "                                                                                       'runsScored__ptvf',\n",
       "                                                                                       'homeRuns__ptvf',\n",
       "                                                                                       'hits__ptvf',\n",
       "                                                                                       'plateAppearances__ptvf',\n",
       "                                                                                       'rbi__ptvf',\n",
       "                                                                                       'runsPitching__ptvf',\n",
       "                                                                                       'SLG__ptvf'])]))]))])"
      ]
     },
     "execution_count": 42,
     "metadata": {},
     "output_type": "execute_result"
    }
   ],
   "source": [
    "pipeline"
   ]
  },
  {
   "cell_type": "markdown",
   "id": "ae97c92f",
   "metadata": {},
   "source": [
    "### modeling "
   ]
  },
  {
   "cell_type": "code",
   "execution_count": 43,
   "id": "3b0250b6",
   "metadata": {},
   "outputs": [],
   "source": [
    "# from typing import List, Callable\n",
    "# from copy import deepcopy\n",
    "\n",
    "# def stack_predictions(prediction):\n",
    "#     return np.stack(prediction, axis=1)\n",
    "\n",
    "\n",
    "# class StackModelOutput:\n",
    "#     def __init__(self, model_output):\n",
    "#         self.model_output = model_output\n",
    "#         self.prediction = stack_predictions([model.prediction for model in self.model_output])\n",
    "    \n",
    "#     def predict_fn(self, features):\n",
    "#         return stack_predictions([model.predict(features)\n",
    "#                                   for model in self.modes])\n",
    "\n",
    "# class ModelPerTarget:\n",
    "#     def __init__(self, target_cols: List[str]\n",
    "#                  keepdim: bool = True,\n",
    "#                  output_fn: Callable = StackModelOutput):\n",
    "#         self.target_cols = target_cols\n",
    "#         self.keepdim = keepdim\n",
    "#         self.output_fn = output_fn\n",
    "    \n",
    "#     def decorate(self, run_fn):\n",
    "#         self.run_fn = run_fn\n",
    "    \n",
    "#     def __call__(self, config, train_data, valid_data):\n",
    "#         output = []\n",
    "#         for target_name in target_cols:\n",
    "#             target_config = deepcopy(config)\n",
    "#             target_config['target_cols'] = [target_name] if self.keep_dim else target_name    \n",
    "#             target_output = self.run_fn(target_config,\n",
    "#                                         train_data,\n",
    "#                                         valid_data)\n",
    "#             output.append(target_output)\n",
    "#         if self.output_fn is not None:\n",
    "#             output = self.output_fn(output)\n",
    "#         return output\n",
    "            \n",
    "\n",
    "# class ToClassification:\n",
    "#     def __init__(self,\n",
    "#                  n_bins: int = 5,\n",
    "#                  strategy='uniform'):\n",
    "#         self.n_bins = n_bins\n",
    "#         self.strategy = strategy\n",
    "    \n",
    "#     def fit(config, train_data, valid_data):\n",
    "#         cls_train_data = train_data.copy()\n",
    "#         cls_valid_data = valid_data.copy()\n",
    "        \n",
    "        \n",
    "        \n",
    "        "
   ]
  },
  {
   "cell_type": "code",
   "execution_count": 44,
   "id": "9a07900f",
   "metadata": {},
   "outputs": [],
   "source": [
    "discrete_target_cols = [f + \"__discrete\" for f in target_cols]"
   ]
  },
  {
   "cell_type": "code",
   "execution_count": 45,
   "id": "b4c83993",
   "metadata": {},
   "outputs": [],
   "source": [
    "from sklearn.preprocessing import KBinsDiscretizer\n",
    "\n",
    "kbins = KBinsDiscretizer(n_bins=5, strategy='uniform', encode='ordinal')\n",
    "\n",
    "kbins = kbins.fit(df[target_cols])"
   ]
  },
  {
   "cell_type": "code",
   "execution_count": 46,
   "id": "1376973b",
   "metadata": {},
   "outputs": [],
   "source": [
    "target_name = 'target2__discrete'"
   ]
  },
  {
   "cell_type": "code",
   "execution_count": 47,
   "id": "68a50fe4",
   "metadata": {},
   "outputs": [],
   "source": [
    "df[discrete_target_cols] = kbins.fit_transform(df[target_cols]).astype(np.int64)"
   ]
  },
  {
   "cell_type": "code",
   "execution_count": 48,
   "id": "59f887f8",
   "metadata": {},
   "outputs": [],
   "source": [
    "centriods = df.groupby(target_name)['target2'].mean().to_numpy()[None, :]"
   ]
  },
  {
   "cell_type": "code",
   "execution_count": 49,
   "id": "8ab3cfa4",
   "metadata": {},
   "outputs": [
    {
     "data": {
      "text/plain": [
       "array([[ 2.24752749, 27.58067247, 48.20001342, 68.24586227, 94.67680837]])"
      ]
     },
     "execution_count": 49,
     "metadata": {},
     "output_type": "execute_result"
    }
   ],
   "source": [
    "centriods"
   ]
  },
  {
   "cell_type": "code",
   "execution_count": 50,
   "id": "5db7f227",
   "metadata": {},
   "outputs": [],
   "source": [
    "# centriods = kbins.bin_edges_[0][None, :]"
   ]
  },
  {
   "cell_type": "code",
   "execution_count": 51,
   "id": "01547a20",
   "metadata": {},
   "outputs": [],
   "source": [
    "# centriods = (centriods[:, :-1] + centriods[:, 1:]) / 2"
   ]
  },
  {
   "cell_type": "code",
   "execution_count": 52,
   "id": "10a7e043",
   "metadata": {},
   "outputs": [],
   "source": [
    "# centriods"
   ]
  },
  {
   "cell_type": "code",
   "execution_count": 53,
   "id": "4cb1913d",
   "metadata": {},
   "outputs": [],
   "source": [
    "from omegaconf import OmegaConf\n",
    "hp = {'epochs': 10,\n",
    "      'batch_size': 512,\n",
    "      'max_emb_sz': 20,\n",
    "      'encoder_dim': 512,\n",
    "      'depth': 2,\n",
    "      'emb_dropout': 0.2,\n",
    "      'dropout': 0.5,\n",
    "      'decrease_factor': 0.5,\n",
    "      'drop_decrease_factor': 1.,\n",
    "      'lr': 0.001,\n",
    "      'wd': 3e-5,\n",
    "      'scale_output': True}\n",
    "# real_data_config = OmegaConf.create(real_data_config)"
   ]
  },
  {
   "cell_type": "code",
   "execution_count": 54,
   "id": "f6cbea61",
   "metadata": {},
   "outputs": [
    {
     "name": "stderr",
     "output_type": "stream",
     "text": [
      "/home/med/anaconda3/envs/mlb/lib/python3.8/site-packages/pytorch_lightning/metrics/__init__.py:43: LightningDeprecationWarning: `pytorch_lightning.metrics.*` module has been renamed to `torchmetrics.*` and split off to its own package (https://github.com/PyTorchLightning/metrics) since v1.3 and will be removed in v1.5\n",
      "  rank_zero_deprecation(\n"
     ]
    }
   ],
   "source": [
    "from train import cont_emb_stack"
   ]
  },
  {
   "cell_type": "code",
   "execution_count": 55,
   "id": "0b73ecce",
   "metadata": {},
   "outputs": [],
   "source": [
    "def filter_by_idx(df, idx):\n",
    "    return df.loc[idx, :].reset_index(drop=True)"
   ]
  },
  {
   "cell_type": "code",
   "execution_count": 56,
   "id": "55d6364f",
   "metadata": {
    "scrolled": false
   },
   "outputs": [
    {
     "name": "stdout",
     "output_type": "stream",
     "text": [
      "evaluating from 2021-04-01 to 2021-05-01\n",
      "training pipeline\n",
      "executing pipeline\n"
     ]
    },
    {
     "name": "stderr",
     "output_type": "stream",
     "text": [
      "GPU available: False, used: False\n",
      "TPU available: False, using: 0 TPU cores\n",
      "\n",
      "  | Name         | Type           | Params\n",
      "------------------------------------------------\n",
      "0 | emb          | EmbeddingLayer | 24.4 K\n",
      "1 | output_layer | Sequential     | 224 K \n",
      "------------------------------------------------\n",
      "249 K     Trainable params\n",
      "0         Non-trainable params\n",
      "249 K     Total params\n",
      "0.997     Total estimated model params size (MB)\n"
     ]
    },
    {
     "name": "stdout",
     "output_type": "stream",
     "text": [
      "ClassificationEmbModel(\n",
      "  (emb): EmbeddingLayer(\n",
      "    (dropout): Dropout(p=0.2, inplace=False)\n",
      "    (emb): ModuleDict(\n",
      "      (playerId): Embedding(1187, 20)\n",
      "      (seasonPart): Embedding(7, 3)\n",
      "      (year): Embedding(4, 2)\n",
      "      (primaryPositionName): Embedding(9, 3)\n",
      "      (status): Embedding(14, 4)\n",
      "      (teamId): Embedding(31, 6)\n",
      "      (weekday): Embedding(7, 3)\n",
      "      (opponentTeamId): Embedding(33, 6)\n",
      "      (birthCountry): Embedding(23, 5)\n",
      "    )\n",
      "  )\n",
      "  (output_layer): Sequential(\n",
      "    (0): Linear(in_features=179, out_features=512, bias=True)\n",
      "    (1): LeakyReLU(negative_slope=0.2)\n",
      "    (2): Dropout(p=0.5, inplace=False)\n",
      "    (3): Linear(in_features=512, out_features=256, bias=True)\n",
      "    (4): LeakyReLU(negative_slope=0.2)\n",
      "    (5): Dropout(p=0.5, inplace=False)\n",
      "    (6): Linear(in_features=256, out_features=5, bias=True)\n",
      "  )\n",
      ")\n"
     ]
    },
    {
     "data": {
      "application/vnd.jupyter.widget-view+json": {
       "model_id": "",
       "version_major": 2,
       "version_minor": 0
      },
      "text/plain": [
       "Validation sanity check: 0it [00:00, ?it/s]"
      ]
     },
     "metadata": {},
     "output_type": "display_data"
    },
    {
     "name": "stderr",
     "output_type": "stream",
     "text": [
      "/home/med/anaconda3/envs/mlb/lib/python3.8/site-packages/pytorch_lightning/core/step_result.py:115: UserWarning: To copy construct from a tensor, it is recommended to use sourceTensor.clone().detach() or sourceTensor.clone().detach().requires_grad_(True), rather than torch.tensor(sourceTensor).\n",
      "  value = torch.tensor(value, device=device, dtype=torch.float)\n"
     ]
    },
    {
     "data": {
      "application/vnd.jupyter.widget-view+json": {
       "model_id": "ce255e58cc8f44b78f9ac9493a814250",
       "version_major": 2,
       "version_minor": 0
      },
      "text/plain": [
       "Training: 0it [00:00, ?it/s]"
      ]
     },
     "metadata": {},
     "output_type": "display_data"
    },
    {
     "data": {
      "application/vnd.jupyter.widget-view+json": {
       "model_id": "",
       "version_major": 2,
       "version_minor": 0
      },
      "text/plain": [
       "Validating: 0it [00:00, ?it/s]"
      ]
     },
     "metadata": {},
     "output_type": "display_data"
    },
    {
     "data": {
      "application/vnd.jupyter.widget-view+json": {
       "model_id": "",
       "version_major": 2,
       "version_minor": 0
      },
      "text/plain": [
       "Validating: 0it [00:00, ?it/s]"
      ]
     },
     "metadata": {},
     "output_type": "display_data"
    },
    {
     "data": {
      "application/vnd.jupyter.widget-view+json": {
       "model_id": "",
       "version_major": 2,
       "version_minor": 0
      },
      "text/plain": [
       "Validating: 0it [00:00, ?it/s]"
      ]
     },
     "metadata": {},
     "output_type": "display_data"
    },
    {
     "data": {
      "application/vnd.jupyter.widget-view+json": {
       "model_id": "",
       "version_major": 2,
       "version_minor": 0
      },
      "text/plain": [
       "Validating: 0it [00:00, ?it/s]"
      ]
     },
     "metadata": {},
     "output_type": "display_data"
    },
    {
     "data": {
      "application/vnd.jupyter.widget-view+json": {
       "model_id": "",
       "version_major": 2,
       "version_minor": 0
      },
      "text/plain": [
       "Validating: 0it [00:00, ?it/s]"
      ]
     },
     "metadata": {},
     "output_type": "display_data"
    },
    {
     "data": {
      "application/vnd.jupyter.widget-view+json": {
       "model_id": "",
       "version_major": 2,
       "version_minor": 0
      },
      "text/plain": [
       "Validating: 0it [00:00, ?it/s]"
      ]
     },
     "metadata": {},
     "output_type": "display_data"
    },
    {
     "data": {
      "application/vnd.jupyter.widget-view+json": {
       "model_id": "",
       "version_major": 2,
       "version_minor": 0
      },
      "text/plain": [
       "Validating: 0it [00:00, ?it/s]"
      ]
     },
     "metadata": {},
     "output_type": "display_data"
    },
    {
     "data": {
      "application/vnd.jupyter.widget-view+json": {
       "model_id": "",
       "version_major": 2,
       "version_minor": 0
      },
      "text/plain": [
       "Validating: 0it [00:00, ?it/s]"
      ]
     },
     "metadata": {},
     "output_type": "display_data"
    },
    {
     "name": "stdout",
     "output_type": "stream",
     "text": [
      "loading model to best score\n",
      "best score = 1.3604240417480469\n",
      "evaluating from 2021-05-01 to 2021-06-01\n",
      "training pipeline\n",
      "executing pipeline\n"
     ]
    },
    {
     "name": "stderr",
     "output_type": "stream",
     "text": [
      "GPU available: False, used: False\n",
      "TPU available: False, using: 0 TPU cores\n",
      "\n",
      "  | Name         | Type           | Params\n",
      "------------------------------------------------\n",
      "0 | emb          | EmbeddingLayer | 24.4 K\n",
      "1 | output_layer | Sequential     | 224 K \n",
      "------------------------------------------------\n",
      "249 K     Trainable params\n",
      "0         Non-trainable params\n",
      "249 K     Total params\n",
      "0.997     Total estimated model params size (MB)\n"
     ]
    },
    {
     "name": "stdout",
     "output_type": "stream",
     "text": [
      "ClassificationEmbModel(\n",
      "  (emb): EmbeddingLayer(\n",
      "    (dropout): Dropout(p=0.2, inplace=False)\n",
      "    (emb): ModuleDict(\n",
      "      (playerId): Embedding(1187, 20)\n",
      "      (seasonPart): Embedding(7, 3)\n",
      "      (year): Embedding(4, 2)\n",
      "      (primaryPositionName): Embedding(9, 3)\n",
      "      (status): Embedding(16, 4)\n",
      "      (teamId): Embedding(31, 6)\n",
      "      (weekday): Embedding(7, 3)\n",
      "      (opponentTeamId): Embedding(33, 6)\n",
      "      (birthCountry): Embedding(23, 5)\n",
      "    )\n",
      "  )\n",
      "  (output_layer): Sequential(\n",
      "    (0): Linear(in_features=179, out_features=512, bias=True)\n",
      "    (1): LeakyReLU(negative_slope=0.2)\n",
      "    (2): Dropout(p=0.5, inplace=False)\n",
      "    (3): Linear(in_features=512, out_features=256, bias=True)\n",
      "    (4): LeakyReLU(negative_slope=0.2)\n",
      "    (5): Dropout(p=0.5, inplace=False)\n",
      "    (6): Linear(in_features=256, out_features=5, bias=True)\n",
      "  )\n",
      ")\n"
     ]
    },
    {
     "data": {
      "application/vnd.jupyter.widget-view+json": {
       "model_id": "",
       "version_major": 2,
       "version_minor": 0
      },
      "text/plain": [
       "Validation sanity check: 0it [00:00, ?it/s]"
      ]
     },
     "metadata": {},
     "output_type": "display_data"
    },
    {
     "name": "stderr",
     "output_type": "stream",
     "text": [
      "/home/med/anaconda3/envs/mlb/lib/python3.8/site-packages/pytorch_lightning/core/step_result.py:115: UserWarning: To copy construct from a tensor, it is recommended to use sourceTensor.clone().detach() or sourceTensor.clone().detach().requires_grad_(True), rather than torch.tensor(sourceTensor).\n",
      "  value = torch.tensor(value, device=device, dtype=torch.float)\n"
     ]
    },
    {
     "data": {
      "application/vnd.jupyter.widget-view+json": {
       "model_id": "871904ace2b04a85af38cc0f40f5dfa5",
       "version_major": 2,
       "version_minor": 0
      },
      "text/plain": [
       "Training: 0it [00:00, ?it/s]"
      ]
     },
     "metadata": {},
     "output_type": "display_data"
    },
    {
     "data": {
      "application/vnd.jupyter.widget-view+json": {
       "model_id": "",
       "version_major": 2,
       "version_minor": 0
      },
      "text/plain": [
       "Validating: 0it [00:00, ?it/s]"
      ]
     },
     "metadata": {},
     "output_type": "display_data"
    },
    {
     "data": {
      "application/vnd.jupyter.widget-view+json": {
       "model_id": "",
       "version_major": 2,
       "version_minor": 0
      },
      "text/plain": [
       "Validating: 0it [00:00, ?it/s]"
      ]
     },
     "metadata": {},
     "output_type": "display_data"
    },
    {
     "data": {
      "application/vnd.jupyter.widget-view+json": {
       "model_id": "",
       "version_major": 2,
       "version_minor": 0
      },
      "text/plain": [
       "Validating: 0it [00:00, ?it/s]"
      ]
     },
     "metadata": {},
     "output_type": "display_data"
    },
    {
     "data": {
      "application/vnd.jupyter.widget-view+json": {
       "model_id": "",
       "version_major": 2,
       "version_minor": 0
      },
      "text/plain": [
       "Validating: 0it [00:00, ?it/s]"
      ]
     },
     "metadata": {},
     "output_type": "display_data"
    },
    {
     "data": {
      "application/vnd.jupyter.widget-view+json": {
       "model_id": "",
       "version_major": 2,
       "version_minor": 0
      },
      "text/plain": [
       "Validating: 0it [00:00, ?it/s]"
      ]
     },
     "metadata": {},
     "output_type": "display_data"
    },
    {
     "name": "stdout",
     "output_type": "stream",
     "text": [
      "loading model to best score\n",
      "best score = 1.3562886714935303\n",
      "evaluating from 2021-06-01 to 2021-07-01\n",
      "training pipeline\n",
      "executing pipeline\n"
     ]
    },
    {
     "name": "stderr",
     "output_type": "stream",
     "text": [
      "GPU available: False, used: False\n",
      "TPU available: False, using: 0 TPU cores\n",
      "\n",
      "  | Name         | Type           | Params\n",
      "------------------------------------------------\n",
      "0 | emb          | EmbeddingLayer | 24.4 K\n",
      "1 | output_layer | Sequential     | 224 K \n",
      "------------------------------------------------\n",
      "249 K     Trainable params\n",
      "0         Non-trainable params\n",
      "249 K     Total params\n",
      "0.997     Total estimated model params size (MB)\n"
     ]
    },
    {
     "name": "stdout",
     "output_type": "stream",
     "text": [
      "ClassificationEmbModel(\n",
      "  (emb): EmbeddingLayer(\n",
      "    (dropout): Dropout(p=0.2, inplace=False)\n",
      "    (emb): ModuleDict(\n",
      "      (playerId): Embedding(1187, 20)\n",
      "      (seasonPart): Embedding(7, 3)\n",
      "      (year): Embedding(4, 2)\n",
      "      (primaryPositionName): Embedding(9, 3)\n",
      "      (status): Embedding(16, 4)\n",
      "      (teamId): Embedding(31, 6)\n",
      "      (weekday): Embedding(7, 3)\n",
      "      (opponentTeamId): Embedding(33, 6)\n",
      "      (birthCountry): Embedding(23, 5)\n",
      "    )\n",
      "  )\n",
      "  (output_layer): Sequential(\n",
      "    (0): Linear(in_features=179, out_features=512, bias=True)\n",
      "    (1): LeakyReLU(negative_slope=0.2)\n",
      "    (2): Dropout(p=0.5, inplace=False)\n",
      "    (3): Linear(in_features=512, out_features=256, bias=True)\n",
      "    (4): LeakyReLU(negative_slope=0.2)\n",
      "    (5): Dropout(p=0.5, inplace=False)\n",
      "    (6): Linear(in_features=256, out_features=5, bias=True)\n",
      "  )\n",
      ")\n"
     ]
    },
    {
     "data": {
      "application/vnd.jupyter.widget-view+json": {
       "model_id": "",
       "version_major": 2,
       "version_minor": 0
      },
      "text/plain": [
       "Validation sanity check: 0it [00:00, ?it/s]"
      ]
     },
     "metadata": {},
     "output_type": "display_data"
    },
    {
     "name": "stderr",
     "output_type": "stream",
     "text": [
      "/home/med/anaconda3/envs/mlb/lib/python3.8/site-packages/pytorch_lightning/core/step_result.py:115: UserWarning: To copy construct from a tensor, it is recommended to use sourceTensor.clone().detach() or sourceTensor.clone().detach().requires_grad_(True), rather than torch.tensor(sourceTensor).\n",
      "  value = torch.tensor(value, device=device, dtype=torch.float)\n"
     ]
    },
    {
     "data": {
      "application/vnd.jupyter.widget-view+json": {
       "model_id": "dca77fec73a8478b91632173e15c222e",
       "version_major": 2,
       "version_minor": 0
      },
      "text/plain": [
       "Training: 0it [00:00, ?it/s]"
      ]
     },
     "metadata": {},
     "output_type": "display_data"
    },
    {
     "data": {
      "application/vnd.jupyter.widget-view+json": {
       "model_id": "",
       "version_major": 2,
       "version_minor": 0
      },
      "text/plain": [
       "Validating: 0it [00:00, ?it/s]"
      ]
     },
     "metadata": {},
     "output_type": "display_data"
    },
    {
     "data": {
      "application/vnd.jupyter.widget-view+json": {
       "model_id": "",
       "version_major": 2,
       "version_minor": 0
      },
      "text/plain": [
       "Validating: 0it [00:00, ?it/s]"
      ]
     },
     "metadata": {},
     "output_type": "display_data"
    },
    {
     "data": {
      "application/vnd.jupyter.widget-view+json": {
       "model_id": "",
       "version_major": 2,
       "version_minor": 0
      },
      "text/plain": [
       "Validating: 0it [00:00, ?it/s]"
      ]
     },
     "metadata": {},
     "output_type": "display_data"
    },
    {
     "data": {
      "application/vnd.jupyter.widget-view+json": {
       "model_id": "",
       "version_major": 2,
       "version_minor": 0
      },
      "text/plain": [
       "Validating: 0it [00:00, ?it/s]"
      ]
     },
     "metadata": {},
     "output_type": "display_data"
    },
    {
     "data": {
      "application/vnd.jupyter.widget-view+json": {
       "model_id": "",
       "version_major": 2,
       "version_minor": 0
      },
      "text/plain": [
       "Validating: 0it [00:00, ?it/s]"
      ]
     },
     "metadata": {},
     "output_type": "display_data"
    },
    {
     "data": {
      "application/vnd.jupyter.widget-view+json": {
       "model_id": "",
       "version_major": 2,
       "version_minor": 0
      },
      "text/plain": [
       "Validating: 0it [00:00, ?it/s]"
      ]
     },
     "metadata": {},
     "output_type": "display_data"
    },
    {
     "name": "stdout",
     "output_type": "stream",
     "text": [
      "loading model to best score\n",
      "best score = 1.1988683938980103\n",
      "evaluating from 2021-07-01 to 2021-08-01\n",
      "training pipeline\n",
      "executing pipeline\n"
     ]
    },
    {
     "name": "stderr",
     "output_type": "stream",
     "text": [
      "GPU available: False, used: False\n",
      "TPU available: False, using: 0 TPU cores\n",
      "\n",
      "  | Name         | Type           | Params\n",
      "------------------------------------------------\n",
      "0 | emb          | EmbeddingLayer | 24.4 K\n",
      "1 | output_layer | Sequential     | 224 K \n",
      "------------------------------------------------\n",
      "249 K     Trainable params\n",
      "0         Non-trainable params\n",
      "249 K     Total params\n",
      "0.997     Total estimated model params size (MB)\n"
     ]
    },
    {
     "name": "stdout",
     "output_type": "stream",
     "text": [
      "ClassificationEmbModel(\n",
      "  (emb): EmbeddingLayer(\n",
      "    (dropout): Dropout(p=0.2, inplace=False)\n",
      "    (emb): ModuleDict(\n",
      "      (playerId): Embedding(1187, 20)\n",
      "      (seasonPart): Embedding(7, 3)\n",
      "      (year): Embedding(4, 2)\n",
      "      (primaryPositionName): Embedding(9, 3)\n",
      "      (status): Embedding(16, 4)\n",
      "      (teamId): Embedding(31, 6)\n",
      "      (weekday): Embedding(7, 3)\n",
      "      (opponentTeamId): Embedding(33, 6)\n",
      "      (birthCountry): Embedding(23, 5)\n",
      "    )\n",
      "  )\n",
      "  (output_layer): Sequential(\n",
      "    (0): Linear(in_features=179, out_features=512, bias=True)\n",
      "    (1): LeakyReLU(negative_slope=0.2)\n",
      "    (2): Dropout(p=0.5, inplace=False)\n",
      "    (3): Linear(in_features=512, out_features=256, bias=True)\n",
      "    (4): LeakyReLU(negative_slope=0.2)\n",
      "    (5): Dropout(p=0.5, inplace=False)\n",
      "    (6): Linear(in_features=256, out_features=5, bias=True)\n",
      "  )\n",
      ")\n"
     ]
    },
    {
     "data": {
      "application/vnd.jupyter.widget-view+json": {
       "model_id": "",
       "version_major": 2,
       "version_minor": 0
      },
      "text/plain": [
       "Validation sanity check: 0it [00:00, ?it/s]"
      ]
     },
     "metadata": {},
     "output_type": "display_data"
    },
    {
     "name": "stderr",
     "output_type": "stream",
     "text": [
      "/home/med/anaconda3/envs/mlb/lib/python3.8/site-packages/pytorch_lightning/core/step_result.py:115: UserWarning: To copy construct from a tensor, it is recommended to use sourceTensor.clone().detach() or sourceTensor.clone().detach().requires_grad_(True), rather than torch.tensor(sourceTensor).\n",
      "  value = torch.tensor(value, device=device, dtype=torch.float)\n"
     ]
    },
    {
     "data": {
      "application/vnd.jupyter.widget-view+json": {
       "model_id": "d60276a1c9c94d49a120c53a3e954ba8",
       "version_major": 2,
       "version_minor": 0
      },
      "text/plain": [
       "Training: 0it [00:00, ?it/s]"
      ]
     },
     "metadata": {},
     "output_type": "display_data"
    },
    {
     "data": {
      "application/vnd.jupyter.widget-view+json": {
       "model_id": "",
       "version_major": 2,
       "version_minor": 0
      },
      "text/plain": [
       "Validating: 0it [00:00, ?it/s]"
      ]
     },
     "metadata": {},
     "output_type": "display_data"
    },
    {
     "data": {
      "application/vnd.jupyter.widget-view+json": {
       "model_id": "",
       "version_major": 2,
       "version_minor": 0
      },
      "text/plain": [
       "Validating: 0it [00:00, ?it/s]"
      ]
     },
     "metadata": {},
     "output_type": "display_data"
    },
    {
     "data": {
      "application/vnd.jupyter.widget-view+json": {
       "model_id": "",
       "version_major": 2,
       "version_minor": 0
      },
      "text/plain": [
       "Validating: 0it [00:00, ?it/s]"
      ]
     },
     "metadata": {},
     "output_type": "display_data"
    },
    {
     "data": {
      "application/vnd.jupyter.widget-view+json": {
       "model_id": "",
       "version_major": 2,
       "version_minor": 0
      },
      "text/plain": [
       "Validating: 0it [00:00, ?it/s]"
      ]
     },
     "metadata": {},
     "output_type": "display_data"
    },
    {
     "data": {
      "application/vnd.jupyter.widget-view+json": {
       "model_id": "",
       "version_major": 2,
       "version_minor": 0
      },
      "text/plain": [
       "Validating: 0it [00:00, ?it/s]"
      ]
     },
     "metadata": {},
     "output_type": "display_data"
    },
    {
     "data": {
      "application/vnd.jupyter.widget-view+json": {
       "model_id": "",
       "version_major": 2,
       "version_minor": 0
      },
      "text/plain": [
       "Validating: 0it [00:00, ?it/s]"
      ]
     },
     "metadata": {},
     "output_type": "display_data"
    },
    {
     "data": {
      "application/vnd.jupyter.widget-view+json": {
       "model_id": "",
       "version_major": 2,
       "version_minor": 0
      },
      "text/plain": [
       "Validating: 0it [00:00, ?it/s]"
      ]
     },
     "metadata": {},
     "output_type": "display_data"
    },
    {
     "data": {
      "application/vnd.jupyter.widget-view+json": {
       "model_id": "",
       "version_major": 2,
       "version_minor": 0
      },
      "text/plain": [
       "Validating: 0it [00:00, ?it/s]"
      ]
     },
     "metadata": {},
     "output_type": "display_data"
    },
    {
     "data": {
      "application/vnd.jupyter.widget-view+json": {
       "model_id": "",
       "version_major": 2,
       "version_minor": 0
      },
      "text/plain": [
       "Validating: 0it [00:00, ?it/s]"
      ]
     },
     "metadata": {},
     "output_type": "display_data"
    },
    {
     "data": {
      "application/vnd.jupyter.widget-view+json": {
       "model_id": "",
       "version_major": 2,
       "version_minor": 0
      },
      "text/plain": [
       "Validating: 0it [00:00, ?it/s]"
      ]
     },
     "metadata": {},
     "output_type": "display_data"
    },
    {
     "name": "stdout",
     "output_type": "stream",
     "text": [
      "loading model to best score\n",
      "best score = 0.9738637804985046\n"
     ]
    }
   ],
   "source": [
    "test_dates = ['2021-04-01', '2021-05-01',\n",
    "              '2021-06-01', '2021-07-01',\n",
    "              '2021-08-01']\n",
    "output = []\n",
    "\n",
    "cv_prediction = []\n",
    "for start_test_date, end_test_date in zip(test_dates[:-1], test_dates[1:]):\n",
    "    train_idx = df['date'] < start_test_date\n",
    "    valid_idx = df['date'].between(start_test_date, end_test_date, inclusive=False)\n",
    "    \n",
    "    print(f'evaluating from {start_test_date} to {end_test_date}')\n",
    "    \n",
    "    print('training pipeline')\n",
    "    pipeline.fit(filter_by_idx(df, train_idx))\n",
    "    print('executing pipeline')\n",
    "    features = pipeline.transform(df)\n",
    "    cont_features = features.columns.drop(categories).to_list()\n",
    "    \n",
    "    \n",
    "    train_data = filter_by_idx(features, train_idx)\n",
    "    valid_data = filter_by_idx(features, valid_idx)\n",
    "\n",
    "    # add the target to features ds\n",
    "    train_data[discrete_target_cols + ['date']] = df.loc[train_idx, discrete_target_cols + ['date']].to_numpy()\n",
    "    valid_data[discrete_target_cols + ['date']] = df.loc[valid_idx, discrete_target_cols + ['date']].to_numpy()\n",
    "    \n",
    "    config_hp = {'hp': hp,\n",
    "                 'seed': 2021,\n",
    "                 'features': cont_features,\n",
    "                 'categories': categories,\n",
    "                 'target_name': target_name,\n",
    "                 }\n",
    "    config_hp = OmegaConf.create(config_hp)\n",
    "    fold_output = cont_emb_stack.run_classification_fn(config_hp, train_data, valid_data)\n",
    "    \n",
    "    _prediction = fold_output.prediction[:]\n",
    "    _prediction = np.exp(_prediction)\n",
    "\n",
    "    _prediction = _prediction * centriods\n",
    "\n",
    "    _prediction = _prediction.sum(axis=1, keepdims=True)\n",
    "    _prediction = _prediction.repeat(4, axis=1)\n",
    "    fold_prediction = pd.DataFrame(_prediction, columns=['yhat1', 'yhat2', 'yhat3', 'yhat4'])\n",
    "    \n",
    "    fold_prediction[pp_cols] = df.loc[valid_idx, pp_cols].to_numpy()\n",
    "    output.append(fold_output)\n",
    "    cv_prediction.append(fold_prediction)\n",
    "\n",
    "cv_prediction = pd.concat(cv_prediction, axis=0, ignore_index=True)\n",
    "\n"
   ]
  },
  {
   "cell_type": "code",
   "execution_count": 57,
   "id": "7a730dc0",
   "metadata": {},
   "outputs": [],
   "source": [
    "# from train.core import Ensemble, predict_recursive\n",
    "# ensemble = Ensemble([output], pipeline)"
   ]
  },
  {
   "cell_type": "code",
   "execution_count": 58,
   "id": "f4564ab6",
   "metadata": {},
   "outputs": [],
   "source": [
    "# %%time\n",
    "# raw_train_fr = raw_train_df[df.columns].copy()\n",
    "\n",
    "# recursive_prediction = []\n",
    "# for date, val_date_df in raw_valid_df.groupby('date'):\n",
    "#     val_date_df = val_date_df[df.columns].reset_index(drop=True)\n",
    "#     _recurive_pred, raw_train_fr = predict_recursive(val_date_df,\n",
    "#                                                      raw_train_fr,\n",
    "#                                                      ensemble,\n",
    "#                                                      n_days=90 + 60 + 10,\n",
    "#                                                      target_cols=target_cols)\n",
    "#     recursive_prediction.append(_recurive_pred)\n",
    "\n",
    "# recursive_prediction = pd.concat(recursive_prediction, ignore_index=True)\n",
    "# recursive_prediction.sort_values(['playerId', 'date'], inplace=True)\n",
    "# recursive_prediction.reset_index(drop=True, inplace=True)\n",
    "# recursive_prediction.rename(columns={f: f.replace('target', 'yhat')\n",
    "#                                      for f in target_cols}, inplace=True)\n",
    "# recursive_prediction[target_cols] = raw_valid_df[target_cols].to_numpy()"
   ]
  },
  {
   "cell_type": "code",
   "execution_count": 59,
   "id": "72d9b14b",
   "metadata": {},
   "outputs": [],
   "source": [
    "from evaluate.metrics import compute_metrics"
   ]
  },
  {
   "cell_type": "code",
   "execution_count": 60,
   "id": "c3c011f7",
   "metadata": {},
   "outputs": [],
   "source": [
    "# last_mean_prediction = (raw_valid_df.set_index('date').groupby(['playerId'])[target_cols]\n",
    "#                         .rolling(window=7, min_periods=1).mean().reset_index())\n",
    "# last_mean_prediction\n",
    "\n",
    "# hardest_ids = [660271]\n",
    "# hardest_idx = raw_valid_df['playerId'].isin(hardest_ids)\n",
    "\n",
    "# yhat_cols = ['yhat1', 'yhat2', 'yhat3', 'yhat4']\n",
    "# valid_test_prediction_with_last_mean = valid_test_prediction.copy(deep=True)\n",
    "# valid_test_prediction_with_last_mean.loc[hardest_idx, yhat_cols] = last_mean_prediction.loc[hardest_idx, target_cols].to_numpy()\n",
    "\n",
    "# valid_test_prediction_with_last_mean"
   ]
  },
  {
   "cell_type": "code",
   "execution_count": 61,
   "id": "d5399f04",
   "metadata": {},
   "outputs": [],
   "source": [
    "# valid_test_prediction.loc[hardest_idx].head()"
   ]
  },
  {
   "cell_type": "code",
   "execution_count": 62,
   "id": "ecf23c46",
   "metadata": {},
   "outputs": [],
   "source": [
    "# valid_test_prediction_with_last_mean.loc[hardest_idx].head()"
   ]
  },
  {
   "cell_type": "code",
   "execution_count": 63,
   "id": "d180b3f7",
   "metadata": {},
   "outputs": [
    {
     "data": {
      "text/plain": [
       "{'mae_mean': 25.118750311269046,\n",
       " 'mae_1': 25.592821658689225,\n",
       " 'mae_2': 23.958577799154266,\n",
       " 'mae_3': 26.02866176675507,\n",
       " 'mae_4': 24.89494002047763}"
      ]
     },
     "execution_count": 63,
     "metadata": {},
     "output_type": "execute_result"
    }
   ],
   "source": [
    "# metrics from 2021-03-01 up to 2021-04-30\n",
    "compute_metrics(cv_prediction)"
   ]
  },
  {
   "cell_type": "code",
   "execution_count": 64,
   "id": "36bac2e9",
   "metadata": {},
   "outputs": [],
   "source": [
    "# # metrics from 2021-03-01 up to 2021-04-30\n",
    "# compute_metrics(valid_test_prediction_with_last_mean)"
   ]
  },
  {
   "cell_type": "code",
   "execution_count": 65,
   "id": "3ba7b289",
   "metadata": {},
   "outputs": [
    {
     "data": {
      "text/html": [
       "<div>\n",
       "<style scoped>\n",
       "    .dataframe tbody tr th:only-of-type {\n",
       "        vertical-align: middle;\n",
       "    }\n",
       "\n",
       "    .dataframe tbody tr th {\n",
       "        vertical-align: top;\n",
       "    }\n",
       "\n",
       "    .dataframe thead th {\n",
       "        text-align: right;\n",
       "    }\n",
       "</style>\n",
       "<table border=\"1\" class=\"dataframe\">\n",
       "  <thead>\n",
       "    <tr style=\"text-align: right;\">\n",
       "      <th></th>\n",
       "      <th>mae_mean</th>\n",
       "      <th>mae_1</th>\n",
       "      <th>mae_2</th>\n",
       "      <th>mae_3</th>\n",
       "      <th>mae_4</th>\n",
       "    </tr>\n",
       "    <tr>\n",
       "      <th>date</th>\n",
       "      <th></th>\n",
       "      <th></th>\n",
       "      <th></th>\n",
       "      <th></th>\n",
       "      <th></th>\n",
       "    </tr>\n",
       "  </thead>\n",
       "  <tbody>\n",
       "    <tr>\n",
       "      <th>4</th>\n",
       "      <td>29.749158</td>\n",
       "      <td>30.369030</td>\n",
       "      <td>28.336103</td>\n",
       "      <td>30.844303</td>\n",
       "      <td>29.447196</td>\n",
       "    </tr>\n",
       "    <tr>\n",
       "      <th>5</th>\n",
       "      <td>25.499614</td>\n",
       "      <td>25.956188</td>\n",
       "      <td>24.126629</td>\n",
       "      <td>26.424057</td>\n",
       "      <td>25.491580</td>\n",
       "    </tr>\n",
       "    <tr>\n",
       "      <th>6</th>\n",
       "      <td>22.768451</td>\n",
       "      <td>23.324925</td>\n",
       "      <td>21.802338</td>\n",
       "      <td>23.732065</td>\n",
       "      <td>22.214477</td>\n",
       "    </tr>\n",
       "    <tr>\n",
       "      <th>7</th>\n",
       "      <td>20.271935</td>\n",
       "      <td>20.365197</td>\n",
       "      <td>19.617401</td>\n",
       "      <td>20.721527</td>\n",
       "      <td>20.383615</td>\n",
       "    </tr>\n",
       "  </tbody>\n",
       "</table>\n",
       "</div>"
      ],
      "text/plain": [
       "       mae_mean      mae_1      mae_2      mae_3      mae_4\n",
       "date                                                       \n",
       "4     29.749158  30.369030  28.336103  30.844303  29.447196\n",
       "5     25.499614  25.956188  24.126629  26.424057  25.491580\n",
       "6     22.768451  23.324925  21.802338  23.732065  22.214477\n",
       "7     20.271935  20.365197  19.617401  20.721527  20.383615"
      ]
     },
     "execution_count": 65,
     "metadata": {},
     "output_type": "execute_result"
    }
   ],
   "source": [
    "(cv_prediction.groupby(cv_prediction.date.dt.month)\n",
    " .apply(lambda x: pd.Series(compute_metrics(x))))"
   ]
  },
  {
   "cell_type": "code",
   "execution_count": 66,
   "id": "5b7a6555",
   "metadata": {},
   "outputs": [],
   "source": [
    "# (valid_test_prediction_with_last_mean.groupby(valid_test_prediction.date.dt.month)\n",
    "#  .apply(lambda x: pd.Series(compute_metrics(x))))"
   ]
  },
  {
   "cell_type": "code",
   "execution_count": 67,
   "id": "96044999",
   "metadata": {},
   "outputs": [],
   "source": [
    "# (april_set_with_last_mean.groupby(['playerId'])\n",
    "#  .apply(lambda x: pd.Series(compute_metrics(x)))\n",
    "#  .sort_values(by='mae_mean', ascending=False))"
   ]
  },
  {
   "cell_type": "code",
   "execution_count": 68,
   "id": "86b87b34",
   "metadata": {},
   "outputs": [
    {
     "data": {
      "text/html": [
       "<div>\n",
       "<style scoped>\n",
       "    .dataframe tbody tr th:only-of-type {\n",
       "        vertical-align: middle;\n",
       "    }\n",
       "\n",
       "    .dataframe tbody tr th {\n",
       "        vertical-align: top;\n",
       "    }\n",
       "\n",
       "    .dataframe thead th {\n",
       "        text-align: right;\n",
       "    }\n",
       "</style>\n",
       "<table border=\"1\" class=\"dataframe\">\n",
       "  <thead>\n",
       "    <tr style=\"text-align: right;\">\n",
       "      <th></th>\n",
       "      <th>mae_mean</th>\n",
       "      <th>mae_1</th>\n",
       "      <th>mae_2</th>\n",
       "      <th>mae_3</th>\n",
       "      <th>mae_4</th>\n",
       "    </tr>\n",
       "    <tr>\n",
       "      <th>playerId</th>\n",
       "      <th></th>\n",
       "      <th></th>\n",
       "      <th></th>\n",
       "      <th></th>\n",
       "      <th></th>\n",
       "    </tr>\n",
       "  </thead>\n",
       "  <tbody>\n",
       "    <tr>\n",
       "      <th>665620</th>\n",
       "      <td>57.155822</td>\n",
       "      <td>57.241622</td>\n",
       "      <td>56.527294</td>\n",
       "      <td>57.521441</td>\n",
       "      <td>57.332929</td>\n",
       "    </tr>\n",
       "    <tr>\n",
       "      <th>593334</th>\n",
       "      <td>55.305623</td>\n",
       "      <td>56.596673</td>\n",
       "      <td>51.091389</td>\n",
       "      <td>57.189184</td>\n",
       "      <td>56.345246</td>\n",
       "    </tr>\n",
       "    <tr>\n",
       "      <th>621111</th>\n",
       "      <td>53.427814</td>\n",
       "      <td>54.079370</td>\n",
       "      <td>49.433186</td>\n",
       "      <td>56.067983</td>\n",
       "      <td>54.130718</td>\n",
       "    </tr>\n",
       "    <tr>\n",
       "      <th>547943</th>\n",
       "      <td>52.673390</td>\n",
       "      <td>55.657659</td>\n",
       "      <td>46.139199</td>\n",
       "      <td>56.749363</td>\n",
       "      <td>52.147341</td>\n",
       "    </tr>\n",
       "    <tr>\n",
       "      <th>446372</th>\n",
       "      <td>52.343909</td>\n",
       "      <td>54.068511</td>\n",
       "      <td>50.165766</td>\n",
       "      <td>53.902574</td>\n",
       "      <td>51.238783</td>\n",
       "    </tr>\n",
       "    <tr>\n",
       "      <th>...</th>\n",
       "      <td>...</td>\n",
       "      <td>...</td>\n",
       "      <td>...</td>\n",
       "      <td>...</td>\n",
       "      <td>...</td>\n",
       "    </tr>\n",
       "    <tr>\n",
       "      <th>642736</th>\n",
       "      <td>5.250695</td>\n",
       "      <td>5.458755</td>\n",
       "      <td>4.807456</td>\n",
       "      <td>5.513146</td>\n",
       "      <td>5.223422</td>\n",
       "    </tr>\n",
       "    <tr>\n",
       "      <th>595375</th>\n",
       "      <td>5.241982</td>\n",
       "      <td>5.387371</td>\n",
       "      <td>5.140624</td>\n",
       "      <td>5.305228</td>\n",
       "      <td>5.134706</td>\n",
       "    </tr>\n",
       "    <tr>\n",
       "      <th>621532</th>\n",
       "      <td>5.059103</td>\n",
       "      <td>5.095977</td>\n",
       "      <td>4.807441</td>\n",
       "      <td>5.282007</td>\n",
       "      <td>5.050986</td>\n",
       "    </tr>\n",
       "    <tr>\n",
       "      <th>547379</th>\n",
       "      <td>4.283177</td>\n",
       "      <td>4.435496</td>\n",
       "      <td>3.913942</td>\n",
       "      <td>4.633656</td>\n",
       "      <td>4.149613</td>\n",
       "    </tr>\n",
       "    <tr>\n",
       "      <th>672695</th>\n",
       "      <td>3.940371</td>\n",
       "      <td>4.060916</td>\n",
       "      <td>3.783572</td>\n",
       "      <td>3.938309</td>\n",
       "      <td>3.978686</td>\n",
       "    </tr>\n",
       "  </tbody>\n",
       "</table>\n",
       "<p>1187 rows × 5 columns</p>\n",
       "</div>"
      ],
      "text/plain": [
       "           mae_mean      mae_1      mae_2      mae_3      mae_4\n",
       "playerId                                                       \n",
       "665620    57.155822  57.241622  56.527294  57.521441  57.332929\n",
       "593334    55.305623  56.596673  51.091389  57.189184  56.345246\n",
       "621111    53.427814  54.079370  49.433186  56.067983  54.130718\n",
       "547943    52.673390  55.657659  46.139199  56.749363  52.147341\n",
       "446372    52.343909  54.068511  50.165766  53.902574  51.238783\n",
       "...             ...        ...        ...        ...        ...\n",
       "642736     5.250695   5.458755   4.807456   5.513146   5.223422\n",
       "595375     5.241982   5.387371   5.140624   5.305228   5.134706\n",
       "621532     5.059103   5.095977   4.807441   5.282007   5.050986\n",
       "547379     4.283177   4.435496   3.913942   4.633656   4.149613\n",
       "672695     3.940371   4.060916   3.783572   3.938309   3.978686\n",
       "\n",
       "[1187 rows x 5 columns]"
      ]
     },
     "execution_count": 68,
     "metadata": {},
     "output_type": "execute_result"
    }
   ],
   "source": [
    "(cv_prediction.groupby(['playerId'])\n",
    " .apply(lambda x: pd.Series(compute_metrics(x)))\n",
    " .sort_values(by='mae_mean', ascending=False))"
   ]
  },
  {
   "cell_type": "code",
   "execution_count": 69,
   "id": "f3d3c75a",
   "metadata": {},
   "outputs": [],
   "source": [
    "hardest_id = filter_by_id(cv_prediction, [660271])"
   ]
  },
  {
   "cell_type": "code",
   "execution_count": 70,
   "id": "0de7074a",
   "metadata": {
    "scrolled": true
   },
   "outputs": [
    {
     "data": {
      "text/html": [
       "<div>\n",
       "<style scoped>\n",
       "    .dataframe tbody tr th:only-of-type {\n",
       "        vertical-align: middle;\n",
       "    }\n",
       "\n",
       "    .dataframe tbody tr th {\n",
       "        vertical-align: top;\n",
       "    }\n",
       "\n",
       "    .dataframe thead th {\n",
       "        text-align: right;\n",
       "    }\n",
       "</style>\n",
       "<table border=\"1\" class=\"dataframe\">\n",
       "  <thead>\n",
       "    <tr style=\"text-align: right;\">\n",
       "      <th></th>\n",
       "      <th></th>\n",
       "      <th>mae_mean</th>\n",
       "      <th>mae_1</th>\n",
       "      <th>mae_2</th>\n",
       "      <th>mae_3</th>\n",
       "      <th>mae_4</th>\n",
       "    </tr>\n",
       "    <tr>\n",
       "      <th>playerId</th>\n",
       "      <th>date</th>\n",
       "      <th></th>\n",
       "      <th></th>\n",
       "      <th></th>\n",
       "      <th></th>\n",
       "      <th></th>\n",
       "    </tr>\n",
       "  </thead>\n",
       "  <tbody>\n",
       "    <tr>\n",
       "      <th rowspan=\"4\" valign=\"top\">660271</th>\n",
       "      <th>4</th>\n",
       "      <td>37.989473</td>\n",
       "      <td>44.109045</td>\n",
       "      <td>28.538314</td>\n",
       "      <td>45.237402</td>\n",
       "      <td>34.073133</td>\n",
       "    </tr>\n",
       "    <tr>\n",
       "      <th>5</th>\n",
       "      <td>36.531158</td>\n",
       "      <td>47.135740</td>\n",
       "      <td>21.445703</td>\n",
       "      <td>44.012806</td>\n",
       "      <td>33.530385</td>\n",
       "    </tr>\n",
       "    <tr>\n",
       "      <th>6</th>\n",
       "      <td>30.609906</td>\n",
       "      <td>36.014159</td>\n",
       "      <td>25.781156</td>\n",
       "      <td>36.864579</td>\n",
       "      <td>23.779729</td>\n",
       "    </tr>\n",
       "    <tr>\n",
       "      <th>7</th>\n",
       "      <td>23.575143</td>\n",
       "      <td>26.718013</td>\n",
       "      <td>21.614209</td>\n",
       "      <td>23.434530</td>\n",
       "      <td>22.533819</td>\n",
       "    </tr>\n",
       "  </tbody>\n",
       "</table>\n",
       "</div>"
      ],
      "text/plain": [
       "                mae_mean      mae_1      mae_2      mae_3      mae_4\n",
       "playerId date                                                       \n",
       "660271   4     37.989473  44.109045  28.538314  45.237402  34.073133\n",
       "         5     36.531158  47.135740  21.445703  44.012806  33.530385\n",
       "         6     30.609906  36.014159  25.781156  36.864579  23.779729\n",
       "         7     23.575143  26.718013  21.614209  23.434530  22.533819"
      ]
     },
     "execution_count": 70,
     "metadata": {},
     "output_type": "execute_result"
    }
   ],
   "source": [
    "(hardest_id.groupby(['playerId', hardest_id.date.dt.month])\n",
    " .apply(lambda x: pd.Series(compute_metrics(x)))\n",
    " .sort_values(by='mae_mean', ascending=False))"
   ]
  },
  {
   "cell_type": "code",
   "execution_count": 71,
   "id": "eb0f739b",
   "metadata": {},
   "outputs": [],
   "source": [
    "# # metrics from 2021-03-01 up to 2021-04-30\n",
    "# compute_metrics(recursive_prediction)"
   ]
  },
  {
   "cell_type": "code",
   "execution_count": 72,
   "id": "d2a84556",
   "metadata": {},
   "outputs": [],
   "source": [
    "# # metrics from 2021-03-01 up to 2021-03-31\n",
    "# compute_metrics(valid_rc_prediction)"
   ]
  },
  {
   "cell_type": "code",
   "execution_count": 73,
   "id": "54109789",
   "metadata": {},
   "outputs": [],
   "source": [
    "# # metrics from 2021-04-01 up to 2021-04-30\n",
    "# compute_metrics(test_rc_prediction)"
   ]
  },
  {
   "cell_type": "code",
   "execution_count": 74,
   "id": "7627b2ea",
   "metadata": {},
   "outputs": [],
   "source": [
    "def plot_pred(df, playerId, index=1):\n",
    "    pdf = df.query(f'playerId == {playerId}')\n",
    "    \n",
    "    f, ax = plt.subplots(1, 1, figsize=(20, 5))\n",
    "    \n",
    "    tname = f'target{index}'\n",
    "    yhat_name = f'yhat{index}'\n",
    "    \n",
    "    ax.plot('date', tname, '-o', data=pdf, label=tname)\n",
    "    ax.plot('date', yhat_name, '-o', data=pdf, label=tname)\n",
    "    \n",
    "    ax.legend()\n",
    "    \n",
    "\n",
    "def plot_feature_vs_target(df, feature, playerId, index=1):\n",
    "    pdf = df.query(f'raw_playerId == {playerId}')\n",
    "    \n",
    "    f, ax = plt.subplots(1, 1, figsize=(20, 5))\n",
    "    \n",
    "    tname = f'target{index}'\n",
    "    twinx = ax.twinx()\n",
    "    ax.plot('date', tname, '-o', data=pdf, label=tname)\n",
    "    twinx.plot('date', feature, '-o', data=pdf, label=feature, color='red')\n",
    "    twinx.legend()\n",
    "    ax.set_title(f'{tname} vs {feature}')\n",
    "    "
   ]
  },
  {
   "cell_type": "code",
   "execution_count": 75,
   "id": "d2269b8a",
   "metadata": {},
   "outputs": [
    {
     "data": {
      "image/png": "[encoded data removed]",
      "text/plain": [
       "<Figure size 1440x360 with 1 Axes>"
      ]
     },
     "metadata": {
      "needs_background": "light"
     },
     "output_type": "display_data"
    },
    {
     "data": {
      "image/png": "[encoded data removed]",
      "text/plain": [
       "<Figure size 1440x360 with 1 Axes>"
      ]
     },
     "metadata": {
      "needs_background": "light"
     },
     "output_type": "display_data"
    },
    {
     "data": {
      "image/png": "[encoded data removed]",
      "text/plain": [
       "<Figure size 1440x360 with 1 Axes>"
      ]
     },
     "metadata": {
      "needs_background": "light"
     },
     "output_type": "display_data"
    },
    {
     "data": {
      "image/png": "[encoded data removed]",
      "text/plain": [
       "<Figure size 1440x360 with 1 Axes>"
      ]
     },
     "metadata": {
      "needs_background": "light"
     },
     "output_type": "display_data"
    }
   ],
   "source": [
    "for index in range(1, 5):\n",
    "    plot_pred(hardest_id, playerId=660271, index=index)"
   ]
  },
  {
   "cell_type": "code",
   "execution_count": 76,
   "id": "95cebc68",
   "metadata": {},
   "outputs": [],
   "source": [
    "x = df[df['date'] > '2020-01-01']"
   ]
  },
  {
   "cell_type": "code",
   "execution_count": 77,
   "id": "93e71146",
   "metadata": {},
   "outputs": [],
   "source": [
    "x = filter_by_id(x, [660271])"
   ]
  },
  {
   "cell_type": "code",
   "execution_count": 78,
   "id": "0a9bb5f7",
   "metadata": {},
   "outputs": [
    {
     "data": {
      "text/html": [
       "<div>\n",
       "<style scoped>\n",
       "    .dataframe tbody tr th:only-of-type {\n",
       "        vertical-align: middle;\n",
       "    }\n",
       "\n",
       "    .dataframe tbody tr th {\n",
       "        vertical-align: top;\n",
       "    }\n",
       "\n",
       "    .dataframe thead th {\n",
       "        text-align: right;\n",
       "    }\n",
       "</style>\n",
       "<table border=\"1\" class=\"dataframe\">\n",
       "  <thead>\n",
       "    <tr style=\"text-align: right;\">\n",
       "      <th></th>\n",
       "      <th>target1</th>\n",
       "      <th>target2</th>\n",
       "      <th>target3</th>\n",
       "      <th>target4</th>\n",
       "    </tr>\n",
       "  </thead>\n",
       "  <tbody>\n",
       "    <tr>\n",
       "      <th>target1</th>\n",
       "      <td>1.000000</td>\n",
       "      <td>0.623504</td>\n",
       "      <td>0.712392</td>\n",
       "      <td>0.657296</td>\n",
       "    </tr>\n",
       "    <tr>\n",
       "      <th>target2</th>\n",
       "      <td>0.623504</td>\n",
       "      <td>1.000000</td>\n",
       "      <td>0.679613</td>\n",
       "      <td>0.713280</td>\n",
       "    </tr>\n",
       "    <tr>\n",
       "      <th>target3</th>\n",
       "      <td>0.712392</td>\n",
       "      <td>0.679613</td>\n",
       "      <td>1.000000</td>\n",
       "      <td>0.710459</td>\n",
       "    </tr>\n",
       "    <tr>\n",
       "      <th>target4</th>\n",
       "      <td>0.657296</td>\n",
       "      <td>0.713280</td>\n",
       "      <td>0.710459</td>\n",
       "      <td>1.000000</td>\n",
       "    </tr>\n",
       "  </tbody>\n",
       "</table>\n",
       "</div>"
      ],
      "text/plain": [
       "          target1   target2   target3   target4\n",
       "target1  1.000000  0.623504  0.712392  0.657296\n",
       "target2  0.623504  1.000000  0.679613  0.713280\n",
       "target3  0.712392  0.679613  1.000000  0.710459\n",
       "target4  0.657296  0.713280  0.710459  1.000000"
      ]
     },
     "execution_count": 78,
     "metadata": {},
     "output_type": "execute_result"
    }
   ],
   "source": [
    "x[target_cols].corr()"
   ]
  },
  {
   "cell_type": "code",
   "execution_count": 79,
   "id": "3c743ed1",
   "metadata": {},
   "outputs": [],
   "source": [
    "import numpy as np\n",
    "import pandas as pd\n",
    "\n",
    "\n",
    "def permutation_importance(predict_fn, data,\n",
    "                           features,\n",
    "                           target,\n",
    "                           score_func,\n",
    "                           times: int = 1):\n",
    "\n",
    "    def _score(data):\n",
    "        _prediction = predict_fn(data)\n",
    "        prediction = data[target].copy()\n",
    "        prediction[['yhat1', 'yhat2', 'yhat3', 'yhat4']] = _prediction\n",
    "        error = score_func(prediction)\n",
    "        return error['mae_mean']\n",
    "\n",
    "    base_score = _score(data)\n",
    "    fi = []\n",
    "\n",
    "    for feature in features:\n",
    "        permuted_data = data.copy()\n",
    "        permuted_data[feature] = np.random.permutation(permuted_data[feature])\n",
    "        feature_score = _score(permuted_data)\n",
    "        feature_importance = {'feature': feature,\n",
    "                              'score': feature_score,\n",
    "                              'importance': feature_score-base_score,\n",
    "                              }\n",
    "        fi.append(feature_importance)\n",
    "    fi = pd.DataFrame(fi)\n",
    "    fi['importance'] *= 100\n",
    "    fi.sort_values(by='importance', inplace=True, ascending=False)\n",
    "    fi.reset_index(drop=True, inplace=True)\n",
    "    return fi"
   ]
  },
  {
   "cell_type": "code",
   "execution_count": null,
   "id": "23d19c83",
   "metadata": {},
   "outputs": [],
   "source": []
  },
  {
   "cell_type": "code",
   "execution_count": 80,
   "id": "2c80b3b5",
   "metadata": {},
   "outputs": [],
   "source": [
    "fi_data = valid_data"
   ]
  },
  {
   "cell_type": "code",
   "execution_count": 81,
   "id": "729202b5",
   "metadata": {},
   "outputs": [],
   "source": [
    "fi_data = train_data.sample(frac=0.2).reset_index(drop=True)"
   ]
  },
  {
   "cell_type": "code",
   "execution_count": 82,
   "id": "c17d422c",
   "metadata": {},
   "outputs": [],
   "source": [
    "all_features_list = list(features.columns)"
   ]
  },
  {
   "cell_type": "code",
   "execution_count": 83,
   "id": "851401c3",
   "metadata": {},
   "outputs": [
    {
     "ename": "AttributeError",
     "evalue": "'list' object has no attribute 'predict_fn'",
     "output_type": "error",
     "traceback": [
      "\u001b[0;31m---------------------------------------------------------------------------\u001b[0m",
      "\u001b[0;31mAttributeError\u001b[0m                            Traceback (most recent call last)",
      "\u001b[0;32m<timed exec>\u001b[0m in \u001b[0;36m<module>\u001b[0;34m\u001b[0m\n",
      "\u001b[0;31mAttributeError\u001b[0m: 'list' object has no attribute 'predict_fn'"
     ]
    }
   ],
   "source": [
    "%%time\n",
    "fi_reg = permutation_importance(output.predict_fn, valid_data, \n",
    "                                all_features_list, target=target_cols, \n",
    "                                score_func=compute_metrics,\n",
    "                                times=5)"
   ]
  },
  {
   "cell_type": "code",
   "execution_count": 84,
   "id": "553757cc",
   "metadata": {
    "scrolled": false
   },
   "outputs": [
    {
     "ename": "NameError",
     "evalue": "name 'fi_reg' is not defined",
     "output_type": "error",
     "traceback": [
      "\u001b[0;31m---------------------------------------------------------------------------\u001b[0m",
      "\u001b[0;31mNameError\u001b[0m                                 Traceback (most recent call last)",
      "\u001b[0;32m<ipython-input-84-7751e3437c84>\u001b[0m in \u001b[0;36m<module>\u001b[0;34m\u001b[0m\n\u001b[0;32m----> 1\u001b[0;31m \u001b[0mfi_reg\u001b[0m\u001b[0;34m\u001b[0m\u001b[0;34m\u001b[0m\u001b[0m\n\u001b[0m",
      "\u001b[0;31mNameError\u001b[0m: name 'fi_reg' is not defined"
     ]
    }
   ],
   "source": [
    "fi_reg"
   ]
  },
  {
   "cell_type": "code",
   "execution_count": null,
   "id": "282d9cca",
   "metadata": {},
   "outputs": [],
   "source": [
    "valid_data['raw_playerId'] = raw_valid_df['playerId']"
   ]
  },
  {
   "cell_type": "code",
   "execution_count": null,
   "id": "e7cfe122",
   "metadata": {},
   "outputs": [],
   "source": [
    "for index in range(1, 5):\n",
    "    plot_feature_vs_target(valid_data, 'playerTeamoutsPitching__date__maxNorm', playerId=660271, index=index)"
   ]
  },
  {
   "cell_type": "code",
   "execution_count": null,
   "id": "efed4b62",
   "metadata": {},
   "outputs": [],
   "source": [
    "output_path = 'prediction/drop_lstm'\n",
    "os.makedirs(output_path, exist_ok=True)"
   ]
  },
  {
   "cell_type": "code",
   "execution_count": null,
   "id": "8c17546c",
   "metadata": {},
   "outputs": [],
   "source": [
    "valid_test_prediction.to_csv(os.path.join(output_path, 'april_to_jul.csv'), index=False)"
   ]
  },
  {
   "cell_type": "code",
   "execution_count": null,
   "id": "2f036ff3",
   "metadata": {},
   "outputs": [],
   "source": []
  }
 ],
 "metadata": {
  "kernelspec": {
   "display_name": "Python 3",
   "language": "python",
   "name": "python3"
  },
  "language_info": {
   "codemirror_mode": {
    "name": "ipython",
    "version": 3
   },
   "file_extension": ".py",
   "mimetype": "text/x-python",
   "name": "python",
   "nbconvert_exporter": "python",
   "pygments_lexer": "ipython3",
   "version": "3.8.8"
  }
 },
 "nbformat": 4,
 "nbformat_minor": 5
}
