{
 "cells": [
  {
   "cell_type": "code",
   "execution_count": 1,
   "id": "11a1984e",
   "metadata": {},
   "outputs": [],
   "source": [
    "%load_ext autoreload\n",
    "%autoreload 2\n"
   ]
  },
  {
   "cell_type": "code",
   "execution_count": 2,
   "id": "200bd975",
   "metadata": {},
   "outputs": [],
   "source": [
    "import pandas as pd\n",
    "import numpy as np\n",
    "from matplotlib import pyplot as plt\n",
    "from pathlib import Path\n",
    "import seaborn as sns"
   ]
  },
  {
   "cell_type": "code",
   "execution_count": 3,
   "id": "98b21c10",
   "metadata": {},
   "outputs": [],
   "source": [
    "import os\n",
    "import sys"
   ]
  },
  {
   "cell_type": "code",
   "execution_count": 4,
   "id": "83088198",
   "metadata": {},
   "outputs": [],
   "source": [
    "# chaging directory"
   ]
  },
  {
   "cell_type": "code",
   "execution_count": 5,
   "id": "63a6bace",
   "metadata": {},
   "outputs": [],
   "source": [
    "root, *_ = !pwd"
   ]
  },
  {
   "cell_type": "code",
   "execution_count": null,
   "id": "97f868b8",
   "metadata": {},
   "outputs": [],
   "source": []
  },
  {
   "cell_type": "code",
   "execution_count": 6,
   "id": "0401546d",
   "metadata": {},
   "outputs": [],
   "source": [
    "if root.endswith('notebooks'):\n",
    "    os.chdir('../')\n",
    "    root, *_ = !pwd\n",
    "    sys.path.append('src/')"
   ]
  },
  {
   "cell_type": "code",
   "execution_count": 7,
   "id": "c94d5f75",
   "metadata": {},
   "outputs": [
    {
     "data": {
      "text/plain": [
       "'/home/med/projects/competitions/mlb-kaggle'"
      ]
     },
     "execution_count": 7,
     "metadata": {},
     "output_type": "execute_result"
    }
   ],
   "source": [
    "os.getcwd()"
   ]
  },
  {
   "cell_type": "code",
   "execution_count": 8,
   "id": "bf93f65f",
   "metadata": {},
   "outputs": [
    {
     "data": {
      "text/plain": [
       "True"
      ]
     },
     "execution_count": 8,
     "metadata": {},
     "output_type": "execute_result"
    }
   ],
   "source": [
    "from dotenv import load_dotenv\n",
    "load_dotenv()"
   ]
  },
  {
   "cell_type": "code",
   "execution_count": 9,
   "id": "a0936da3",
   "metadata": {},
   "outputs": [],
   "source": [
    "RAW_PATH = Path(os.environ['RAW_PATH'])"
   ]
  },
  {
   "cell_type": "code",
   "execution_count": 10,
   "id": "9a1dfd08",
   "metadata": {},
   "outputs": [],
   "source": [
    "PROCESSED_PATH = Path(os.environ['ROOT_DIR']) / 'processed'"
   ]
  },
  {
   "cell_type": "code",
   "execution_count": 11,
   "id": "e0104b3d",
   "metadata": {},
   "outputs": [
    {
     "data": {
      "text/plain": [
       "['seasons.csv',\n",
       " 'teams.csv',\n",
       " 'example_sample_submission.csv',\n",
       " 'train_updated.csv',\n",
       " 'train.csv',\n",
       " 'mlb-player-digital-engagement-forecasting.zip',\n",
       " 'awards.csv',\n",
       " 'players.csv',\n",
       " 'example_test.csv',\n",
       " 'mlb',\n",
       " 'train_updated.csv.zip']"
      ]
     },
     "execution_count": 11,
     "metadata": {},
     "output_type": "execute_result"
    }
   ],
   "source": [
    "os.listdir(RAW_PATH)"
   ]
  },
  {
   "cell_type": "code",
   "execution_count": 12,
   "id": "89891462",
   "metadata": {},
   "outputs": [
    {
     "data": {
      "text/plain": [
       "['target.csv', 'context_raw_data.csv', 'raw_data.csv']"
      ]
     },
     "execution_count": 12,
     "metadata": {},
     "output_type": "execute_result"
    }
   ],
   "source": [
    "os.listdir(PROCESSED_PATH)"
   ]
  },
  {
   "cell_type": "code",
   "execution_count": 13,
   "id": "0891fdd2",
   "metadata": {},
   "outputs": [],
   "source": [
    "dates_cols = ['date', 'mlbDebutDate', 'DOB', 'rosterDate', 'pstatsDate']"
   ]
  },
  {
   "cell_type": "code",
   "execution_count": 14,
   "id": "4658463d",
   "metadata": {},
   "outputs": [],
   "source": [
    "df = pd.read_csv(PROCESSED_PATH / 'raw_data.csv',\n",
    "                 parse_dates=dates_cols)"
   ]
  },
  {
   "cell_type": "markdown",
   "id": "3ff122d8",
   "metadata": {},
   "source": [
    "### players data"
   ]
  },
  {
   "cell_type": "code",
   "execution_count": 15,
   "id": "8fb159df",
   "metadata": {},
   "outputs": [],
   "source": [
    "# not all players are in the private test set\n",
    "# the players in the test set are saved in the players.csv file"
   ]
  },
  {
   "cell_type": "code",
   "execution_count": 16,
   "id": "55437b97",
   "metadata": {},
   "outputs": [],
   "source": [
    "_players = pd.read_csv(RAW_PATH / 'players.csv')"
   ]
  },
  {
   "cell_type": "code",
   "execution_count": 17,
   "id": "227e12a5",
   "metadata": {},
   "outputs": [],
   "source": [
    "_players['playerForTestSetAndFuturePreds'].fillna(False, inplace=True)"
   ]
  },
  {
   "cell_type": "code",
   "execution_count": 18,
   "id": "b9b686dd",
   "metadata": {},
   "outputs": [],
   "source": [
    "player_in_test = _players.query('playerForTestSetAndFuturePreds')['playerId']"
   ]
  },
  {
   "cell_type": "code",
   "execution_count": 19,
   "id": "e1c545b8",
   "metadata": {},
   "outputs": [],
   "source": [
    "# player_in_test holds only the players in the test set"
   ]
  },
  {
   "cell_type": "markdown",
   "id": "f70d340b",
   "metadata": {},
   "source": [
    "### filter players"
   ]
  },
  {
   "cell_type": "code",
   "execution_count": 20,
   "id": "7280912f",
   "metadata": {},
   "outputs": [],
   "source": [
    "from data.util import filter_by_date, filter_by_id"
   ]
  },
  {
   "cell_type": "code",
   "execution_count": 21,
   "id": "432d8bb2",
   "metadata": {},
   "outputs": [],
   "source": [
    "# # filter only test playersex\n",
    "df = filter_by_id(df, player_in_test)"
   ]
  },
  {
   "cell_type": "code",
   "execution_count": 22,
   "id": "da30cfc7",
   "metadata": {},
   "outputs": [],
   "source": [
    "# if you want to run on a sample,\n",
    "# change sample_size to the number of players in the sample\n",
    "sample_size = None"
   ]
  },
  {
   "cell_type": "code",
   "execution_count": 23,
   "id": "b57c5814",
   "metadata": {},
   "outputs": [],
   "source": [
    "if sample_size is not None and sample_size > 0:\n",
    "    df['target_avg'] = df[[f'target{i}' for i in range(1, 5)]].mean(axis=1)\n",
    "    playerList = df.groupby(['playerId'])['target_avg'].std().sort_values(ascending=False).reset_index()\n",
    "    df = filter_by_id(df, playerList['playerId'].head(sample_size))\n",
    "    df.drop('target_avg', axis=1, inplace=True)"
   ]
  },
  {
   "cell_type": "code",
   "execution_count": 24,
   "id": "c5afd925",
   "metadata": {},
   "outputs": [
    {
     "data": {
      "text/plain": [
       "1187"
      ]
     },
     "execution_count": 24,
     "metadata": {},
     "output_type": "execute_result"
    }
   ],
   "source": [
    "df.playerId.nunique()"
   ]
  },
  {
   "cell_type": "code",
   "execution_count": 25,
   "id": "6e3f8eb3",
   "metadata": {},
   "outputs": [
    {
     "data": {
      "text/html": [
       "<div>\n",
       "<style scoped>\n",
       "    .dataframe tbody tr th:only-of-type {\n",
       "        vertical-align: middle;\n",
       "    }\n",
       "\n",
       "    .dataframe tbody tr th {\n",
       "        vertical-align: top;\n",
       "    }\n",
       "\n",
       "    .dataframe thead th {\n",
       "        text-align: right;\n",
       "    }\n",
       "</style>\n",
       "<table border=\"1\" class=\"dataframe\">\n",
       "  <thead>\n",
       "    <tr style=\"text-align: right;\">\n",
       "      <th></th>\n",
       "      <th>playerId</th>\n",
       "      <th>target1</th>\n",
       "      <th>target2</th>\n",
       "      <th>target3</th>\n",
       "      <th>target4</th>\n",
       "      <th>date</th>\n",
       "      <th>home</th>\n",
       "      <th>positionName</th>\n",
       "      <th>pstatsDate</th>\n",
       "      <th>battingOrder</th>\n",
       "      <th>...</th>\n",
       "      <th>weekday</th>\n",
       "      <th>inSeason</th>\n",
       "      <th>seasonPart</th>\n",
       "      <th>DOB</th>\n",
       "      <th>mlbDebutDate</th>\n",
       "      <th>birthCountry</th>\n",
       "      <th>weight</th>\n",
       "      <th>primaryPositionName</th>\n",
       "      <th>height</th>\n",
       "      <th>playerBMI</th>\n",
       "    </tr>\n",
       "  </thead>\n",
       "  <tbody>\n",
       "    <tr>\n",
       "      <th>0</th>\n",
       "      <td>405395</td>\n",
       "      <td>0.151872</td>\n",
       "      <td>21.449416</td>\n",
       "      <td>0.112952</td>\n",
       "      <td>22.990196</td>\n",
       "      <td>2018-01-01</td>\n",
       "      <td>NaN</td>\n",
       "      <td>NaN</td>\n",
       "      <td>NaT</td>\n",
       "      <td>NaN</td>\n",
       "      <td>...</td>\n",
       "      <td>0</td>\n",
       "      <td>False</td>\n",
       "      <td>Offseason</td>\n",
       "      <td>1980-01-16</td>\n",
       "      <td>2001-04-02</td>\n",
       "      <td>Dominican Republic</td>\n",
       "      <td>106.59412</td>\n",
       "      <td>First Base</td>\n",
       "      <td>1.905</td>\n",
       "      <td>29.372661</td>\n",
       "    </tr>\n",
       "    <tr>\n",
       "      <th>1</th>\n",
       "      <td>405395</td>\n",
       "      <td>0.136406</td>\n",
       "      <td>10.978585</td>\n",
       "      <td>0.096403</td>\n",
       "      <td>15.669173</td>\n",
       "      <td>2018-01-02</td>\n",
       "      <td>NaN</td>\n",
       "      <td>NaN</td>\n",
       "      <td>NaT</td>\n",
       "      <td>NaN</td>\n",
       "      <td>...</td>\n",
       "      <td>1</td>\n",
       "      <td>False</td>\n",
       "      <td>Offseason</td>\n",
       "      <td>1980-01-16</td>\n",
       "      <td>2001-04-02</td>\n",
       "      <td>Dominican Republic</td>\n",
       "      <td>106.59412</td>\n",
       "      <td>First Base</td>\n",
       "      <td>1.905</td>\n",
       "      <td>29.372661</td>\n",
       "    </tr>\n",
       "    <tr>\n",
       "      <th>2</th>\n",
       "      <td>405395</td>\n",
       "      <td>0.064460</td>\n",
       "      <td>9.226190</td>\n",
       "      <td>0.101464</td>\n",
       "      <td>23.172829</td>\n",
       "      <td>2018-01-03</td>\n",
       "      <td>NaN</td>\n",
       "      <td>NaN</td>\n",
       "      <td>NaT</td>\n",
       "      <td>NaN</td>\n",
       "      <td>...</td>\n",
       "      <td>2</td>\n",
       "      <td>False</td>\n",
       "      <td>Offseason</td>\n",
       "      <td>1980-01-16</td>\n",
       "      <td>2001-04-02</td>\n",
       "      <td>Dominican Republic</td>\n",
       "      <td>106.59412</td>\n",
       "      <td>First Base</td>\n",
       "      <td>1.905</td>\n",
       "      <td>29.372661</td>\n",
       "    </tr>\n",
       "    <tr>\n",
       "      <th>3</th>\n",
       "      <td>405395</td>\n",
       "      <td>0.024217</td>\n",
       "      <td>10.170965</td>\n",
       "      <td>0.102448</td>\n",
       "      <td>35.359116</td>\n",
       "      <td>2018-01-04</td>\n",
       "      <td>NaN</td>\n",
       "      <td>NaN</td>\n",
       "      <td>NaT</td>\n",
       "      <td>NaN</td>\n",
       "      <td>...</td>\n",
       "      <td>3</td>\n",
       "      <td>False</td>\n",
       "      <td>Offseason</td>\n",
       "      <td>1980-01-16</td>\n",
       "      <td>2001-04-02</td>\n",
       "      <td>Dominican Republic</td>\n",
       "      <td>106.59412</td>\n",
       "      <td>First Base</td>\n",
       "      <td>1.905</td>\n",
       "      <td>29.372661</td>\n",
       "    </tr>\n",
       "    <tr>\n",
       "      <th>4</th>\n",
       "      <td>405395</td>\n",
       "      <td>0.157556</td>\n",
       "      <td>4.294307</td>\n",
       "      <td>0.046517</td>\n",
       "      <td>12.347789</td>\n",
       "      <td>2018-01-05</td>\n",
       "      <td>NaN</td>\n",
       "      <td>NaN</td>\n",
       "      <td>NaT</td>\n",
       "      <td>NaN</td>\n",
       "      <td>...</td>\n",
       "      <td>4</td>\n",
       "      <td>False</td>\n",
       "      <td>Offseason</td>\n",
       "      <td>1980-01-16</td>\n",
       "      <td>2001-04-02</td>\n",
       "      <td>Dominican Republic</td>\n",
       "      <td>106.59412</td>\n",
       "      <td>First Base</td>\n",
       "      <td>1.905</td>\n",
       "      <td>29.372661</td>\n",
       "    </tr>\n",
       "  </tbody>\n",
       "</table>\n",
       "<p>5 rows × 119 columns</p>\n",
       "</div>"
      ],
      "text/plain": [
       "   playerId   target1    target2   target3    target4       date  home  \\\n",
       "0    405395  0.151872  21.449416  0.112952  22.990196 2018-01-01   NaN   \n",
       "1    405395  0.136406  10.978585  0.096403  15.669173 2018-01-02   NaN   \n",
       "2    405395  0.064460   9.226190  0.101464  23.172829 2018-01-03   NaN   \n",
       "3    405395  0.024217  10.170965  0.102448  35.359116 2018-01-04   NaN   \n",
       "4    405395  0.157556   4.294307  0.046517  12.347789 2018-01-05   NaN   \n",
       "\n",
       "  positionName pstatsDate  battingOrder  ...  weekday  inSeason  seasonPart  \\\n",
       "0          NaN        NaT           NaN  ...        0     False   Offseason   \n",
       "1          NaN        NaT           NaN  ...        1     False   Offseason   \n",
       "2          NaN        NaT           NaN  ...        2     False   Offseason   \n",
       "3          NaN        NaT           NaN  ...        3     False   Offseason   \n",
       "4          NaN        NaT           NaN  ...        4     False   Offseason   \n",
       "\n",
       "         DOB  mlbDebutDate        birthCountry     weight  \\\n",
       "0 1980-01-16    2001-04-02  Dominican Republic  106.59412   \n",
       "1 1980-01-16    2001-04-02  Dominican Republic  106.59412   \n",
       "2 1980-01-16    2001-04-02  Dominican Republic  106.59412   \n",
       "3 1980-01-16    2001-04-02  Dominican Republic  106.59412   \n",
       "4 1980-01-16    2001-04-02  Dominican Republic  106.59412   \n",
       "\n",
       "   primaryPositionName  height  playerBMI  \n",
       "0           First Base   1.905  29.372661  \n",
       "1           First Base   1.905  29.372661  \n",
       "2           First Base   1.905  29.372661  \n",
       "3           First Base   1.905  29.372661  \n",
       "4           First Base   1.905  29.372661  \n",
       "\n",
       "[5 rows x 119 columns]"
      ]
     },
     "execution_count": 25,
     "metadata": {},
     "output_type": "execute_result"
    }
   ],
   "source": [
    "df.head()"
   ]
  },
  {
   "cell_type": "code",
   "execution_count": 26,
   "id": "f403a9ae",
   "metadata": {},
   "outputs": [
    {
     "data": {
      "text/plain": [
       "['playerId',\n",
       " 'target1',\n",
       " 'target2',\n",
       " 'target3',\n",
       " 'target4',\n",
       " 'date',\n",
       " 'home',\n",
       " 'positionName',\n",
       " 'pstatsDate',\n",
       " 'battingOrder',\n",
       " 'groundOuts',\n",
       " 'runsScored',\n",
       " 'homeRuns',\n",
       " 'strikeOuts',\n",
       " 'baseOnBalls',\n",
       " 'intentionalWalks',\n",
       " 'hits',\n",
       " 'hitByPitch',\n",
       " 'stolenBases',\n",
       " 'groundIntoTriplePlay',\n",
       " 'plateAppearances',\n",
       " 'totalBases',\n",
       " 'rbi',\n",
       " 'catchersInterference',\n",
       " 'pickoffs',\n",
       " 'gamesPlayedPitching',\n",
       " 'gamesStartedPitching',\n",
       " 'completeGamesPitching',\n",
       " 'winsPitching',\n",
       " 'lossesPitching',\n",
       " 'groundOutsPitching',\n",
       " 'runsPitching',\n",
       " 'strikeOutsPitching',\n",
       " 'atBatsPitching',\n",
       " 'caughtStealingPitching',\n",
       " 'inningsPitched',\n",
       " 'saveOpportunities',\n",
       " 'battersFaced',\n",
       " 'outsPitching',\n",
       " 'balks',\n",
       " 'pickoffsPitching',\n",
       " 'gamesFinishedPitching',\n",
       " 'inheritedRunners',\n",
       " 'catchersInterferencePitching',\n",
       " 'sacBuntsPitching',\n",
       " 'saves',\n",
       " 'holds',\n",
       " 'blownSaves',\n",
       " 'assists',\n",
       " 'putOuts',\n",
       " 'chances',\n",
       " 'SLG',\n",
       " 'runsScored__date__maxNorm',\n",
       " 'homeRuns__date__maxNorm',\n",
       " 'hits__date__maxNorm',\n",
       " 'SLG__date__maxNorm',\n",
       " 'rbi__date__maxNorm',\n",
       " 'runsPitching__date__maxNorm',\n",
       " 'currentGameInSeries',\n",
       " 'totalGamesVsoppTeam',\n",
       " 'playerTeamWinner',\n",
       " 'playerTeamScore',\n",
       " 'playerTeamWinPctAsHome',\n",
       " 'playerTeamWinPctAsAway',\n",
       " 'playerTeamWintPctHist',\n",
       " 'opponentTeamId',\n",
       " 'opponentTeamScore',\n",
       " 'opponentTeamWinPctAsHome',\n",
       " 'opponentTeamWinPctAsAway',\n",
       " 'playerTeamrunsScored',\n",
       " 'playerTeamhomeRuns',\n",
       " 'playerTeamstrikeOuts',\n",
       " 'playerTeamhits',\n",
       " 'playerTeamrunsPitching',\n",
       " 'playerTeamhomeRunsPitching',\n",
       " 'playerTeamoutsPitching',\n",
       " 'playerTeamrbiPitching',\n",
       " 'playerTeamrunsScored__date__maxNorm',\n",
       " 'playerTeamhomeRuns__date__maxNorm',\n",
       " 'opponentTeamrunsScored',\n",
       " 'opponentTeamhomeRuns',\n",
       " 'opponentTeamstrikeOuts',\n",
       " 'opponentTeamhits',\n",
       " 'opponentTeamrunsPitching',\n",
       " 'opponentTeamhomeRunsPitching',\n",
       " 'opponentTeamoutsPitching',\n",
       " 'opponentTeamrbiPitching',\n",
       " 'opponentTeamrunsScored__date__maxNorm',\n",
       " 'opponentTeamhomeRuns__date__maxNorm',\n",
       " 'description',\n",
       " 'rosterDate',\n",
       " 'teamId',\n",
       " 'status',\n",
       " 'numberOfFollowers',\n",
       " 'awardCount',\n",
       " 'teamFollowers',\n",
       " 'playerTeamWinpct',\n",
       " 'playerTeamDivisionchamp',\n",
       " 'playerTeamDivisionleader',\n",
       " 'playerTeamWildcardleader',\n",
       " 'playerTeamLasttenwins',\n",
       " 'playerTeamLasttenlosses',\n",
       " 'playerTeamXwinlosspct',\n",
       " 'playerTeamHomewinpct',\n",
       " 'playerTeamAwaywinpct',\n",
       " 'playerTeamHomewinpct__Date__Ranked',\n",
       " 'playerTeamAwaywinpct__Date__Ranked',\n",
       " 'playerTeamWinpct__Date__Ranked',\n",
       " 'year',\n",
       " 'weekday',\n",
       " 'inSeason',\n",
       " 'seasonPart',\n",
       " 'DOB',\n",
       " 'mlbDebutDate',\n",
       " 'birthCountry',\n",
       " 'weight',\n",
       " 'primaryPositionName',\n",
       " 'height',\n",
       " 'playerBMI']"
      ]
     },
     "execution_count": 26,
     "metadata": {},
     "output_type": "execute_result"
    }
   ],
   "source": [
    "list(df.columns)"
   ]
  },
  {
   "cell_type": "markdown",
   "id": "479877f4",
   "metadata": {},
   "source": [
    "### cleaning dataset"
   ]
  },
  {
   "cell_type": "code",
   "execution_count": 27,
   "id": "21786aa7",
   "metadata": {},
   "outputs": [],
   "source": [
    "from sklearn.preprocessing import KBinsDiscretizer\n",
    "from sklearn.base import BaseEstimator, TransformerMixin\n",
    "\n",
    "class PdVectorDiscretizer(KBinsDiscretizer):\n",
    "    def __init__(self, n_bins: int, strategy: str = 'quantile'):\n",
    "        super().__init__(n_bins=n_bins, strategy=strategy, encode='ordinal')\n",
    "        \n",
    "    def to_matrix(self, X: pd.Series):\n",
    "        X = X.dropna().to_numpy()\n",
    "        X = X[:, None]\n",
    "        return X\n",
    "    \n",
    "    def fit(self, X: pd.Series, y=None):\n",
    "        X = self.to_matrix(X)\n",
    "        return super().fit(X, y)\n",
    "\n",
    "    def transform(self, X: pd.Series):\n",
    "        notnan = X.notna()\n",
    "        outputX = np.zeros((len(X), 1)).astype(np.int64)\n",
    "\n",
    "        if notnan.sum() > 0:\n",
    "            Xm = self.to_matrix(X)\n",
    "            discreteX = super().transform(Xm)\n",
    "            discreteX += 1\n",
    "            outputX[notnan] = discreteX\n",
    "        outputX = pd.DataFrame(outputX, columns=[X.name])\n",
    "        return outputX.astype(np.int16)\n",
    "\n",
    "class PdDiscretizer(BaseEstimator, TransformerMixin):\n",
    "    def __init__(self, n_bins: int, strategy: str = 'quantile'):\n",
    "        self.n_bins=n_bins\n",
    "        self.strategy=strategy\n",
    "    \n",
    "    def fit(self, X: pd.DataFrame, y=None):\n",
    "        tmfs = {}\n",
    "        for feature in X:\n",
    "            tmf = PdVectorDiscretizer(self.n_bins, self.strategy)\n",
    "            tmfs[feature] = tmf.fit(X.loc[:, feature])\n",
    "        self.tmfs = tmfs\n",
    "        return self\n",
    "\n",
    "    def transform(self, X: pd.DataFrame):\n",
    "        return pd.concat([tmf.transform(X.loc[:, feature])\n",
    "                          for feature, tmf in self.tmfs.items()], axis=1)"
   ]
  },
  {
   "cell_type": "code",
   "execution_count": 28,
   "id": "495e7689",
   "metadata": {},
   "outputs": [],
   "source": [
    "from itertools import combinations, product\n",
    "from typing import List, Union\n",
    "\n",
    "class SingleInteractionComputer:\n",
    "    def __init__(self, features: List[Union[int, str]],\n",
    "                 fill_nan: str = 'NaN'):\n",
    "        self.features = list(features)\n",
    "        self.fill_nan = fill_nan\n",
    "        self.interaction_name = 'X'.join(self.features)\n",
    "        \n",
    "    def compute_matrices(self, X: pd.DataFrame):\n",
    "        return X.loc[:, self.features].fillna(self.fill_nan)\n",
    "    \n",
    "    def compute_interactions(self, X: pd.DataFrame):\n",
    "        \n",
    "        interactions = product(*[series.unique() for _, series in X.items()])\n",
    "\n",
    "        return pd.DataFrame(list(interactions), columns=self.features)\n",
    "        \n",
    "    def fit(self, X: pd.DataFrame):\n",
    "        X = self.compute_matrices(X)\n",
    "        table = self.compute_interactions(X)\n",
    "        table.loc[:, self.interaction_name] = np.arange(0, len(table))\n",
    "        self.table = table\n",
    "        \n",
    "    def transform(self, X: pd.DataFrame):\n",
    "        outputX = self.compute_matrices(X)\n",
    "        outputX = outputX.merge(self.table, on=self.features, how='left')\n",
    "        outputX.drop(self.features, axis=1, inplace=True)\n",
    "#         outputX.fillna(0, inplace=True)\n",
    "        assert len(outputX) == len(X)\n",
    "        assert len(outputX.columns) == 1\n",
    "        assert outputX.isna().sum().all() == 0, self.features \n",
    "        return outputX.astype(np.int16)\n",
    "        \n",
    "\n",
    "class InteractionEncoder(BaseEstimator, TransformerMixin):\n",
    "    def __init__(self, iteraction_level: int = 2):\n",
    "        self.iteraction_level = iteraction_level\n",
    "        \n",
    "    def gen_interaction_indexes(self, features: List[Union[int, str]]):\n",
    "        interactions = []\n",
    "        for level in range(2, self.iteraction_level+1):\n",
    "            combination = list(combinations(features, level))\n",
    "            interactions += combination\n",
    "        return interactions\n",
    "    \n",
    "    def fit(self, X: pd.DataFrame, y = None):\n",
    "        features = list(X.columns)\n",
    "        total_interactions = self.gen_interaction_indexes(features)\n",
    "        self.tmfs = {}\n",
    "        for interaction in total_interactions:\n",
    "            tmf = SingleInteractionComputer(interaction)\n",
    "            tmf.fit(X)\n",
    "            self.tmfs[tmf.interaction_name] = tmf\n",
    "        return self\n",
    "    \n",
    "    def transform(self, X: pd.DataFrame):\n",
    "        return pd.concat([tmf.transform(X) \n",
    "                          for tmf in self.tmfs.values()], axis=1)"
   ]
  },
  {
   "cell_type": "code",
   "execution_count": 29,
   "id": "9baf5146",
   "metadata": {},
   "outputs": [],
   "source": [
    "def filter_by_idx(df, idx):\n",
    "    return df.loc[idx, :].reset_index(drop=True)"
   ]
  },
  {
   "cell_type": "code",
   "execution_count": 30,
   "id": "387cac30",
   "metadata": {},
   "outputs": [],
   "source": [
    "## split train set\n",
    "start_test_date = '2021-04-01'\n",
    "end_test_date = '2021-08-01'"
   ]
  },
  {
   "cell_type": "code",
   "execution_count": 31,
   "id": "0797494a",
   "metadata": {},
   "outputs": [],
   "source": [
    "train_idx = df['date'] <= start_test_date"
   ]
  },
  {
   "cell_type": "code",
   "execution_count": 32,
   "id": "ee66f28c",
   "metadata": {},
   "outputs": [],
   "source": [
    "valid_idx = df['date'].between(start_test_date, end_test_date, inclusive=False)"
   ]
  },
  {
   "cell_type": "code",
   "execution_count": 33,
   "id": "42a08c95",
   "metadata": {},
   "outputs": [],
   "source": [
    "raw_train_data = filter_by_idx(df, train_idx)"
   ]
  },
  {
   "cell_type": "code",
   "execution_count": 34,
   "id": "9f6f1eba",
   "metadata": {},
   "outputs": [],
   "source": [
    "raw_valid_data = filter_by_idx(df, valid_idx)"
   ]
  },
  {
   "cell_type": "code",
   "execution_count": 35,
   "id": "7e243e1a",
   "metadata": {},
   "outputs": [],
   "source": [
    "# drop non game dates"
   ]
  },
  {
   "cell_type": "code",
   "execution_count": 36,
   "id": "78936dae",
   "metadata": {},
   "outputs": [],
   "source": [
    "# season_to_keep = ['Reg Season 1st Half', 'All-Star Break',\n",
    "#        'Reg Season 2nd Half', 'Postseason']"
   ]
  },
  {
   "cell_type": "markdown",
   "id": "c9dff12f",
   "metadata": {},
   "source": [
    "### preprocessing "
   ]
  },
  {
   "cell_type": "code",
   "execution_count": 37,
   "id": "62703939",
   "metadata": {},
   "outputs": [],
   "source": [
    "from sklearn.pipeline import FeatureUnion, Pipeline\n",
    "from sklearn.preprocessing import FunctionTransformer\n",
    "from pipeline.core import PdFeatureUnion\n",
    "# from sklearn.compose import ColumnTransformer\n",
    "# from pipeline.continuous import PdScaleNorm, FilterContinuousFeatures, MedianFillNaN\n",
    "# from pipeline.stats import StatisticGen, LagGen, FeaturesTable\n",
    "# from pipeline.categories import Categorify\n",
    "# from pipeline.season import join_season_info\n",
    "# from pipeline.players import join_players_info\n",
    "# from pipeline.core import forward_fill, gen_hardcoded_features, fillna"
   ]
  },
  {
   "cell_type": "code",
   "execution_count": 38,
   "id": "526d4613",
   "metadata": {},
   "outputs": [],
   "source": [
    "target_cols = ['target1', 'target2', 'target3', 'target4']"
   ]
  },
  {
   "cell_type": "markdown",
   "id": "36356fbb",
   "metadata": {},
   "source": [
    "####  categories "
   ]
  },
  {
   "cell_type": "code",
   "execution_count": 39,
   "id": "323dfafe",
   "metadata": {},
   "outputs": [],
   "source": [
    "from sklearn.preprocessing import OneHotEncoder"
   ]
  },
  {
   "cell_type": "code",
   "execution_count": 40,
   "id": "7697a1fd",
   "metadata": {},
   "outputs": [],
   "source": [
    "# categories encoding\n",
    "categories = ['seasonPart', 'year', 'teamId',\n",
    "              'primaryPositionName', 'status', 'playerId']\n",
    "interaction_categories = ['primaryPositionName', 'opponentTeamId']"
   ]
  },
  {
   "cell_type": "code",
   "execution_count": 41,
   "id": "b7a6048f",
   "metadata": {},
   "outputs": [],
   "source": [
    "filter_cat_tmf = FunctionTransformer(lambda df: df.loc[:, categories])\n",
    "filter_int_cat_tmf = FunctionTransformer(lambda df: df.loc[:, interaction_categories])"
   ]
  },
  {
   "cell_type": "code",
   "execution_count": 42,
   "id": "64af154d",
   "metadata": {},
   "outputs": [],
   "source": [
    "categories_pipeline = Pipeline([('filter', filter_cat_tmf),\n",
    "                                 ('onehot', OneHotEncoder(handle_unknown='ignore'))])"
   ]
  },
  {
   "cell_type": "code",
   "execution_count": 43,
   "id": "b3c88893",
   "metadata": {},
   "outputs": [],
   "source": [
    "interaction_categories_pipeline = Pipeline([('filter', filter_int_cat_tmf)])"
   ]
  },
  {
   "cell_type": "markdown",
   "id": "029b8eb1",
   "metadata": {},
   "source": [
    "#### CONT FEATURES "
   ]
  },
  {
   "cell_type": "code",
   "execution_count": 44,
   "id": "7fead1ea",
   "metadata": {},
   "outputs": [],
   "source": [
    "from sklearn.preprocessing import KBinsDiscretizer"
   ]
  },
  {
   "cell_type": "code",
   "execution_count": 45,
   "id": "795d513e",
   "metadata": {},
   "outputs": [],
   "source": [
    "CONT_FEATS = ['rbi', 'homeRuns',\n",
    "              'runsScored__date__maxNorm',\n",
    " 'homeRuns__date__maxNorm',\n",
    " 'hits__date__maxNorm',\n",
    " 'SLG__date__maxNorm',\n",
    " 'rbi__date__maxNorm',\n",
    " 'runsPitching__date__maxNorm',]\n",
    "filter_cont_tmf = FunctionTransformer(lambda df: df.loc[:, CONT_FEATS].fillna(-1))\n",
    "cont_pipeline = Pipeline([('get_cont', filter_cont_tmf),\n",
    "                          ('disc', PdDiscretizer(n_bins=5, strategy='uniform'))])"
   ]
  },
  {
   "cell_type": "markdown",
   "id": "868442ab",
   "metadata": {},
   "source": [
    "### together "
   ]
  },
  {
   "cell_type": "code",
   "execution_count": 46,
   "id": "95c7822b",
   "metadata": {},
   "outputs": [],
   "source": [
    "from sklearn.preprocessing import MaxAbsScaler"
   ]
  },
  {
   "cell_type": "code",
   "execution_count": 47,
   "id": "4c9ab6d8",
   "metadata": {},
   "outputs": [],
   "source": [
    "interaction_feature_tmf = Pipeline([('union', PdFeatureUnion([('conts', cont_pipeline), \n",
    "                                                            ('cats', interaction_categories_pipeline)])),\n",
    "                                    ('int', InteractionEncoder()),\n",
    "                                    ('oneHot', OneHotEncoder(handle_unknown='ignore'))\n",
    "                                   ])"
   ]
  },
  {
   "cell_type": "code",
   "execution_count": 48,
   "id": "65f3c51e",
   "metadata": {},
   "outputs": [],
   "source": [
    "join_feature_tmf = FeatureUnion([('int', interaction_feature_tmf), \n",
    "                                 ('cats', categories_pipeline),\n",
    "                                ('conts', cont_pipeline)])"
   ]
  },
  {
   "cell_type": "code",
   "execution_count": 49,
   "id": "e0b28e8a",
   "metadata": {},
   "outputs": [],
   "source": [
    "pipeline = Pipeline([('gen_features', join_feature_tmf),\n",
    "                     ('scale', MaxAbsScaler())])"
   ]
  },
  {
   "cell_type": "code",
   "execution_count": 50,
   "id": "0b83bc2a",
   "metadata": {},
   "outputs": [],
   "source": [
    "train_features = pipeline.fit_transform(raw_train_data)"
   ]
  },
  {
   "cell_type": "code",
   "execution_count": 51,
   "id": "6f13e07a",
   "metadata": {},
   "outputs": [],
   "source": [
    "valid_features = pipeline.transform(raw_valid_data)"
   ]
  },
  {
   "cell_type": "code",
   "execution_count": 52,
   "id": "b1bb3b83",
   "metadata": {},
   "outputs": [
    {
     "data": {
      "text/plain": [
       "<1408969x3096 sparse matrix of type '<class 'numpy.float64'>'\n",
       "\twith 83129171 stored elements in Compressed Sparse Row format>"
      ]
     },
     "execution_count": 52,
     "metadata": {},
     "output_type": "execute_result"
    }
   ],
   "source": [
    "train_features"
   ]
  },
  {
   "cell_type": "code",
   "execution_count": 53,
   "id": "f9bc6678",
   "metadata": {},
   "outputs": [],
   "source": [
    "# checking for nans\n",
    "for i in range(train_features.shape[1]):\n",
    "    assert not np.isnan(train_features[:, i].toarray()).any(), i"
   ]
  },
  {
   "cell_type": "code",
   "execution_count": 54,
   "id": "c9b363af",
   "metadata": {},
   "outputs": [],
   "source": [
    "from sklearn.linear_model import Lasso, LinearRegression"
   ]
  },
  {
   "cell_type": "code",
   "execution_count": 55,
   "id": "2ed5cce4",
   "metadata": {},
   "outputs": [
    {
     "name": "stdout",
     "output_type": "stream",
     "text": [
      "target1\n",
      "target2\n",
      "target3\n",
      "target4\n"
     ]
    }
   ],
   "source": [
    "models = []\n",
    "for target_name in target_cols:\n",
    "    print(target_name)\n",
    "    _model = LinearRegression()\n",
    "    _model.fit(train_features, raw_train_data[target_name])\n",
    "    models.append(_model)\n",
    "    "
   ]
  },
  {
   "cell_type": "code",
   "execution_count": 56,
   "id": "f95ae156",
   "metadata": {},
   "outputs": [],
   "source": [
    "_prediction = np.stack([_model.predict(valid_features)\n",
    "                       for _model in models], axis=1)"
   ]
  },
  {
   "cell_type": "code",
   "execution_count": 75,
   "id": "84da40e0",
   "metadata": {},
   "outputs": [],
   "source": [
    "_prediction = np.clip(_prediction, 0, 100)"
   ]
  },
  {
   "cell_type": "code",
   "execution_count": 76,
   "id": "94ea95d1",
   "metadata": {},
   "outputs": [],
   "source": [
    "prediction = pd.DataFrame(_prediction, columns=['yhat1', 'yhat2', 'yhat3', 'yhat4'])"
   ]
  },
  {
   "cell_type": "code",
   "execution_count": 77,
   "id": "61eee366",
   "metadata": {},
   "outputs": [],
   "source": [
    "prediction[['playerId', 'date'] + target_cols] = raw_valid_data[['playerId', 'date'] + target_cols]"
   ]
  },
  {
   "cell_type": "code",
   "execution_count": 78,
   "id": "58277034",
   "metadata": {},
   "outputs": [],
   "source": [
    "from evaluate.metrics import compute_metrics"
   ]
  },
  {
   "cell_type": "code",
   "execution_count": 79,
   "id": "d180b3f7",
   "metadata": {},
   "outputs": [
    {
     "data": {
      "text/plain": [
       "{'mae_mean': 2.0680304224413724,\n",
       " 'mae_1': 1.6761793058502876,\n",
       " 'mae_2': 2.9293342761650347,\n",
       " 'mae_3': 1.8364404261252698,\n",
       " 'mae_4': 1.830167681624898}"
      ]
     },
     "execution_count": 79,
     "metadata": {},
     "output_type": "execute_result"
    }
   ],
   "source": [
    "# metrics from 2021-03-01 up to 2021-04-30\n",
    "compute_metrics(prediction)"
   ]
  },
  {
   "cell_type": "code",
   "execution_count": 80,
   "id": "3ba7b289",
   "metadata": {},
   "outputs": [
    {
     "data": {
      "text/html": [
       "<div>\n",
       "<style scoped>\n",
       "    .dataframe tbody tr th:only-of-type {\n",
       "        vertical-align: middle;\n",
       "    }\n",
       "\n",
       "    .dataframe tbody tr th {\n",
       "        vertical-align: top;\n",
       "    }\n",
       "\n",
       "    .dataframe thead th {\n",
       "        text-align: right;\n",
       "    }\n",
       "</style>\n",
       "<table border=\"1\" class=\"dataframe\">\n",
       "  <thead>\n",
       "    <tr style=\"text-align: right;\">\n",
       "      <th></th>\n",
       "      <th>mae_mean</th>\n",
       "      <th>mae_1</th>\n",
       "      <th>mae_2</th>\n",
       "      <th>mae_3</th>\n",
       "      <th>mae_4</th>\n",
       "    </tr>\n",
       "    <tr>\n",
       "      <th>date</th>\n",
       "      <th></th>\n",
       "      <th></th>\n",
       "      <th></th>\n",
       "      <th></th>\n",
       "      <th></th>\n",
       "    </tr>\n",
       "  </thead>\n",
       "  <tbody>\n",
       "    <tr>\n",
       "      <th>4</th>\n",
       "      <td>2.146494</td>\n",
       "      <td>1.719818</td>\n",
       "      <td>3.065404</td>\n",
       "      <td>1.811165</td>\n",
       "      <td>1.989591</td>\n",
       "    </tr>\n",
       "    <tr>\n",
       "      <th>5</th>\n",
       "      <td>2.097034</td>\n",
       "      <td>1.720202</td>\n",
       "      <td>2.962647</td>\n",
       "      <td>1.903104</td>\n",
       "      <td>1.802182</td>\n",
       "    </tr>\n",
       "    <tr>\n",
       "      <th>6</th>\n",
       "      <td>2.064027</td>\n",
       "      <td>1.663078</td>\n",
       "      <td>2.901807</td>\n",
       "      <td>1.884151</td>\n",
       "      <td>1.807071</td>\n",
       "    </tr>\n",
       "    <tr>\n",
       "      <th>7</th>\n",
       "      <td>1.888357</td>\n",
       "      <td>1.544581</td>\n",
       "      <td>2.685047</td>\n",
       "      <td>1.673800</td>\n",
       "      <td>1.650002</td>\n",
       "    </tr>\n",
       "  </tbody>\n",
       "</table>\n",
       "</div>"
      ],
      "text/plain": [
       "      mae_mean     mae_1     mae_2     mae_3     mae_4\n",
       "date                                                  \n",
       "4     2.146494  1.719818  3.065404  1.811165  1.989591\n",
       "5     2.097034  1.720202  2.962647  1.903104  1.802182\n",
       "6     2.064027  1.663078  2.901807  1.884151  1.807071\n",
       "7     1.888357  1.544581  2.685047  1.673800  1.650002"
      ]
     },
     "execution_count": 80,
     "metadata": {},
     "output_type": "execute_result"
    }
   ],
   "source": [
    "(prediction.groupby(prediction.date.dt.month)\n",
    " .apply(lambda x: pd.Series(compute_metrics(x))))"
   ]
  },
  {
   "cell_type": "code",
   "execution_count": 92,
   "id": "86b87b34",
   "metadata": {},
   "outputs": [
    {
     "data": {
      "text/html": [
       "<div>\n",
       "<style scoped>\n",
       "    .dataframe tbody tr th:only-of-type {\n",
       "        vertical-align: middle;\n",
       "    }\n",
       "\n",
       "    .dataframe tbody tr th {\n",
       "        vertical-align: top;\n",
       "    }\n",
       "\n",
       "    .dataframe thead th {\n",
       "        text-align: right;\n",
       "    }\n",
       "</style>\n",
       "<table border=\"1\" class=\"dataframe\">\n",
       "  <thead>\n",
       "    <tr style=\"text-align: right;\">\n",
       "      <th></th>\n",
       "      <th>mae_mean</th>\n",
       "      <th>mae_1</th>\n",
       "      <th>mae_2</th>\n",
       "      <th>mae_3</th>\n",
       "      <th>mae_4</th>\n",
       "    </tr>\n",
       "    <tr>\n",
       "      <th>playerId</th>\n",
       "      <th></th>\n",
       "      <th></th>\n",
       "      <th></th>\n",
       "      <th></th>\n",
       "      <th></th>\n",
       "    </tr>\n",
       "  </thead>\n",
       "  <tbody>\n",
       "    <tr>\n",
       "      <th>660271</th>\n",
       "      <td>34.721675</td>\n",
       "      <td>23.374543</td>\n",
       "      <td>38.638976</td>\n",
       "      <td>33.742852</td>\n",
       "      <td>43.130327</td>\n",
       "    </tr>\n",
       "    <tr>\n",
       "      <th>594798</th>\n",
       "      <td>19.850094</td>\n",
       "      <td>12.489207</td>\n",
       "      <td>25.540861</td>\n",
       "      <td>18.382908</td>\n",
       "      <td>22.987401</td>\n",
       "    </tr>\n",
       "    <tr>\n",
       "      <th>665487</th>\n",
       "      <td>18.711859</td>\n",
       "      <td>16.583367</td>\n",
       "      <td>15.329372</td>\n",
       "      <td>19.595935</td>\n",
       "      <td>23.338764</td>\n",
       "    </tr>\n",
       "    <tr>\n",
       "      <th>665489</th>\n",
       "      <td>15.547996</td>\n",
       "      <td>18.792889</td>\n",
       "      <td>18.640710</td>\n",
       "      <td>13.071193</td>\n",
       "      <td>11.687192</td>\n",
       "    </tr>\n",
       "    <tr>\n",
       "      <th>545361</th>\n",
       "      <td>15.353798</td>\n",
       "      <td>11.147138</td>\n",
       "      <td>21.745807</td>\n",
       "      <td>11.644139</td>\n",
       "      <td>16.878109</td>\n",
       "    </tr>\n",
       "    <tr>\n",
       "      <th>547180</th>\n",
       "      <td>14.860840</td>\n",
       "      <td>10.848331</td>\n",
       "      <td>17.696410</td>\n",
       "      <td>16.442682</td>\n",
       "      <td>14.455937</td>\n",
       "    </tr>\n",
       "    <tr>\n",
       "      <th>519317</th>\n",
       "      <td>14.305335</td>\n",
       "      <td>15.249833</td>\n",
       "      <td>15.019228</td>\n",
       "      <td>14.587866</td>\n",
       "      <td>12.364413</td>\n",
       "    </tr>\n",
       "    <tr>\n",
       "      <th>405395</th>\n",
       "      <td>14.089667</td>\n",
       "      <td>9.183367</td>\n",
       "      <td>12.701025</td>\n",
       "      <td>11.692958</td>\n",
       "      <td>22.781320</td>\n",
       "    </tr>\n",
       "    <tr>\n",
       "      <th>592450</th>\n",
       "      <td>13.610214</td>\n",
       "      <td>16.544638</td>\n",
       "      <td>11.289529</td>\n",
       "      <td>15.606050</td>\n",
       "      <td>11.000641</td>\n",
       "    </tr>\n",
       "    <tr>\n",
       "      <th>605141</th>\n",
       "      <td>13.196893</td>\n",
       "      <td>12.281331</td>\n",
       "      <td>13.550937</td>\n",
       "      <td>15.152023</td>\n",
       "      <td>11.803281</td>\n",
       "    </tr>\n",
       "    <tr>\n",
       "      <th>660670</th>\n",
       "      <td>12.271029</td>\n",
       "      <td>15.267066</td>\n",
       "      <td>11.387011</td>\n",
       "      <td>14.876505</td>\n",
       "      <td>7.553534</td>\n",
       "    </tr>\n",
       "    <tr>\n",
       "      <th>543037</th>\n",
       "      <td>12.057099</td>\n",
       "      <td>10.946412</td>\n",
       "      <td>16.080549</td>\n",
       "      <td>12.015211</td>\n",
       "      <td>9.186224</td>\n",
       "    </tr>\n",
       "    <tr>\n",
       "      <th>545333</th>\n",
       "      <td>11.579550</td>\n",
       "      <td>7.186903</td>\n",
       "      <td>11.293482</td>\n",
       "      <td>9.766463</td>\n",
       "      <td>18.071353</td>\n",
       "    </tr>\n",
       "    <tr>\n",
       "      <th>592518</th>\n",
       "      <td>10.174398</td>\n",
       "      <td>7.133492</td>\n",
       "      <td>12.383429</td>\n",
       "      <td>12.859971</td>\n",
       "      <td>8.320699</td>\n",
       "    </tr>\n",
       "    <tr>\n",
       "      <th>595879</th>\n",
       "      <td>9.912947</td>\n",
       "      <td>15.269272</td>\n",
       "      <td>6.514751</td>\n",
       "      <td>12.759010</td>\n",
       "      <td>5.108757</td>\n",
       "    </tr>\n",
       "    <tr>\n",
       "      <th>477132</th>\n",
       "      <td>9.818377</td>\n",
       "      <td>7.133140</td>\n",
       "      <td>12.992413</td>\n",
       "      <td>10.785687</td>\n",
       "      <td>8.362268</td>\n",
       "    </tr>\n",
       "    <tr>\n",
       "      <th>641355</th>\n",
       "      <td>9.714514</td>\n",
       "      <td>8.634686</td>\n",
       "      <td>15.102373</td>\n",
       "      <td>9.491209</td>\n",
       "      <td>5.629787</td>\n",
       "    </tr>\n",
       "    <tr>\n",
       "      <th>592885</th>\n",
       "      <td>9.380295</td>\n",
       "      <td>8.467905</td>\n",
       "      <td>12.290680</td>\n",
       "      <td>7.373770</td>\n",
       "      <td>9.388825</td>\n",
       "    </tr>\n",
       "    <tr>\n",
       "      <th>518934</th>\n",
       "      <td>9.361887</td>\n",
       "      <td>11.174438</td>\n",
       "      <td>11.737955</td>\n",
       "      <td>9.562253</td>\n",
       "      <td>4.972902</td>\n",
       "    </tr>\n",
       "    <tr>\n",
       "      <th>502110</th>\n",
       "      <td>9.340451</td>\n",
       "      <td>10.021878</td>\n",
       "      <td>10.260441</td>\n",
       "      <td>10.709765</td>\n",
       "      <td>6.369720</td>\n",
       "    </tr>\n",
       "  </tbody>\n",
       "</table>\n",
       "</div>"
      ],
      "text/plain": [
       "           mae_mean      mae_1      mae_2      mae_3      mae_4\n",
       "playerId                                                       \n",
       "660271    34.721675  23.374543  38.638976  33.742852  43.130327\n",
       "594798    19.850094  12.489207  25.540861  18.382908  22.987401\n",
       "665487    18.711859  16.583367  15.329372  19.595935  23.338764\n",
       "665489    15.547996  18.792889  18.640710  13.071193  11.687192\n",
       "545361    15.353798  11.147138  21.745807  11.644139  16.878109\n",
       "547180    14.860840  10.848331  17.696410  16.442682  14.455937\n",
       "519317    14.305335  15.249833  15.019228  14.587866  12.364413\n",
       "405395    14.089667   9.183367  12.701025  11.692958  22.781320\n",
       "592450    13.610214  16.544638  11.289529  15.606050  11.000641\n",
       "605141    13.196893  12.281331  13.550937  15.152023  11.803281\n",
       "660670    12.271029  15.267066  11.387011  14.876505   7.553534\n",
       "543037    12.057099  10.946412  16.080549  12.015211   9.186224\n",
       "545333    11.579550   7.186903  11.293482   9.766463  18.071353\n",
       "592518    10.174398   7.133492  12.383429  12.859971   8.320699\n",
       "595879     9.912947  15.269272   6.514751  12.759010   5.108757\n",
       "477132     9.818377   7.133140  12.992413  10.785687   8.362268\n",
       "641355     9.714514   8.634686  15.102373   9.491209   5.629787\n",
       "592885     9.380295   8.467905  12.290680   7.373770   9.388825\n",
       "518934     9.361887  11.174438  11.737955   9.562253   4.972902\n",
       "502110     9.340451  10.021878  10.260441  10.709765   6.369720"
      ]
     },
     "execution_count": 92,
     "metadata": {},
     "output_type": "execute_result"
    }
   ],
   "source": [
    "(prediction.groupby(['playerId'])\n",
    " .apply(lambda x: pd.Series(compute_metrics(x)))\n",
    " .sort_values(by='mae_mean', ascending=False)).head(20)"
   ]
  },
  {
   "cell_type": "code",
   "execution_count": 82,
   "id": "f3d3c75a",
   "metadata": {},
   "outputs": [],
   "source": [
    "hardest_id = filter_by_id(prediction, [660271])"
   ]
  },
  {
   "cell_type": "code",
   "execution_count": 83,
   "id": "0de7074a",
   "metadata": {
    "scrolled": true
   },
   "outputs": [
    {
     "data": {
      "text/html": [
       "<div>\n",
       "<style scoped>\n",
       "    .dataframe tbody tr th:only-of-type {\n",
       "        vertical-align: middle;\n",
       "    }\n",
       "\n",
       "    .dataframe tbody tr th {\n",
       "        vertical-align: top;\n",
       "    }\n",
       "\n",
       "    .dataframe thead th {\n",
       "        text-align: right;\n",
       "    }\n",
       "</style>\n",
       "<table border=\"1\" class=\"dataframe\">\n",
       "  <thead>\n",
       "    <tr style=\"text-align: right;\">\n",
       "      <th></th>\n",
       "      <th></th>\n",
       "      <th>mae_mean</th>\n",
       "      <th>mae_1</th>\n",
       "      <th>mae_2</th>\n",
       "      <th>mae_3</th>\n",
       "      <th>mae_4</th>\n",
       "    </tr>\n",
       "    <tr>\n",
       "      <th>playerId</th>\n",
       "      <th>date</th>\n",
       "      <th></th>\n",
       "      <th></th>\n",
       "      <th></th>\n",
       "      <th></th>\n",
       "      <th></th>\n",
       "    </tr>\n",
       "  </thead>\n",
       "  <tbody>\n",
       "    <tr>\n",
       "      <th rowspan=\"4\" valign=\"top\">660271</th>\n",
       "      <th>7</th>\n",
       "      <td>61.054648</td>\n",
       "      <td>46.109641</td>\n",
       "      <td>56.030335</td>\n",
       "      <td>61.926094</td>\n",
       "      <td>80.152521</td>\n",
       "    </tr>\n",
       "    <tr>\n",
       "      <th>6</th>\n",
       "      <td>35.020653</td>\n",
       "      <td>17.835791</td>\n",
       "      <td>42.025436</td>\n",
       "      <td>32.979979</td>\n",
       "      <td>47.241408</td>\n",
       "    </tr>\n",
       "    <tr>\n",
       "      <th>5</th>\n",
       "      <td>28.986027</td>\n",
       "      <td>19.777645</td>\n",
       "      <td>38.580653</td>\n",
       "      <td>25.767826</td>\n",
       "      <td>31.817984</td>\n",
       "    </tr>\n",
       "    <tr>\n",
       "      <th>4</th>\n",
       "      <td>25.107025</td>\n",
       "      <td>19.621776</td>\n",
       "      <td>25.003151</td>\n",
       "      <td>26.535851</td>\n",
       "      <td>29.267324</td>\n",
       "    </tr>\n",
       "  </tbody>\n",
       "</table>\n",
       "</div>"
      ],
      "text/plain": [
       "                mae_mean      mae_1      mae_2      mae_3      mae_4\n",
       "playerId date                                                       \n",
       "660271   7     61.054648  46.109641  56.030335  61.926094  80.152521\n",
       "         6     35.020653  17.835791  42.025436  32.979979  47.241408\n",
       "         5     28.986027  19.777645  38.580653  25.767826  31.817984\n",
       "         4     25.107025  19.621776  25.003151  26.535851  29.267324"
      ]
     },
     "execution_count": 83,
     "metadata": {},
     "output_type": "execute_result"
    }
   ],
   "source": [
    "(hardest_id.groupby(['playerId', hardest_id.date.dt.month])\n",
    " .apply(lambda x: pd.Series(compute_metrics(x)))\n",
    " .sort_values(by='mae_mean', ascending=False))"
   ]
  },
  {
   "cell_type": "code",
   "execution_count": 84,
   "id": "eb0f739b",
   "metadata": {},
   "outputs": [],
   "source": [
    "# # metrics from 2021-03-01 up to 2021-04-30\n",
    "# compute_metrics(recursive_prediction)"
   ]
  },
  {
   "cell_type": "code",
   "execution_count": 85,
   "id": "d2a84556",
   "metadata": {},
   "outputs": [],
   "source": [
    "# # metrics from 2021-03-01 up to 2021-03-31\n",
    "# compute_metrics(valid_rc_prediction)"
   ]
  },
  {
   "cell_type": "code",
   "execution_count": 86,
   "id": "54109789",
   "metadata": {},
   "outputs": [],
   "source": [
    "# # metrics from 2021-04-01 up to 2021-04-30\n",
    "# compute_metrics(test_rc_prediction)"
   ]
  },
  {
   "cell_type": "code",
   "execution_count": 87,
   "id": "7627b2ea",
   "metadata": {},
   "outputs": [],
   "source": [
    "def plot_pred(df, playerId, index=1):\n",
    "    pdf = df.query(f'playerId == {playerId}')\n",
    "    \n",
    "    f, ax = plt.subplots(1, 1, figsize=(20, 5))\n",
    "    \n",
    "    tname = f'target{index}'\n",
    "    yhat_name = f'yhat{index}'\n",
    "    \n",
    "    ax.plot('date', tname, '-o', data=pdf, label=tname)\n",
    "    ax.plot('date', yhat_name, '-o', data=pdf, label=tname)\n",
    "    \n",
    "    ax.legend()\n",
    "    \n",
    "\n",
    "def plot_feature_vs_target(df, feature, playerId, index=1):\n",
    "    pdf = df.query(f'raw_playerId == {playerId}')\n",
    "    \n",
    "    f, ax = plt.subplots(1, 1, figsize=(20, 5))\n",
    "    \n",
    "    tname = f'target{index}'\n",
    "    twinx = ax.twinx()\n",
    "    ax.plot('date', tname, '-o', data=pdf, label=tname)\n",
    "    twinx.plot('date', feature, '-o', data=pdf, label=feature, color='red')\n",
    "    twinx.legend()\n",
    "    ax.set_title(f'{tname} vs {feature}')\n",
    "    "
   ]
  },
  {
   "cell_type": "code",
   "execution_count": 95,
   "id": "d2269b8a",
   "metadata": {},
   "outputs": [
    {
     "data": {
      "image/png": "[encoded data removed]",
      "text/plain": [
       "<Figure size 1440x360 with 1 Axes>"
      ]
     },
     "metadata": {
      "needs_background": "light"
     },
     "output_type": "display_data"
    },
    {
     "data": {
      "image/png": "[encoded data removed]",
      "text/plain": [
       "<Figure size 1440x360 with 1 Axes>"
      ]
     },
     "metadata": {
      "needs_background": "light"
     },
     "output_type": "display_data"
    },
    {
     "data": {
      "image/png": "[encoded data removed]",
      "text/plain": [
       "<Figure size 1440x360 with 1 Axes>"
      ]
     },
     "metadata": {
      "needs_background": "light"
     },
     "output_type": "display_data"
    },
    {
     "data": {
      "image/png": "[encoded data removed]",
      "text/plain": [
       "<Figure size 1440x360 with 1 Axes>"
      ]
     },
     "metadata": {
      "needs_background": "light"
     },
     "output_type": "display_data"
    }
   ],
   "source": [
    "for index in range(1, 5):\n",
    "    plot_pred(prediction, playerId=502110, index=index)"
   ]
  },
  {
   "cell_type": "code",
   "execution_count": 70,
   "id": "3c743ed1",
   "metadata": {},
   "outputs": [],
   "source": [
    "import numpy as np\n",
    "import pandas as pd\n",
    "\n",
    "\n",
    "def permutation_importance(predict_fn, data,\n",
    "                           features,\n",
    "                           target,\n",
    "                           score_func,\n",
    "                           times: int = 1):\n",
    "\n",
    "    def _score(data):\n",
    "        _prediction = predict_fn(data)\n",
    "        prediction = data[target].copy()\n",
    "        prediction[['yhat1', 'yhat2', 'yhat3', 'yhat4']] = _prediction\n",
    "        error = score_func(prediction)\n",
    "        return error['mae_mean']\n",
    "\n",
    "    base_score = _score(data)\n",
    "    fi = []\n",
    "\n",
    "    for feature in features:\n",
    "        permuted_data = data.copy()\n",
    "        permuted_data[feature] = np.random.permutation(permuted_data[feature])\n",
    "        feature_score = _score(permuted_data)\n",
    "        feature_importance = {'feature': feature,\n",
    "                              'score': feature_score,\n",
    "                              'importance': feature_score-base_score,\n",
    "                              }\n",
    "        fi.append(feature_importance)\n",
    "    fi = pd.DataFrame(fi)\n",
    "    fi['importance'] *= 100\n",
    "    fi.sort_values(by='importance', inplace=True, ascending=False)\n",
    "    fi.reset_index(drop=True, inplace=True)\n",
    "    return fi"
   ]
  },
  {
   "cell_type": "code",
   "execution_count": 71,
   "id": "2c80b3b5",
   "metadata": {},
   "outputs": [
    {
     "ename": "NameError",
     "evalue": "name 'valid_data' is not defined",
     "output_type": "error",
     "traceback": [
      "\u001b[0;31m---------------------------------------------------------------------------\u001b[0m",
      "\u001b[0;31mNameError\u001b[0m                                 Traceback (most recent call last)",
      "\u001b[0;32m<ipython-input-71-f4c09951cb55>\u001b[0m in \u001b[0;36m<module>\u001b[0;34m\u001b[0m\n\u001b[0;32m----> 1\u001b[0;31m \u001b[0mfi_data\u001b[0m \u001b[0;34m=\u001b[0m \u001b[0mvalid_data\u001b[0m\u001b[0;34m\u001b[0m\u001b[0;34m\u001b[0m\u001b[0m\n\u001b[0m",
      "\u001b[0;31mNameError\u001b[0m: name 'valid_data' is not defined"
     ]
    }
   ],
   "source": [
    "fi_data = valid_data"
   ]
  },
  {
   "cell_type": "code",
   "execution_count": null,
   "id": "729202b5",
   "metadata": {},
   "outputs": [],
   "source": [
    "fi_data = train_data.sample(frac=0.2).reset_index(drop=True)"
   ]
  },
  {
   "cell_type": "code",
   "execution_count": null,
   "id": "c17d422c",
   "metadata": {},
   "outputs": [],
   "source": [
    "all_features_list = list(features.columns)"
   ]
  },
  {
   "cell_type": "code",
   "execution_count": null,
   "id": "851401c3",
   "metadata": {},
   "outputs": [],
   "source": [
    "%%time\n",
    "fi_reg = permutation_importance(output.predict_fn, valid_data, \n",
    "                                all_features_list, target=target_cols, \n",
    "                                score_func=compute_metrics,\n",
    "                                times=5)"
   ]
  },
  {
   "cell_type": "code",
   "execution_count": null,
   "id": "553757cc",
   "metadata": {
    "scrolled": false
   },
   "outputs": [],
   "source": [
    "fi_reg"
   ]
  },
  {
   "cell_type": "code",
   "execution_count": null,
   "id": "282d9cca",
   "metadata": {},
   "outputs": [],
   "source": [
    "valid_data['raw_playerId'] = raw_valid_df['playerId']"
   ]
  },
  {
   "cell_type": "code",
   "execution_count": null,
   "id": "e7cfe122",
   "metadata": {},
   "outputs": [],
   "source": [
    "for index in range(1, 5):\n",
    "    plot_feature_vs_target(valid_data, 'playerTeamoutsPitching__date__maxNorm', playerId=660271, index=index)"
   ]
  },
  {
   "cell_type": "code",
   "execution_count": null,
   "id": "efed4b62",
   "metadata": {},
   "outputs": [],
   "source": [
    "output_path = 'prediction/drop_lstm'\n",
    "os.makedirs(output_path, exist_ok=True)"
   ]
  },
  {
   "cell_type": "code",
   "execution_count": null,
   "id": "8c17546c",
   "metadata": {},
   "outputs": [],
   "source": [
    "# valid_test_prediction.to_csv(os.path.join(output_path, 'april_to_jul.csv'), index=False)"
   ]
  },
  {
   "cell_type": "code",
   "execution_count": null,
   "id": "2f036ff3",
   "metadata": {},
   "outputs": [],
   "source": []
  }
 ],
 "metadata": {
  "kernelspec": {
   "display_name": "Python 3",
   "language": "python",
   "name": "python3"
  },
  "language_info": {
   "codemirror_mode": {
    "name": "ipython",
    "version": 3
   },
   "file_extension": ".py",
   "mimetype": "text/x-python",
   "name": "python",
   "nbconvert_exporter": "python",
   "pygments_lexer": "ipython3",
   "version": "3.8.8"
  }
 },
 "nbformat": 4,
 "nbformat_minor": 5
}
